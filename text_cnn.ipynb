{
 "cells": [
  {
   "cell_type": "code",
   "execution_count": 1,
   "metadata": {
    "executionInfo": {
     "elapsed": 6387,
     "status": "ok",
     "timestamp": 1731379626397,
     "user": {
      "displayName": "Minh Nguyễn",
      "userId": "15648136705951941184"
     },
     "user_tz": -420
    },
    "id": "IzLQnx-bxlAb"
   },
   "outputs": [],
   "source": [
    "import torch\n",
    "import gensim\n",
    "from torch import nn"
   ]
  },
  {
   "cell_type": "code",
   "execution_count": 2,
   "metadata": {
    "executionInfo": {
     "elapsed": 7,
     "status": "ok",
     "timestamp": 1731379626398,
     "user": {
      "displayName": "Minh Nguyễn",
      "userId": "15648136705951941184"
     },
     "user_tz": -420
    },
    "id": "kNnHleZGtst1"
   },
   "outputs": [],
   "source": [
    "import numpy as np\n",
    "with open('reviews.txt', 'r') as f:\n",
    "  reviews = f.read()\n",
    "with open('labels.txt', 'r') as f:\n",
    "  labels = f.read()"
   ]
  },
  {
   "cell_type": "code",
   "execution_count": 3,
   "metadata": {
    "colab": {
     "base_uri": "https://localhost:8080/",
     "height": 54
    },
    "executionInfo": {
     "elapsed": 7,
     "status": "ok",
     "timestamp": 1731379626398,
     "user": {
      "displayName": "Minh Nguyễn",
      "userId": "15648136705951941184"
     },
     "user_tz": -420
    },
    "id": "QJJsZLW0ulzo",
    "outputId": "bdb52b82-5c38-4ddf-b73b-7d26b5e85b26"
   },
   "outputs": [
    {
     "data": {
      "application/vnd.google.colaboratory.intrinsic+json": {
       "type": "string"
      },
      "text/plain": [
       "'bromwell high is a cartoon comedy . it ran at the same time as some other programs about school life  such as  teachers  . my   years in the teaching profession lead me to believe that bromwell high  '"
      ]
     },
     "execution_count": 3,
     "metadata": {},
     "output_type": "execute_result"
    }
   ],
   "source": [
    "reviews[:200]"
   ]
  },
  {
   "cell_type": "code",
   "execution_count": 4,
   "metadata": {
    "colab": {
     "base_uri": "https://localhost:8080/",
     "height": 36
    },
    "executionInfo": {
     "elapsed": 5,
     "status": "ok",
     "timestamp": 1731379626398,
     "user": {
      "displayName": "Minh Nguyễn",
      "userId": "15648136705951941184"
     },
     "user_tz": -420
    },
    "id": "fA428OBJunv7",
    "outputId": "6668c758-3f5a-445d-eeac-77d38810c961"
   },
   "outputs": [
    {
     "data": {
      "application/vnd.google.colaboratory.intrinsic+json": {
       "type": "string"
      },
      "text/plain": [
       "'positive\\nnegative\\npositive\\nneg'"
      ]
     },
     "execution_count": 4,
     "metadata": {},
     "output_type": "execute_result"
    }
   ],
   "source": [
    "labels[:30]"
   ]
  },
  {
   "cell_type": "code",
   "execution_count": 5,
   "metadata": {
    "executionInfo": {
     "elapsed": 4,
     "status": "ok",
     "timestamp": 1731379626398,
     "user": {
      "displayName": "Minh Nguyễn",
      "userId": "15648136705951941184"
     },
     "user_tz": -420
    },
    "id": "2yMFuO4luzQk"
   },
   "outputs": [],
   "source": [
    "from string import punctuation"
   ]
  },
  {
   "cell_type": "code",
   "execution_count": 6,
   "metadata": {
    "executionInfo": {
     "elapsed": 2989,
     "status": "ok",
     "timestamp": 1731379629383,
     "user": {
      "displayName": "Minh Nguyễn",
      "userId": "15648136705951941184"
     },
     "user_tz": -420
    },
    "id": "iCPF0SsCvANm"
   },
   "outputs": [],
   "source": [
    "reviews = reviews.lower()\n",
    "all_text = ''.join([review for review in reviews if review not in punctuation])\n",
    "\n",
    "reviews_split = all_text.split('\\n')\n",
    "\n",
    "all_text = ' '.join(reviews_split)\n",
    "\n",
    "all_words = all_text.split()"
   ]
  },
  {
   "cell_type": "code",
   "execution_count": 87,
   "metadata": {
    "executionInfo": {
     "elapsed": 730,
     "status": "ok",
     "timestamp": 1731383674266,
     "user": {
      "displayName": "Minh Nguyễn",
      "userId": "15648136705951941184"
     },
     "user_tz": -420
    },
    "id": "6Ueg5GsKwA40"
   },
   "outputs": [],
   "source": [
    "labels_split = labels.split('\\n')\n",
    "encoded_labels = np.array([1 if label == 'positive' else 0 for label in labels_split])"
   ]
  },
  {
   "cell_type": "code",
   "execution_count": 8,
   "metadata": {
    "executionInfo": {
     "elapsed": 2,
     "status": "ok",
     "timestamp": 1731379629383,
     "user": {
      "displayName": "Minh Nguyễn",
      "userId": "15648136705951941184"
     },
     "user_tz": -420
    },
    "id": "2xgAwlxnyggt"
   },
   "outputs": [],
   "source": [
    "from collections import Counter"
   ]
  },
  {
   "cell_type": "code",
   "execution_count": 9,
   "metadata": {
    "colab": {
     "base_uri": "https://localhost:8080/"
    },
    "executionInfo": {
     "elapsed": 1015,
     "status": "ok",
     "timestamp": 1731379630396,
     "user": {
      "displayName": "Minh Nguyễn",
      "userId": "15648136705951941184"
     },
     "user_tz": -420
    },
    "id": "pPfSqIaNymm_",
    "outputId": "708c1db6-b0df-478b-960d-b0269effa378"
   },
   "outputs": [
    {
     "name": "stdout",
     "output_type": "stream",
     "text": [
      "Zero-length reviews: 1\n",
      "Maximum review length: 2514\n"
     ]
    }
   ],
   "source": [
    "counts = Counter(all_words)\n",
    "reviews_lens = Counter([len(review.split()) for review in reviews_split])\n",
    "print(f\"Zero-length reviews: {reviews_lens[0]}\")\n",
    "print(f'Maximum review length: {max(reviews_lens)}')"
   ]
  },
  {
   "cell_type": "code",
   "execution_count": 88,
   "metadata": {
    "colab": {
     "base_uri": "https://localhost:8080/"
    },
    "executionInfo": {
     "elapsed": 525,
     "status": "ok",
     "timestamp": 1731383681565,
     "user": {
      "displayName": "Minh Nguyễn",
      "userId": "15648136705951941184"
     },
     "user_tz": -420
    },
    "id": "Jg6hhfGx-BXS",
    "outputId": "3003fb2d-941f-41f2-fc29-54a72c4670cd"
   },
   "outputs": [
    {
     "name": "stdout",
     "output_type": "stream",
     "text": [
      "Number of reviews before removing outliers:  25000\n",
      "Number of reviews after removing outliers:  25000\n"
     ]
    }
   ],
   "source": [
    "# remove outliers (0 length reviews)\n",
    "print('Number of reviews before removing outliers: ', len(reviews_split))\n",
    "\n",
    "non_zero_len_idx = [i for i, review in enumerate(reviews_split) if len(review) !=0]\n",
    "\n",
    "reviews_split = [reviews_split[i] for i in non_zero_len_idx]\n",
    "encoded_labels = [encoded_labels[i] for i in non_zero_len_idx]\n",
    "print('Number of reviews after removing outliers: ', len(reviews_split))"
   ]
  },
  {
   "cell_type": "code",
   "execution_count": 11,
   "metadata": {
    "executionInfo": {
     "elapsed": 2,
     "status": "ok",
     "timestamp": 1731379630397,
     "user": {
      "displayName": "Minh Nguyễn",
      "userId": "15648136705951941184"
     },
     "user_tz": -420
    },
    "id": "QCKDBBBzyvT5"
   },
   "outputs": [],
   "source": [
    "from gensim.models import KeyedVectors"
   ]
  },
  {
   "cell_type": "code",
   "execution_count": 12,
   "metadata": {
    "executionInfo": {
     "elapsed": 4644,
     "status": "ok",
     "timestamp": 1731379635039,
     "user": {
      "displayName": "Minh Nguyễn",
      "userId": "15648136705951941184"
     },
     "user_tz": -420
    },
    "id": "JSH4DsTi2Lqb"
   },
   "outputs": [],
   "source": [
    "# decompressing pretrained embedding\n",
    "! gzip -d GoogleNews-vectors-negative300-SLIM.bin.gz"
   ]
  },
  {
   "cell_type": "code",
   "execution_count": 13,
   "metadata": {
    "executionInfo": {
     "elapsed": 2838,
     "status": "ok",
     "timestamp": 1731379637876,
     "user": {
      "displayName": "Minh Nguyễn",
      "userId": "15648136705951941184"
     },
     "user_tz": -420
    },
    "id": "QWUdA02J0ftI"
   },
   "outputs": [],
   "source": [
    "embed_lookup = KeyedVectors.load_word2vec_format('GoogleNews-vectors-negative300-SLIM.bin',\n",
    "                                                 binary=True)"
   ]
  },
  {
   "cell_type": "code",
   "execution_count": 14,
   "metadata": {
    "executionInfo": {
     "elapsed": 5,
     "status": "ok",
     "timestamp": 1731379637876,
     "user": {
      "displayName": "Minh Nguyễn",
      "userId": "15648136705951941184"
     },
     "user_tz": -420
    },
    "id": "0vJtUVvO1D1f"
   },
   "outputs": [],
   "source": [
    "pretrained_words = []\n",
    "# index_to_key: list contains all the word in corpus\n",
    "for word in embed_lookup.index_to_key:\n",
    "  pretrained_words.append(word)"
   ]
  },
  {
   "cell_type": "code",
   "execution_count": 15,
   "metadata": {
    "colab": {
     "base_uri": "https://localhost:8080/"
    },
    "executionInfo": {
     "elapsed": 5,
     "status": "ok",
     "timestamp": 1731379637876,
     "user": {
      "displayName": "Minh Nguyễn",
      "userId": "15648136705951941184"
     },
     "user_tz": -420
    },
    "id": "zo4DV4u24AWS",
    "outputId": "f8b10b58-62ba-4d31-9647-fd598a72a8ee"
   },
   "outputs": [
    {
     "name": "stdout",
     "output_type": "stream",
     "text": [
      "Size of Vocab: 299567\n",
      "Word in vocab: for\n",
      "Length of embedding: 300\n"
     ]
    }
   ],
   "source": [
    "row_idx = 1\n",
    "\n",
    "word = pretrained_words[row_idx] # get words by index\n",
    "embedding = embed_lookup[word] # embeddings by word\n",
    "print(f\"Size of Vocab: {len(pretrained_words)}\")\n",
    "print(f'Word in vocab: {word}')\n",
    "print(f'Length of embedding: {len(embedding)}')"
   ]
  },
  {
   "cell_type": "code",
   "execution_count": 16,
   "metadata": {
    "colab": {
     "base_uri": "https://localhost:8080/"
    },
    "executionInfo": {
     "elapsed": 4,
     "status": "ok",
     "timestamp": 1731379637876,
     "user": {
      "displayName": "Minh Nguyễn",
      "userId": "15648136705951941184"
     },
     "user_tz": -420
    },
    "id": "mAXIMp5x46d5",
    "outputId": "ddfc48ec-961a-4abc-b1de-48ecbe4271cd"
   },
   "outputs": [
    {
     "name": "stdout",
     "output_type": "stream",
     "text": [
      "['in', 'for', 'that', 'is', 'on', 'The', 'with', 'said', 'was', 'the']\n"
     ]
    }
   ],
   "source": [
    "print([word for word in pretrained_words[:10]])"
   ]
  },
  {
   "cell_type": "code",
   "execution_count": 17,
   "metadata": {
    "colab": {
     "base_uri": "https://localhost:8080/"
    },
    "executionInfo": {
     "elapsed": 3,
     "status": "ok",
     "timestamp": 1731379637876,
     "user": {
      "displayName": "Minh Nguyễn",
      "userId": "15648136705951941184"
     },
     "user_tz": -420
    },
    "id": "1iqGx-UH5K2W",
    "outputId": "c895f761-8f53-4841-edf9-9810a59f043a"
   },
   "outputs": [
    {
     "name": "stdout",
     "output_type": "stream",
     "text": [
      "Similar words to fabulous\n",
      "wonderful (Similarity: 0.76)\n",
      "fantastic (Similarity: 0.76)\n",
      "marvelous (Similarity: 0.73)\n",
      "gorgeous (Similarity: 0.71)\n",
      "lovely (Similarity: 0.71)\n",
      "terrific (Similarity: 0.69)\n",
      "amazing (Similarity: 0.69)\n",
      "beautiful (Similarity: 0.67)\n",
      "magnificent (Similarity: 0.67)\n",
      "splendid (Similarity: 0.65)\n"
     ]
    }
   ],
   "source": [
    "# caculate cosine similarity\n",
    "\n",
    "test_word = 'fabulous'\n",
    "print(f'Similar words to {test_word}')\n",
    "\n",
    "for similar_word in embed_lookup.similar_by_word(test_word):\n",
    "  print(f'{similar_word[0]} (Similarity: {similar_word[1]:.2f})')"
   ]
  },
  {
   "cell_type": "code",
   "execution_count": 18,
   "metadata": {
    "executionInfo": {
     "elapsed": 725,
     "status": "ok",
     "timestamp": 1731379638600,
     "user": {
      "displayName": "Minh Nguyễn",
      "userId": "15648136705951941184"
     },
     "user_tz": -420
    },
    "id": "KOuonGMdBwj0"
   },
   "outputs": [],
   "source": [
    "from tqdm.auto import tqdm"
   ]
  },
  {
   "cell_type": "code",
   "execution_count": 19,
   "metadata": {
    "executionInfo": {
     "elapsed": 1,
     "status": "ok",
     "timestamp": 1731379638600,
     "user": {
      "displayName": "Minh Nguyễn",
      "userId": "15648136705951941184"
     },
     "user_tz": -420
    },
    "id": "avJIzBLz5tDp"
   },
   "outputs": [],
   "source": [
    "# tokenize reviews\n",
    "def tokenize_all_reviews(embed_lookup, reviews_split, number_of_reviews):\n",
    "  review_words = [review.split() for review in reviews_split]\n",
    "  tokenized_reviews = []\n",
    "  for review_word in tqdm(review_words[:number_of_reviews]):\n",
    "    tokenized_review = [embed_lookup.key_to_index[word] if word in embed_lookup.index_to_key else 0\n",
    "                        for word in review_word]\n",
    "    tokenized_reviews.append(tokenized_review)\n",
    "\n",
    "  return tokenized_reviews"
   ]
  },
  {
   "cell_type": "code",
   "execution_count": null,
   "metadata": {
    "colab": {
     "base_uri": "https://localhost:8080/",
     "height": 49,
     "referenced_widgets": [
      "f6fbd6e2b0494799877a68c24a127d06",
      "63b129b719b74bfda05ba5d245885f71",
      "27872cf08eb04d5f9172524792a9e3f4",
      "8f5ed16aabeb4f188baadc89560e17a1",
      "6dff4fc4b4dc44a68d2ad3578e867132",
      "4a91c02199194c59b76328346f56447e",
      "3a2e9ca16dfc436e8e869309053cd830",
      "dc332980a84f479e8d31125162100fa2",
      "eedd2fbea8b842e7b90dc9cf87ef493c",
      "c97b8d1523634882a68e06f190ab6482",
      "4f7f8959369c4f40b9d97b7997769e7c"
     ]
    },
    "executionInfo": {
     "elapsed": 155041,
     "status": "ok",
     "timestamp": 1731382593154,
     "user": {
      "displayName": "Minh Nguyễn",
      "userId": "15648136705951941184"
     },
     "user_tz": -420
    },
    "id": "vvzVN-Rt9bau",
    "outputId": "25fd91a3-1d30-4f0f-b99e-182be15cc31c"
   },
   "outputs": [
    {
     "data": {
      "application/vnd.jupyter.widget-view+json": {
       "model_id": "f6fbd6e2b0494799877a68c24a127d06",
       "version_major": 2,
       "version_minor": 0
      },
      "text/plain": [
       "  0%|          | 0/1000 [00:00<?, ?it/s]"
      ]
     },
     "metadata": {},
     "output_type": "display_data"
    }
   ],
   "source": [
    "tokenized_reviews = tokenize_all_reviews(embed_lookup, reviews_split, 1000)\n",
    "# run on colab to see tqdm "
   ]
  },
  {
   "cell_type": "code",
   "execution_count": 21,
   "metadata": {
    "colab": {
     "base_uri": "https://localhost:8080/"
    },
    "executionInfo": {
     "elapsed": 13,
     "status": "ok",
     "timestamp": 1731379656317,
     "user": {
      "displayName": "Minh Nguyễn",
      "userId": "15648136705951941184"
     },
     "user_tz": -420
    },
    "id": "1gRShaywCh6f",
    "outputId": "753ed34a-476f-4f5c-843e-04443d7c1d61"
   },
   "outputs": [
    {
     "data": {
      "text/plain": [
       "(25000, 200)"
      ]
     },
     "execution_count": 21,
     "metadata": {},
     "output_type": "execute_result"
    }
   ],
   "source": [
    "seq_len = 200\n",
    "features = np.zeros((len(reviews_split), seq_len), dtype = int)\n",
    "features.shape"
   ]
  },
  {
   "cell_type": "code",
   "execution_count": 70,
   "metadata": {
    "executionInfo": {
     "elapsed": 716,
     "status": "ok",
     "timestamp": 1731382603570,
     "user": {
      "displayName": "Minh Nguyễn",
      "userId": "15648136705951941184"
     },
     "user_tz": -420
    },
    "id": "U-r-4eBC_eS-"
   },
   "outputs": [],
   "source": [
    "# padding\n",
    "def pad_features(tokenized_reviews, seq_len):\n",
    "  features = np.zeros((len(tokenized_reviews), seq_len), dtype = int)\n",
    "  for i, row in tqdm(enumerate(tokenized_reviews)):\n",
    "    features[i, -len(row):] = np.array(row)[:seq_len]\n",
    "\n",
    "  return features"
   ]
  },
  {
   "cell_type": "code",
   "execution_count": null,
   "metadata": {
    "colab": {
     "base_uri": "https://localhost:8080/",
     "height": 49,
     "referenced_widgets": [
      "619785b98cc040208ec5997171df5860",
      "c330cd05b0ec45b19377aae312043082",
      "6974a7d552d14ce18e3549a740bbd6f8",
      "c1266ed90a0b4d27933420c1827e89f6",
      "e3b0a66734fd4cd0b48f46142e00cc14",
      "640ba1b809804161a4a975c4935c974a",
      "e80c2788dd724fa29af2ee53111f9d4e",
      "4811742090224babbe13ada1ad5843f6",
      "5a4a7e57c7644d43b4fa44b947e4a76f",
      "245413c6c0c44f559060f0b90e6e4af1",
      "e46d57831614473184bc2332b4651277"
     ]
    },
    "executionInfo": {
     "elapsed": 705,
     "status": "ok",
     "timestamp": 1731382605876,
     "user": {
      "displayName": "Minh Nguyễn",
      "userId": "15648136705951941184"
     },
     "user_tz": -420
    },
    "id": "w4ErozNOD9mP",
    "outputId": "8d69eac6-f50a-438e-e93b-cb3161573b3f"
   },
   "outputs": [
    {
     "data": {
      "application/vnd.jupyter.widget-view+json": {
       "model_id": "619785b98cc040208ec5997171df5860",
       "version_major": 2,
       "version_minor": 0
      },
      "text/plain": [
       "0it [00:00, ?it/s]"
      ]
     },
     "metadata": {},
     "output_type": "display_data"
    }
   ],
   "source": [
    "features = pad_features(tokenized_reviews,seq_len)\n",
    "# run on colab to see tqdm "
   ]
  },
  {
   "cell_type": "code",
   "execution_count": 24,
   "metadata": {
    "colab": {
     "base_uri": "https://localhost:8080/"
    },
    "executionInfo": {
     "elapsed": 11,
     "status": "ok",
     "timestamp": 1731379656317,
     "user": {
      "displayName": "Minh Nguyễn",
      "userId": "15648136705951941184"
     },
     "user_tz": -420
    },
    "id": "3Zov6242Dy9E",
    "outputId": "6ce9511f-2505-4085-9ff2-4854a4eb8b0d"
   },
   "outputs": [
    {
     "data": {
      "text/plain": [
       "array([[    0,     0,     0, ...,    13, 85275,  7451],\n",
       "       [    0,     0,     0, ...,    14,   441,  4699],\n",
       "       [16483,    26,     0, ...,   726,     6,     0],\n",
       "       ...,\n",
       "       [ 4365,    42,    19, ...,    78,     9,  1083],\n",
       "       [51760,  2659,    16, ...,     3,  6917,     0],\n",
       "       [    0,     0,     0, ...,    71,  3225,    13]])"
      ]
     },
     "execution_count": 24,
     "metadata": {},
     "output_type": "execute_result"
    }
   ],
   "source": [
    "features"
   ]
  },
  {
   "cell_type": "code",
   "execution_count": 79,
   "metadata": {
    "colab": {
     "base_uri": "https://localhost:8080/"
    },
    "executionInfo": {
     "elapsed": 706,
     "status": "ok",
     "timestamp": 1731382818422,
     "user": {
      "displayName": "Minh Nguyễn",
      "userId": "15648136705951941184"
     },
     "user_tz": -420
    },
    "id": "oxrrp3SuFRov",
    "outputId": "4bbc68c7-6475-4a41-cb3f-1169d8a1392e"
   },
   "outputs": [
    {
     "data": {
      "text/plain": [
       "(1000, 200)"
      ]
     },
     "execution_count": 79,
     "metadata": {},
     "output_type": "execute_result"
    }
   ],
   "source": [
    "features.shape"
   ]
  },
  {
   "cell_type": "code",
   "execution_count": 85,
   "metadata": {
    "executionInfo": {
     "elapsed": 507,
     "status": "ok",
     "timestamp": 1731383588252,
     "user": {
      "displayName": "Minh Nguyễn",
      "userId": "15648136705951941184"
     },
     "user_tz": -420
    },
    "id": "sUyZNJnCbWmU"
   },
   "outputs": [],
   "source": [
    "def config_labels(encoded_labels, number_of_reviews):\n",
    "  encoded_labels = [encoded_labels[i] for i in range(number_of_reviews)]\n",
    "  encoded_labels = np.array(encoded_labels)\n",
    "  return encoded_labels"
   ]
  },
  {
   "cell_type": "code",
   "execution_count": 89,
   "metadata": {
    "executionInfo": {
     "elapsed": 1069,
     "status": "ok",
     "timestamp": 1731383700441,
     "user": {
      "displayName": "Minh Nguyễn",
      "userId": "15648136705951941184"
     },
     "user_tz": -420
    },
    "id": "9Ema-p31cMCZ"
   },
   "outputs": [],
   "source": [
    "encoded_labels = config_labels(encoded_labels, 1000)"
   ]
  },
  {
   "cell_type": "code",
   "execution_count": 91,
   "metadata": {
    "colab": {
     "base_uri": "https://localhost:8080/"
    },
    "executionInfo": {
     "elapsed": 704,
     "status": "ok",
     "timestamp": 1731383711273,
     "user": {
      "displayName": "Minh Nguyễn",
      "userId": "15648136705951941184"
     },
     "user_tz": -420
    },
    "id": "lN3Mbjh9D5GG",
    "outputId": "1b5a8dc0-c6a3-4a2f-a16d-fd320a5622c6"
   },
   "outputs": [
    {
     "name": "stdout",
     "output_type": "stream",
     "text": [
      "\t\t\tFeature Shapes:\n",
      "Train set: \t\t(800, 200) \n",
      "Validation set: \t(100, 200) \n",
      "Test set: \t\t(100, 200)\n"
     ]
    }
   ],
   "source": [
    "split_frac = 0.8\n",
    "split_idx = int(len(features)*split_frac)\n",
    "train_x, remaining_x = features[:split_idx], features[split_idx:]\n",
    "train_y, remaining_y = encoded_labels[:split_idx], encoded_labels[split_idx:]\n",
    "\n",
    "test_idx = int(len(remaining_x)*0.5)\n",
    "val_x, test_x = remaining_x[:test_idx], remaining_x[test_idx:]\n",
    "val_y, test_y = remaining_y[:test_idx], remaining_y[test_idx:]\n",
    "\n",
    "## print out the shapes of your resultant feature data\n",
    "print(\"\\t\\t\\tFeature Shapes:\")\n",
    "print(\"Train set: \\t\\t{}\".format(train_x.shape),\n",
    "      \"\\nValidation set: \\t{}\".format(val_x.shape),\n",
    "      \"\\nTest set: \\t\\t{}\".format(test_x.shape))"
   ]
  },
  {
   "cell_type": "code",
   "execution_count": 29,
   "metadata": {
    "executionInfo": {
     "elapsed": 7,
     "status": "ok",
     "timestamp": 1731379656318,
     "user": {
      "displayName": "Minh Nguyễn",
      "userId": "15648136705951941184"
     },
     "user_tz": -420
    },
    "id": "oZNTZkaTVShS"
   },
   "outputs": [],
   "source": [
    "from torch.utils.data import TensorDataset, DataLoader\n",
    "# TensorDataset: default dataset"
   ]
  },
  {
   "cell_type": "code",
   "execution_count": 92,
   "metadata": {
    "colab": {
     "base_uri": "https://localhost:8080/"
    },
    "executionInfo": {
     "elapsed": 704,
     "status": "ok",
     "timestamp": 1731383715286,
     "user": {
      "displayName": "Minh Nguyễn",
      "userId": "15648136705951941184"
     },
     "user_tz": -420
    },
    "id": "FvZ2BCGJdA3u",
    "outputId": "d405c061-1826-4943-ee5f-ebeeb7068c8f"
   },
   "outputs": [
    {
     "data": {
      "text/plain": [
       "torch.Size([800, 200])"
      ]
     },
     "execution_count": 92,
     "metadata": {},
     "output_type": "execute_result"
    }
   ],
   "source": [
    "torch.from_numpy(train_x).shape"
   ]
  },
  {
   "cell_type": "code",
   "execution_count": 93,
   "metadata": {
    "colab": {
     "base_uri": "https://localhost:8080/"
    },
    "executionInfo": {
     "elapsed": 542,
     "status": "ok",
     "timestamp": 1731383718683,
     "user": {
      "displayName": "Minh Nguyễn",
      "userId": "15648136705951941184"
     },
     "user_tz": -420
    },
    "id": "UCpyF4MsdFx7",
    "outputId": "6cc0e08d-0316-42dc-9931-9ac98797eb29"
   },
   "outputs": [
    {
     "data": {
      "text/plain": [
       "torch.Size([800])"
      ]
     },
     "execution_count": 93,
     "metadata": {},
     "output_type": "execute_result"
    }
   ],
   "source": [
    "torch.from_numpy(train_y).shape"
   ]
  },
  {
   "cell_type": "code",
   "execution_count": 94,
   "metadata": {
    "executionInfo": {
     "elapsed": 853,
     "status": "ok",
     "timestamp": 1731383761674,
     "user": {
      "displayName": "Minh Nguyễn",
      "userId": "15648136705951941184"
     },
     "user_tz": -420
    },
    "id": "W8SjmNaaYx-q"
   },
   "outputs": [],
   "source": [
    "train_dataset = TensorDataset(torch.from_numpy(train_x), torch.from_numpy(train_y))\n",
    "valid_dataset = TensorDataset(torch.from_numpy(val_x), torch.from_numpy(val_y))\n",
    "test_dataset = TensorDataset(torch.from_numpy(test_x), torch.from_numpy(test_y))\n",
    "\n",
    "train_loader = DataLoader(train_dataset, batch_size = 20, shuffle = True)\n",
    "valid_loader = DataLoader(valid_dataset, batch_size= 20, shuffle=False)\n",
    "test_loader = DataLoader(test_dataset, batch_size= 20, shuffle = False)"
   ]
  },
  {
   "cell_type": "code",
   "execution_count": 31,
   "metadata": {
    "colab": {
     "base_uri": "https://localhost:8080/",
     "height": 36
    },
    "executionInfo": {
     "elapsed": 7,
     "status": "ok",
     "timestamp": 1731379656318,
     "user": {
      "displayName": "Minh Nguyễn",
      "userId": "15648136705951941184"
     },
     "user_tz": -420
    },
    "id": "AV6pvR_Wa3I1",
    "outputId": "2cc4976f-eb48-4ca2-f220-46cdf86e360d"
   },
   "outputs": [
    {
     "data": {
      "application/vnd.google.colaboratory.intrinsic+json": {
       "type": "string"
      },
      "text/plain": [
       "'cuda'"
      ]
     },
     "execution_count": 31,
     "metadata": {},
     "output_type": "execute_result"
    }
   ],
   "source": [
    "device = 'cuda' if torch.cuda.is_available() else 'cpu'\n",
    "device"
   ]
  },
  {
   "cell_type": "code",
   "execution_count": 33,
   "metadata": {
    "executionInfo": {
     "elapsed": 5,
     "status": "ok",
     "timestamp": 1731379656318,
     "user": {
      "displayName": "Minh Nguyễn",
      "userId": "15648136705951941184"
     },
     "user_tz": -420
    },
    "id": "XCFVSs9O_qvI"
   },
   "outputs": [],
   "source": [
    "from torch.nn import functional as F"
   ]
  },
  {
   "cell_type": "code",
   "execution_count": 96,
   "metadata": {
    "executionInfo": {
     "elapsed": 504,
     "status": "ok",
     "timestamp": 1731383784628,
     "user": {
      "displayName": "Minh Nguyễn",
      "userId": "15648136705951941184"
     },
     "user_tz": -420
    },
    "id": "vJ-Y_Eo1cxkm"
   },
   "outputs": [],
   "source": [
    "\n",
    "class SentimentCNN(nn.Module):\n",
    "  def __init__(self, embed_model, vocab_size, output_size, embedding_dim,\n",
    "               num_filters=100, kernel_sizes=[3, 4, 5], freeze_embeddings=True, drop_prob=0.5):\n",
    "    super().__init__()\n",
    "    self.num_filters = num_filters\n",
    "    self.embedding_dim = embedding_dim\n",
    "    self.embedding = nn.Embedding(vocab_size, embedding_dim)\n",
    "    self.embedding.weight.data.copy_(torch.from_numpy(embed_model.vectors))\n",
    "\n",
    "    if freeze_embeddings:\n",
    "      self.embedding.requires_grad = False\n",
    "\n",
    "    # need to add the channels dim as embedding dim is (batch_size, seq_len, embedding_dim)\n",
    "    self.convs_1d = nn.ModuleList([\n",
    "        nn.Conv2d(1, num_filters, kernel_size= (k, embedding_dim), padding = (k-2, 0))\n",
    "        for k in kernel_sizes\n",
    "    ])\n",
    "\n",
    "    self.classifier = nn.Linear(len(kernel_sizes) * num_filters, output_size)\n",
    "    self.dropout = nn.Dropout(p = drop_prob)\n",
    "    self.sig = nn.Sigmoid()\n",
    "\n",
    "  def conv_and_pool(self, x, conv):\n",
    "    # squeeze last dim to get size: (batch_size, num_filters, conv_seq_length)\n",
    "    x = F.relu(conv(x)).squeeze(3)\n",
    "    # squeeze to get size: (batch_size, num_filters)\n",
    "    x_max = F.max_pool1d(x, x.size(2)).squeeze(2)\n",
    "    return x_max\n",
    "  def forward(self, x):\n",
    "    embeds = self.embedding(x)\n",
    "    # unsqueeze for the channel dim\n",
    "    embeds = embeds.unsqueeze(1)\n",
    "    conv_results = [self.conv_and_pool(embeds, conv) for conv in self.convs_1d]\n",
    "    x = torch.cat(conv_results, 1)\n",
    "    x = self.dropout(x)\n",
    "    logit = self.classifier(x)\n",
    "    return self.sig(logit)"
   ]
  },
  {
   "cell_type": "code",
   "execution_count": 97,
   "metadata": {
    "colab": {
     "base_uri": "https://localhost:8080/"
    },
    "executionInfo": {
     "elapsed": 1045,
     "status": "ok",
     "timestamp": 1731383790314,
     "user": {
      "displayName": "Minh Nguyễn",
      "userId": "15648136705951941184"
     },
     "user_tz": -420
    },
    "id": "MYZuXl-A-WeD",
    "outputId": "8c72b7c9-f561-42be-df03-4ceb7e431b18"
   },
   "outputs": [
    {
     "name": "stdout",
     "output_type": "stream",
     "text": [
      "SentimentCNN(\n",
      "  (embedding): Embedding(299567, 300)\n",
      "  (convs_1d): ModuleList(\n",
      "    (0): Conv2d(1, 100, kernel_size=(3, 300), stride=(1, 1), padding=(1, 0))\n",
      "    (1): Conv2d(1, 100, kernel_size=(4, 300), stride=(1, 1), padding=(2, 0))\n",
      "    (2): Conv2d(1, 100, kernel_size=(5, 300), stride=(1, 1), padding=(3, 0))\n",
      "  )\n",
      "  (classifier): Linear(in_features=300, out_features=1, bias=True)\n",
      "  (dropout): Dropout(p=0.5, inplace=False)\n",
      "  (sig): Sigmoid()\n",
      ")\n"
     ]
    }
   ],
   "source": [
    "vocab_size = len(pretrained_words)\n",
    "output_size = 1 # binary class (1 or 0)\n",
    "embedding_dim = len(embed_lookup[pretrained_words[0]]) # 300-dim vectors\n",
    "num_filters = 100\n",
    "kernel_sizes = [3, 4, 5]\n",
    "\n",
    "net = SentimentCNN(embed_lookup, vocab_size, output_size, embedding_dim,\n",
    "                   num_filters, kernel_sizes).to(device)\n",
    "\n",
    "print(net)"
   ]
  },
  {
   "cell_type": "code",
   "execution_count": 100,
   "metadata": {
    "executionInfo": {
     "elapsed": 543,
     "status": "ok",
     "timestamp": 1731383805371,
     "user": {
      "displayName": "Minh Nguyễn",
      "userId": "15648136705951941184"
     },
     "user_tz": -420
    },
    "id": "jFcVvjlXzmwS"
   },
   "outputs": [],
   "source": [
    "lr=0.001\n",
    "\n",
    "criterion = nn.BCELoss()\n",
    "optimizer = torch.optim.Adam(net.parameters(), lr=lr)"
   ]
  },
  {
   "cell_type": "code",
   "execution_count": 102,
   "metadata": {
    "executionInfo": {
     "elapsed": 520,
     "status": "ok",
     "timestamp": 1731383819248,
     "user": {
      "displayName": "Minh Nguyễn",
      "userId": "15648136705951941184"
     },
     "user_tz": -420
    },
    "id": "AfVSOLII9V17"
   },
   "outputs": [],
   "source": [
    "def train(model: torch.nn.Module,\n",
    "          train_loader: torch.utils.data.DataLoader,\n",
    "          valid_loader: torch.utils.data.DataLoader,\n",
    "          epochs,\n",
    "          device = device):\n",
    "  model.train()\n",
    "  for epoch in tqdm(range(epochs)):\n",
    "    train_loss, train_acc = 0, 0\n",
    "    for i, (X, y) in enumerate(train_loader):\n",
    "      X, y = X.to(device), y.to(device)\n",
    "      y_prob = model(X)\n",
    "      loss = criterion(y_prob.squeeze(), y.float())\n",
    "      train_loss += loss.item()\n",
    "      optimizer.zero_grad()\n",
    "      loss.backward()\n",
    "      optimizer.step()\n",
    "      y_pred = y_prob.squeeze().round()\n",
    "      corrects_per_batch_train = torch.eq(y_pred, y.float()).sum().item()\n",
    "      train_acc += (corrects_per_batch_train / len(y))\n",
    "\n",
    "    valid_loss, valid_acc = 0, 0\n",
    "    model.eval()\n",
    "    with torch.inference_mode():\n",
    "      for i, (X, y) in enumerate(valid_loader):\n",
    "        X, y = X.to(device), y.to(device)\n",
    "        y_prob = model(X)\n",
    "        loss = criterion(y_prob.squeeze(), y.float())\n",
    "        valid_loss += loss.item()\n",
    "        y_pred = y_prob.squeeze().round()\n",
    "        corrects_per_batch_valid = torch.eq(y_pred, y.float()).sum().item()\n",
    "        valid_acc += (corrects_per_batch_valid / len(y))\n",
    "\n",
    "    print(f'Epoch {epoch+1}')\n",
    "    print(f'Train_loss: {train_loss / len(train_loader):.4f}')\n",
    "    print(f'Train_acc: {train_acc / len(train_loader):.4f}')\n",
    "    print(f'Valid_loss: {valid_loss / len(valid_loader):.4f}')\n",
    "    print(f'Valid_acc: {valid_acc / len(valid_loader):.4f}')\n",
    "\n"
   ]
  },
  {
   "cell_type": "code",
   "execution_count": null,
   "metadata": {
    "colab": {
     "base_uri": "https://localhost:8080/",
     "height": 503,
     "referenced_widgets": [
      "c8881b2414ff4138a7b933ae6a9eee94",
      "0099d88b8090414cb2e8ebbae3db2af5",
      "d59b988ad9a74f76892a44d9e9421222",
      "6433b0dbc64f41a090cdd3a9d16dfb3d",
      "e2f5bff936584bb2a4be786c5a63764a",
      "339b27126a8b42dab8dd2e47ecb5db03",
      "b880129a547046078aaf8dda09374973",
      "c637d4f31e334cc997b927ab86c416b0",
      "738c5cc0f0c74f0eadebfb8fa2afa343",
      "61813b2bb79c4b3ba31d585fa783e38a",
      "f1d031e09e5f45e2bce02f52049c8bad"
     ]
    },
    "executionInfo": {
     "elapsed": 7873,
     "status": "ok",
     "timestamp": 1731383845152,
     "user": {
      "displayName": "Minh Nguyễn",
      "userId": "15648136705951941184"
     },
     "user_tz": -420
    },
    "id": "WlAakOYJa7ae",
    "outputId": "249f2511-4afa-4822-ed8b-004a3aee96b5"
   },
   "outputs": [
    {
     "data": {
      "application/vnd.jupyter.widget-view+json": {
       "model_id": "c8881b2414ff4138a7b933ae6a9eee94",
       "version_major": 2,
       "version_minor": 0
      },
      "text/plain": [
       "  0%|          | 0/5 [00:00<?, ?it/s]"
      ]
     },
     "metadata": {},
     "output_type": "display_data"
    },
    {
     "name": "stdout",
     "output_type": "stream",
     "text": [
      "Epoch 1\n",
      "Train_loss: 0.1584\n",
      "Train_acc: 0.9675\n",
      "Valid_loss: 0.4119\n",
      "Valid_acc: 0.8000\n",
      "Epoch 2\n",
      "Train_loss: 0.0380\n",
      "Train_acc: 1.0000\n",
      "Valid_loss: 0.4332\n",
      "Valid_acc: 0.8000\n",
      "Epoch 3\n",
      "Train_loss: 0.0105\n",
      "Train_acc: 1.0000\n",
      "Valid_loss: 0.4568\n",
      "Valid_acc: 0.8100\n",
      "Epoch 4\n",
      "Train_loss: 0.0051\n",
      "Train_acc: 1.0000\n",
      "Valid_loss: 0.4751\n",
      "Valid_acc: 0.8200\n",
      "Epoch 5\n",
      "Train_loss: 0.0032\n",
      "Train_acc: 1.0000\n",
      "Valid_loss: 0.4940\n",
      "Valid_acc: 0.8300\n"
     ]
    }
   ],
   "source": [
    "train(net, train_loader, valid_loader, 5)\n",
    "# run on colab to see tqdm "
   ]
  },
  {
   "cell_type": "code",
   "execution_count": 105,
   "metadata": {
    "executionInfo": {
     "elapsed": 570,
     "status": "ok",
     "timestamp": 1731383852107,
     "user": {
      "displayName": "Minh Nguyễn",
      "userId": "15648136705951941184"
     },
     "user_tz": -420
    },
    "id": "LUz6R4yPWmS_"
   },
   "outputs": [],
   "source": [
    "def test(model: torch.nn.Module,\n",
    "          test_loader: torch.utils.data.DataLoader,\n",
    "          device = device):\n",
    "  test_loss, test_acc = 0, 0\n",
    "  model.eval()\n",
    "  with torch.inference_mode():\n",
    "    for i, (X, y) in tqdm(enumerate(test_loader)):\n",
    "      X, y = X.to(device), y.to(device)\n",
    "      y_prob = model(X)\n",
    "      loss = criterion(y_prob.squeeze(), y.float())\n",
    "      test_loss += loss.item()\n",
    "      y_pred = y_prob.squeeze().round()\n",
    "      corrects_per_batch = torch.eq(y_pred, y.float()).sum().item()\n",
    "      test_acc += (corrects_per_batch / len(y))\n",
    "\n",
    "  print(f'Test_loss: {test_loss / len(test_loader):.4f}')\n",
    "  print(f'Test_acc: {test_acc / len(test_loader):.4f}')"
   ]
  },
  {
   "cell_type": "code",
   "execution_count": null,
   "metadata": {
    "colab": {
     "base_uri": "https://localhost:8080/",
     "height": 85,
     "referenced_widgets": [
      "ae0e16572c5c4be4997c329822823f3c",
      "c54b00ef292341e78dd9f1293a454d64",
      "74e9c899e5f744af9d080b9d48971229",
      "d1923c26e6414c0bbd5ffe9b01f26863",
      "ba106cdcff2f47f9bdc8f1fe86d16822",
      "779476c8857d48968a6cda8e9791f874",
      "37dc4381fc354135b7bb2d5262a56fce",
      "95521304d63d498bb04a9d63f20d8300",
      "ceaa47726bd441f4acf3b0e048281259",
      "65aeee5a7ac0473d922c94cdd8d7481d",
      "f539d9442caa46a393531b0f594487f0"
     ]
    },
    "executionInfo": {
     "elapsed": 556,
     "status": "ok",
     "timestamp": 1731383855499,
     "user": {
      "displayName": "Minh Nguyễn",
      "userId": "15648136705951941184"
     },
     "user_tz": -420
    },
    "id": "At9YL9odYRAB",
    "outputId": "df98b23b-18e6-492b-845d-cba2f41d1415"
   },
   "outputs": [
    {
     "data": {
      "application/vnd.jupyter.widget-view+json": {
       "model_id": "ae0e16572c5c4be4997c329822823f3c",
       "version_major": 2,
       "version_minor": 0
      },
      "text/plain": [
       "0it [00:00, ?it/s]"
      ]
     },
     "metadata": {},
     "output_type": "display_data"
    },
    {
     "name": "stdout",
     "output_type": "stream",
     "text": [
      "Test_loss: 0.4903\n",
      "Test_acc: 0.8500\n"
     ]
    }
   ],
   "source": [
    "test(net, test_loader)\n",
    "# run on colab to see tqdm "
   ]
  },
  {
   "cell_type": "code",
   "execution_count": null,
   "metadata": {
    "id": "sYA72mj0bdFp"
   },
   "outputs": [],
   "source": []
  }
 ],
 "metadata": {
  "colab": {
   "authorship_tag": "ABX9TyPiWhR2H5s/UivBtTDOBgTk",
   "provenance": []
  },
  "kernelspec": {
   "display_name": "Python 3",
   "name": "python3"
  },
  "language_info": {
   "name": "python"
  },
  "widgets": {
   "application/vnd.jupyter.widget-state+json": {
    "0099d88b8090414cb2e8ebbae3db2af5": {
     "model_module": "@jupyter-widgets/controls",
     "model_module_version": "1.5.0",
     "model_name": "HTMLModel",
     "state": {
      "_dom_classes": [],
      "_model_module": "@jupyter-widgets/controls",
      "_model_module_version": "1.5.0",
      "_model_name": "HTMLModel",
      "_view_count": null,
      "_view_module": "@jupyter-widgets/controls",
      "_view_module_version": "1.5.0",
      "_view_name": "HTMLView",
      "description": "",
      "description_tooltip": null,
      "layout": "IPY_MODEL_339b27126a8b42dab8dd2e47ecb5db03",
      "placeholder": "​",
      "style": "IPY_MODEL_b880129a547046078aaf8dda09374973",
      "value": "100%"
     }
    },
    "245413c6c0c44f559060f0b90e6e4af1": {
     "model_module": "@jupyter-widgets/base",
     "model_module_version": "1.2.0",
     "model_name": "LayoutModel",
     "state": {
      "_model_module": "@jupyter-widgets/base",
      "_model_module_version": "1.2.0",
      "_model_name": "LayoutModel",
      "_view_count": null,
      "_view_module": "@jupyter-widgets/base",
      "_view_module_version": "1.2.0",
      "_view_name": "LayoutView",
      "align_content": null,
      "align_items": null,
      "align_self": null,
      "border": null,
      "bottom": null,
      "display": null,
      "flex": null,
      "flex_flow": null,
      "grid_area": null,
      "grid_auto_columns": null,
      "grid_auto_flow": null,
      "grid_auto_rows": null,
      "grid_column": null,
      "grid_gap": null,
      "grid_row": null,
      "grid_template_areas": null,
      "grid_template_columns": null,
      "grid_template_rows": null,
      "height": null,
      "justify_content": null,
      "justify_items": null,
      "left": null,
      "margin": null,
      "max_height": null,
      "max_width": null,
      "min_height": null,
      "min_width": null,
      "object_fit": null,
      "object_position": null,
      "order": null,
      "overflow": null,
      "overflow_x": null,
      "overflow_y": null,
      "padding": null,
      "right": null,
      "top": null,
      "visibility": null,
      "width": null
     }
    },
    "27872cf08eb04d5f9172524792a9e3f4": {
     "model_module": "@jupyter-widgets/controls",
     "model_module_version": "1.5.0",
     "model_name": "FloatProgressModel",
     "state": {
      "_dom_classes": [],
      "_model_module": "@jupyter-widgets/controls",
      "_model_module_version": "1.5.0",
      "_model_name": "FloatProgressModel",
      "_view_count": null,
      "_view_module": "@jupyter-widgets/controls",
      "_view_module_version": "1.5.0",
      "_view_name": "ProgressView",
      "bar_style": "success",
      "description": "",
      "description_tooltip": null,
      "layout": "IPY_MODEL_dc332980a84f479e8d31125162100fa2",
      "max": 1000,
      "min": 0,
      "orientation": "horizontal",
      "style": "IPY_MODEL_eedd2fbea8b842e7b90dc9cf87ef493c",
      "value": 1000
     }
    },
    "339b27126a8b42dab8dd2e47ecb5db03": {
     "model_module": "@jupyter-widgets/base",
     "model_module_version": "1.2.0",
     "model_name": "LayoutModel",
     "state": {
      "_model_module": "@jupyter-widgets/base",
      "_model_module_version": "1.2.0",
      "_model_name": "LayoutModel",
      "_view_count": null,
      "_view_module": "@jupyter-widgets/base",
      "_view_module_version": "1.2.0",
      "_view_name": "LayoutView",
      "align_content": null,
      "align_items": null,
      "align_self": null,
      "border": null,
      "bottom": null,
      "display": null,
      "flex": null,
      "flex_flow": null,
      "grid_area": null,
      "grid_auto_columns": null,
      "grid_auto_flow": null,
      "grid_auto_rows": null,
      "grid_column": null,
      "grid_gap": null,
      "grid_row": null,
      "grid_template_areas": null,
      "grid_template_columns": null,
      "grid_template_rows": null,
      "height": null,
      "justify_content": null,
      "justify_items": null,
      "left": null,
      "margin": null,
      "max_height": null,
      "max_width": null,
      "min_height": null,
      "min_width": null,
      "object_fit": null,
      "object_position": null,
      "order": null,
      "overflow": null,
      "overflow_x": null,
      "overflow_y": null,
      "padding": null,
      "right": null,
      "top": null,
      "visibility": null,
      "width": null
     }
    },
    "37dc4381fc354135b7bb2d5262a56fce": {
     "model_module": "@jupyter-widgets/controls",
     "model_module_version": "1.5.0",
     "model_name": "DescriptionStyleModel",
     "state": {
      "_model_module": "@jupyter-widgets/controls",
      "_model_module_version": "1.5.0",
      "_model_name": "DescriptionStyleModel",
      "_view_count": null,
      "_view_module": "@jupyter-widgets/base",
      "_view_module_version": "1.2.0",
      "_view_name": "StyleView",
      "description_width": ""
     }
    },
    "3a2e9ca16dfc436e8e869309053cd830": {
     "model_module": "@jupyter-widgets/controls",
     "model_module_version": "1.5.0",
     "model_name": "DescriptionStyleModel",
     "state": {
      "_model_module": "@jupyter-widgets/controls",
      "_model_module_version": "1.5.0",
      "_model_name": "DescriptionStyleModel",
      "_view_count": null,
      "_view_module": "@jupyter-widgets/base",
      "_view_module_version": "1.2.0",
      "_view_name": "StyleView",
      "description_width": ""
     }
    },
    "4811742090224babbe13ada1ad5843f6": {
     "model_module": "@jupyter-widgets/base",
     "model_module_version": "1.2.0",
     "model_name": "LayoutModel",
     "state": {
      "_model_module": "@jupyter-widgets/base",
      "_model_module_version": "1.2.0",
      "_model_name": "LayoutModel",
      "_view_count": null,
      "_view_module": "@jupyter-widgets/base",
      "_view_module_version": "1.2.0",
      "_view_name": "LayoutView",
      "align_content": null,
      "align_items": null,
      "align_self": null,
      "border": null,
      "bottom": null,
      "display": null,
      "flex": null,
      "flex_flow": null,
      "grid_area": null,
      "grid_auto_columns": null,
      "grid_auto_flow": null,
      "grid_auto_rows": null,
      "grid_column": null,
      "grid_gap": null,
      "grid_row": null,
      "grid_template_areas": null,
      "grid_template_columns": null,
      "grid_template_rows": null,
      "height": null,
      "justify_content": null,
      "justify_items": null,
      "left": null,
      "margin": null,
      "max_height": null,
      "max_width": null,
      "min_height": null,
      "min_width": null,
      "object_fit": null,
      "object_position": null,
      "order": null,
      "overflow": null,
      "overflow_x": null,
      "overflow_y": null,
      "padding": null,
      "right": null,
      "top": null,
      "visibility": null,
      "width": "20px"
     }
    },
    "4a91c02199194c59b76328346f56447e": {
     "model_module": "@jupyter-widgets/base",
     "model_module_version": "1.2.0",
     "model_name": "LayoutModel",
     "state": {
      "_model_module": "@jupyter-widgets/base",
      "_model_module_version": "1.2.0",
      "_model_name": "LayoutModel",
      "_view_count": null,
      "_view_module": "@jupyter-widgets/base",
      "_view_module_version": "1.2.0",
      "_view_name": "LayoutView",
      "align_content": null,
      "align_items": null,
      "align_self": null,
      "border": null,
      "bottom": null,
      "display": null,
      "flex": null,
      "flex_flow": null,
      "grid_area": null,
      "grid_auto_columns": null,
      "grid_auto_flow": null,
      "grid_auto_rows": null,
      "grid_column": null,
      "grid_gap": null,
      "grid_row": null,
      "grid_template_areas": null,
      "grid_template_columns": null,
      "grid_template_rows": null,
      "height": null,
      "justify_content": null,
      "justify_items": null,
      "left": null,
      "margin": null,
      "max_height": null,
      "max_width": null,
      "min_height": null,
      "min_width": null,
      "object_fit": null,
      "object_position": null,
      "order": null,
      "overflow": null,
      "overflow_x": null,
      "overflow_y": null,
      "padding": null,
      "right": null,
      "top": null,
      "visibility": null,
      "width": null
     }
    },
    "4f7f8959369c4f40b9d97b7997769e7c": {
     "model_module": "@jupyter-widgets/controls",
     "model_module_version": "1.5.0",
     "model_name": "DescriptionStyleModel",
     "state": {
      "_model_module": "@jupyter-widgets/controls",
      "_model_module_version": "1.5.0",
      "_model_name": "DescriptionStyleModel",
      "_view_count": null,
      "_view_module": "@jupyter-widgets/base",
      "_view_module_version": "1.2.0",
      "_view_name": "StyleView",
      "description_width": ""
     }
    },
    "5a4a7e57c7644d43b4fa44b947e4a76f": {
     "model_module": "@jupyter-widgets/controls",
     "model_module_version": "1.5.0",
     "model_name": "ProgressStyleModel",
     "state": {
      "_model_module": "@jupyter-widgets/controls",
      "_model_module_version": "1.5.0",
      "_model_name": "ProgressStyleModel",
      "_view_count": null,
      "_view_module": "@jupyter-widgets/base",
      "_view_module_version": "1.2.0",
      "_view_name": "StyleView",
      "bar_color": null,
      "description_width": ""
     }
    },
    "61813b2bb79c4b3ba31d585fa783e38a": {
     "model_module": "@jupyter-widgets/base",
     "model_module_version": "1.2.0",
     "model_name": "LayoutModel",
     "state": {
      "_model_module": "@jupyter-widgets/base",
      "_model_module_version": "1.2.0",
      "_model_name": "LayoutModel",
      "_view_count": null,
      "_view_module": "@jupyter-widgets/base",
      "_view_module_version": "1.2.0",
      "_view_name": "LayoutView",
      "align_content": null,
      "align_items": null,
      "align_self": null,
      "border": null,
      "bottom": null,
      "display": null,
      "flex": null,
      "flex_flow": null,
      "grid_area": null,
      "grid_auto_columns": null,
      "grid_auto_flow": null,
      "grid_auto_rows": null,
      "grid_column": null,
      "grid_gap": null,
      "grid_row": null,
      "grid_template_areas": null,
      "grid_template_columns": null,
      "grid_template_rows": null,
      "height": null,
      "justify_content": null,
      "justify_items": null,
      "left": null,
      "margin": null,
      "max_height": null,
      "max_width": null,
      "min_height": null,
      "min_width": null,
      "object_fit": null,
      "object_position": null,
      "order": null,
      "overflow": null,
      "overflow_x": null,
      "overflow_y": null,
      "padding": null,
      "right": null,
      "top": null,
      "visibility": null,
      "width": null
     }
    },
    "619785b98cc040208ec5997171df5860": {
     "model_module": "@jupyter-widgets/controls",
     "model_module_version": "1.5.0",
     "model_name": "HBoxModel",
     "state": {
      "_dom_classes": [],
      "_model_module": "@jupyter-widgets/controls",
      "_model_module_version": "1.5.0",
      "_model_name": "HBoxModel",
      "_view_count": null,
      "_view_module": "@jupyter-widgets/controls",
      "_view_module_version": "1.5.0",
      "_view_name": "HBoxView",
      "box_style": "",
      "children": [
       "IPY_MODEL_c330cd05b0ec45b19377aae312043082",
       "IPY_MODEL_6974a7d552d14ce18e3549a740bbd6f8",
       "IPY_MODEL_c1266ed90a0b4d27933420c1827e89f6"
      ],
      "layout": "IPY_MODEL_e3b0a66734fd4cd0b48f46142e00cc14"
     }
    },
    "63b129b719b74bfda05ba5d245885f71": {
     "model_module": "@jupyter-widgets/controls",
     "model_module_version": "1.5.0",
     "model_name": "HTMLModel",
     "state": {
      "_dom_classes": [],
      "_model_module": "@jupyter-widgets/controls",
      "_model_module_version": "1.5.0",
      "_model_name": "HTMLModel",
      "_view_count": null,
      "_view_module": "@jupyter-widgets/controls",
      "_view_module_version": "1.5.0",
      "_view_name": "HTMLView",
      "description": "",
      "description_tooltip": null,
      "layout": "IPY_MODEL_4a91c02199194c59b76328346f56447e",
      "placeholder": "​",
      "style": "IPY_MODEL_3a2e9ca16dfc436e8e869309053cd830",
      "value": "100%"
     }
    },
    "640ba1b809804161a4a975c4935c974a": {
     "model_module": "@jupyter-widgets/base",
     "model_module_version": "1.2.0",
     "model_name": "LayoutModel",
     "state": {
      "_model_module": "@jupyter-widgets/base",
      "_model_module_version": "1.2.0",
      "_model_name": "LayoutModel",
      "_view_count": null,
      "_view_module": "@jupyter-widgets/base",
      "_view_module_version": "1.2.0",
      "_view_name": "LayoutView",
      "align_content": null,
      "align_items": null,
      "align_self": null,
      "border": null,
      "bottom": null,
      "display": null,
      "flex": null,
      "flex_flow": null,
      "grid_area": null,
      "grid_auto_columns": null,
      "grid_auto_flow": null,
      "grid_auto_rows": null,
      "grid_column": null,
      "grid_gap": null,
      "grid_row": null,
      "grid_template_areas": null,
      "grid_template_columns": null,
      "grid_template_rows": null,
      "height": null,
      "justify_content": null,
      "justify_items": null,
      "left": null,
      "margin": null,
      "max_height": null,
      "max_width": null,
      "min_height": null,
      "min_width": null,
      "object_fit": null,
      "object_position": null,
      "order": null,
      "overflow": null,
      "overflow_x": null,
      "overflow_y": null,
      "padding": null,
      "right": null,
      "top": null,
      "visibility": null,
      "width": null
     }
    },
    "6433b0dbc64f41a090cdd3a9d16dfb3d": {
     "model_module": "@jupyter-widgets/controls",
     "model_module_version": "1.5.0",
     "model_name": "HTMLModel",
     "state": {
      "_dom_classes": [],
      "_model_module": "@jupyter-widgets/controls",
      "_model_module_version": "1.5.0",
      "_model_name": "HTMLModel",
      "_view_count": null,
      "_view_module": "@jupyter-widgets/controls",
      "_view_module_version": "1.5.0",
      "_view_name": "HTMLView",
      "description": "",
      "description_tooltip": null,
      "layout": "IPY_MODEL_61813b2bb79c4b3ba31d585fa783e38a",
      "placeholder": "​",
      "style": "IPY_MODEL_f1d031e09e5f45e2bce02f52049c8bad",
      "value": " 5/5 [00:07&lt;00:00,  1.51s/it]"
     }
    },
    "65aeee5a7ac0473d922c94cdd8d7481d": {
     "model_module": "@jupyter-widgets/base",
     "model_module_version": "1.2.0",
     "model_name": "LayoutModel",
     "state": {
      "_model_module": "@jupyter-widgets/base",
      "_model_module_version": "1.2.0",
      "_model_name": "LayoutModel",
      "_view_count": null,
      "_view_module": "@jupyter-widgets/base",
      "_view_module_version": "1.2.0",
      "_view_name": "LayoutView",
      "align_content": null,
      "align_items": null,
      "align_self": null,
      "border": null,
      "bottom": null,
      "display": null,
      "flex": null,
      "flex_flow": null,
      "grid_area": null,
      "grid_auto_columns": null,
      "grid_auto_flow": null,
      "grid_auto_rows": null,
      "grid_column": null,
      "grid_gap": null,
      "grid_row": null,
      "grid_template_areas": null,
      "grid_template_columns": null,
      "grid_template_rows": null,
      "height": null,
      "justify_content": null,
      "justify_items": null,
      "left": null,
      "margin": null,
      "max_height": null,
      "max_width": null,
      "min_height": null,
      "min_width": null,
      "object_fit": null,
      "object_position": null,
      "order": null,
      "overflow": null,
      "overflow_x": null,
      "overflow_y": null,
      "padding": null,
      "right": null,
      "top": null,
      "visibility": null,
      "width": null
     }
    },
    "6974a7d552d14ce18e3549a740bbd6f8": {
     "model_module": "@jupyter-widgets/controls",
     "model_module_version": "1.5.0",
     "model_name": "FloatProgressModel",
     "state": {
      "_dom_classes": [],
      "_model_module": "@jupyter-widgets/controls",
      "_model_module_version": "1.5.0",
      "_model_name": "FloatProgressModel",
      "_view_count": null,
      "_view_module": "@jupyter-widgets/controls",
      "_view_module_version": "1.5.0",
      "_view_name": "ProgressView",
      "bar_style": "success",
      "description": "",
      "description_tooltip": null,
      "layout": "IPY_MODEL_4811742090224babbe13ada1ad5843f6",
      "max": 1,
      "min": 0,
      "orientation": "horizontal",
      "style": "IPY_MODEL_5a4a7e57c7644d43b4fa44b947e4a76f",
      "value": 1
     }
    },
    "6dff4fc4b4dc44a68d2ad3578e867132": {
     "model_module": "@jupyter-widgets/base",
     "model_module_version": "1.2.0",
     "model_name": "LayoutModel",
     "state": {
      "_model_module": "@jupyter-widgets/base",
      "_model_module_version": "1.2.0",
      "_model_name": "LayoutModel",
      "_view_count": null,
      "_view_module": "@jupyter-widgets/base",
      "_view_module_version": "1.2.0",
      "_view_name": "LayoutView",
      "align_content": null,
      "align_items": null,
      "align_self": null,
      "border": null,
      "bottom": null,
      "display": null,
      "flex": null,
      "flex_flow": null,
      "grid_area": null,
      "grid_auto_columns": null,
      "grid_auto_flow": null,
      "grid_auto_rows": null,
      "grid_column": null,
      "grid_gap": null,
      "grid_row": null,
      "grid_template_areas": null,
      "grid_template_columns": null,
      "grid_template_rows": null,
      "height": null,
      "justify_content": null,
      "justify_items": null,
      "left": null,
      "margin": null,
      "max_height": null,
      "max_width": null,
      "min_height": null,
      "min_width": null,
      "object_fit": null,
      "object_position": null,
      "order": null,
      "overflow": null,
      "overflow_x": null,
      "overflow_y": null,
      "padding": null,
      "right": null,
      "top": null,
      "visibility": null,
      "width": null
     }
    },
    "738c5cc0f0c74f0eadebfb8fa2afa343": {
     "model_module": "@jupyter-widgets/controls",
     "model_module_version": "1.5.0",
     "model_name": "ProgressStyleModel",
     "state": {
      "_model_module": "@jupyter-widgets/controls",
      "_model_module_version": "1.5.0",
      "_model_name": "ProgressStyleModel",
      "_view_count": null,
      "_view_module": "@jupyter-widgets/base",
      "_view_module_version": "1.2.0",
      "_view_name": "StyleView",
      "bar_color": null,
      "description_width": ""
     }
    },
    "74e9c899e5f744af9d080b9d48971229": {
     "model_module": "@jupyter-widgets/controls",
     "model_module_version": "1.5.0",
     "model_name": "FloatProgressModel",
     "state": {
      "_dom_classes": [],
      "_model_module": "@jupyter-widgets/controls",
      "_model_module_version": "1.5.0",
      "_model_name": "FloatProgressModel",
      "_view_count": null,
      "_view_module": "@jupyter-widgets/controls",
      "_view_module_version": "1.5.0",
      "_view_name": "ProgressView",
      "bar_style": "success",
      "description": "",
      "description_tooltip": null,
      "layout": "IPY_MODEL_95521304d63d498bb04a9d63f20d8300",
      "max": 1,
      "min": 0,
      "orientation": "horizontal",
      "style": "IPY_MODEL_ceaa47726bd441f4acf3b0e048281259",
      "value": 1
     }
    },
    "779476c8857d48968a6cda8e9791f874": {
     "model_module": "@jupyter-widgets/base",
     "model_module_version": "1.2.0",
     "model_name": "LayoutModel",
     "state": {
      "_model_module": "@jupyter-widgets/base",
      "_model_module_version": "1.2.0",
      "_model_name": "LayoutModel",
      "_view_count": null,
      "_view_module": "@jupyter-widgets/base",
      "_view_module_version": "1.2.0",
      "_view_name": "LayoutView",
      "align_content": null,
      "align_items": null,
      "align_self": null,
      "border": null,
      "bottom": null,
      "display": null,
      "flex": null,
      "flex_flow": null,
      "grid_area": null,
      "grid_auto_columns": null,
      "grid_auto_flow": null,
      "grid_auto_rows": null,
      "grid_column": null,
      "grid_gap": null,
      "grid_row": null,
      "grid_template_areas": null,
      "grid_template_columns": null,
      "grid_template_rows": null,
      "height": null,
      "justify_content": null,
      "justify_items": null,
      "left": null,
      "margin": null,
      "max_height": null,
      "max_width": null,
      "min_height": null,
      "min_width": null,
      "object_fit": null,
      "object_position": null,
      "order": null,
      "overflow": null,
      "overflow_x": null,
      "overflow_y": null,
      "padding": null,
      "right": null,
      "top": null,
      "visibility": null,
      "width": null
     }
    },
    "8f5ed16aabeb4f188baadc89560e17a1": {
     "model_module": "@jupyter-widgets/controls",
     "model_module_version": "1.5.0",
     "model_name": "HTMLModel",
     "state": {
      "_dom_classes": [],
      "_model_module": "@jupyter-widgets/controls",
      "_model_module_version": "1.5.0",
      "_model_name": "HTMLModel",
      "_view_count": null,
      "_view_module": "@jupyter-widgets/controls",
      "_view_module_version": "1.5.0",
      "_view_name": "HTMLView",
      "description": "",
      "description_tooltip": null,
      "layout": "IPY_MODEL_c97b8d1523634882a68e06f190ab6482",
      "placeholder": "​",
      "style": "IPY_MODEL_4f7f8959369c4f40b9d97b7997769e7c",
      "value": " 1000/1000 [02:33&lt;00:00,  4.71it/s]"
     }
    },
    "95521304d63d498bb04a9d63f20d8300": {
     "model_module": "@jupyter-widgets/base",
     "model_module_version": "1.2.0",
     "model_name": "LayoutModel",
     "state": {
      "_model_module": "@jupyter-widgets/base",
      "_model_module_version": "1.2.0",
      "_model_name": "LayoutModel",
      "_view_count": null,
      "_view_module": "@jupyter-widgets/base",
      "_view_module_version": "1.2.0",
      "_view_name": "LayoutView",
      "align_content": null,
      "align_items": null,
      "align_self": null,
      "border": null,
      "bottom": null,
      "display": null,
      "flex": null,
      "flex_flow": null,
      "grid_area": null,
      "grid_auto_columns": null,
      "grid_auto_flow": null,
      "grid_auto_rows": null,
      "grid_column": null,
      "grid_gap": null,
      "grid_row": null,
      "grid_template_areas": null,
      "grid_template_columns": null,
      "grid_template_rows": null,
      "height": null,
      "justify_content": null,
      "justify_items": null,
      "left": null,
      "margin": null,
      "max_height": null,
      "max_width": null,
      "min_height": null,
      "min_width": null,
      "object_fit": null,
      "object_position": null,
      "order": null,
      "overflow": null,
      "overflow_x": null,
      "overflow_y": null,
      "padding": null,
      "right": null,
      "top": null,
      "visibility": null,
      "width": "20px"
     }
    },
    "ae0e16572c5c4be4997c329822823f3c": {
     "model_module": "@jupyter-widgets/controls",
     "model_module_version": "1.5.0",
     "model_name": "HBoxModel",
     "state": {
      "_dom_classes": [],
      "_model_module": "@jupyter-widgets/controls",
      "_model_module_version": "1.5.0",
      "_model_name": "HBoxModel",
      "_view_count": null,
      "_view_module": "@jupyter-widgets/controls",
      "_view_module_version": "1.5.0",
      "_view_name": "HBoxView",
      "box_style": "",
      "children": [
       "IPY_MODEL_c54b00ef292341e78dd9f1293a454d64",
       "IPY_MODEL_74e9c899e5f744af9d080b9d48971229",
       "IPY_MODEL_d1923c26e6414c0bbd5ffe9b01f26863"
      ],
      "layout": "IPY_MODEL_ba106cdcff2f47f9bdc8f1fe86d16822"
     }
    },
    "b880129a547046078aaf8dda09374973": {
     "model_module": "@jupyter-widgets/controls",
     "model_module_version": "1.5.0",
     "model_name": "DescriptionStyleModel",
     "state": {
      "_model_module": "@jupyter-widgets/controls",
      "_model_module_version": "1.5.0",
      "_model_name": "DescriptionStyleModel",
      "_view_count": null,
      "_view_module": "@jupyter-widgets/base",
      "_view_module_version": "1.2.0",
      "_view_name": "StyleView",
      "description_width": ""
     }
    },
    "ba106cdcff2f47f9bdc8f1fe86d16822": {
     "model_module": "@jupyter-widgets/base",
     "model_module_version": "1.2.0",
     "model_name": "LayoutModel",
     "state": {
      "_model_module": "@jupyter-widgets/base",
      "_model_module_version": "1.2.0",
      "_model_name": "LayoutModel",
      "_view_count": null,
      "_view_module": "@jupyter-widgets/base",
      "_view_module_version": "1.2.0",
      "_view_name": "LayoutView",
      "align_content": null,
      "align_items": null,
      "align_self": null,
      "border": null,
      "bottom": null,
      "display": null,
      "flex": null,
      "flex_flow": null,
      "grid_area": null,
      "grid_auto_columns": null,
      "grid_auto_flow": null,
      "grid_auto_rows": null,
      "grid_column": null,
      "grid_gap": null,
      "grid_row": null,
      "grid_template_areas": null,
      "grid_template_columns": null,
      "grid_template_rows": null,
      "height": null,
      "justify_content": null,
      "justify_items": null,
      "left": null,
      "margin": null,
      "max_height": null,
      "max_width": null,
      "min_height": null,
      "min_width": null,
      "object_fit": null,
      "object_position": null,
      "order": null,
      "overflow": null,
      "overflow_x": null,
      "overflow_y": null,
      "padding": null,
      "right": null,
      "top": null,
      "visibility": null,
      "width": null
     }
    },
    "c1266ed90a0b4d27933420c1827e89f6": {
     "model_module": "@jupyter-widgets/controls",
     "model_module_version": "1.5.0",
     "model_name": "HTMLModel",
     "state": {
      "_dom_classes": [],
      "_model_module": "@jupyter-widgets/controls",
      "_model_module_version": "1.5.0",
      "_model_name": "HTMLModel",
      "_view_count": null,
      "_view_module": "@jupyter-widgets/controls",
      "_view_module_version": "1.5.0",
      "_view_name": "HTMLView",
      "description": "",
      "description_tooltip": null,
      "layout": "IPY_MODEL_245413c6c0c44f559060f0b90e6e4af1",
      "placeholder": "​",
      "style": "IPY_MODEL_e46d57831614473184bc2332b4651277",
      "value": " 1000/? [00:00&lt;00:00, 19428.42it/s]"
     }
    },
    "c330cd05b0ec45b19377aae312043082": {
     "model_module": "@jupyter-widgets/controls",
     "model_module_version": "1.5.0",
     "model_name": "HTMLModel",
     "state": {
      "_dom_classes": [],
      "_model_module": "@jupyter-widgets/controls",
      "_model_module_version": "1.5.0",
      "_model_name": "HTMLModel",
      "_view_count": null,
      "_view_module": "@jupyter-widgets/controls",
      "_view_module_version": "1.5.0",
      "_view_name": "HTMLView",
      "description": "",
      "description_tooltip": null,
      "layout": "IPY_MODEL_640ba1b809804161a4a975c4935c974a",
      "placeholder": "​",
      "style": "IPY_MODEL_e80c2788dd724fa29af2ee53111f9d4e",
      "value": ""
     }
    },
    "c54b00ef292341e78dd9f1293a454d64": {
     "model_module": "@jupyter-widgets/controls",
     "model_module_version": "1.5.0",
     "model_name": "HTMLModel",
     "state": {
      "_dom_classes": [],
      "_model_module": "@jupyter-widgets/controls",
      "_model_module_version": "1.5.0",
      "_model_name": "HTMLModel",
      "_view_count": null,
      "_view_module": "@jupyter-widgets/controls",
      "_view_module_version": "1.5.0",
      "_view_name": "HTMLView",
      "description": "",
      "description_tooltip": null,
      "layout": "IPY_MODEL_779476c8857d48968a6cda8e9791f874",
      "placeholder": "​",
      "style": "IPY_MODEL_37dc4381fc354135b7bb2d5262a56fce",
      "value": ""
     }
    },
    "c637d4f31e334cc997b927ab86c416b0": {
     "model_module": "@jupyter-widgets/base",
     "model_module_version": "1.2.0",
     "model_name": "LayoutModel",
     "state": {
      "_model_module": "@jupyter-widgets/base",
      "_model_module_version": "1.2.0",
      "_model_name": "LayoutModel",
      "_view_count": null,
      "_view_module": "@jupyter-widgets/base",
      "_view_module_version": "1.2.0",
      "_view_name": "LayoutView",
      "align_content": null,
      "align_items": null,
      "align_self": null,
      "border": null,
      "bottom": null,
      "display": null,
      "flex": null,
      "flex_flow": null,
      "grid_area": null,
      "grid_auto_columns": null,
      "grid_auto_flow": null,
      "grid_auto_rows": null,
      "grid_column": null,
      "grid_gap": null,
      "grid_row": null,
      "grid_template_areas": null,
      "grid_template_columns": null,
      "grid_template_rows": null,
      "height": null,
      "justify_content": null,
      "justify_items": null,
      "left": null,
      "margin": null,
      "max_height": null,
      "max_width": null,
      "min_height": null,
      "min_width": null,
      "object_fit": null,
      "object_position": null,
      "order": null,
      "overflow": null,
      "overflow_x": null,
      "overflow_y": null,
      "padding": null,
      "right": null,
      "top": null,
      "visibility": null,
      "width": null
     }
    },
    "c8881b2414ff4138a7b933ae6a9eee94": {
     "model_module": "@jupyter-widgets/controls",
     "model_module_version": "1.5.0",
     "model_name": "HBoxModel",
     "state": {
      "_dom_classes": [],
      "_model_module": "@jupyter-widgets/controls",
      "_model_module_version": "1.5.0",
      "_model_name": "HBoxModel",
      "_view_count": null,
      "_view_module": "@jupyter-widgets/controls",
      "_view_module_version": "1.5.0",
      "_view_name": "HBoxView",
      "box_style": "",
      "children": [
       "IPY_MODEL_0099d88b8090414cb2e8ebbae3db2af5",
       "IPY_MODEL_d59b988ad9a74f76892a44d9e9421222",
       "IPY_MODEL_6433b0dbc64f41a090cdd3a9d16dfb3d"
      ],
      "layout": "IPY_MODEL_e2f5bff936584bb2a4be786c5a63764a"
     }
    },
    "c97b8d1523634882a68e06f190ab6482": {
     "model_module": "@jupyter-widgets/base",
     "model_module_version": "1.2.0",
     "model_name": "LayoutModel",
     "state": {
      "_model_module": "@jupyter-widgets/base",
      "_model_module_version": "1.2.0",
      "_model_name": "LayoutModel",
      "_view_count": null,
      "_view_module": "@jupyter-widgets/base",
      "_view_module_version": "1.2.0",
      "_view_name": "LayoutView",
      "align_content": null,
      "align_items": null,
      "align_self": null,
      "border": null,
      "bottom": null,
      "display": null,
      "flex": null,
      "flex_flow": null,
      "grid_area": null,
      "grid_auto_columns": null,
      "grid_auto_flow": null,
      "grid_auto_rows": null,
      "grid_column": null,
      "grid_gap": null,
      "grid_row": null,
      "grid_template_areas": null,
      "grid_template_columns": null,
      "grid_template_rows": null,
      "height": null,
      "justify_content": null,
      "justify_items": null,
      "left": null,
      "margin": null,
      "max_height": null,
      "max_width": null,
      "min_height": null,
      "min_width": null,
      "object_fit": null,
      "object_position": null,
      "order": null,
      "overflow": null,
      "overflow_x": null,
      "overflow_y": null,
      "padding": null,
      "right": null,
      "top": null,
      "visibility": null,
      "width": null
     }
    },
    "ceaa47726bd441f4acf3b0e048281259": {
     "model_module": "@jupyter-widgets/controls",
     "model_module_version": "1.5.0",
     "model_name": "ProgressStyleModel",
     "state": {
      "_model_module": "@jupyter-widgets/controls",
      "_model_module_version": "1.5.0",
      "_model_name": "ProgressStyleModel",
      "_view_count": null,
      "_view_module": "@jupyter-widgets/base",
      "_view_module_version": "1.2.0",
      "_view_name": "StyleView",
      "bar_color": null,
      "description_width": ""
     }
    },
    "d1923c26e6414c0bbd5ffe9b01f26863": {
     "model_module": "@jupyter-widgets/controls",
     "model_module_version": "1.5.0",
     "model_name": "HTMLModel",
     "state": {
      "_dom_classes": [],
      "_model_module": "@jupyter-widgets/controls",
      "_model_module_version": "1.5.0",
      "_model_name": "HTMLModel",
      "_view_count": null,
      "_view_module": "@jupyter-widgets/controls",
      "_view_module_version": "1.5.0",
      "_view_name": "HTMLView",
      "description": "",
      "description_tooltip": null,
      "layout": "IPY_MODEL_65aeee5a7ac0473d922c94cdd8d7481d",
      "placeholder": "​",
      "style": "IPY_MODEL_f539d9442caa46a393531b0f594487f0",
      "value": " 5/? [00:00&lt;00:00, 111.80it/s]"
     }
    },
    "d59b988ad9a74f76892a44d9e9421222": {
     "model_module": "@jupyter-widgets/controls",
     "model_module_version": "1.5.0",
     "model_name": "FloatProgressModel",
     "state": {
      "_dom_classes": [],
      "_model_module": "@jupyter-widgets/controls",
      "_model_module_version": "1.5.0",
      "_model_name": "FloatProgressModel",
      "_view_count": null,
      "_view_module": "@jupyter-widgets/controls",
      "_view_module_version": "1.5.0",
      "_view_name": "ProgressView",
      "bar_style": "success",
      "description": "",
      "description_tooltip": null,
      "layout": "IPY_MODEL_c637d4f31e334cc997b927ab86c416b0",
      "max": 5,
      "min": 0,
      "orientation": "horizontal",
      "style": "IPY_MODEL_738c5cc0f0c74f0eadebfb8fa2afa343",
      "value": 5
     }
    },
    "dc332980a84f479e8d31125162100fa2": {
     "model_module": "@jupyter-widgets/base",
     "model_module_version": "1.2.0",
     "model_name": "LayoutModel",
     "state": {
      "_model_module": "@jupyter-widgets/base",
      "_model_module_version": "1.2.0",
      "_model_name": "LayoutModel",
      "_view_count": null,
      "_view_module": "@jupyter-widgets/base",
      "_view_module_version": "1.2.0",
      "_view_name": "LayoutView",
      "align_content": null,
      "align_items": null,
      "align_self": null,
      "border": null,
      "bottom": null,
      "display": null,
      "flex": null,
      "flex_flow": null,
      "grid_area": null,
      "grid_auto_columns": null,
      "grid_auto_flow": null,
      "grid_auto_rows": null,
      "grid_column": null,
      "grid_gap": null,
      "grid_row": null,
      "grid_template_areas": null,
      "grid_template_columns": null,
      "grid_template_rows": null,
      "height": null,
      "justify_content": null,
      "justify_items": null,
      "left": null,
      "margin": null,
      "max_height": null,
      "max_width": null,
      "min_height": null,
      "min_width": null,
      "object_fit": null,
      "object_position": null,
      "order": null,
      "overflow": null,
      "overflow_x": null,
      "overflow_y": null,
      "padding": null,
      "right": null,
      "top": null,
      "visibility": null,
      "width": null
     }
    },
    "e2f5bff936584bb2a4be786c5a63764a": {
     "model_module": "@jupyter-widgets/base",
     "model_module_version": "1.2.0",
     "model_name": "LayoutModel",
     "state": {
      "_model_module": "@jupyter-widgets/base",
      "_model_module_version": "1.2.0",
      "_model_name": "LayoutModel",
      "_view_count": null,
      "_view_module": "@jupyter-widgets/base",
      "_view_module_version": "1.2.0",
      "_view_name": "LayoutView",
      "align_content": null,
      "align_items": null,
      "align_self": null,
      "border": null,
      "bottom": null,
      "display": null,
      "flex": null,
      "flex_flow": null,
      "grid_area": null,
      "grid_auto_columns": null,
      "grid_auto_flow": null,
      "grid_auto_rows": null,
      "grid_column": null,
      "grid_gap": null,
      "grid_row": null,
      "grid_template_areas": null,
      "grid_template_columns": null,
      "grid_template_rows": null,
      "height": null,
      "justify_content": null,
      "justify_items": null,
      "left": null,
      "margin": null,
      "max_height": null,
      "max_width": null,
      "min_height": null,
      "min_width": null,
      "object_fit": null,
      "object_position": null,
      "order": null,
      "overflow": null,
      "overflow_x": null,
      "overflow_y": null,
      "padding": null,
      "right": null,
      "top": null,
      "visibility": null,
      "width": null
     }
    },
    "e3b0a66734fd4cd0b48f46142e00cc14": {
     "model_module": "@jupyter-widgets/base",
     "model_module_version": "1.2.0",
     "model_name": "LayoutModel",
     "state": {
      "_model_module": "@jupyter-widgets/base",
      "_model_module_version": "1.2.0",
      "_model_name": "LayoutModel",
      "_view_count": null,
      "_view_module": "@jupyter-widgets/base",
      "_view_module_version": "1.2.0",
      "_view_name": "LayoutView",
      "align_content": null,
      "align_items": null,
      "align_self": null,
      "border": null,
      "bottom": null,
      "display": null,
      "flex": null,
      "flex_flow": null,
      "grid_area": null,
      "grid_auto_columns": null,
      "grid_auto_flow": null,
      "grid_auto_rows": null,
      "grid_column": null,
      "grid_gap": null,
      "grid_row": null,
      "grid_template_areas": null,
      "grid_template_columns": null,
      "grid_template_rows": null,
      "height": null,
      "justify_content": null,
      "justify_items": null,
      "left": null,
      "margin": null,
      "max_height": null,
      "max_width": null,
      "min_height": null,
      "min_width": null,
      "object_fit": null,
      "object_position": null,
      "order": null,
      "overflow": null,
      "overflow_x": null,
      "overflow_y": null,
      "padding": null,
      "right": null,
      "top": null,
      "visibility": null,
      "width": null
     }
    },
    "e46d57831614473184bc2332b4651277": {
     "model_module": "@jupyter-widgets/controls",
     "model_module_version": "1.5.0",
     "model_name": "DescriptionStyleModel",
     "state": {
      "_model_module": "@jupyter-widgets/controls",
      "_model_module_version": "1.5.0",
      "_model_name": "DescriptionStyleModel",
      "_view_count": null,
      "_view_module": "@jupyter-widgets/base",
      "_view_module_version": "1.2.0",
      "_view_name": "StyleView",
      "description_width": ""
     }
    },
    "e80c2788dd724fa29af2ee53111f9d4e": {
     "model_module": "@jupyter-widgets/controls",
     "model_module_version": "1.5.0",
     "model_name": "DescriptionStyleModel",
     "state": {
      "_model_module": "@jupyter-widgets/controls",
      "_model_module_version": "1.5.0",
      "_model_name": "DescriptionStyleModel",
      "_view_count": null,
      "_view_module": "@jupyter-widgets/base",
      "_view_module_version": "1.2.0",
      "_view_name": "StyleView",
      "description_width": ""
     }
    },
    "eedd2fbea8b842e7b90dc9cf87ef493c": {
     "model_module": "@jupyter-widgets/controls",
     "model_module_version": "1.5.0",
     "model_name": "ProgressStyleModel",
     "state": {
      "_model_module": "@jupyter-widgets/controls",
      "_model_module_version": "1.5.0",
      "_model_name": "ProgressStyleModel",
      "_view_count": null,
      "_view_module": "@jupyter-widgets/base",
      "_view_module_version": "1.2.0",
      "_view_name": "StyleView",
      "bar_color": null,
      "description_width": ""
     }
    },
    "f1d031e09e5f45e2bce02f52049c8bad": {
     "model_module": "@jupyter-widgets/controls",
     "model_module_version": "1.5.0",
     "model_name": "DescriptionStyleModel",
     "state": {
      "_model_module": "@jupyter-widgets/controls",
      "_model_module_version": "1.5.0",
      "_model_name": "DescriptionStyleModel",
      "_view_count": null,
      "_view_module": "@jupyter-widgets/base",
      "_view_module_version": "1.2.0",
      "_view_name": "StyleView",
      "description_width": ""
     }
    },
    "f539d9442caa46a393531b0f594487f0": {
     "model_module": "@jupyter-widgets/controls",
     "model_module_version": "1.5.0",
     "model_name": "DescriptionStyleModel",
     "state": {
      "_model_module": "@jupyter-widgets/controls",
      "_model_module_version": "1.5.0",
      "_model_name": "DescriptionStyleModel",
      "_view_count": null,
      "_view_module": "@jupyter-widgets/base",
      "_view_module_version": "1.2.0",
      "_view_name": "StyleView",
      "description_width": ""
     }
    },
    "f6fbd6e2b0494799877a68c24a127d06": {
     "model_module": "@jupyter-widgets/controls",
     "model_module_version": "1.5.0",
     "model_name": "HBoxModel",
     "state": {
      "_dom_classes": [],
      "_model_module": "@jupyter-widgets/controls",
      "_model_module_version": "1.5.0",
      "_model_name": "HBoxModel",
      "_view_count": null,
      "_view_module": "@jupyter-widgets/controls",
      "_view_module_version": "1.5.0",
      "_view_name": "HBoxView",
      "box_style": "",
      "children": [
       "IPY_MODEL_63b129b719b74bfda05ba5d245885f71",
       "IPY_MODEL_27872cf08eb04d5f9172524792a9e3f4",
       "IPY_MODEL_8f5ed16aabeb4f188baadc89560e17a1"
      ],
      "layout": "IPY_MODEL_6dff4fc4b4dc44a68d2ad3578e867132"
     }
    }
   }
  }
 },
 "nbformat": 4,
 "nbformat_minor": 0
}
