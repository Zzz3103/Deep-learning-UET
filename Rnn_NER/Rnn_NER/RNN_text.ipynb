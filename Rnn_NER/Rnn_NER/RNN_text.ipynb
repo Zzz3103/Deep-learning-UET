{
  "nbformat": 4,
  "nbformat_minor": 0,
  "metadata": {
    "colab": {
      "provenance": []
    },
    "kernelspec": {
      "name": "python3",
      "display_name": "Python 3"
    },
    "language_info": {
      "name": "python"
    },
    "widgets": {
      "application/vnd.jupyter.widget-state+json": {
        "302a319b64cb4fe9b8f922077f0ae4e1": {
          "model_module": "@jupyter-widgets/controls",
          "model_name": "HBoxModel",
          "model_module_version": "1.5.0",
          "state": {
            "_dom_classes": [],
            "_model_module": "@jupyter-widgets/controls",
            "_model_module_version": "1.5.0",
            "_model_name": "HBoxModel",
            "_view_count": null,
            "_view_module": "@jupyter-widgets/controls",
            "_view_module_version": "1.5.0",
            "_view_name": "HBoxView",
            "box_style": "",
            "children": [
              "IPY_MODEL_dc761703b7554f1bbbc71412399c0436",
              "IPY_MODEL_db691eb5ad4e4ee48248b5a7ed31c99d",
              "IPY_MODEL_ba418ecdf1e94aeea5c3b381197f8b00"
            ],
            "layout": "IPY_MODEL_29efe0c4a3094dae99a90bffbea9cda7"
          }
        },
        "dc761703b7554f1bbbc71412399c0436": {
          "model_module": "@jupyter-widgets/controls",
          "model_name": "HTMLModel",
          "model_module_version": "1.5.0",
          "state": {
            "_dom_classes": [],
            "_model_module": "@jupyter-widgets/controls",
            "_model_module_version": "1.5.0",
            "_model_name": "HTMLModel",
            "_view_count": null,
            "_view_module": "@jupyter-widgets/controls",
            "_view_module_version": "1.5.0",
            "_view_name": "HTMLView",
            "description": "",
            "description_tooltip": null,
            "layout": "IPY_MODEL_ba740abb248a4075b3918ea5e879a431",
            "placeholder": "​",
            "style": "IPY_MODEL_031cdb752dff48f69b07c169d612084c",
            "value": "100%"
          }
        },
        "db691eb5ad4e4ee48248b5a7ed31c99d": {
          "model_module": "@jupyter-widgets/controls",
          "model_name": "FloatProgressModel",
          "model_module_version": "1.5.0",
          "state": {
            "_dom_classes": [],
            "_model_module": "@jupyter-widgets/controls",
            "_model_module_version": "1.5.0",
            "_model_name": "FloatProgressModel",
            "_view_count": null,
            "_view_module": "@jupyter-widgets/controls",
            "_view_module_version": "1.5.0",
            "_view_name": "ProgressView",
            "bar_style": "success",
            "description": "",
            "description_tooltip": null,
            "layout": "IPY_MODEL_14ef6528aa604d95bd1221d92a27c4b3",
            "max": 3,
            "min": 0,
            "orientation": "horizontal",
            "style": "IPY_MODEL_bf9c6523cfef49c28417b2ef9c461ec6",
            "value": 3
          }
        },
        "ba418ecdf1e94aeea5c3b381197f8b00": {
          "model_module": "@jupyter-widgets/controls",
          "model_name": "HTMLModel",
          "model_module_version": "1.5.0",
          "state": {
            "_dom_classes": [],
            "_model_module": "@jupyter-widgets/controls",
            "_model_module_version": "1.5.0",
            "_model_name": "HTMLModel",
            "_view_count": null,
            "_view_module": "@jupyter-widgets/controls",
            "_view_module_version": "1.5.0",
            "_view_name": "HTMLView",
            "description": "",
            "description_tooltip": null,
            "layout": "IPY_MODEL_5100e273dd4e44d0a9f8c9761e923f64",
            "placeholder": "​",
            "style": "IPY_MODEL_8b72b8a49f4a4f4f86fe85ecb680f8eb",
            "value": " 3/3 [24:41&lt;00:00, 491.07s/it]"
          }
        },
        "29efe0c4a3094dae99a90bffbea9cda7": {
          "model_module": "@jupyter-widgets/base",
          "model_name": "LayoutModel",
          "model_module_version": "1.2.0",
          "state": {
            "_model_module": "@jupyter-widgets/base",
            "_model_module_version": "1.2.0",
            "_model_name": "LayoutModel",
            "_view_count": null,
            "_view_module": "@jupyter-widgets/base",
            "_view_module_version": "1.2.0",
            "_view_name": "LayoutView",
            "align_content": null,
            "align_items": null,
            "align_self": null,
            "border": null,
            "bottom": null,
            "display": null,
            "flex": null,
            "flex_flow": null,
            "grid_area": null,
            "grid_auto_columns": null,
            "grid_auto_flow": null,
            "grid_auto_rows": null,
            "grid_column": null,
            "grid_gap": null,
            "grid_row": null,
            "grid_template_areas": null,
            "grid_template_columns": null,
            "grid_template_rows": null,
            "height": null,
            "justify_content": null,
            "justify_items": null,
            "left": null,
            "margin": null,
            "max_height": null,
            "max_width": null,
            "min_height": null,
            "min_width": null,
            "object_fit": null,
            "object_position": null,
            "order": null,
            "overflow": null,
            "overflow_x": null,
            "overflow_y": null,
            "padding": null,
            "right": null,
            "top": null,
            "visibility": null,
            "width": null
          }
        },
        "ba740abb248a4075b3918ea5e879a431": {
          "model_module": "@jupyter-widgets/base",
          "model_name": "LayoutModel",
          "model_module_version": "1.2.0",
          "state": {
            "_model_module": "@jupyter-widgets/base",
            "_model_module_version": "1.2.0",
            "_model_name": "LayoutModel",
            "_view_count": null,
            "_view_module": "@jupyter-widgets/base",
            "_view_module_version": "1.2.0",
            "_view_name": "LayoutView",
            "align_content": null,
            "align_items": null,
            "align_self": null,
            "border": null,
            "bottom": null,
            "display": null,
            "flex": null,
            "flex_flow": null,
            "grid_area": null,
            "grid_auto_columns": null,
            "grid_auto_flow": null,
            "grid_auto_rows": null,
            "grid_column": null,
            "grid_gap": null,
            "grid_row": null,
            "grid_template_areas": null,
            "grid_template_columns": null,
            "grid_template_rows": null,
            "height": null,
            "justify_content": null,
            "justify_items": null,
            "left": null,
            "margin": null,
            "max_height": null,
            "max_width": null,
            "min_height": null,
            "min_width": null,
            "object_fit": null,
            "object_position": null,
            "order": null,
            "overflow": null,
            "overflow_x": null,
            "overflow_y": null,
            "padding": null,
            "right": null,
            "top": null,
            "visibility": null,
            "width": null
          }
        },
        "031cdb752dff48f69b07c169d612084c": {
          "model_module": "@jupyter-widgets/controls",
          "model_name": "DescriptionStyleModel",
          "model_module_version": "1.5.0",
          "state": {
            "_model_module": "@jupyter-widgets/controls",
            "_model_module_version": "1.5.0",
            "_model_name": "DescriptionStyleModel",
            "_view_count": null,
            "_view_module": "@jupyter-widgets/base",
            "_view_module_version": "1.2.0",
            "_view_name": "StyleView",
            "description_width": ""
          }
        },
        "14ef6528aa604d95bd1221d92a27c4b3": {
          "model_module": "@jupyter-widgets/base",
          "model_name": "LayoutModel",
          "model_module_version": "1.2.0",
          "state": {
            "_model_module": "@jupyter-widgets/base",
            "_model_module_version": "1.2.0",
            "_model_name": "LayoutModel",
            "_view_count": null,
            "_view_module": "@jupyter-widgets/base",
            "_view_module_version": "1.2.0",
            "_view_name": "LayoutView",
            "align_content": null,
            "align_items": null,
            "align_self": null,
            "border": null,
            "bottom": null,
            "display": null,
            "flex": null,
            "flex_flow": null,
            "grid_area": null,
            "grid_auto_columns": null,
            "grid_auto_flow": null,
            "grid_auto_rows": null,
            "grid_column": null,
            "grid_gap": null,
            "grid_row": null,
            "grid_template_areas": null,
            "grid_template_columns": null,
            "grid_template_rows": null,
            "height": null,
            "justify_content": null,
            "justify_items": null,
            "left": null,
            "margin": null,
            "max_height": null,
            "max_width": null,
            "min_height": null,
            "min_width": null,
            "object_fit": null,
            "object_position": null,
            "order": null,
            "overflow": null,
            "overflow_x": null,
            "overflow_y": null,
            "padding": null,
            "right": null,
            "top": null,
            "visibility": null,
            "width": null
          }
        },
        "bf9c6523cfef49c28417b2ef9c461ec6": {
          "model_module": "@jupyter-widgets/controls",
          "model_name": "ProgressStyleModel",
          "model_module_version": "1.5.0",
          "state": {
            "_model_module": "@jupyter-widgets/controls",
            "_model_module_version": "1.5.0",
            "_model_name": "ProgressStyleModel",
            "_view_count": null,
            "_view_module": "@jupyter-widgets/base",
            "_view_module_version": "1.2.0",
            "_view_name": "StyleView",
            "bar_color": null,
            "description_width": ""
          }
        },
        "5100e273dd4e44d0a9f8c9761e923f64": {
          "model_module": "@jupyter-widgets/base",
          "model_name": "LayoutModel",
          "model_module_version": "1.2.0",
          "state": {
            "_model_module": "@jupyter-widgets/base",
            "_model_module_version": "1.2.0",
            "_model_name": "LayoutModel",
            "_view_count": null,
            "_view_module": "@jupyter-widgets/base",
            "_view_module_version": "1.2.0",
            "_view_name": "LayoutView",
            "align_content": null,
            "align_items": null,
            "align_self": null,
            "border": null,
            "bottom": null,
            "display": null,
            "flex": null,
            "flex_flow": null,
            "grid_area": null,
            "grid_auto_columns": null,
            "grid_auto_flow": null,
            "grid_auto_rows": null,
            "grid_column": null,
            "grid_gap": null,
            "grid_row": null,
            "grid_template_areas": null,
            "grid_template_columns": null,
            "grid_template_rows": null,
            "height": null,
            "justify_content": null,
            "justify_items": null,
            "left": null,
            "margin": null,
            "max_height": null,
            "max_width": null,
            "min_height": null,
            "min_width": null,
            "object_fit": null,
            "object_position": null,
            "order": null,
            "overflow": null,
            "overflow_x": null,
            "overflow_y": null,
            "padding": null,
            "right": null,
            "top": null,
            "visibility": null,
            "width": null
          }
        },
        "8b72b8a49f4a4f4f86fe85ecb680f8eb": {
          "model_module": "@jupyter-widgets/controls",
          "model_name": "DescriptionStyleModel",
          "model_module_version": "1.5.0",
          "state": {
            "_model_module": "@jupyter-widgets/controls",
            "_model_module_version": "1.5.0",
            "_model_name": "DescriptionStyleModel",
            "_view_count": null,
            "_view_module": "@jupyter-widgets/base",
            "_view_module_version": "1.2.0",
            "_view_name": "StyleView",
            "description_width": ""
          }
        },
        "a113e9b2ceef417b98b90449aca13550": {
          "model_module": "@jupyter-widgets/controls",
          "model_name": "HBoxModel",
          "model_module_version": "1.5.0",
          "state": {
            "_dom_classes": [],
            "_model_module": "@jupyter-widgets/controls",
            "_model_module_version": "1.5.0",
            "_model_name": "HBoxModel",
            "_view_count": null,
            "_view_module": "@jupyter-widgets/controls",
            "_view_module_version": "1.5.0",
            "_view_name": "HBoxView",
            "box_style": "",
            "children": [
              "IPY_MODEL_7bc0f80244d94b2ba74191e5ad658767",
              "IPY_MODEL_294b402de9454483993cc1baab6fd7f6",
              "IPY_MODEL_a01aef1733f246bba74249d383080b57"
            ],
            "layout": "IPY_MODEL_10d7e00312d3453b83f24d690da51ca8"
          }
        },
        "7bc0f80244d94b2ba74191e5ad658767": {
          "model_module": "@jupyter-widgets/controls",
          "model_name": "HTMLModel",
          "model_module_version": "1.5.0",
          "state": {
            "_dom_classes": [],
            "_model_module": "@jupyter-widgets/controls",
            "_model_module_version": "1.5.0",
            "_model_name": "HTMLModel",
            "_view_count": null,
            "_view_module": "@jupyter-widgets/controls",
            "_view_module_version": "1.5.0",
            "_view_name": "HTMLView",
            "description": "",
            "description_tooltip": null,
            "layout": "IPY_MODEL_cbeeb0b087764f0dbc870afa0ab24863",
            "placeholder": "​",
            "style": "IPY_MODEL_2d365c6b2b054c668dd0bb2b0ea9c66f",
            "value": ""
          }
        },
        "294b402de9454483993cc1baab6fd7f6": {
          "model_module": "@jupyter-widgets/controls",
          "model_name": "FloatProgressModel",
          "model_module_version": "1.5.0",
          "state": {
            "_dom_classes": [],
            "_model_module": "@jupyter-widgets/controls",
            "_model_module_version": "1.5.0",
            "_model_name": "FloatProgressModel",
            "_view_count": null,
            "_view_module": "@jupyter-widgets/controls",
            "_view_module_version": "1.5.0",
            "_view_name": "ProgressView",
            "bar_style": "success",
            "description": "",
            "description_tooltip": null,
            "layout": "IPY_MODEL_abbd3f00755b428fa55c5093c3c887e1",
            "max": 1,
            "min": 0,
            "orientation": "horizontal",
            "style": "IPY_MODEL_e82efccd7f424771b9d867343f683afb",
            "value": 1
          }
        },
        "a01aef1733f246bba74249d383080b57": {
          "model_module": "@jupyter-widgets/controls",
          "model_name": "HTMLModel",
          "model_module_version": "1.5.0",
          "state": {
            "_dom_classes": [],
            "_model_module": "@jupyter-widgets/controls",
            "_model_module_version": "1.5.0",
            "_model_name": "HTMLModel",
            "_view_count": null,
            "_view_module": "@jupyter-widgets/controls",
            "_view_module_version": "1.5.0",
            "_view_name": "HTMLView",
            "description": "",
            "description_tooltip": null,
            "layout": "IPY_MODEL_735d8fa691ce4e5dad9b9501cbd3044b",
            "placeholder": "​",
            "style": "IPY_MODEL_b0a4eb723e70405e831f543f0c27ba2c",
            "value": " 375/? [07:59&lt;00:00,  1.02s/it]"
          }
        },
        "10d7e00312d3453b83f24d690da51ca8": {
          "model_module": "@jupyter-widgets/base",
          "model_name": "LayoutModel",
          "model_module_version": "1.2.0",
          "state": {
            "_model_module": "@jupyter-widgets/base",
            "_model_module_version": "1.2.0",
            "_model_name": "LayoutModel",
            "_view_count": null,
            "_view_module": "@jupyter-widgets/base",
            "_view_module_version": "1.2.0",
            "_view_name": "LayoutView",
            "align_content": null,
            "align_items": null,
            "align_self": null,
            "border": null,
            "bottom": null,
            "display": null,
            "flex": null,
            "flex_flow": null,
            "grid_area": null,
            "grid_auto_columns": null,
            "grid_auto_flow": null,
            "grid_auto_rows": null,
            "grid_column": null,
            "grid_gap": null,
            "grid_row": null,
            "grid_template_areas": null,
            "grid_template_columns": null,
            "grid_template_rows": null,
            "height": null,
            "justify_content": null,
            "justify_items": null,
            "left": null,
            "margin": null,
            "max_height": null,
            "max_width": null,
            "min_height": null,
            "min_width": null,
            "object_fit": null,
            "object_position": null,
            "order": null,
            "overflow": null,
            "overflow_x": null,
            "overflow_y": null,
            "padding": null,
            "right": null,
            "top": null,
            "visibility": null,
            "width": null
          }
        },
        "cbeeb0b087764f0dbc870afa0ab24863": {
          "model_module": "@jupyter-widgets/base",
          "model_name": "LayoutModel",
          "model_module_version": "1.2.0",
          "state": {
            "_model_module": "@jupyter-widgets/base",
            "_model_module_version": "1.2.0",
            "_model_name": "LayoutModel",
            "_view_count": null,
            "_view_module": "@jupyter-widgets/base",
            "_view_module_version": "1.2.0",
            "_view_name": "LayoutView",
            "align_content": null,
            "align_items": null,
            "align_self": null,
            "border": null,
            "bottom": null,
            "display": null,
            "flex": null,
            "flex_flow": null,
            "grid_area": null,
            "grid_auto_columns": null,
            "grid_auto_flow": null,
            "grid_auto_rows": null,
            "grid_column": null,
            "grid_gap": null,
            "grid_row": null,
            "grid_template_areas": null,
            "grid_template_columns": null,
            "grid_template_rows": null,
            "height": null,
            "justify_content": null,
            "justify_items": null,
            "left": null,
            "margin": null,
            "max_height": null,
            "max_width": null,
            "min_height": null,
            "min_width": null,
            "object_fit": null,
            "object_position": null,
            "order": null,
            "overflow": null,
            "overflow_x": null,
            "overflow_y": null,
            "padding": null,
            "right": null,
            "top": null,
            "visibility": null,
            "width": null
          }
        },
        "2d365c6b2b054c668dd0bb2b0ea9c66f": {
          "model_module": "@jupyter-widgets/controls",
          "model_name": "DescriptionStyleModel",
          "model_module_version": "1.5.0",
          "state": {
            "_model_module": "@jupyter-widgets/controls",
            "_model_module_version": "1.5.0",
            "_model_name": "DescriptionStyleModel",
            "_view_count": null,
            "_view_module": "@jupyter-widgets/base",
            "_view_module_version": "1.2.0",
            "_view_name": "StyleView",
            "description_width": ""
          }
        },
        "abbd3f00755b428fa55c5093c3c887e1": {
          "model_module": "@jupyter-widgets/base",
          "model_name": "LayoutModel",
          "model_module_version": "1.2.0",
          "state": {
            "_model_module": "@jupyter-widgets/base",
            "_model_module_version": "1.2.0",
            "_model_name": "LayoutModel",
            "_view_count": null,
            "_view_module": "@jupyter-widgets/base",
            "_view_module_version": "1.2.0",
            "_view_name": "LayoutView",
            "align_content": null,
            "align_items": null,
            "align_self": null,
            "border": null,
            "bottom": null,
            "display": null,
            "flex": null,
            "flex_flow": null,
            "grid_area": null,
            "grid_auto_columns": null,
            "grid_auto_flow": null,
            "grid_auto_rows": null,
            "grid_column": null,
            "grid_gap": null,
            "grid_row": null,
            "grid_template_areas": null,
            "grid_template_columns": null,
            "grid_template_rows": null,
            "height": null,
            "justify_content": null,
            "justify_items": null,
            "left": null,
            "margin": null,
            "max_height": null,
            "max_width": null,
            "min_height": null,
            "min_width": null,
            "object_fit": null,
            "object_position": null,
            "order": null,
            "overflow": null,
            "overflow_x": null,
            "overflow_y": null,
            "padding": null,
            "right": null,
            "top": null,
            "visibility": null,
            "width": "20px"
          }
        },
        "e82efccd7f424771b9d867343f683afb": {
          "model_module": "@jupyter-widgets/controls",
          "model_name": "ProgressStyleModel",
          "model_module_version": "1.5.0",
          "state": {
            "_model_module": "@jupyter-widgets/controls",
            "_model_module_version": "1.5.0",
            "_model_name": "ProgressStyleModel",
            "_view_count": null,
            "_view_module": "@jupyter-widgets/base",
            "_view_module_version": "1.2.0",
            "_view_name": "StyleView",
            "bar_color": null,
            "description_width": ""
          }
        },
        "735d8fa691ce4e5dad9b9501cbd3044b": {
          "model_module": "@jupyter-widgets/base",
          "model_name": "LayoutModel",
          "model_module_version": "1.2.0",
          "state": {
            "_model_module": "@jupyter-widgets/base",
            "_model_module_version": "1.2.0",
            "_model_name": "LayoutModel",
            "_view_count": null,
            "_view_module": "@jupyter-widgets/base",
            "_view_module_version": "1.2.0",
            "_view_name": "LayoutView",
            "align_content": null,
            "align_items": null,
            "align_self": null,
            "border": null,
            "bottom": null,
            "display": null,
            "flex": null,
            "flex_flow": null,
            "grid_area": null,
            "grid_auto_columns": null,
            "grid_auto_flow": null,
            "grid_auto_rows": null,
            "grid_column": null,
            "grid_gap": null,
            "grid_row": null,
            "grid_template_areas": null,
            "grid_template_columns": null,
            "grid_template_rows": null,
            "height": null,
            "justify_content": null,
            "justify_items": null,
            "left": null,
            "margin": null,
            "max_height": null,
            "max_width": null,
            "min_height": null,
            "min_width": null,
            "object_fit": null,
            "object_position": null,
            "order": null,
            "overflow": null,
            "overflow_x": null,
            "overflow_y": null,
            "padding": null,
            "right": null,
            "top": null,
            "visibility": null,
            "width": null
          }
        },
        "b0a4eb723e70405e831f543f0c27ba2c": {
          "model_module": "@jupyter-widgets/controls",
          "model_name": "DescriptionStyleModel",
          "model_module_version": "1.5.0",
          "state": {
            "_model_module": "@jupyter-widgets/controls",
            "_model_module_version": "1.5.0",
            "_model_name": "DescriptionStyleModel",
            "_view_count": null,
            "_view_module": "@jupyter-widgets/base",
            "_view_module_version": "1.2.0",
            "_view_name": "StyleView",
            "description_width": ""
          }
        },
        "61c6152461d647a28ad0bb86c3778de8": {
          "model_module": "@jupyter-widgets/controls",
          "model_name": "HBoxModel",
          "model_module_version": "1.5.0",
          "state": {
            "_dom_classes": [],
            "_model_module": "@jupyter-widgets/controls",
            "_model_module_version": "1.5.0",
            "_model_name": "HBoxModel",
            "_view_count": null,
            "_view_module": "@jupyter-widgets/controls",
            "_view_module_version": "1.5.0",
            "_view_name": "HBoxView",
            "box_style": "",
            "children": [
              "IPY_MODEL_626982a499bd441db8fd2fac28bb0a38",
              "IPY_MODEL_cf14056e1a8b4f709fad88bab36a47eb",
              "IPY_MODEL_66544c827ac246d080b1548784cc8e08"
            ],
            "layout": "IPY_MODEL_00b40a397dbd45869f11589850fee299"
          }
        },
        "626982a499bd441db8fd2fac28bb0a38": {
          "model_module": "@jupyter-widgets/controls",
          "model_name": "HTMLModel",
          "model_module_version": "1.5.0",
          "state": {
            "_dom_classes": [],
            "_model_module": "@jupyter-widgets/controls",
            "_model_module_version": "1.5.0",
            "_model_name": "HTMLModel",
            "_view_count": null,
            "_view_module": "@jupyter-widgets/controls",
            "_view_module_version": "1.5.0",
            "_view_name": "HTMLView",
            "description": "",
            "description_tooltip": null,
            "layout": "IPY_MODEL_3115de4451d04c0992e8374b400d76d9",
            "placeholder": "​",
            "style": "IPY_MODEL_5992c6905ba34fcd818f488f81c830c6",
            "value": ""
          }
        },
        "cf14056e1a8b4f709fad88bab36a47eb": {
          "model_module": "@jupyter-widgets/controls",
          "model_name": "FloatProgressModel",
          "model_module_version": "1.5.0",
          "state": {
            "_dom_classes": [],
            "_model_module": "@jupyter-widgets/controls",
            "_model_module_version": "1.5.0",
            "_model_name": "FloatProgressModel",
            "_view_count": null,
            "_view_module": "@jupyter-widgets/controls",
            "_view_module_version": "1.5.0",
            "_view_name": "ProgressView",
            "bar_style": "success",
            "description": "",
            "description_tooltip": null,
            "layout": "IPY_MODEL_f3598d5a1329467096b3788e781c8a3c",
            "max": 1,
            "min": 0,
            "orientation": "horizontal",
            "style": "IPY_MODEL_d8dd0cd01e5e4182b9be21abad45cbdf",
            "value": 1
          }
        },
        "66544c827ac246d080b1548784cc8e08": {
          "model_module": "@jupyter-widgets/controls",
          "model_name": "HTMLModel",
          "model_module_version": "1.5.0",
          "state": {
            "_dom_classes": [],
            "_model_module": "@jupyter-widgets/controls",
            "_model_module_version": "1.5.0",
            "_model_name": "HTMLModel",
            "_view_count": null,
            "_view_module": "@jupyter-widgets/controls",
            "_view_module_version": "1.5.0",
            "_view_name": "HTMLView",
            "description": "",
            "description_tooltip": null,
            "layout": "IPY_MODEL_721d066b0f6b4f1aa5d34a23d5a835ac",
            "placeholder": "​",
            "style": "IPY_MODEL_972c5d2d8218499c86204bd9443e53ab",
            "value": " 375/? [07:34&lt;00:00,  1.07s/it]"
          }
        },
        "00b40a397dbd45869f11589850fee299": {
          "model_module": "@jupyter-widgets/base",
          "model_name": "LayoutModel",
          "model_module_version": "1.2.0",
          "state": {
            "_model_module": "@jupyter-widgets/base",
            "_model_module_version": "1.2.0",
            "_model_name": "LayoutModel",
            "_view_count": null,
            "_view_module": "@jupyter-widgets/base",
            "_view_module_version": "1.2.0",
            "_view_name": "LayoutView",
            "align_content": null,
            "align_items": null,
            "align_self": null,
            "border": null,
            "bottom": null,
            "display": null,
            "flex": null,
            "flex_flow": null,
            "grid_area": null,
            "grid_auto_columns": null,
            "grid_auto_flow": null,
            "grid_auto_rows": null,
            "grid_column": null,
            "grid_gap": null,
            "grid_row": null,
            "grid_template_areas": null,
            "grid_template_columns": null,
            "grid_template_rows": null,
            "height": null,
            "justify_content": null,
            "justify_items": null,
            "left": null,
            "margin": null,
            "max_height": null,
            "max_width": null,
            "min_height": null,
            "min_width": null,
            "object_fit": null,
            "object_position": null,
            "order": null,
            "overflow": null,
            "overflow_x": null,
            "overflow_y": null,
            "padding": null,
            "right": null,
            "top": null,
            "visibility": null,
            "width": null
          }
        },
        "3115de4451d04c0992e8374b400d76d9": {
          "model_module": "@jupyter-widgets/base",
          "model_name": "LayoutModel",
          "model_module_version": "1.2.0",
          "state": {
            "_model_module": "@jupyter-widgets/base",
            "_model_module_version": "1.2.0",
            "_model_name": "LayoutModel",
            "_view_count": null,
            "_view_module": "@jupyter-widgets/base",
            "_view_module_version": "1.2.0",
            "_view_name": "LayoutView",
            "align_content": null,
            "align_items": null,
            "align_self": null,
            "border": null,
            "bottom": null,
            "display": null,
            "flex": null,
            "flex_flow": null,
            "grid_area": null,
            "grid_auto_columns": null,
            "grid_auto_flow": null,
            "grid_auto_rows": null,
            "grid_column": null,
            "grid_gap": null,
            "grid_row": null,
            "grid_template_areas": null,
            "grid_template_columns": null,
            "grid_template_rows": null,
            "height": null,
            "justify_content": null,
            "justify_items": null,
            "left": null,
            "margin": null,
            "max_height": null,
            "max_width": null,
            "min_height": null,
            "min_width": null,
            "object_fit": null,
            "object_position": null,
            "order": null,
            "overflow": null,
            "overflow_x": null,
            "overflow_y": null,
            "padding": null,
            "right": null,
            "top": null,
            "visibility": null,
            "width": null
          }
        },
        "5992c6905ba34fcd818f488f81c830c6": {
          "model_module": "@jupyter-widgets/controls",
          "model_name": "DescriptionStyleModel",
          "model_module_version": "1.5.0",
          "state": {
            "_model_module": "@jupyter-widgets/controls",
            "_model_module_version": "1.5.0",
            "_model_name": "DescriptionStyleModel",
            "_view_count": null,
            "_view_module": "@jupyter-widgets/base",
            "_view_module_version": "1.2.0",
            "_view_name": "StyleView",
            "description_width": ""
          }
        },
        "f3598d5a1329467096b3788e781c8a3c": {
          "model_module": "@jupyter-widgets/base",
          "model_name": "LayoutModel",
          "model_module_version": "1.2.0",
          "state": {
            "_model_module": "@jupyter-widgets/base",
            "_model_module_version": "1.2.0",
            "_model_name": "LayoutModel",
            "_view_count": null,
            "_view_module": "@jupyter-widgets/base",
            "_view_module_version": "1.2.0",
            "_view_name": "LayoutView",
            "align_content": null,
            "align_items": null,
            "align_self": null,
            "border": null,
            "bottom": null,
            "display": null,
            "flex": null,
            "flex_flow": null,
            "grid_area": null,
            "grid_auto_columns": null,
            "grid_auto_flow": null,
            "grid_auto_rows": null,
            "grid_column": null,
            "grid_gap": null,
            "grid_row": null,
            "grid_template_areas": null,
            "grid_template_columns": null,
            "grid_template_rows": null,
            "height": null,
            "justify_content": null,
            "justify_items": null,
            "left": null,
            "margin": null,
            "max_height": null,
            "max_width": null,
            "min_height": null,
            "min_width": null,
            "object_fit": null,
            "object_position": null,
            "order": null,
            "overflow": null,
            "overflow_x": null,
            "overflow_y": null,
            "padding": null,
            "right": null,
            "top": null,
            "visibility": null,
            "width": "20px"
          }
        },
        "d8dd0cd01e5e4182b9be21abad45cbdf": {
          "model_module": "@jupyter-widgets/controls",
          "model_name": "ProgressStyleModel",
          "model_module_version": "1.5.0",
          "state": {
            "_model_module": "@jupyter-widgets/controls",
            "_model_module_version": "1.5.0",
            "_model_name": "ProgressStyleModel",
            "_view_count": null,
            "_view_module": "@jupyter-widgets/base",
            "_view_module_version": "1.2.0",
            "_view_name": "StyleView",
            "bar_color": null,
            "description_width": ""
          }
        },
        "721d066b0f6b4f1aa5d34a23d5a835ac": {
          "model_module": "@jupyter-widgets/base",
          "model_name": "LayoutModel",
          "model_module_version": "1.2.0",
          "state": {
            "_model_module": "@jupyter-widgets/base",
            "_model_module_version": "1.2.0",
            "_model_name": "LayoutModel",
            "_view_count": null,
            "_view_module": "@jupyter-widgets/base",
            "_view_module_version": "1.2.0",
            "_view_name": "LayoutView",
            "align_content": null,
            "align_items": null,
            "align_self": null,
            "border": null,
            "bottom": null,
            "display": null,
            "flex": null,
            "flex_flow": null,
            "grid_area": null,
            "grid_auto_columns": null,
            "grid_auto_flow": null,
            "grid_auto_rows": null,
            "grid_column": null,
            "grid_gap": null,
            "grid_row": null,
            "grid_template_areas": null,
            "grid_template_columns": null,
            "grid_template_rows": null,
            "height": null,
            "justify_content": null,
            "justify_items": null,
            "left": null,
            "margin": null,
            "max_height": null,
            "max_width": null,
            "min_height": null,
            "min_width": null,
            "object_fit": null,
            "object_position": null,
            "order": null,
            "overflow": null,
            "overflow_x": null,
            "overflow_y": null,
            "padding": null,
            "right": null,
            "top": null,
            "visibility": null,
            "width": null
          }
        },
        "972c5d2d8218499c86204bd9443e53ab": {
          "model_module": "@jupyter-widgets/controls",
          "model_name": "DescriptionStyleModel",
          "model_module_version": "1.5.0",
          "state": {
            "_model_module": "@jupyter-widgets/controls",
            "_model_module_version": "1.5.0",
            "_model_name": "DescriptionStyleModel",
            "_view_count": null,
            "_view_module": "@jupyter-widgets/base",
            "_view_module_version": "1.2.0",
            "_view_name": "StyleView",
            "description_width": ""
          }
        },
        "edd714885c484f6ab9c096e2e78b341b": {
          "model_module": "@jupyter-widgets/controls",
          "model_name": "HBoxModel",
          "model_module_version": "1.5.0",
          "state": {
            "_dom_classes": [],
            "_model_module": "@jupyter-widgets/controls",
            "_model_module_version": "1.5.0",
            "_model_name": "HBoxModel",
            "_view_count": null,
            "_view_module": "@jupyter-widgets/controls",
            "_view_module_version": "1.5.0",
            "_view_name": "HBoxView",
            "box_style": "",
            "children": [
              "IPY_MODEL_ed953f5547504b8fb21c0fc951acf411",
              "IPY_MODEL_ebb6f2fe79c648868d858aed5ff22375",
              "IPY_MODEL_245b31ab65f849d298fd6e3a48a46f1e"
            ],
            "layout": "IPY_MODEL_e336ae2a15c84bf8ac9c39b164c3b19a"
          }
        },
        "ed953f5547504b8fb21c0fc951acf411": {
          "model_module": "@jupyter-widgets/controls",
          "model_name": "HTMLModel",
          "model_module_version": "1.5.0",
          "state": {
            "_dom_classes": [],
            "_model_module": "@jupyter-widgets/controls",
            "_model_module_version": "1.5.0",
            "_model_name": "HTMLModel",
            "_view_count": null,
            "_view_module": "@jupyter-widgets/controls",
            "_view_module_version": "1.5.0",
            "_view_name": "HTMLView",
            "description": "",
            "description_tooltip": null,
            "layout": "IPY_MODEL_a3dc24e331064d30a1b34b6d21b67224",
            "placeholder": "​",
            "style": "IPY_MODEL_7fb2159784ae4aa8886a070cc54df9a6",
            "value": ""
          }
        },
        "ebb6f2fe79c648868d858aed5ff22375": {
          "model_module": "@jupyter-widgets/controls",
          "model_name": "FloatProgressModel",
          "model_module_version": "1.5.0",
          "state": {
            "_dom_classes": [],
            "_model_module": "@jupyter-widgets/controls",
            "_model_module_version": "1.5.0",
            "_model_name": "FloatProgressModel",
            "_view_count": null,
            "_view_module": "@jupyter-widgets/controls",
            "_view_module_version": "1.5.0",
            "_view_name": "ProgressView",
            "bar_style": "success",
            "description": "",
            "description_tooltip": null,
            "layout": "IPY_MODEL_e87c9c197dbc45478db80c53f8a3f734",
            "max": 1,
            "min": 0,
            "orientation": "horizontal",
            "style": "IPY_MODEL_460b6ad6f3ed447584168d88a51e2e0d",
            "value": 1
          }
        },
        "245b31ab65f849d298fd6e3a48a46f1e": {
          "model_module": "@jupyter-widgets/controls",
          "model_name": "HTMLModel",
          "model_module_version": "1.5.0",
          "state": {
            "_dom_classes": [],
            "_model_module": "@jupyter-widgets/controls",
            "_model_module_version": "1.5.0",
            "_model_name": "HTMLModel",
            "_view_count": null,
            "_view_module": "@jupyter-widgets/controls",
            "_view_module_version": "1.5.0",
            "_view_name": "HTMLView",
            "description": "",
            "description_tooltip": null,
            "layout": "IPY_MODEL_74dd314fa8cc41da9f1b8e7cb5435075",
            "placeholder": "​",
            "style": "IPY_MODEL_6fab0aada7694d9db4c2d27cb77cc7da",
            "value": " 375/? [07:34&lt;00:00,  1.01s/it]"
          }
        },
        "e336ae2a15c84bf8ac9c39b164c3b19a": {
          "model_module": "@jupyter-widgets/base",
          "model_name": "LayoutModel",
          "model_module_version": "1.2.0",
          "state": {
            "_model_module": "@jupyter-widgets/base",
            "_model_module_version": "1.2.0",
            "_model_name": "LayoutModel",
            "_view_count": null,
            "_view_module": "@jupyter-widgets/base",
            "_view_module_version": "1.2.0",
            "_view_name": "LayoutView",
            "align_content": null,
            "align_items": null,
            "align_self": null,
            "border": null,
            "bottom": null,
            "display": null,
            "flex": null,
            "flex_flow": null,
            "grid_area": null,
            "grid_auto_columns": null,
            "grid_auto_flow": null,
            "grid_auto_rows": null,
            "grid_column": null,
            "grid_gap": null,
            "grid_row": null,
            "grid_template_areas": null,
            "grid_template_columns": null,
            "grid_template_rows": null,
            "height": null,
            "justify_content": null,
            "justify_items": null,
            "left": null,
            "margin": null,
            "max_height": null,
            "max_width": null,
            "min_height": null,
            "min_width": null,
            "object_fit": null,
            "object_position": null,
            "order": null,
            "overflow": null,
            "overflow_x": null,
            "overflow_y": null,
            "padding": null,
            "right": null,
            "top": null,
            "visibility": null,
            "width": null
          }
        },
        "a3dc24e331064d30a1b34b6d21b67224": {
          "model_module": "@jupyter-widgets/base",
          "model_name": "LayoutModel",
          "model_module_version": "1.2.0",
          "state": {
            "_model_module": "@jupyter-widgets/base",
            "_model_module_version": "1.2.0",
            "_model_name": "LayoutModel",
            "_view_count": null,
            "_view_module": "@jupyter-widgets/base",
            "_view_module_version": "1.2.0",
            "_view_name": "LayoutView",
            "align_content": null,
            "align_items": null,
            "align_self": null,
            "border": null,
            "bottom": null,
            "display": null,
            "flex": null,
            "flex_flow": null,
            "grid_area": null,
            "grid_auto_columns": null,
            "grid_auto_flow": null,
            "grid_auto_rows": null,
            "grid_column": null,
            "grid_gap": null,
            "grid_row": null,
            "grid_template_areas": null,
            "grid_template_columns": null,
            "grid_template_rows": null,
            "height": null,
            "justify_content": null,
            "justify_items": null,
            "left": null,
            "margin": null,
            "max_height": null,
            "max_width": null,
            "min_height": null,
            "min_width": null,
            "object_fit": null,
            "object_position": null,
            "order": null,
            "overflow": null,
            "overflow_x": null,
            "overflow_y": null,
            "padding": null,
            "right": null,
            "top": null,
            "visibility": null,
            "width": null
          }
        },
        "7fb2159784ae4aa8886a070cc54df9a6": {
          "model_module": "@jupyter-widgets/controls",
          "model_name": "DescriptionStyleModel",
          "model_module_version": "1.5.0",
          "state": {
            "_model_module": "@jupyter-widgets/controls",
            "_model_module_version": "1.5.0",
            "_model_name": "DescriptionStyleModel",
            "_view_count": null,
            "_view_module": "@jupyter-widgets/base",
            "_view_module_version": "1.2.0",
            "_view_name": "StyleView",
            "description_width": ""
          }
        },
        "e87c9c197dbc45478db80c53f8a3f734": {
          "model_module": "@jupyter-widgets/base",
          "model_name": "LayoutModel",
          "model_module_version": "1.2.0",
          "state": {
            "_model_module": "@jupyter-widgets/base",
            "_model_module_version": "1.2.0",
            "_model_name": "LayoutModel",
            "_view_count": null,
            "_view_module": "@jupyter-widgets/base",
            "_view_module_version": "1.2.0",
            "_view_name": "LayoutView",
            "align_content": null,
            "align_items": null,
            "align_self": null,
            "border": null,
            "bottom": null,
            "display": null,
            "flex": null,
            "flex_flow": null,
            "grid_area": null,
            "grid_auto_columns": null,
            "grid_auto_flow": null,
            "grid_auto_rows": null,
            "grid_column": null,
            "grid_gap": null,
            "grid_row": null,
            "grid_template_areas": null,
            "grid_template_columns": null,
            "grid_template_rows": null,
            "height": null,
            "justify_content": null,
            "justify_items": null,
            "left": null,
            "margin": null,
            "max_height": null,
            "max_width": null,
            "min_height": null,
            "min_width": null,
            "object_fit": null,
            "object_position": null,
            "order": null,
            "overflow": null,
            "overflow_x": null,
            "overflow_y": null,
            "padding": null,
            "right": null,
            "top": null,
            "visibility": null,
            "width": "20px"
          }
        },
        "460b6ad6f3ed447584168d88a51e2e0d": {
          "model_module": "@jupyter-widgets/controls",
          "model_name": "ProgressStyleModel",
          "model_module_version": "1.5.0",
          "state": {
            "_model_module": "@jupyter-widgets/controls",
            "_model_module_version": "1.5.0",
            "_model_name": "ProgressStyleModel",
            "_view_count": null,
            "_view_module": "@jupyter-widgets/base",
            "_view_module_version": "1.2.0",
            "_view_name": "StyleView",
            "bar_color": null,
            "description_width": ""
          }
        },
        "74dd314fa8cc41da9f1b8e7cb5435075": {
          "model_module": "@jupyter-widgets/base",
          "model_name": "LayoutModel",
          "model_module_version": "1.2.0",
          "state": {
            "_model_module": "@jupyter-widgets/base",
            "_model_module_version": "1.2.0",
            "_model_name": "LayoutModel",
            "_view_count": null,
            "_view_module": "@jupyter-widgets/base",
            "_view_module_version": "1.2.0",
            "_view_name": "LayoutView",
            "align_content": null,
            "align_items": null,
            "align_self": null,
            "border": null,
            "bottom": null,
            "display": null,
            "flex": null,
            "flex_flow": null,
            "grid_area": null,
            "grid_auto_columns": null,
            "grid_auto_flow": null,
            "grid_auto_rows": null,
            "grid_column": null,
            "grid_gap": null,
            "grid_row": null,
            "grid_template_areas": null,
            "grid_template_columns": null,
            "grid_template_rows": null,
            "height": null,
            "justify_content": null,
            "justify_items": null,
            "left": null,
            "margin": null,
            "max_height": null,
            "max_width": null,
            "min_height": null,
            "min_width": null,
            "object_fit": null,
            "object_position": null,
            "order": null,
            "overflow": null,
            "overflow_x": null,
            "overflow_y": null,
            "padding": null,
            "right": null,
            "top": null,
            "visibility": null,
            "width": null
          }
        },
        "6fab0aada7694d9db4c2d27cb77cc7da": {
          "model_module": "@jupyter-widgets/controls",
          "model_name": "DescriptionStyleModel",
          "model_module_version": "1.5.0",
          "state": {
            "_model_module": "@jupyter-widgets/controls",
            "_model_module_version": "1.5.0",
            "_model_name": "DescriptionStyleModel",
            "_view_count": null,
            "_view_module": "@jupyter-widgets/base",
            "_view_module_version": "1.2.0",
            "_view_name": "StyleView",
            "description_width": ""
          }
        },
        "55cecea675674831a7fa7131aa9f8f13": {
          "model_module": "@jupyter-widgets/controls",
          "model_name": "HBoxModel",
          "model_module_version": "1.5.0",
          "state": {
            "_dom_classes": [],
            "_model_module": "@jupyter-widgets/controls",
            "_model_module_version": "1.5.0",
            "_model_name": "HBoxModel",
            "_view_count": null,
            "_view_module": "@jupyter-widgets/controls",
            "_view_module_version": "1.5.0",
            "_view_name": "HBoxView",
            "box_style": "",
            "children": [
              "IPY_MODEL_268b1cd745034267974872b97ca1cfe8",
              "IPY_MODEL_22f24cfa8d0641a08400914af53798ab",
              "IPY_MODEL_63d9c3498d844e64b33b6bf1ae0c4c7e"
            ],
            "layout": "IPY_MODEL_65765bf29f2c400797ffcf69224d1fd5"
          }
        },
        "268b1cd745034267974872b97ca1cfe8": {
          "model_module": "@jupyter-widgets/controls",
          "model_name": "HTMLModel",
          "model_module_version": "1.5.0",
          "state": {
            "_dom_classes": [],
            "_model_module": "@jupyter-widgets/controls",
            "_model_module_version": "1.5.0",
            "_model_name": "HTMLModel",
            "_view_count": null,
            "_view_module": "@jupyter-widgets/controls",
            "_view_module_version": "1.5.0",
            "_view_name": "HTMLView",
            "description": "",
            "description_tooltip": null,
            "layout": "IPY_MODEL_3367b1d8bab84e309ef75e57fd8097ab",
            "placeholder": "​",
            "style": "IPY_MODEL_88c49a6e82ee4a5bbba7d1cb13eae2b1",
            "value": "100%"
          }
        },
        "22f24cfa8d0641a08400914af53798ab": {
          "model_module": "@jupyter-widgets/controls",
          "model_name": "FloatProgressModel",
          "model_module_version": "1.5.0",
          "state": {
            "_dom_classes": [],
            "_model_module": "@jupyter-widgets/controls",
            "_model_module_version": "1.5.0",
            "_model_name": "FloatProgressModel",
            "_view_count": null,
            "_view_module": "@jupyter-widgets/controls",
            "_view_module_version": "1.5.0",
            "_view_name": "ProgressView",
            "bar_style": "success",
            "description": "",
            "description_tooltip": null,
            "layout": "IPY_MODEL_28261fc89c094b4793d833636fb6b289",
            "max": 2,
            "min": 0,
            "orientation": "horizontal",
            "style": "IPY_MODEL_5b07c27e17fc4d8385cc9118376d3f34",
            "value": 2
          }
        },
        "63d9c3498d844e64b33b6bf1ae0c4c7e": {
          "model_module": "@jupyter-widgets/controls",
          "model_name": "HTMLModel",
          "model_module_version": "1.5.0",
          "state": {
            "_dom_classes": [],
            "_model_module": "@jupyter-widgets/controls",
            "_model_module_version": "1.5.0",
            "_model_name": "HTMLModel",
            "_view_count": null,
            "_view_module": "@jupyter-widgets/controls",
            "_view_module_version": "1.5.0",
            "_view_name": "HTMLView",
            "description": "",
            "description_tooltip": null,
            "layout": "IPY_MODEL_d928371695e441c0a1f1fb8351860686",
            "placeholder": "​",
            "style": "IPY_MODEL_1b4fdfbf772e4a5c8bc77a737ab62b71",
            "value": " 2/2 [37:34&lt;00:00, 1128.14s/it]"
          }
        },
        "65765bf29f2c400797ffcf69224d1fd5": {
          "model_module": "@jupyter-widgets/base",
          "model_name": "LayoutModel",
          "model_module_version": "1.2.0",
          "state": {
            "_model_module": "@jupyter-widgets/base",
            "_model_module_version": "1.2.0",
            "_model_name": "LayoutModel",
            "_view_count": null,
            "_view_module": "@jupyter-widgets/base",
            "_view_module_version": "1.2.0",
            "_view_name": "LayoutView",
            "align_content": null,
            "align_items": null,
            "align_self": null,
            "border": null,
            "bottom": null,
            "display": null,
            "flex": null,
            "flex_flow": null,
            "grid_area": null,
            "grid_auto_columns": null,
            "grid_auto_flow": null,
            "grid_auto_rows": null,
            "grid_column": null,
            "grid_gap": null,
            "grid_row": null,
            "grid_template_areas": null,
            "grid_template_columns": null,
            "grid_template_rows": null,
            "height": null,
            "justify_content": null,
            "justify_items": null,
            "left": null,
            "margin": null,
            "max_height": null,
            "max_width": null,
            "min_height": null,
            "min_width": null,
            "object_fit": null,
            "object_position": null,
            "order": null,
            "overflow": null,
            "overflow_x": null,
            "overflow_y": null,
            "padding": null,
            "right": null,
            "top": null,
            "visibility": null,
            "width": null
          }
        },
        "3367b1d8bab84e309ef75e57fd8097ab": {
          "model_module": "@jupyter-widgets/base",
          "model_name": "LayoutModel",
          "model_module_version": "1.2.0",
          "state": {
            "_model_module": "@jupyter-widgets/base",
            "_model_module_version": "1.2.0",
            "_model_name": "LayoutModel",
            "_view_count": null,
            "_view_module": "@jupyter-widgets/base",
            "_view_module_version": "1.2.0",
            "_view_name": "LayoutView",
            "align_content": null,
            "align_items": null,
            "align_self": null,
            "border": null,
            "bottom": null,
            "display": null,
            "flex": null,
            "flex_flow": null,
            "grid_area": null,
            "grid_auto_columns": null,
            "grid_auto_flow": null,
            "grid_auto_rows": null,
            "grid_column": null,
            "grid_gap": null,
            "grid_row": null,
            "grid_template_areas": null,
            "grid_template_columns": null,
            "grid_template_rows": null,
            "height": null,
            "justify_content": null,
            "justify_items": null,
            "left": null,
            "margin": null,
            "max_height": null,
            "max_width": null,
            "min_height": null,
            "min_width": null,
            "object_fit": null,
            "object_position": null,
            "order": null,
            "overflow": null,
            "overflow_x": null,
            "overflow_y": null,
            "padding": null,
            "right": null,
            "top": null,
            "visibility": null,
            "width": null
          }
        },
        "88c49a6e82ee4a5bbba7d1cb13eae2b1": {
          "model_module": "@jupyter-widgets/controls",
          "model_name": "DescriptionStyleModel",
          "model_module_version": "1.5.0",
          "state": {
            "_model_module": "@jupyter-widgets/controls",
            "_model_module_version": "1.5.0",
            "_model_name": "DescriptionStyleModel",
            "_view_count": null,
            "_view_module": "@jupyter-widgets/base",
            "_view_module_version": "1.2.0",
            "_view_name": "StyleView",
            "description_width": ""
          }
        },
        "28261fc89c094b4793d833636fb6b289": {
          "model_module": "@jupyter-widgets/base",
          "model_name": "LayoutModel",
          "model_module_version": "1.2.0",
          "state": {
            "_model_module": "@jupyter-widgets/base",
            "_model_module_version": "1.2.0",
            "_model_name": "LayoutModel",
            "_view_count": null,
            "_view_module": "@jupyter-widgets/base",
            "_view_module_version": "1.2.0",
            "_view_name": "LayoutView",
            "align_content": null,
            "align_items": null,
            "align_self": null,
            "border": null,
            "bottom": null,
            "display": null,
            "flex": null,
            "flex_flow": null,
            "grid_area": null,
            "grid_auto_columns": null,
            "grid_auto_flow": null,
            "grid_auto_rows": null,
            "grid_column": null,
            "grid_gap": null,
            "grid_row": null,
            "grid_template_areas": null,
            "grid_template_columns": null,
            "grid_template_rows": null,
            "height": null,
            "justify_content": null,
            "justify_items": null,
            "left": null,
            "margin": null,
            "max_height": null,
            "max_width": null,
            "min_height": null,
            "min_width": null,
            "object_fit": null,
            "object_position": null,
            "order": null,
            "overflow": null,
            "overflow_x": null,
            "overflow_y": null,
            "padding": null,
            "right": null,
            "top": null,
            "visibility": null,
            "width": null
          }
        },
        "5b07c27e17fc4d8385cc9118376d3f34": {
          "model_module": "@jupyter-widgets/controls",
          "model_name": "ProgressStyleModel",
          "model_module_version": "1.5.0",
          "state": {
            "_model_module": "@jupyter-widgets/controls",
            "_model_module_version": "1.5.0",
            "_model_name": "ProgressStyleModel",
            "_view_count": null,
            "_view_module": "@jupyter-widgets/base",
            "_view_module_version": "1.2.0",
            "_view_name": "StyleView",
            "bar_color": null,
            "description_width": ""
          }
        },
        "d928371695e441c0a1f1fb8351860686": {
          "model_module": "@jupyter-widgets/base",
          "model_name": "LayoutModel",
          "model_module_version": "1.2.0",
          "state": {
            "_model_module": "@jupyter-widgets/base",
            "_model_module_version": "1.2.0",
            "_model_name": "LayoutModel",
            "_view_count": null,
            "_view_module": "@jupyter-widgets/base",
            "_view_module_version": "1.2.0",
            "_view_name": "LayoutView",
            "align_content": null,
            "align_items": null,
            "align_self": null,
            "border": null,
            "bottom": null,
            "display": null,
            "flex": null,
            "flex_flow": null,
            "grid_area": null,
            "grid_auto_columns": null,
            "grid_auto_flow": null,
            "grid_auto_rows": null,
            "grid_column": null,
            "grid_gap": null,
            "grid_row": null,
            "grid_template_areas": null,
            "grid_template_columns": null,
            "grid_template_rows": null,
            "height": null,
            "justify_content": null,
            "justify_items": null,
            "left": null,
            "margin": null,
            "max_height": null,
            "max_width": null,
            "min_height": null,
            "min_width": null,
            "object_fit": null,
            "object_position": null,
            "order": null,
            "overflow": null,
            "overflow_x": null,
            "overflow_y": null,
            "padding": null,
            "right": null,
            "top": null,
            "visibility": null,
            "width": null
          }
        },
        "1b4fdfbf772e4a5c8bc77a737ab62b71": {
          "model_module": "@jupyter-widgets/controls",
          "model_name": "DescriptionStyleModel",
          "model_module_version": "1.5.0",
          "state": {
            "_model_module": "@jupyter-widgets/controls",
            "_model_module_version": "1.5.0",
            "_model_name": "DescriptionStyleModel",
            "_view_count": null,
            "_view_module": "@jupyter-widgets/base",
            "_view_module_version": "1.2.0",
            "_view_name": "StyleView",
            "description_width": ""
          }
        },
        "9b3ff106bfe9472194cabafefcad69dd": {
          "model_module": "@jupyter-widgets/controls",
          "model_name": "HBoxModel",
          "model_module_version": "1.5.0",
          "state": {
            "_dom_classes": [],
            "_model_module": "@jupyter-widgets/controls",
            "_model_module_version": "1.5.0",
            "_model_name": "HBoxModel",
            "_view_count": null,
            "_view_module": "@jupyter-widgets/controls",
            "_view_module_version": "1.5.0",
            "_view_name": "HBoxView",
            "box_style": "",
            "children": [
              "IPY_MODEL_53c9f9b6ddfe4e83bcfc048b08f82547",
              "IPY_MODEL_7109ffd6c9cf485fac15e5b627be88dc",
              "IPY_MODEL_4cfaacc5ed3c4a238035c1f41a6e16e7"
            ],
            "layout": "IPY_MODEL_9a8a2522e1a74ae3ae950898e3c48bfd"
          }
        },
        "53c9f9b6ddfe4e83bcfc048b08f82547": {
          "model_module": "@jupyter-widgets/controls",
          "model_name": "HTMLModel",
          "model_module_version": "1.5.0",
          "state": {
            "_dom_classes": [],
            "_model_module": "@jupyter-widgets/controls",
            "_model_module_version": "1.5.0",
            "_model_name": "HTMLModel",
            "_view_count": null,
            "_view_module": "@jupyter-widgets/controls",
            "_view_module_version": "1.5.0",
            "_view_name": "HTMLView",
            "description": "",
            "description_tooltip": null,
            "layout": "IPY_MODEL_da98ba41f8c44c079d46bf4e767fd7e3",
            "placeholder": "​",
            "style": "IPY_MODEL_9101c87f480a4bd4b56ea41285fc6ebf",
            "value": ""
          }
        },
        "7109ffd6c9cf485fac15e5b627be88dc": {
          "model_module": "@jupyter-widgets/controls",
          "model_name": "FloatProgressModel",
          "model_module_version": "1.5.0",
          "state": {
            "_dom_classes": [],
            "_model_module": "@jupyter-widgets/controls",
            "_model_module_version": "1.5.0",
            "_model_name": "FloatProgressModel",
            "_view_count": null,
            "_view_module": "@jupyter-widgets/controls",
            "_view_module_version": "1.5.0",
            "_view_name": "ProgressView",
            "bar_style": "success",
            "description": "",
            "description_tooltip": null,
            "layout": "IPY_MODEL_3daf235e376645dc82ddc3fb658b95e7",
            "max": 1,
            "min": 0,
            "orientation": "horizontal",
            "style": "IPY_MODEL_60fad41ea9184d61accc8917b7177a66",
            "value": 1
          }
        },
        "4cfaacc5ed3c4a238035c1f41a6e16e7": {
          "model_module": "@jupyter-widgets/controls",
          "model_name": "HTMLModel",
          "model_module_version": "1.5.0",
          "state": {
            "_dom_classes": [],
            "_model_module": "@jupyter-widgets/controls",
            "_model_module_version": "1.5.0",
            "_model_name": "HTMLModel",
            "_view_count": null,
            "_view_module": "@jupyter-widgets/controls",
            "_view_module_version": "1.5.0",
            "_view_name": "HTMLView",
            "description": "",
            "description_tooltip": null,
            "layout": "IPY_MODEL_8639fdf9042849a395ef43830317f545",
            "placeholder": "​",
            "style": "IPY_MODEL_4a5c57c422374efb975fcbd9457d9eed",
            "value": " 375/? [17:26&lt;00:00,  2.42s/it]"
          }
        },
        "9a8a2522e1a74ae3ae950898e3c48bfd": {
          "model_module": "@jupyter-widgets/base",
          "model_name": "LayoutModel",
          "model_module_version": "1.2.0",
          "state": {
            "_model_module": "@jupyter-widgets/base",
            "_model_module_version": "1.2.0",
            "_model_name": "LayoutModel",
            "_view_count": null,
            "_view_module": "@jupyter-widgets/base",
            "_view_module_version": "1.2.0",
            "_view_name": "LayoutView",
            "align_content": null,
            "align_items": null,
            "align_self": null,
            "border": null,
            "bottom": null,
            "display": null,
            "flex": null,
            "flex_flow": null,
            "grid_area": null,
            "grid_auto_columns": null,
            "grid_auto_flow": null,
            "grid_auto_rows": null,
            "grid_column": null,
            "grid_gap": null,
            "grid_row": null,
            "grid_template_areas": null,
            "grid_template_columns": null,
            "grid_template_rows": null,
            "height": null,
            "justify_content": null,
            "justify_items": null,
            "left": null,
            "margin": null,
            "max_height": null,
            "max_width": null,
            "min_height": null,
            "min_width": null,
            "object_fit": null,
            "object_position": null,
            "order": null,
            "overflow": null,
            "overflow_x": null,
            "overflow_y": null,
            "padding": null,
            "right": null,
            "top": null,
            "visibility": null,
            "width": null
          }
        },
        "da98ba41f8c44c079d46bf4e767fd7e3": {
          "model_module": "@jupyter-widgets/base",
          "model_name": "LayoutModel",
          "model_module_version": "1.2.0",
          "state": {
            "_model_module": "@jupyter-widgets/base",
            "_model_module_version": "1.2.0",
            "_model_name": "LayoutModel",
            "_view_count": null,
            "_view_module": "@jupyter-widgets/base",
            "_view_module_version": "1.2.0",
            "_view_name": "LayoutView",
            "align_content": null,
            "align_items": null,
            "align_self": null,
            "border": null,
            "bottom": null,
            "display": null,
            "flex": null,
            "flex_flow": null,
            "grid_area": null,
            "grid_auto_columns": null,
            "grid_auto_flow": null,
            "grid_auto_rows": null,
            "grid_column": null,
            "grid_gap": null,
            "grid_row": null,
            "grid_template_areas": null,
            "grid_template_columns": null,
            "grid_template_rows": null,
            "height": null,
            "justify_content": null,
            "justify_items": null,
            "left": null,
            "margin": null,
            "max_height": null,
            "max_width": null,
            "min_height": null,
            "min_width": null,
            "object_fit": null,
            "object_position": null,
            "order": null,
            "overflow": null,
            "overflow_x": null,
            "overflow_y": null,
            "padding": null,
            "right": null,
            "top": null,
            "visibility": null,
            "width": null
          }
        },
        "9101c87f480a4bd4b56ea41285fc6ebf": {
          "model_module": "@jupyter-widgets/controls",
          "model_name": "DescriptionStyleModel",
          "model_module_version": "1.5.0",
          "state": {
            "_model_module": "@jupyter-widgets/controls",
            "_model_module_version": "1.5.0",
            "_model_name": "DescriptionStyleModel",
            "_view_count": null,
            "_view_module": "@jupyter-widgets/base",
            "_view_module_version": "1.2.0",
            "_view_name": "StyleView",
            "description_width": ""
          }
        },
        "3daf235e376645dc82ddc3fb658b95e7": {
          "model_module": "@jupyter-widgets/base",
          "model_name": "LayoutModel",
          "model_module_version": "1.2.0",
          "state": {
            "_model_module": "@jupyter-widgets/base",
            "_model_module_version": "1.2.0",
            "_model_name": "LayoutModel",
            "_view_count": null,
            "_view_module": "@jupyter-widgets/base",
            "_view_module_version": "1.2.0",
            "_view_name": "LayoutView",
            "align_content": null,
            "align_items": null,
            "align_self": null,
            "border": null,
            "bottom": null,
            "display": null,
            "flex": null,
            "flex_flow": null,
            "grid_area": null,
            "grid_auto_columns": null,
            "grid_auto_flow": null,
            "grid_auto_rows": null,
            "grid_column": null,
            "grid_gap": null,
            "grid_row": null,
            "grid_template_areas": null,
            "grid_template_columns": null,
            "grid_template_rows": null,
            "height": null,
            "justify_content": null,
            "justify_items": null,
            "left": null,
            "margin": null,
            "max_height": null,
            "max_width": null,
            "min_height": null,
            "min_width": null,
            "object_fit": null,
            "object_position": null,
            "order": null,
            "overflow": null,
            "overflow_x": null,
            "overflow_y": null,
            "padding": null,
            "right": null,
            "top": null,
            "visibility": null,
            "width": "20px"
          }
        },
        "60fad41ea9184d61accc8917b7177a66": {
          "model_module": "@jupyter-widgets/controls",
          "model_name": "ProgressStyleModel",
          "model_module_version": "1.5.0",
          "state": {
            "_model_module": "@jupyter-widgets/controls",
            "_model_module_version": "1.5.0",
            "_model_name": "ProgressStyleModel",
            "_view_count": null,
            "_view_module": "@jupyter-widgets/base",
            "_view_module_version": "1.2.0",
            "_view_name": "StyleView",
            "bar_color": null,
            "description_width": ""
          }
        },
        "8639fdf9042849a395ef43830317f545": {
          "model_module": "@jupyter-widgets/base",
          "model_name": "LayoutModel",
          "model_module_version": "1.2.0",
          "state": {
            "_model_module": "@jupyter-widgets/base",
            "_model_module_version": "1.2.0",
            "_model_name": "LayoutModel",
            "_view_count": null,
            "_view_module": "@jupyter-widgets/base",
            "_view_module_version": "1.2.0",
            "_view_name": "LayoutView",
            "align_content": null,
            "align_items": null,
            "align_self": null,
            "border": null,
            "bottom": null,
            "display": null,
            "flex": null,
            "flex_flow": null,
            "grid_area": null,
            "grid_auto_columns": null,
            "grid_auto_flow": null,
            "grid_auto_rows": null,
            "grid_column": null,
            "grid_gap": null,
            "grid_row": null,
            "grid_template_areas": null,
            "grid_template_columns": null,
            "grid_template_rows": null,
            "height": null,
            "justify_content": null,
            "justify_items": null,
            "left": null,
            "margin": null,
            "max_height": null,
            "max_width": null,
            "min_height": null,
            "min_width": null,
            "object_fit": null,
            "object_position": null,
            "order": null,
            "overflow": null,
            "overflow_x": null,
            "overflow_y": null,
            "padding": null,
            "right": null,
            "top": null,
            "visibility": null,
            "width": null
          }
        },
        "4a5c57c422374efb975fcbd9457d9eed": {
          "model_module": "@jupyter-widgets/controls",
          "model_name": "DescriptionStyleModel",
          "model_module_version": "1.5.0",
          "state": {
            "_model_module": "@jupyter-widgets/controls",
            "_model_module_version": "1.5.0",
            "_model_name": "DescriptionStyleModel",
            "_view_count": null,
            "_view_module": "@jupyter-widgets/base",
            "_view_module_version": "1.2.0",
            "_view_name": "StyleView",
            "description_width": ""
          }
        },
        "21cd16933d8e40dbb90250db45af08de": {
          "model_module": "@jupyter-widgets/controls",
          "model_name": "HBoxModel",
          "model_module_version": "1.5.0",
          "state": {
            "_dom_classes": [],
            "_model_module": "@jupyter-widgets/controls",
            "_model_module_version": "1.5.0",
            "_model_name": "HBoxModel",
            "_view_count": null,
            "_view_module": "@jupyter-widgets/controls",
            "_view_module_version": "1.5.0",
            "_view_name": "HBoxView",
            "box_style": "",
            "children": [
              "IPY_MODEL_9548d5065f794cecaf4c9c8772ff34a3",
              "IPY_MODEL_d6855480c1334e39998d027a6eda246f",
              "IPY_MODEL_c8ee358a0f0f461a9c862e2c0be650bf"
            ],
            "layout": "IPY_MODEL_18c259543b944966bff0ebf8a5ea16bf"
          }
        },
        "9548d5065f794cecaf4c9c8772ff34a3": {
          "model_module": "@jupyter-widgets/controls",
          "model_name": "HTMLModel",
          "model_module_version": "1.5.0",
          "state": {
            "_dom_classes": [],
            "_model_module": "@jupyter-widgets/controls",
            "_model_module_version": "1.5.0",
            "_model_name": "HTMLModel",
            "_view_count": null,
            "_view_module": "@jupyter-widgets/controls",
            "_view_module_version": "1.5.0",
            "_view_name": "HTMLView",
            "description": "",
            "description_tooltip": null,
            "layout": "IPY_MODEL_656e32a256b24817b3d514fecf7c40d2",
            "placeholder": "​",
            "style": "IPY_MODEL_2ff8cfe7c8fd4a4787c55efa0d1e3942",
            "value": ""
          }
        },
        "d6855480c1334e39998d027a6eda246f": {
          "model_module": "@jupyter-widgets/controls",
          "model_name": "FloatProgressModel",
          "model_module_version": "1.5.0",
          "state": {
            "_dom_classes": [],
            "_model_module": "@jupyter-widgets/controls",
            "_model_module_version": "1.5.0",
            "_model_name": "FloatProgressModel",
            "_view_count": null,
            "_view_module": "@jupyter-widgets/controls",
            "_view_module_version": "1.5.0",
            "_view_name": "ProgressView",
            "bar_style": "success",
            "description": "",
            "description_tooltip": null,
            "layout": "IPY_MODEL_42a683aba0cb4e998254893fa55fe1ce",
            "max": 1,
            "min": 0,
            "orientation": "horizontal",
            "style": "IPY_MODEL_91a8e2adb1b1423f9b24cb7409480e7b",
            "value": 1
          }
        },
        "c8ee358a0f0f461a9c862e2c0be650bf": {
          "model_module": "@jupyter-widgets/controls",
          "model_name": "HTMLModel",
          "model_module_version": "1.5.0",
          "state": {
            "_dom_classes": [],
            "_model_module": "@jupyter-widgets/controls",
            "_model_module_version": "1.5.0",
            "_model_name": "HTMLModel",
            "_view_count": null,
            "_view_module": "@jupyter-widgets/controls",
            "_view_module_version": "1.5.0",
            "_view_name": "HTMLView",
            "description": "",
            "description_tooltip": null,
            "layout": "IPY_MODEL_95feddd5fa2b4a8580bf8cbdbd8dd13f",
            "placeholder": "​",
            "style": "IPY_MODEL_2d75ef0ead8d460ba8fbe1ab34b4b523",
            "value": " 375/? [17:33&lt;00:00,  2.55s/it]"
          }
        },
        "18c259543b944966bff0ebf8a5ea16bf": {
          "model_module": "@jupyter-widgets/base",
          "model_name": "LayoutModel",
          "model_module_version": "1.2.0",
          "state": {
            "_model_module": "@jupyter-widgets/base",
            "_model_module_version": "1.2.0",
            "_model_name": "LayoutModel",
            "_view_count": null,
            "_view_module": "@jupyter-widgets/base",
            "_view_module_version": "1.2.0",
            "_view_name": "LayoutView",
            "align_content": null,
            "align_items": null,
            "align_self": null,
            "border": null,
            "bottom": null,
            "display": null,
            "flex": null,
            "flex_flow": null,
            "grid_area": null,
            "grid_auto_columns": null,
            "grid_auto_flow": null,
            "grid_auto_rows": null,
            "grid_column": null,
            "grid_gap": null,
            "grid_row": null,
            "grid_template_areas": null,
            "grid_template_columns": null,
            "grid_template_rows": null,
            "height": null,
            "justify_content": null,
            "justify_items": null,
            "left": null,
            "margin": null,
            "max_height": null,
            "max_width": null,
            "min_height": null,
            "min_width": null,
            "object_fit": null,
            "object_position": null,
            "order": null,
            "overflow": null,
            "overflow_x": null,
            "overflow_y": null,
            "padding": null,
            "right": null,
            "top": null,
            "visibility": null,
            "width": null
          }
        },
        "656e32a256b24817b3d514fecf7c40d2": {
          "model_module": "@jupyter-widgets/base",
          "model_name": "LayoutModel",
          "model_module_version": "1.2.0",
          "state": {
            "_model_module": "@jupyter-widgets/base",
            "_model_module_version": "1.2.0",
            "_model_name": "LayoutModel",
            "_view_count": null,
            "_view_module": "@jupyter-widgets/base",
            "_view_module_version": "1.2.0",
            "_view_name": "LayoutView",
            "align_content": null,
            "align_items": null,
            "align_self": null,
            "border": null,
            "bottom": null,
            "display": null,
            "flex": null,
            "flex_flow": null,
            "grid_area": null,
            "grid_auto_columns": null,
            "grid_auto_flow": null,
            "grid_auto_rows": null,
            "grid_column": null,
            "grid_gap": null,
            "grid_row": null,
            "grid_template_areas": null,
            "grid_template_columns": null,
            "grid_template_rows": null,
            "height": null,
            "justify_content": null,
            "justify_items": null,
            "left": null,
            "margin": null,
            "max_height": null,
            "max_width": null,
            "min_height": null,
            "min_width": null,
            "object_fit": null,
            "object_position": null,
            "order": null,
            "overflow": null,
            "overflow_x": null,
            "overflow_y": null,
            "padding": null,
            "right": null,
            "top": null,
            "visibility": null,
            "width": null
          }
        },
        "2ff8cfe7c8fd4a4787c55efa0d1e3942": {
          "model_module": "@jupyter-widgets/controls",
          "model_name": "DescriptionStyleModel",
          "model_module_version": "1.5.0",
          "state": {
            "_model_module": "@jupyter-widgets/controls",
            "_model_module_version": "1.5.0",
            "_model_name": "DescriptionStyleModel",
            "_view_count": null,
            "_view_module": "@jupyter-widgets/base",
            "_view_module_version": "1.2.0",
            "_view_name": "StyleView",
            "description_width": ""
          }
        },
        "42a683aba0cb4e998254893fa55fe1ce": {
          "model_module": "@jupyter-widgets/base",
          "model_name": "LayoutModel",
          "model_module_version": "1.2.0",
          "state": {
            "_model_module": "@jupyter-widgets/base",
            "_model_module_version": "1.2.0",
            "_model_name": "LayoutModel",
            "_view_count": null,
            "_view_module": "@jupyter-widgets/base",
            "_view_module_version": "1.2.0",
            "_view_name": "LayoutView",
            "align_content": null,
            "align_items": null,
            "align_self": null,
            "border": null,
            "bottom": null,
            "display": null,
            "flex": null,
            "flex_flow": null,
            "grid_area": null,
            "grid_auto_columns": null,
            "grid_auto_flow": null,
            "grid_auto_rows": null,
            "grid_column": null,
            "grid_gap": null,
            "grid_row": null,
            "grid_template_areas": null,
            "grid_template_columns": null,
            "grid_template_rows": null,
            "height": null,
            "justify_content": null,
            "justify_items": null,
            "left": null,
            "margin": null,
            "max_height": null,
            "max_width": null,
            "min_height": null,
            "min_width": null,
            "object_fit": null,
            "object_position": null,
            "order": null,
            "overflow": null,
            "overflow_x": null,
            "overflow_y": null,
            "padding": null,
            "right": null,
            "top": null,
            "visibility": null,
            "width": "20px"
          }
        },
        "91a8e2adb1b1423f9b24cb7409480e7b": {
          "model_module": "@jupyter-widgets/controls",
          "model_name": "ProgressStyleModel",
          "model_module_version": "1.5.0",
          "state": {
            "_model_module": "@jupyter-widgets/controls",
            "_model_module_version": "1.5.0",
            "_model_name": "ProgressStyleModel",
            "_view_count": null,
            "_view_module": "@jupyter-widgets/base",
            "_view_module_version": "1.2.0",
            "_view_name": "StyleView",
            "bar_color": null,
            "description_width": ""
          }
        },
        "95feddd5fa2b4a8580bf8cbdbd8dd13f": {
          "model_module": "@jupyter-widgets/base",
          "model_name": "LayoutModel",
          "model_module_version": "1.2.0",
          "state": {
            "_model_module": "@jupyter-widgets/base",
            "_model_module_version": "1.2.0",
            "_model_name": "LayoutModel",
            "_view_count": null,
            "_view_module": "@jupyter-widgets/base",
            "_view_module_version": "1.2.0",
            "_view_name": "LayoutView",
            "align_content": null,
            "align_items": null,
            "align_self": null,
            "border": null,
            "bottom": null,
            "display": null,
            "flex": null,
            "flex_flow": null,
            "grid_area": null,
            "grid_auto_columns": null,
            "grid_auto_flow": null,
            "grid_auto_rows": null,
            "grid_column": null,
            "grid_gap": null,
            "grid_row": null,
            "grid_template_areas": null,
            "grid_template_columns": null,
            "grid_template_rows": null,
            "height": null,
            "justify_content": null,
            "justify_items": null,
            "left": null,
            "margin": null,
            "max_height": null,
            "max_width": null,
            "min_height": null,
            "min_width": null,
            "object_fit": null,
            "object_position": null,
            "order": null,
            "overflow": null,
            "overflow_x": null,
            "overflow_y": null,
            "padding": null,
            "right": null,
            "top": null,
            "visibility": null,
            "width": null
          }
        },
        "2d75ef0ead8d460ba8fbe1ab34b4b523": {
          "model_module": "@jupyter-widgets/controls",
          "model_name": "DescriptionStyleModel",
          "model_module_version": "1.5.0",
          "state": {
            "_model_module": "@jupyter-widgets/controls",
            "_model_module_version": "1.5.0",
            "_model_name": "DescriptionStyleModel",
            "_view_count": null,
            "_view_module": "@jupyter-widgets/base",
            "_view_module_version": "1.2.0",
            "_view_name": "StyleView",
            "description_width": ""
          }
        }
      }
    }
  },
  "cells": [
    {
      "cell_type": "code",
      "execution_count": null,
      "metadata": {
        "id": "2QSb3A0Givxq"
      },
      "outputs": [],
      "source": [
        "import torch\n",
        "from torch import nn"
      ]
    },
    {
      "cell_type": "code",
      "source": [
        "device = 'cuda' if torch.cuda.is_available() else 'cpu'\n",
        "device"
      ],
      "metadata": {
        "colab": {
          "base_uri": "https://localhost:8080/",
          "height": 36
        },
        "id": "kdVsdf4ji3cb",
        "outputId": "e2b43b9e-7965-4c8a-a987-c98511a89ea2"
      },
      "execution_count": null,
      "outputs": [
        {
          "output_type": "execute_result",
          "data": {
            "text/plain": [
              "'cpu'"
            ],
            "application/vnd.google.colaboratory.intrinsic+json": {
              "type": "string"
            }
          },
          "metadata": {},
          "execution_count": 311
        }
      ]
    },
    {
      "cell_type": "code",
      "source": [
        "sentences = []\n",
        "labels = []\n",
        "sentence = []\n",
        "label = []\n",
        "# max_sen = 1000\n",
        "with open('eng.train', 'r') as f:\n",
        "  cnt = 0\n",
        "  for line in f:\n",
        "    if line == \"\\n\":\n",
        "      sentences.append(sentence)\n",
        "      labels.append(label)\n",
        "      sentence, label = [], []\n",
        "      # cnt += 1\n",
        "    else:\n",
        "      word, tag = line.split()\n",
        "      sentence.append(word)\n",
        "      label.append(tag)\n",
        "    # if cnt == max_sen:\n",
        "    #   break"
      ],
      "metadata": {
        "id": "USQnM_mFjAb3"
      },
      "execution_count": null,
      "outputs": []
    },
    {
      "cell_type": "code",
      "source": [
        "import string"
      ],
      "metadata": {
        "id": "UdPZ9ydoQy87"
      },
      "execution_count": null,
      "outputs": []
    },
    {
      "cell_type": "code",
      "source": [
        "def transform_word(word):\n",
        "  if word in string.punctuation + '...':\n",
        "    return 'SYMBOL'\n",
        "  elif any(char.isdigit() for char in word):\n",
        "    return 'NUMBER'\n",
        "  else:\n",
        "    return word\n",
        "\n",
        "transform_sents = [[transform_word(word) for word in sentence] for sentence in sentences]"
      ],
      "metadata": {
        "id": "aKn7mAMJRp_z"
      },
      "execution_count": null,
      "outputs": []
    },
    {
      "cell_type": "code",
      "source": [
        "from collections import Counter"
      ],
      "metadata": {
        "id": "JPjPhi39mmop"
      },
      "execution_count": null,
      "outputs": []
    },
    {
      "cell_type": "code",
      "source": [
        "counter = Counter()\n",
        "for sentence in transform_sents:\n",
        "  for word in sentence:\n",
        "    counter[word] += 1"
      ],
      "metadata": {
        "id": "OYTAUMJoqACD"
      },
      "execution_count": null,
      "outputs": []
    },
    {
      "cell_type": "code",
      "source": [
        "items = counter.items()\n",
        "print(len(items))"
      ],
      "metadata": {
        "colab": {
          "base_uri": "https://localhost:8080/"
        },
        "id": "AwKucIlWKNpb",
        "outputId": "246caaa9-6a71-4342-b2bb-a65c28adb44b"
      },
      "execution_count": null,
      "outputs": [
        {
          "output_type": "stream",
          "name": "stdout",
          "text": [
            "19738\n"
          ]
        }
      ]
    },
    {
      "cell_type": "code",
      "source": [
        "vocab = list(counter.keys())"
      ],
      "metadata": {
        "id": "PqP4odyKVqZL"
      },
      "execution_count": null,
      "outputs": []
    },
    {
      "cell_type": "code",
      "source": [
        "vocab_dict = {word: i + 1 for i, word in enumerate(vocab)}\n",
        "vocab_dict['UNKNOWN'] = 0"
      ],
      "metadata": {
        "id": "Htr-lTZNO_k-"
      },
      "execution_count": null,
      "outputs": []
    },
    {
      "cell_type": "code",
      "source": [
        "print(vocab_dict.keys())\n",
        "print(len(vocab_dict.keys()))"
      ],
      "metadata": {
        "colab": {
          "base_uri": "https://localhost:8080/"
        },
        "id": "6OWg8kvkV6zG",
        "outputId": "7c45019b-cb0c-47f6-ec70-62baa4e7e939"
      },
      "execution_count": null,
      "outputs": [
        {
          "output_type": "stream",
          "name": "stdout",
          "text": [
            "dict_keys(['EU', 'rejects', 'German', 'call', 'to', 'boycott', 'British', 'lamb', 'SYMBOL', 'Peter', 'Blackburn', 'BRUSSELS', 'NUMBER', 'The', 'European', 'Commission', 'said', 'on', 'Thursday', 'it', 'disagreed', 'with', 'advice', 'consumers', 'shun', 'until', 'scientists', 'determine', 'whether', 'mad', 'cow', 'disease', 'can', 'be', 'transmitted', 'sheep', 'Germany', \"'s\", 'representative', 'the', 'Union', 'veterinary', 'committee', 'Werner', 'Zwingmann', 'Wednesday', 'should', 'buy', 'sheepmeat', 'from', 'countries', 'other', 'than', 'Britain', 'scientific', 'was', 'clearer', 'We', 'do', \"n't\", 'support', 'any', 'such', 'recommendation', 'because', 'we', 'see', 'grounds', 'for', 'chief', 'spokesman', 'Nikolaus', 'van', 'der', 'Pas', 'told', 'a', 'news', 'briefing', 'He', 'further', 'study', 'required', 'and', 'if', 'found', 'that', 'action', 'needed', 'taken', 'by', 'proposal', 'last', 'month', 'Farm', 'Commissioner', 'Franz', 'Fischler', 'ban', 'brains', 'spleens', 'spinal', 'cords', 'human', 'animal', 'food', 'chains', 'highly', 'specific', 'precautionary', 'move', 'protect', 'health', 'proposed', 'EU-wide', 'measures', 'after', 'reports', 'France', 'under', 'laboratory', 'conditions', 'could', 'contract', 'Bovine', 'Spongiform', 'Encephalopathy', 'BSE', '--', 'But', 'agreed', 'review', 'his', 'standing', 'mational', 'officials', 'questioned', 'justified', 'as', 'there', 'only', 'slight', 'risk', 'Spanish', 'Minister', 'Loyola', 'de', 'Palacio', 'had', 'earlier', 'accused', 'at', 'an', 'farm', 'ministers', 'meeting', 'of', 'causing', 'unjustified', 'alarm', 'through', 'dangerous', 'generalisation', 'Only', 'backed', 'multidisciplinary', 'committees', 'are', 'due', 're-examine', 'issue', 'early', 'next', 'make', 'recommendations', 'senior', 'Sheep', 'have', 'long', 'been', 'known', 'scrapie', 'brain-wasting', 'similar', 'which', 'is', 'believed', 'transferred', 'cattle', 'feed', 'containing', 'waste', 'farmers', 'denied', 'danger', 'their', 'but', 'expressed', 'concern', 'government', 'avoid', 'might', 'influence', 'across', 'Europe', 'What', 'extremely', 'careful', 'how', 'going', 'take', 'lead', 'Welsh', 'National', 'Farmers', 'NFU', 'chairman', 'John', 'Lloyd', 'Jones', 'BBC', 'radio', 'Bonn', 'has', 'led', 'efforts', 'public', 'consumer', 'confidence', 'collapsed', 'in', 'March', 'report', 'suggested', 'humans', 'illness', 'eating', 'contaminated', 'beef', 'imported', 'year', 'nearly', 'half', 'total', 'imports', 'It', 'brought', 'tonnes', 'mutton', 'some', 'percent', 'overall', '-DOCSTART-', 'Rare', 'Hendrix', 'song', 'draft', 'sells', 'almost', 'LONDON', 'A', 'rare', 'handwritten', 'U.S.', 'guitar', 'legend', 'Jimi', 'sold', 'auction', 'late', 'musician', 'favourite', 'possessions', 'Florida', 'restaurant', 'paid', 'pounds', 'Ai', 'no', 'telling', 'penned', 'piece', 'London', 'hotel', 'stationery', 'At', 'end', 'January', 'concert', 'English', 'city', 'Nottingham', 'he', 'threw', 'sheet', 'paper', 'into', 'audience', 'where', 'retrieved', 'fan', 'Buyers', 'also', 'snapped', 'up', 'items', 'were', 'put', 'former', 'girlfriend', 'Kathy', 'Etchingham', 'who', 'lived', 'him', 'They', 'included', 'black', 'lacquer', 'mother', 'pearl', 'inlaid', 'box', 'used', 'store', 'drugs', 'anonymous', 'Australian', 'purchaser', 'bought', 'guitarist', 'died', 'overdose', 'aged', 'China', 'says', 'Taiwan', 'spoils', 'atmosphere', 'talks', 'BEIJING', 'Taipei', 'spoiling', 'resumption', 'Strait', 'visit', 'Ukraine', 'Taiwanese', 'Vice', 'President', 'Lien', 'Chan', 'this', 'week', 'infuriated', 'Beijing', 'Speaking', 'hours', 'Chinese', 'state', 'media', 'time', 'right', 'engage', 'political', 'Foreign', 'Ministry', 'Shen', 'Guofang', 'Reuters', 'necessary', 'opening', 'disrupted', 'authorities', 'State', 'quoted', 'top', 'negotiator', 'Tang', 'Shubei', 'visiting', 'group', 'rivals', 'hold', 'Now', 'two', 'sides', 'hostility', 'overseas', 'edition', 'People', 'Daily', 'saying', 'foreign', 'ministry', 'Television', 'interview', 'read', 'comments', 'gave', 'details', 'why', 'considered', 'considers', 'renegade', 'province', 'opposed', 'all', 'gain', 'greater', 'international', 'recognition', 'rival', 'island', 'practical', 'steps', 'towards', 'goal', 'Consultations', 'held', 'set', 'format', 'official', 'Xinhua', 'agency', 'executive', 'vice', 'Association', 'Relations', 'Across', 'Straits', 'July', 'car', 'registrations', 'pct', 'yr', 'FRANKFURT', 'first-time', 'motor', 'vehicles', 'jumped', 'year-earlier', 'period', 'Federal', 'office', 'new', 'cars', 'registered', 'passenger', 'trucks', 'figures', 'represent', 'increase', 'decline', 'Motor-bike', 'registration', 'rose', 'growth', 'partly', 'increased', 'number', 'Germans', 'buying', 'abroad', 'while', 'manufacturers', 'domestic', 'demand', 'weak', 'federal', 'Almost', 'posted', 'gains', 'numbers', 'Volkswagen', 'AG', 'won', 'slightly', 'more', 'quarter', 'Opel', 'together', 'General', 'Motors', 'came', 'second', 'place', 'figure', 'Third', 'Ford', 'or', 'Seat', 'Porsche', 'fewer', 'compared', 'fell', 'GREEK', 'SOCIALISTS', 'GIVE', 'GREEN', 'LIGHT', 'TO', 'PM', 'FOR', 'ELECTIONS', 'ATHENS', 'Greek', 'socialist', 'party', 'bureau', 'green', 'light', 'Prime', 'Costas', 'Simitis', 'snap', 'elections', 'its', 'general', 'secretary', 'Skandalidis', 'reporters', 'announcement', 'cabinet', 'later', 'Dimitris', 'Kontogiannis', 'Athens', 'Newsroom', 'BayerVB', 'sets', 'C$', 'million', 'six-year', 'bond', 'following', 'announced', 'manager', 'Toronto', 'Dominion', 'BORROWER', 'BAYERISCHE', 'VEREINSBANK', 'AMT', 'MLN', 'COUPON', 'MATURITY', 'TYPE', 'STRAIGHT', 'ISS', 'PRICE', 'PAY', 'DATE', 'FULL', 'FEES', 'REOFFER', 'SPREAD', 'BP', 'MOODY', 'LISTING', 'LUX', 'FREQ', 'S&P', 'DENOMS', 'K', 'SALE', 'LIMITS', 'US', 'UK', 'CA', 'NEG', 'PLG', 'NO', 'CRS', 'DEFLT', 'FORCE', 'MAJ', 'GOV', 'LAW', 'GERMAN', 'HOME', 'CTRY', 'TAX', 'PROVS', 'STANDARD', 'MGT', 'UND', 'SELL', 'CONC', 'PRAECIP', 'UNDERLYING', 'GOVT', 'BOND', 'PCT', 'SEPT', 'NOTES', 'IS', 'JOINT', 'LEAD', 'MANAGER', 'Venantius', 'FRN', 'floating-rate', 'Lehman', 'Brothers', 'International', 'VENANTIUS', 'AB', 'SWEDISH', 'NATIONAL', 'MORTGAGE', 'AGENCY', 'BASE', 'LIBOR', 'LAST', 'AA+', 'S', 'SHORT', 'FIRST', 'JP', 'FR', 'YES', 'IPMA', 'ENGLISH', 'SWEDEN', 'ISSUED', 'OFF', 'EMTN', 'PROGRAMME', 'Port', 'update', 'Syria', 'Lloyds', 'Shipping', 'Intelligence', 'Service', 'LATTAKIA', 'Aug', 'waiting', 'Lattakia', 'Tartous', 'presently', 'Israel', 'plays', 'down', 'fears', 'war', 'Colleen', 'Siegel', 'JERUSALEM', 'outgoing', 'peace', 'current', 'tensions', 'between', 'appeared', 'storm', 'teacup', 'Itamar', 'Rabinovich', 'ambassador', 'Washington', 'conducted', 'unfruitful', 'negotiations', 'Radio', 'looked', 'like', 'Damascus', 'wanted', 'talk', 'rather', 'fight', 'appears', 'me', 'Syrian', 'priority', 'still', 'negotiate', 'Syrians', 'confused', 'they', 'definitely', 'tense', 'assessment', 'here', 'essentially', 'winding', 'term', 'will', 'replaced', 'Eliahu', 'Ben-Elissar', 'Israeli', 'envoy', 'Egypt', 'right-wing', 'Likud', 'politician', 'sent', 'message', 'via', 'committed', 'open', 'without', 'preconditions', 'slammed', 'creating', 'what', 'called', 'launching', 'hysterical', 'campaign', 'against', 'television', 'reported', 'recently', 'test', 'fired', 'missile', 'arms', 'purchases', 'defensive', 'purposes', 'Hafez', 'al-', 'Assad', 'ready', 'enter', 'David', 'Levy', 'Tension', 'mounted', 'since', 'Benjamin', 'Netanyahu', 'took', 'June', 'vowing', 'retain', 'Golan', 'Heights', 'captured', 'Middle', 'East', 'Israeli-Syrian', 'deadlocked', 'over', 'despite', 'previous', 'willingness', 'concessions', 'Peace', 'February', 'voices', 'coming', 'out', 'bad', 'not', 'good', 'full', 'expressions', 'declarations', 'must', 'worrying', 'artificial', 'very', 'those', 'spread', 'become', 'prisoners', 'expect', 'face', 'answer', 'our', 'want', 'God', 'forbid', 'No', 'one', 'benefits', 'wars', 'Channel', 'Two', 'calming', 'signal', 'source', 'spokesmen', 'confirm', 'messages', 'reassure', 'Cairo', 'United', 'States', 'Moscow', 'Polish', 'diplomat', 'denies', 'nurses', 'stranded', 'Libya', 'TUNIS', 'tabloid', 'refusing', 'exit', 'visas', 'trying', 'return', 'home', 'working', 'North', 'African', 'country', 'This', 'true', 'Up', 'today', 'knowledge', 'nurse', 'kept', 'her', 'received', 'complaint', 'embassy', 'charge', \"d'affaires\", 'Tripoli', 'Tadeusz', 'Awdankiewicz', 'telephone', 'Poland', 'labour', 'would', 'send', 'team', 'investigate', 'probe', 'prompted', 'complaining', 'about', 'work', 'non-payment', 'salaries', 'estimated', 'Iranian', 'opposition', 'leaders', 'meet', 'Baghdad', 'Hassan', 'Hafidh', 'BAGHDAD', 'An', 'exile', 'based', 'Iraq', 'vowed', 'extend', 'Iran', 'Kurdish', 'rebels', 'attacked', 'troops', 'deep', 'inside', 'Mujahideen', 'Khalq', 'statement', 'leader', 'Massoud', 'Rajavi', 'met', 'Secretary-General', 'Kurdistan', 'Democratic', 'Party', 'KDPI', 'Rastegar', 'voiced', 'rebel', 'Kurds', 'emphasised', 'Resistance', 'continue', 'stand', 'side', 'compatriots', 'resistance', 'movement', 'signals', 'level', 'cooperation', 'oppositions', 'heavily', 'bombarded', 'targets', 'northern', 'pursuit', 'guerrillas', 'Iraqi', 'areas', 'outside', 'control', 'bordering', 'Patriotic', 'PUK', 'KDP', 'main', 'factions', 'forces', 'ousted', 'Kuwait', 'Gulf', 'War', 'Clashes', 'parties', 'broke', 'weekend', 'most', 'serious', 'fighting', 'U.S.-sponsored', 'ceasefire', 'shelling', 'positions', 'Qasri', 'region', 'Suleimaniya', 'near', 'border', 'days', 'killed', 'wounded', 'attack', 'Both', 'Turkey', 'mount', 'air', 'land', 'strikes', 'own', 'U.S.-led', 'force', 'southern', 'protects', 'possible', 'attacks', 'Saudi', 'riyal', 'rates', 'steady', 'quiet', 'summer', 'trade', 'MANAMA', 'spot', 'dollar', 'interbank', 'deposit', 'mainly', 'dealers', 'kingdom', 'There', 'changes', 'market', 'holidays', 'dealer', 'One-month', 'deposits', 'three', 'months', 'six', 'One-year', 'funds', 'approves', 'Arafat', 'flight', 'West', 'Bank', 'Palestinian', 'Yasser', 'permission', 'fly', 'territory', 'ending', 'brief', 'Israeli-PLO', 'crisis', 'adviser', 'problem', 'president', 'aircraft', 'pass', 'airspace', 'expected', 'travel', 'before', 'Monday', 'Nabil', 'Abu', 'Rdainah', 'scheduled', 'prime', 'minister', 'Shimon', 'Peres', 'town', 'Ramallah', 'venue', 'changed', 'Gaza', 'clearance', 'helicopters', 'stop', 'keeping', 'grounded', 'subsequently', 'cancelled', 'PLO', 'civilian', 'affairs', 'Allenby', 'Bridge', 'crossing', 'Jordan', 'decided', 'flying', 'lifted', 'busy', 'schedule', 'free', 'Palestinians', 'barred', 'Erez', 'checkpoint', 'planned', 'overflying', 'helicopter', 'attempt', 'bar', 'defeated', 'May', 'undermine', 'authority', 'conduct', 'Afghan', 'UAE', 'Taleban', 'guards', 'Hilary', 'Gush', 'DUBAI', 'Three', 'Arab', 'Emirates', 'Russian', 'hostages', 'escaped', 'militia', 'Afghanistan', 'few', 'Dhabi', 'Our', 'touch', 'Their', 'issuing', 'them', 'documents', 'homeland', 'objection', 'added', 'Islamic', 'overpowered', 'seven', 'aircrew', 'Sharjah', 'Friday', 'board', 'captivity', 'Kandahar', 'hand', 'Red', 'Crescent', 'possibly', 'Tuesday', 'silent', 'When', 'asked', 'back', 'capital', 'Kabul', 'That', 'headquarters', 'controlled', 'Burhanuddin', 'Rabbani', 'overthrow', 'men', 'currently', 'did', 'elaborate', 'Russians', 'Aerostan', 'firm', 'republic', 'Tatarstan', 'hostage', 'fighter', 'forced', 'cargo', 'plane', 'August', 'shipment', 'ammunition', 'Albania', 'evidence', 'military', 'crew', 'nationality', 'coincidental', 'Numerous', 'diplomatic', 'attempts', 'failed', 'armed', 'Kalashnikov', 'automatic', 'rifles', 'doing', 'regular', 'maintenance', 'Ilyushin', 'left', 'Sunday', 'Saddam', 'meets', 'Russia', 'Zhirinovsky', 'Hussein', 'ultra-nationalist', 'Vladimir', 'maintain', 'friendship', 'newspapers', 'stressed', 'during', 'keenness', 'papers', 'Liberal', 'Duma', 'parliament', 'calling', 'immediate', 'lifting', 'embargo', 'imposed', 'invasion', 'press', 'help', 'U.N.', 'sanctions', 'blamed', 'delaying', 'establishment', 'ties', 'namely', 'economic', 'resume', 'visited', 'twice', 'Last', 'October', 'invited', 'attend', 'referendum', 'presidency', 'extended', 'years', 'PRESS', 'DIGEST', 'These', 'leading', 'stories', 'verified', 'these', 'does', 'vouch', 'accuracy', 'THAWRA', 'liberal', 'democratic', 'Turkish', 'part', 'fair', 'November', 'IRAQ', 'shipload', 'rice', 'arrives', 'Umm', 'Qasr', 'port', 'Lebanon', 'BEIRUT', 'Beirut', 'AN-NAHAR', 'Confrontation', 'escalating', 'Hizbollah', 'Hariri', 'threats', 'serve', 'AS-SAFIR', 'Parliament', 'Speaker', 'Berri', 'preparing', 'Parliamentary', 'battle', 'lists', 'prepared', 'AL-ANWAR', 'Continued', 'criticism', 'law', 'violation', 'incidents', 'occurred', 'Mount', 'AD-DIYAR', 'Financial', 'Pakistan', 'step', 'election', 'incomplete', 'list', \"NIDA'A\", 'AL-WATAN', 'Maronite', 'Patriarch', 'Sfeir', 'sorrow', 'violations', 'CME', 'live', 'feeder', 'calls', 'range', 'mixed', 'CHICAGO', 'Early', 'futures', 'ranged', 'cent', 'higher', 'lower', 'livestock', 'analysts', 'continued', 'strong', 'tone', 'cash', 'markets', 'prompt', 'Outlook', 'bullish', 'cattle-on-feed', 'lend', 'bull', 'spreading', 'However', 'likely', 'prices', 'drift', 'evening', 'ahead', 'Cash', 'record', 'amount', 'feedlot', 'traded', 'Kindercare', 'debt', 'hit', 'results', 'MONTGOMERY', 'Ala', 'KinderCare', 'Learning', 'Centers', 'Inc', 'buyback', 'mean', 'extraordinary', 'loss', 'fiscal', 'first', 'company', 'began', 'par', 'value', 'outstanding', 'notes', 'Philip', 'Maslowe', 'financial', 'officer', 'preschool', 'child', 'care', 'offered', 'opportunity', 'reduce', 'weighted', 'average', 'interest', 'costs', 'improve', 'future', 'flows', 'earnings', 'RESEARCH', 'ALERT', 'starts', 'SNET', 'analyst', 'Blake', 'Bath', 'started', 'Southern', 'New', 'England', 'Telecommunciations', 'Corp', 'outperform', 'rating', 'price', 'target', 'estimate', 'per', 'share', 'immediately', 'available', 'closed', 'E.', 'Auchard', 'Wall', 'Street', 'Gateway', 'Data', 'Sciences', 'net', 'rises', 'PHOENIX', 'Summary', 'Consolidated', 'In', 'Thousands', 'except', 'data', 'Six', 'Months', 'Ended', 'Quarter', 'Jul', 'Income', 'Statement', 'Total', 'Revenue', 'Software', 'Services', 'Operating', 'Net', 'Earnings', 'Per', 'Share', 'Jan', 'Balance', 'Sheet', 'Working', 'Capital', 'Equivalents', 'Assets', 'Shareholders', 'Equity', 'socialists', 'give', 'backing', 'chooses', 'Le', 'Monde', 'PARIS', 'afternoon', 'daily', 'dated', 'FRONT', 'PAGE', 'Africans', 'seeking', 'renew', 'obtain', 'residence', 'rights', 'say', 'Alain', 'Juppe', 'proposals', 'insufficient', 'hunger', 'strike', 'enters', 'day', 'Paris', 'church', 'rally', 'attracts', 'sympathisers', 'FLNC', 'Corsican', 'nationalist', 'announces', 'truce', 'night', 'BUSINESS', 'PAGES', 'Shutdown', 'Bally', 'French', 'factories', 'points', 'shoe', 'industry', 'undercut', 'low-wage', 'competition', 'failure', 'keep', 'abreast', 'trends', 'Secretary', 'Sud-PTT', 'union', 'Telecom', 'elements', 'social', 'unrest', 'weeks', 'Well', 'repairs', 'lift', 'Heidrun', 'oil', 'output', 'Statoil', 'OSLO', 'plugged', 'water', 'injection', 'wells', 'oilfield', 'off', 'mid-Norway', 'reopened', 'operator', 'Den', 'Norske', 'Stats', 'Oljeselskap', 'AS', 'accounted', 'dip', 'barrels', 'bpd', 'roughly', 'according', 'Status', 'Weekly', 'newsletter', 'reperforated', 'gravel', 'pumped', 'reservoir', 'plugging', 'problems', 'Oslo', 'newsroom', 'Finnish', 'April', 'surplus', 'billion', 'markka', 'NCB', 'HELSINKI', 'Finland', 'Customs', 'Board', 'exports', 'year-on-year', 'Trade', 'balance', 'Jan-April', 'Imports', 'Exports', 'January-April', 'import', 'revised', 'export', 'projected', 'monthly', 'statistics', 'lagging', 'behind', 'customs', 'procedures', 'when', 'joined', 'start', 'Helsinki', 'Dutch', 'raises', 'tap', 'sale', 'AMSTERDAM', 'Finance', 'raised', 'sales', 'September', 'Tap', 'being', 'GMT', 'notice', 'guilders', 'close', 'Amsterdam', 'tells', 'BONN', 'Agriculture', 'meat', 'animals', 'Until', 'cleared', 'panels', 'done', 'quickly', 'preference', 'ZDF', 'I', 'concrete', 'too', 'many', 'holes', 'know', 'filled', 'ensure', 'protection', 'tops', 'priorities', 'dealing', 'erupted', 'acknowledged', 'rethink', 'use', 'suspect', 'tissue', 'experts', 'banning', 'members', 'given', 'question', 'studied', 'separately', 'perfectly', 'safe', 'eat', 'After', 'admitted', 'link', 'fatal', 'equivalent', 'worldwide', 'summit', 'progressive', 'takes', 'parallel', 'eradicate', 'GOLF', 'SCORES', 'AT', 'WORLD', 'SERIES', 'OF', 'AKRON', 'Ohio', 'Scores', 'NEC', 'World', 'Series', 'Golf', 'round', 'yard', 'Firestone', 'C.C', 'course', 'players', 'unless', 'stated', 'Paul', 'Goydos', 'Billy', 'Mayfair', 'Hidemichi', 'Tanaka', 'Japan', 'Steve', 'Stricker', 'Justin', 'Leonard', 'Mark', 'Brooks', 'Tim', 'Herron', 'Duffy', 'Waldorf', 'Davis', 'Love', 'Anders', 'Forsbrand', 'Sweden', 'Nick', 'Faldo', 'Cook', 'Phil', 'Mickelson', 'Greg', 'Norman', 'Australia', 'Ernie', 'Els', 'South', 'Africa', 'Scott', 'Hoch', 'Clarence', 'Rose', 'Loren', 'Roberts', 'Fred', 'Funk', 'Sven', 'Struver', 'Alexander', 'Cejka', 'Hal', 'Sutton', 'Tom', 'D.A.', 'Weibring', 'Brad', 'Bryant', 'Craig', 'Parry', 'Stewart', 'Ginn', 'Corey', 'Pavin', 'Stadler', \"O'Meara\", 'Couples', 'Stankowski', 'Costantino', 'Rocca', 'Italy', 'Jim', 'Furyk', 'Satoshi', 'Higashi', 'Willie', 'Wood', 'Shigeki', 'Maruyama', 'McCarron', 'Wayne', 'Westner', 'Schneiter', 'Watson', 'Seiki', 'Okuda', 'SOCCER', 'GLORIA', 'BISTRITA', 'BEAT', 'F.C.', 'VALLETTA', 'Gloria', 'Bistrita', 'Romania', 'beat', 'halftime', 'Valletta', 'Malta', 'Cup', 'winners', 'match', 'leg', 'preliminary', 'Scorers', 'Ilie', 'Lazar', 'Eugen', 'Voica', 'La', 'Gilbert', 'Agius', 'Attendance', 'aggregate', 'qualified', 'REUTER', 'HORSE', 'RACING', 'PIVOTAL', 'ENDS', 'WAIT', 'TRAINER', 'PRESCOTT', 'YORK', 'Sir', 'Prescott', 'landed', 'victory', 'trainer', 'sprinter', 'Pivotal', 'chance', 'Nunthorpe', 'Stakes', 'three-year-old', 'partnered', 'veteran', 'George', 'Duffield', 'snatched', 'short', 'head', 'verdict', 'stride', 'deny', 'Eveningperformance', 'trained', 'Henry', 'Candy', 'ridden', 'Chris', 'Rutter', 'Hever', 'Prix', 'l', 'Abbaye', 'winner', 'Longchamp', 'finished', 'third', 'lengths', 'away', 'Mind', 'Games', 'fourth', 'Royal', 'Ascot', 'may', 'now', 'aimed', 'season', 'sprint', 'race', 'reluctant', 'go', 'enclosure', 'result', 'photo-finish', 'Twenty-five', 'never', 'so', 'thought', 'better', 'wait', 'bit', 'longer', 'sad', 'am', 'godfather', 'daughter', 'Like', 'Jack', 'Berry', 'gone', 'search', 'success', 'around', 'profession', 'I`m', 'disappointed', 'feel', 'suicidal', 'well', 'furlongs', 'metres', 'just', 'quicken', 'NUNTHORPE', 'STAKES', 'RESULTS', 'Result', 'two-year-olds', 'upwards', 'run', 'five', 'km', 'Jason', 'Weaver', 'Eight', 'ran', 'Favourite', 'Distances', 'Winner', 'owned', 'Cheveley', 'Park', 'Stud', 'Newmarket', 'Value', 'sterling', 'TENNIS', 'TOSHIBA', 'CLASSIC', 'CARLSBAD', 'California', 'Results', 'Toshiba', 'Classic', 'tennis', 'tournament', 'prefix', 'denotes', 'seeding', 'Second', 'Arantxa', 'Sanchez', 'Vicario', 'Spain', 'Naoko', 'Kijimuta', 'Kimiko', 'Date', 'Yone', 'Kamio', 'Sandrine', 'Testud', 'Sugiyama', 'Nathalie', 'Tauziat', 'Shi-Ting', 'Wang', 'HAMLET', 'CUP', 'COMMACK', 'York', 'Waldbaum', 'Hamlet', 'Michael', 'Chang', 'Sergi', 'Bruguera', 'Joyce', 'Richey', 'Reneberg', 'Martin', 'Damm', 'Czech', 'Republic', 'Younes', 'El', 'Aynaoui', 'Morocco', 'retired', 'Karol', 'Kucera', 'Slovakia', 'Hicham', 'Arazi', 'DALGLISH', 'SAD', 'OVER', 'BLACKBURN', 'PARTING', 'Kenny', 'Dalglish', 'spoke', 'sadness', 'leaving', 'club', 'premier', 'league', 'title', 'parted', 'mutual', 'consent', 'ex-manager', 'confessed', 'taking', 'division', 'local', 'newspaper', 'holiday', 'same', 'opinion', 'albeit', 'little', 'If', 'opened', 'my', 'mouth', 'stayed', 'way', 'let', 'get', 'job', 'conclusion', 'then', 'past', 'director', 'football', 'CRICKET', 'COUNTY', 'CHAMPIONSHIP', 'Close', 'play', 'scores', 'four-day', 'County', 'Championship', 'cricket', 'matches', 'Weston-super-Mare', 'Durham', 'D.', 'Cox', 'S.', 'Campbell', 'G.', 'Somerset', 'M.', 'Lathwell', 'Firsy', 'Colchester', 'Gloucestershire', 'J.', 'Russell', 'A.', 'Symonds', 'Cowan', 'Essex', 'Cardiff', 'Kent', 'Walker', 'Fulton', 'v', 'Glamorgan', 'Leicester', 'Leicestershire', 'P.', 'Simmons', 'Nixon', 'Hampshire', 'Northampton', 'Sussex', 'N.', 'Lenham', 'V.', 'Drakes', 'Wells', 'Northamptonshire', 'Trent', 'Nottinghamshire', 'Archer', 'Dowman', 'Surrey', 'Worcester', 'Warwickshire', 'Giles', 'W.', 'Khan', 'Worcestershire', 'Headingley', 'Yorkshire', 'C.', 'White', 'Moxon', 'Vaughan', 'Lancashire', 'ENGLAND', 'V', 'PAKISTAN', 'FINAL', 'TEST', 'SCOREBOARD', 'Scoreboard', 'final', 'Oval', 'innings', 'Atherton', 'b', 'Waqar', 'Younis', 'Mushtaq', 'Ahmed', 'Hussain', 'c', 'Saeed', 'Anwar', 'Thorpe', 'lbw', 'Mohammad', 'Akram', 'Crawley', 'Knight', 'Lewis', 'Wasim', 'I.', 'Salisbury', 'Extras', 'wickets', 'Fall', 'To', 'bat', 'R.', 'Croft', 'Cork', 'Mullally', 'Bowling', 'date', 'Aamir', 'Sohail', 'Ijaz', 'Inzamam-ul-Haq', 'Salim', 'Malik', 'Asif', 'Mujtaba', 'Moin', 'Akam', 'FERGUSON', 'BACK', 'IN', 'SCOTTISH', 'SQUAD', 'AFTER', 'MONTHS', 'GLASGOW', 'Everton', 'Duncan', 'Ferguson', 'scored', 'Manchester', 'picked', 'Scottish', 'squad', 'Glasgow', 'Rangers', 'striker', 'Ally', 'McCoist', 'another', 'man', 'form', 'hat-tricks', 'four', 'named', 'qualifier', 'Austria', 'Vienna', 'served', 'jail', 'head-butting', 'opponent', 'Scotland', 'caps', 'December', 'Brown', \"'ve\", 'watched', 'bang', 'great', 'scoring', 'moment', 'Celtic', 'Jackie', 'McNamara', 'successful', 'earns', 'call-up', 'LUNCH', 'ON', 'DAY', 'THIRD', 'lunch', 'KEANE', 'SIGNS', 'FOUR-YEAR', 'CONTRACT', 'WITH', 'MANCHESTER', 'UNITED', 'Ireland', 'midfielder', 'Roy', 'Keane', 'signed', 'four-year', 'F.A.', 'champions', 'deal', 'game', 'delighted', 'Alex', 'CANADIAN', 'OPEN', 'TORONTO', 'Canadian', 'Open', 'Daniel', 'Nestor', 'Canada', 'Thomas', 'Muster', 'Mikael', 'Tillstrom', 'Goran', 'Ivanisevic', 'Croatia', 'Ferreira', 'Jiri', 'Novak', 'Marcelo', 'Rios', 'Chile', 'Kenneth', 'Carlsen', 'Denmark', 'MaliVai', 'Corretja', 'Todd', 'Renzo', 'Furlan', 'Philippoussis', 'Marc', 'Rosset', 'Switzerland', 'Cedric', 'Pioline', 'Gregory', 'Carraz', 'Patrick', 'Rafter', 'Alberto', 'Berasategui', 'Petr', 'Korda', 'Francisco', 'Clavet', 'Vacek', 'Stoltenberg', 'Woodbridge', 'Sebastien', 'Lareau', \"O'Brien\", 'Byron', 'Black', 'Zimbabwe', 'Bohdan', 'Ulihrach', 'Andrea', 'Gaudenzi', 'Henman', 'Woodruff', 'walkover', 'MILLNS', 'BOLAND', 'CAPE', 'TOWN', 'provincial', 'Boland', 'fast', 'bowler', 'Millns', 'toured', 'replaces', 'all-rounder', 'Phillip', 'DeFreitas', 'professional', 'EUROPEAN', 'WINNERS', 'TIRANA', 'Winners', 'qualifying', 'soccer', 'Tirana', 'Flamurtari', 'Vlore', 'Chemlon', 'Humenne', 'Lubarskij', 'minute', 'Valkucak', 'win', 'Chorzow', 'Ruch', 'Llansantffraid', 'Wales', 'Arkadiusz', 'Bak', 'Arwel', 'Miroslav', 'Larnaca', 'AEK', 'Cyprus', 'Kotaik', 'Abovyan', 'Armenia', 'Zoran', 'Kundic', 'Klimis', 'Alexandrou', 'Milenko', 'Kovasevic', 'penalty', 'Koprinovic', 'Pavlos', 'Markou', 'Siauliai', 'Kareda', 'Lithuania', 'Sion', 'agrregate', 'Vinnytsya', 'Nyva', 'Tallinna', 'Sadam', 'Estonia', 'Aggregate', 'score', 'goals', 'rule', 'Bergen', 'Brann', 'Norway', 'Shelbourne', 'Mons', 'Ivar', 'Mjelde', 'Ove', 'Pedersen', 'Rutherford', 'Sofia', 'Levski', 'Bulgaria', 'Olimpija', 'Slovenia', 'Scorer', 'Ilian', 'Simeonov', 'penalties', 'Vaduz', 'Liechtenstein', 'RAF', 'Riga', 'Latvia', 'Daniele', 'Polverino', 'Agrins', 'Zarins', 'Luxembourg', 'Varteks', 'Varazdin', 'Drazen', 'Beser', 'Miljenko', 'Mumler', 'Jamir', 'Cvetko', 'Torshavn', 'Havnar', 'Boltfelag', 'Faroe', 'Islands', 'Dynamo', 'Batumi', 'Georgia', 'Prague', 'Sparta', 'Glentoran', 'Northern', 'Gunda', 'Lumir', 'Mistr', 'Horst', 'Siegl', 'Zdenek', 'Svoboda', 'Gabriel', 'Edinburgh', 'Hearts', 'Star', 'Belgrade', 'Yugoslavia', 'Dave', 'McPherson', 'Vinko', 'Marinovic', 'Rishon-Lezion', 'Hapoel', 'Ironi', 'Constructorul', 'Chisinau', 'Moldova', 'Anjalonkoski', 'Karabach', 'Agdam', 'Azerbaijan', 'Skopje', 'Sloga', 'Jugomagnat', 'Macedonia', 'Kispest', 'Honved', 'Hungary', 'Add', 'Rishon', 'Moshe', 'Sabag', 'Nissan', 'Kapeta', 'Tomas', 'Cibola', 'Constructorol', 'Sergei', 'Rogachev', 'Gennadi', 'Skidan', 'GOTHENBURG', 'PUT', 'FERENCVAROS', 'OUT', 'EURO', 'BUDAPEST', 'IFK', 'Gothenburg', 'drew', 'Ferencvaros', 'Champions', 'tie', 'played', 'Ferenc', 'Horvath', 'Andreas', 'Andersson', 'BRAZILIAN', 'RIO', 'DE', 'JANEIRO', 'midweek', 'Brazilian', 'championship', 'Bahia', 'Atletico', 'Paranaense', 'Corinthians', 'Guarani', 'Coritiba', 'Mineiro', 'Cruzeiro', 'Vitoria', 'Flamengo', 'Juventude', 'Goias', 'Sport', 'Recife', 'Gremio', 'Bragantino', 'Palmeiras', 'Vasco', 'da', 'Gama', 'Portuguesa', 'Parana', 'NEWCOMBE', 'PONDERS', 'HIS', 'DAVIS', 'FUTURE', 'SYDNEY', 'captain', 'Newcombe', 'signalled', 'resignation', 'loses', 'Wimbledon', 'champion', 'coach', 'Tony', 'Roche', 'determined', 'events', 'Split', 'lose', 'look', 'giving', 'someone', 'else', 'Sydney', 'Telegraph', 'world', 'clay', 'Under', 'leadership', 'relegated', 'elite', 'slipped', 'rank', 'Since', 'Neale', 'Fraser', 'tandem', 'doubles', 'partner', 'wins', 'losses', 'selected', 'semifinalist', 'Olympic', 'Woodforde', 'Croatians', 'boasts', 'conceded', 'hard-pressed', 'Croatian', 'breath', 'absolute', 'best', 'described', 'toughest', 'faced', 'beaten', 'finalists', 'ago', 'guidance', 'BADMINTON', 'MALAYSIAN', 'KUALA', 'LUMPUR', 'Malaysian', 'badminton', 'Men', 'singles', 'Luo', 'Yigang', 'Hwang', 'Sun-ho', 'Korea', 'Wong', 'Malaysia', 'Abdul', 'Samad', 'Ismail', 'Kantharoopan', 'Jeroen', 'Van', 'Dijk', 'Netherlands', 'Wijaya', 'Indra', 'Indonesia', 'Pang', 'Chen', 'Hu', 'Zhilan', 'Nunung', 'Subandoro', 'Hermawan', 'Susanto', 'Fung', 'Permadi', 'Women', 'Cindana', 'Margit', 'Borg', 'Sun', 'Jian', 'Marina', 'Andrievskaqya', 'Meluawati', 'Chia', 'Fong', 'Gong', 'Zhichao', 'Liu', 'Lufung', 'Zeng', 'Yaqiong', 'Li', 'Feng', 'Zealand', 'Christine', 'Magnusson', 'Ishwari', 'Boopathy', 'Zhang', 'Ning', 'Olivia', 'REVISED', 'MEN', \"'S\", 'DRAW', 'NEW', 'Revised', 'draw', 'championships', 'beginning', 'U.S', 'Tennis', 'Centre', 'Draw', 'Pete', 'Sampras', 'vs.', 'Adrian', 'Voinea', 'Magnus', 'Larsson', 'Volkov', 'vs', 'Qualifier', 'Andrei', 'Olhovskiy', 'Roberto', 'Carretero', 'Jordi', 'Burillo', '------------------------', 'Jonas', 'Bjorkman', 'Christian', 'Rudd', 'Rikl', 'Sjeng', 'Schalken', 'Schaller', 'Grant', 'Stafford', 'Guy', 'Forget', 'Fernando', 'Meligeni', 'Brazil', 'Yevgeny', 'Kafelnikov', 'Chesnokov', 'Draper', 'Galo', 'Blanco', 'Johansson', 'Hendrik', 'Dreekman', 'Rusedski', 'Medvedev', 'Jean-Philippe', 'Fleurian', 'Kroslak', 'Costa', 'Younnes', 'Shuzo', 'Matsuoka', 'Doug', 'Flach', 'Mats', 'Wilander', 'Haarhuis', 'Tebbutt', 'Jonathan', 'Stark', 'Bernd', 'Karbacher', 'Stefan', 'Edberg', 'Richard', 'Krajicek', 'Andre', 'Agassi', 'Mauricio', 'Hadad', 'Colombia', 'Marcos', 'Ondruska', 'Felix', 'Mantilla', 'Carlos', 'Moya', 'Humphries', 'Siemerink', 'Carl-Uwe', 'Steeb', 'Wheaton', 'Kevin', 'Kim', 'Nicolas', 'Lapentti', 'Ecuador', 'Karim', 'Alami', 'Enqvist', 'Stephane', 'Simian', 'Guillaume', 'Raoux', 'Filip', 'Dewulf', 'Belgium', 'Knowles', 'Bahamas', 'Filippini', 'Uruguay', 'Kris', 'Goossens', 'Stich', 'Chuck', 'Adams', 'Javier', 'Frana', 'Argentina', 'Courier', 'Grabb', 'Sandon', 'Stolle', 'Stefano', 'Pescosolido', 'Arnaud', 'Boetsch', 'Pereira', 'Venezuela', 'Gustafsson', 'Jeff', 'Tarango', 'Radulescu', 'Jared', 'Palmer', 'Hernan', 'Gumy', 'Nicklas', 'Kulti', 'Jakob', 'Hlasek', 'Cecil', 'Mamiit', 'Vince', 'Spadea', 'Prinosil', 'Carbonell', 'BASEBALL', 'ORIOLES', 'DAVEY', 'JOHNSON', 'HOSPITALIZED', 'BALTIMORE', 'Baltimore', 'Orioles', 'Davey', 'Johnson', 'miss', 'Seattle', 'Mariners', 'hospital', 'irregular', 'heartbeat', 'hospitalized', 'experiencing', 'dizziness', 'treated', 'observed', 'physician', 'Dr.', 'William', 'Goldiner', 'adding', 'released', 'bench', 'Andy', 'Etchebarren', 'manage', 'absence', 'Angels', 'skipper', 'Columbia', 'Presbyterian', 'Hospital', 'blood', 'clot', 'calf', 'eight', 'seasons', 'off-season', 'replacing', 'Regan', 'Cincinnati', 'Reds', 'League', 'guided', 'Mets', 'games', 'pull', 'within', 'slumping', 'Yankees', 'American', 'Division', 'MAJOR', 'LEAGUE', 'STANDINGS', 'WEDNESDAY', 'GAMES', 'Major', 'Baseball', 'standings', 'tabulate', 'lost', 'winning', 'percentage', 'AMERICAN', 'EASTERN', 'DIVISION', 'W', 'L', 'GB', 'BOSTON', 'DETROIT', 'CENTRAL', 'CLEVELAND', 'MINNESOTA', 'MILWAUKEE', 'KANSAS', 'CITY', 'WESTERN', 'TEXAS', 'SEATTLE', 'OAKLAND', 'CALIFORNIA', 'THURSDAY', 'AUGUST', 'SCHEDULE', 'ATLANTA', 'MONTREAL', 'FLORIDA', 'PHILADELPHIA', 'HOUSTON', 'ST', 'LOUIS', 'CINCINNATI', 'PITTSBURGH', 'SAN', 'DIEGO', 'LOS', 'ANGELES', 'COLORADO', 'FRANCISCO', 'CAPS', 'Chicago', 'Milwaukee', 'Oakland', 'Texas', 'Pittsburgh', 'St', 'Louis', 'Philadelphia', 'Montreal', 'GREER', 'HOMER', 'LIFTS', 'PAST', 'INDIANS', 'Rusty', 'Greer', 'two-run', 'homer', 'inning', 'rallied', 'Cleveland', 'Indians', 'rubber', 'three-game', 'series', 'With', 'pitch', 'Julian', 'Tavarez', 'right-field', 'fence', 'off-speed', 'tried', 'swing', 'big', 'crowd', 'intense', 'shot', 'Ivan', 'Rodriguez', 'double', 'catcher', 'Mickey', 'Cochrane', 'Johnny', 'Bench', 'Terry', 'Kennedy', 'catchers', 'nine', 'meetings', 'Western', 'Jacobs', 'Field', 'joining', 'teams', 'A.L.', 'Central', 'extra', 'ninth', 'Lofton', 'single', 'Ed', 'Vosberg', 'blew', 'save', 'got', 'allowing', 'hits', 'walks', 'strikeouts', 'scoreless', 'Dean', 'Cal', 'Ripken', 'fifth-inning', 'solo', 'Bobby', 'Bonilla', 'three-run', 'seventh', 'power', 'surging', 'runs', 'fifth', 'bottom', 'starter', 'Sterling', 'Hitchcock', 'blast', 'Randy', 'Cy', 'Young', 'allowed', 'relief', 'appearances', 'disabled', 'RBI', 'cut', 'Erickson', 'laboured', 'straight', 'homers', 'dropped', 'row', 'became', 'shortstop', 'major-league', 'history', 'Hoiles', 'Dickson', 'scattered', 'debut', 'Chili', 'belted', 'each', 'plate', 'Derek', 'Jeter', 'settled', 'pitcher', 'tying', 'Jimmy', 'Key', 'baserunners', 'interim', 'Boston', 'Mike', 'Stanley', 'bases-loaded', 'eighth-inning', 'Sox', 'Athletics', 'owns', 'career', 'batting', 'bases', 'loaded', 'Mo', 'Vaughn', 'went', 'walk', 'stole', 'collected', 'Brosius', 'homered', 'drove', 'Detroit', 'Ausmus', 'capped', 'four-run', 'eighth', 'Tigers', 'reeling', 'consecutive', 'dropping', 'Kansas', 'City', 'Juan', 'Guzman', 'tossed', 'complete-game', 'six-hitter', 'league-best', 'ERA', 'Blue', 'Jays', 'Royals', 'span', 'earned', 'lowered', 'Minnesota', 'Jaha', 'five-run', 'Brewers', 'Twins', 'Jose', 'Valentin', 'COCU', 'DOUBLE', 'EARNS', 'PSV', 'WIN', 'Cocu', 'spur', 'Eindhoven', 'Nijmegen', 'bicycle', 'kick', 'minutes', 'Arthur', 'Numan', 'Luc', 'Nilis', 'scorer', 'marksmen', 'Ajax', 'defence', 'NAC', 'Breda', 'DUTCH', 'SUMMARY', 'Eykeren', 'Halftime', 'RESULT', 'SHARPSHOOTER', 'KNUP', 'SWISS', 'GENEVA', 'Galatasaray', 'Knup', 'internationals', 'recalled', 'Baku', 'overlooked', 'Artur', 'Jorge', 'finals', 'Rolf', 'Fringer', 'clearly', 'progress', 'beyond', 'phase', 'Euro', 'Squad', 'Goalkeepers', 'Marco', 'Pascolo', 'Cagliari', 'Pascal', 'Zuberbuehler', 'Grasshoppers', 'Defenders', 'Henchoz', 'Hamburg', 'Hottiger', 'Yvan', 'Quentin', 'Ramon', 'Vega', 'Raphael', 'Wicky', 'Midfielders', 'Alexandre', 'Comisetti', 'Antonio', 'Esposito', 'Fournier', 'Stuttgart', 'Christophe', 'Ohrel', 'Lausanne', 'Sylvestre', 'Sesa', 'Servette', 'Ciriaco', 'Sforza', 'Inter', 'Milan', 'Murat', 'Yakin', 'Strikers', 'Kubilay', 'Turkyilmaz', 'Bonvin', 'Chapuisat', 'Borussia', 'Dortmund', 'ATHLETICS', 'IT', 'RECORD', 'BEERS', 'THE', 'HOUSE', 'Spectators', 'Brussels', 'grand', 'prix', 'incentive', 'cheer', 'athletes', 'performances', 'glass', 'beer', 'Belgian', 'brewery', 'pay', 'drinks', 'goes', 'organisers', 'expensive', 'rounds', 'ever', 'already', 'records', 'broken', 'women', 'ROUND', 'STUTTGART', 'Leading', 'golf', 'Broadhurst', 'Raymond', 'Ian', 'Woosnam', 'Bernhard', 'Langer', 'Ronan', 'Rafferty', 'Lanner', 'Riley', 'Eamonn', 'Darcy', 'Nyman', 'Claydon', 'Roe', 'Retief', 'Goosen', 'Carl', 'Suneson', 'Stephen', 'Lawrie', 'Pyman', 'Max', 'Anglert', 'Miles', 'Tunnicliff', 'Cevaer', 'Des', 'Smyth', 'Carter', 'Lee', 'Westwood', 'Chalmers', 'Miguel', 'Angel', 'Bjorn', 'Roca', 'Derrick', 'Cooper', 'Hawksworth', 'Padraig', 'Harrington', 'Welch', 'Gogele', 'McGinley', 'Gary', 'Orr', 'Jose-Maria', 'Canizares', 'Jonzon', 'Eales', 'Williams', 'Andrew', 'Coltart', 'Lomas', 'Rivero', 'Robert', 'Karlsson', 'Marcus', 'Wills', 'Pedro', 'Linhart', 'Jamie', 'Spence', 'Price', 'Pinero', 'Mouland', 'UEFA', 'REWARDS', 'THREE', 'COUNTRIES', 'FAIR', 'PLAY', 'rewarded', 'additional', 'headed', 'Fair', 'Play', 'rankings', 'formula', 'account', 'factors', 'including', 'red', 'yellow', 'cards', 'coaching', 'spectators', 'behaviour', 'clubs', 'national', 'allocated', 'places', 'Belarus', 'Iceland', 'Portugal', 'Greece', 'POLICE', 'COMMANDOS', 'HAND', 'AUSTRALIANS', 'MATCH', 'COLOMBO', 'Armed', 'police', 'commandos', 'patrolled', 'ground', 'tour', 'Sri', 'Lanka', 'youth', 'limited', 'overs', 'includes', 'India', 'promised', 'presence', 'sniffer', 'dogs', 'plainclothes', 'policemen', 'trouble-free', 'making', 'boycotting', 'fixture', 'ethnic', 'violence', 'warm-up', 'Ricky', 'Ponting', 'balls', 'sixes', 'fours', 'retiring', 'replied', 'Geoff', 'Marsh', 'impressed', 'competitiveness', 'made', 'sweat', 'ONE', 'ROMANIAN', 'DIES', 'BUS', 'CRASH', 'BULGARIA', 'SOFIA', 'One', 'Romanian', 'others', 'injured', 'Romanian-registered', 'bus', 'collided', 'Bulgarian', 'buses', \"o'clock\", 'morning', 'road', 'towns', 'Rousse', 'Veliko', 'Tarnovo', 'woman', 'Maria', 'accident', 'investigated', 'OFFICIAL', 'JOURNAL', 'CONTENTS', 'OJ', 'Note', 'contents', 'displayed', 'reverse', 'order', 'printed', 'Journal', 'Corrigendum', 'Regulation', 'EC', 'relating', 'invitation', 'tender', 'levies', 'refunds', 'white', 'sugar', 'certain', 'granting', 'compensatory', 'payments', 'system', 'producers', 'arable', 'crops', 'establishing', 'standard', 'values', 'determining', 'entry', 'fruit', 'vegetables', 'END', 'DOCUMENT', 'Home', 'Health', 'appeal', 'payment', 'denial', 'MINNETONKA', 'Minn', 'District', 'Court', 'Minneapolis', 'decision', 'Care', 'Financing', 'Administration', 'HCFA', 'reimbursement', 'Medicaid', 'Administrator', 'reversed', 'previously', 'favorable', 'regarding', 'related', 'community', 'liaison', 'personnel', 'continues', 'believe', 'majority', 'coverable', 'terms', 'Medicare', 'program', 'administrator', 'optimistic', 'ultimate', 'resolution', 'Gildea', 'recorded', 'reserve', 'equal', 'revenue', 'Separately', 'ruled', 'favor', 'expenses', 'disputed', 'distrct', 'court', 'dispute', 'pleased', 'recognize', 'significant', 'toward', 'disputes', 'Newsdesk', 'Oppenheimer', 'Oct.', 'div', 'LP', 'distribution', 'rate', 'quarterly', 'assuming', 'improved', 'ended', 'declared', 'partnership', 'unit', 'Best', 'sees', 'RICHMOND', 'Va', 'Products', 'Co', 'Chairman', 'Chief', 'Executive', 'second-quarter', 'retailer', 'annual', 'even', 'bankruptcy', 'consideration', 'emerged', 'Chapter', 'Bankruptcy', 'always', 'particularly', 'you', 'something', 'striving', 'Richmond-based', 'second-largest', 'stores', 'fall', 'closing', 'lease', 'agreements', 'plan', 'operates', 'states', 'For', 'Measles', 'exposure', 'bowel', 'measles', 'pregnant', 'babies', 'Crohn', 'debilitating', 'disorder', 'researchers', 'Swedish', 'born', 'mothers', 'caught', 'developed', 'cases', 'Dr', 'Wakefield', 'Free', 'School', 'Medicine', 'colleagues', 'screened', 'delivered', 'University', 'Uppsala', 'Four', 'children', 'wrote', 'Lancet', 'medical', 'journal', 'inflammation', 'sometimes', 'require', 'surgery', 'causes', 'diarrhoea', 'abdominal', 'pain', 'weight', 'involved', 'especially', 'severe', 'Exposure', 'viruses', 'often', 'cause', 'birth', 'defects', 'Most', 'notably', 'rubella', 'high', 'stillborn', 'baby', 'All', 'key', 'CBI', 'industrial', 'Following', 'survey', 'manufacturing', 'Confederation', 'Industry', 'MONTHLY', 'TRENDS', 'ENQUIRY', 'AUG', 'JULY', 'JUNE', 'MAY', 'book', 'stocks', 'goods', 'expectations', 'replying', 'above', 'normal', 'below', 'companies', 'representing', 'industries', 'accounting', 'manufactured', 'employees', 'Rosemary', 'Bennett', 'shipsales', 'Secondhand', 'tonnage', 'brokers', 'vessels', 'Iron', 'Gippsland', 'built', 'dwt', 'buyers', 'Sairyu', 'Maru', 'Stainless', 'Fighter', 'Some', 'subject', 'inspection', 'Garlic', 'pills', 'cholesterol', 'finds', 'studies', 'show', 'flawed', 'doctors', 'Oxford', 'people', 'benefit', 'significantly', 'garlic', 'tablets', 'levels', 'milligrams', 'dried', 'powder', 'placebo', 'differences', 'groups', 'receiving', 'College', 'Physicians', 'Those', 'low-fat', 'diet', 'measured', 'six-week', 'findings', 'accurate', 'Several', 'pressure', 'either', 'trials', 'interpreted', 'incorrectly', 'special', 'diets', 'beforehand', 'duration', 'six-month', 'trial', 'funded', 'Heart', 'Foundation', 'Lichtwer', 'Pharma', 'GmbH', 'makes', 'Kwai', 'brand', 'address', 'whole', 'affect', 'gives', 'aid', 'volcano-hit', 'Caribbean', 'development', 'Montserrat', 'much', 'population', 'living', 'south', 'fled', 'volcano', 'Soufriere', 'hills', 'times', 'Plymouth', 'evacuated', 'north', 'shelters', 'schools', 'assistance', 'provide', 'track', 'programme', 'designated', 'area', 'Overseas', 'Development', 'dependent', 'territories', 'active', 'Lynda', 'Chalker', 'recent', 'census', 'shown', 'Montserratians', 'remain', 'she', 'looms', 'Bill', 'Berkrot', 'Grand', 'Slam', 'seed', 'Steffi', 'Graf', 'aiming', 'able', 'ease', 'major', 'begins', 'opens', 'crown', 'top-ranked', 'Yayuk', 'Basuki', 'ceremony', 'revealed', 'both', 'holders', 'Looming', 'third-round', 'nemesis', 'rising', 'avenged', 'defeat', 'hitter', 'first-week', 'fireworks', 'While', 'stunning', 'upset', 'sailing', 'predictable', 'semifinal', 'showdown', 'star', 'tested', 'probably', 'Natasha', 'Zvereva', 'repeat', 'eighth-ranked', 'landing', 'Bumping', 'sixth', 'avoided', 'possibility', 'quarter-finals', 'lock', 'horns', 'semis', 'Surprise', 'ranked', 'Monica', 'Seles', 'Anne', 'Miller', 'victim', 'Second-ranked', 'Austrian', 'seeded', 'luck', 'faces', 'playing', 'survives', 'fifth-seeded', 'Perhaps', 'yet', 'unfortunate', 'first-round', 'matchup', 'pits', 'popular', 'Swede', 'two-time', 'farewell', 'one-match', 'affair', 'exception', 'looks', 'comfortable', 'likes', 'Frenchman', 'ailing', 'nursing', 'rib', 'injury', 'path', 'runner-up', 'fifth-ranked', 'Anke', 'Huber', 'Conchita', 'Martinez', 'eighth-seeded', 'Lindsay', 'Davenport', 'looking', 'opponents', 'encounter', 'Amanda', 'Coetzer', 'young', 'talent', 'Martina', 'Hingis', 'probable', 'quarter-final', 'clash', 'seventh-seeded', 'Jana', 'Novotna', 'Ruxandra', 'Dragomir', 'RTRS', 'Top-seeded', 'lefthander', 'rallies', 'constantly', 'attacking', 'tactic', 'worked', 'second-round', 'bye', 'along', 'seeds', 'second-seeded', 'unseeded', 'Other', 'advancing', 'seeed', 'Eighth', 'eliminated', 'hour', 'saved', 'point', 'third-set', 'break', 'compatriot', 'fortunate', 'marathon', 'knew', 'ranks', 'service', 'breaks', 'lanky', 'strokes', 'joking', 'chipping', 'charging', 'serving', 'volleying', 'really', 'timing', 'baseline', 'chances', 'every', 'come', 'Playing', 'lights', 'maybe', 'difference', 'deficit', 'erratically', 'surprise', 'famous', 'aces', 'outplayed', 'sixth-ranked', 'Indianapolis', 'quick', 'getaway', 'Something', 'arrived', 'And', 'feeling', 'soon', 'unfocused', 'calm', 'nervy', \"'m\", 'fought', 'tiebreak', 'serves', 'hoped', 'tight', 'Then', 'shanked', 'forehand', 'helped', 'Soccer', 'Korean', 'pro-soccer', 'SEOUL', 'Anyang', 'Chonnam', 'Puchon', 'Suwon', 'Standings', 'drawn', 'D', 'G', 'F', 'P', 'Chonan', 'Pohang', 'Pusan', 'Ulsan', 'Chonbuk', 'Senegal', 'cholera', 'outbreak', 'kills', 'DAKAR', 'central', 'Kaolack', 'Doctor', 'Masserigne', 'Ndiaye', 'staff', 'overwhelmed', 'rushing', 'symptoms', 'appear', 'deaths', 'miles', 'southeast', 'Senegalese', 'Dakar', 'Nigerian', 'Liberia', 'ECOMOG', 'MONROVIA', 'Sam', 'Victor', 'Malu', 'commander', 'peacekeeping', 'latest', 'civil', 'Inienger', 'officers', 'handover', 'dozen', 'accords', 'difficult', 'challenging', 'painful', 'Peacekeepers', 'harassed', 'assure', 'sight', 'Nations', 'observers', 'travelling', 'western', 'Tubmanburg', 'monitor', 'delayed', 'shooting', 'highway', 'Anthony', 'Nyakyi', 'finally', 'escort', 'ULIMO-J', 'faction', 'Faction', 'Abuja', 'Saturday', 'breaking', 'foresees', 'disarmament', 'combatants', 'Economic', 'Community', 'height', 'Guinea', 'prayer', 'CONAKRY', 'broadcast', 'repeatedly', 'dead', 'prosperity', 'precise', 'reason', 'clear', 'Lansana', 'Conte', 'vice-president', 'Organisation', 'Conference', 'prepare', 'OIC', 'Koranic', 'reading', 'sessions', 'prayers', 'farming', 'Badi-Tondon', 'Conakry', 'army', 'survived', 'revolt', 'veiled', 'topple', 'ordered', 'crackdown', 'corruption', 'seized', 'death', 'Marxist', 'Sekou', 'Toure', 'answers', 'bottle', 'JOHANNESBURG', 'boy', 'writing', 'girl', 'whose', 'washed', 'Nelson', 'Mandela', 'old', 'prison', 'Carlo', 'Hoffmann', 'jailer', 'son', 'beach', 'Robben', 'Island', 'Cape', 'Town', 'winter', 'storms', 'letter', 'ordinary', 'mail', 'post', 'Danielle', 'Murray', 'Sandusky', 'age', 'penfriend', 'reply', 'whoever', 'flung', 'journey', 'Atlantic', 'Ocean', 'Rottweiler', 'toddler', 'rottweiler', 'dog', 'belonging', 'elderly', 'couple', 'savaged', 'two-year-old', 'grandson', 'Booy', 'front', 'garden', 'grandparents', 'house', 'Vanderbijlpark', 'Johannesburg', 'His', 'bloody', 'body', 'lying', 'parents', 'pick', 'unclear', 'Dogs', 'fierce', 'enough', 'scare', 'burglars', 'becoming', 'increasingly', 'crime-infested', 'INDICATORS', 'updated', 'indicators', 'CPI', 'm', 'PPI', 'Current', 'Jan-May', 'NBH', 'MIT', 'Jan-June', 'bln', 'Gross', 'Unemployment', 'Budget', 'HUF', 'Jan-July', 'T-bill', 'yields', 'Government', 'J', 'BBB-minus', 'Duff', 'Phelps', 'IBCA', 'Thomson', 'BankWatch', 'BB-plus', 'Moody', 'Investors', 'BBB+', 'Credit', 'Rating', 'Agency', 'flow', 'Budapest', 'Fifty', 'die', 'rebels-Interfax', 'MOSCOW', 'least', 'servicemen', 'separatist', 'Chechen', 'Grozny', 'Interfax', 'command', 'Chechnya', 'interior', 'reconaisance', 'mission', 'clashed', 'Minutka', 'Square', 'independently', 'confirmed', 'peacemaker', 'Lebed', 'chief-of-staff', 'Aslan', 'Maskhadov', 'agreement', 'cease', 'hostilities', 'noon', 'detachment', 'raged', 'outnumbered', 'schoolgirl', 'blackmailer', 'textbooks', 'GDANSK', 'blackmailed', 'letters', 'threatening', 'explained', 'money', 'extract', 'zlotys', 'residents', 'Sierakowice', 'lives', 'nearby', 'Gdansk', 'blackmail', 'railway', 'station', 'Interviewed', 'psychologist', 'school', 'books', 'clothes', 'Kazimierz', 'Socha', 'case', 'poor', 'family', 'trouble', 'underage', 'offenders', 'index', 'pts', 'PRAGUE', 'broad', 'measure', 'equities', 'CNB', 'ten', 'sectoral', 'indices', 'banking', 'sign', 'NOVYE', 'ATAGI', 'Boris', 'Yeltsin', 'security', 'supremo', 'renewed', 'document', 'negotiated', 'village', 'officially', 'disclosed', 'Itar-Tass', 'provided', 'disengagement', 'aide', 'Russian-Chechen', 'Talks', 'detailed', 'Press', 'Barkhatov', 'rebel-held', 'progressing', 'briskly', 'mood', 'completed', 'signature', 'day-by-day', 'showed', 'clip', 'laughing', 'smiling', 'nominee', 'Tatyana', 'Dmitrieva', 'inaugurated', 'returned', 'Kremlin', 'two-day', 'lakelands', 'northwestern', 'Bosnia', 'SARAJEVO', 'Sarajevo', 'OSLOBODJENJE', 'Bosnian', 'federation', 'launches', 'common', 'taxes', 'dinar', 'kuna', 'Deutsche', 'mark', 'currency', 'introduced', 'Refugees', 'Displaced', 'Persons', 'Mirhunisa', 'Komarica', 'survivors', 'massacre', 'Srebrenica', 'languishing', 'laborers', 'Serbian', 'mines', 'According', 'male', 'Trepca', 'mine', 'Aleksandrovac', 'DNEVNI', 'AVAZ', 'Slovenian', 'briefly', 'detain', 'Ljubljana', 'cancel', 'Maribor', 'overnight', 'raids', 'ALKHAN-YURT', 'pounded', 'planes', 'artillery', 'calmed', 'although', 'sporadic', 'explosions', 'heard', 'correspondent', 'Lawrence', 'Sheets', 'speaking', 'Alkhan-Yurt', 'arrival', 'flew', 'firing', 'anything', 'clinched', 'separatists', 'halt', 'threatened', 'bombing', 'assault', 'Boat', 'passengers', 'rescued', 'Colombian', 'coast', 'BOGOTA', 'Coast', 'Guard', 'boat', 'Pacific', 'missing', 'tiny', 'Gorgona', 'southwest', 'sightseers', 'trip', 'Narino', 'fuel', 'Navy', 'Lt.', 'Italo', 'Pineda', 'boatman', 'coconuts', 'rainwater', 'sea', 'towed', 'Buenaventura', 'Argentine', 'raw', 'steel', 'BUENOS', 'AIRES', 'Steel', 'Center', 'Primary', 'iron', 'Hot', 'laminate', 'production', 'Production', 'cold', 'laminates', 'Webb', 'Buenos', 'Aires', 'Peru', 'kill', 'jungle', 'LIMA', 'Peruvian', 'northeastern', 'anti-', 'terrorist', 'sources', 'Maoist', 'Shining', 'Path', 'Alomella', 'Robles', 'small', 'northeast', 'Lima', 'villagers', 'listen', 'propaganda', 'speeches', 'centre', 'passing', 'motorists', 'daubed', 'slogans', 'By', 'whereabouts', 'severely', 'weakened', 'capture', 'Abimael', 'stepping', 'activities', 'guerrilla', 'conflicts', 'cost', 'damage', 'infrastructure', 'Former', 'Surinam', 'PARAMARIBO', 'Flamboyant', 'Surinamese', 'Ronny', 'Brunswijk', 'custody', 'charged', 'attempted', 'murder', 'turned', 'himself', 'Freddy', 'Pinas', 'Surinamese-born', 'visitor', 'bar-room', 'brawl', 'mining', 'Moengo', 'east', 'Paramaribo', 'Ro', 'Gajadhar', 'showing', 'cuts', 'bruises', 'feared', 'Jungle', 'Command', 'shoot', 'objected', 'advances', 'wife', 'bodyguards', 'charges', 'merely', 'defended', 'less', 'thief', 'buttocks', 'uprising', 'regime', 'strongman', 'Desi', 'Bouterse', 'conflict', 'caused', 'thousands', 'flee', 'neighbouring', 'Guiana', 'eventually', 'paved', 'Despite', 'numerous', 'businessman', 'logging', 'interests', 'manages', 'occasionally', 'Noisy', 'saw', 'leads', 'Thai', 'heroin', 'hideaway', 'BANGKOK', 'Hong', 'Kong', 'carpenter', 'arrested', 'seaside', 'Pattaya', 'kg', 'complaints', 'noisy', 'Cheung', 'Siu', 'Man', 'searched', 'bags', 'hidden', 'hollow', 'spaces', 'wooden', 'planks', 'hired', 'hide', 'Police', 'sawing', 'several', 'escaping', 'door', 'street', 'baht', 'Officials', 'hunting', 'collaborators', 'detained', 'pending', 'formal', 'Downer', 'follows', 'friction', 'nations', 'Qian', 'Qichen', 'consulate', 'sovereignty', 'colony', 'strained', 'sell', 'uranium', 'issues', 'affecting', 'include', 'plans', 'pact', 'Canberra', 'Tibet', 'exiled', 'spiritual', 'Dalai', 'Lama', 'conservative', 'accuse', 'PA', 'NABLUS', 'bookseller', 'Information', 'undertaking', 'distribute', 'written', 'critics', 'self-rule', 'deals', 'anyone', 'legal', 'destroy', 'Amman', 'Daoud', 'Makkawi', 'owner', 'Nablus-based', 'al-Risala', 'bookshop', 'copies', 'Edward', 'Said', 'prominent', 'scholar', 'citizen', 'origin', 'outspoken', 'critic', 'accord', 'On', 'confiscated', 'Israel-PLO', 'Director-General', 'Mutawakel', 'Taha', 'insisted', 'Authority', 'censor', 'strategy', 'suppress', 'freedom', 'expression', 'whatsoever', 'relevent', 'legislations', 'resulted', 'mistakes', 'explain', 'journalists', 'writers', 'authors', 'Journalist', 'Seale', 'banned', 'shop', 'sure', 'selling', 'think', 'afraid', 'Strip', 'Jewish', 'handed', 'parts', 'blames', 'Istanbul', 'tower', 'CAIRO', 'carrier', 'EgyptAir', 'airport', 'Twenty', 'Boeing', 'overshot', 'runway', 'fire', 'taxi', 'skipped', 'onto', 'line', 'Mohamed', 'Fahim', 'Rayyan', 'conference', 'instead', 'yards', 'steep', 'aviation', 'noted', 'pilot', 'misleading', 'rainstorm', 'Its', 'wet', 'brake', 'medium', 'wrong', 'private', 'Ihlas', 'wants', 'nothing', 'Sudanese', 'rulers', 'Egyptian', 'shelter', 'militants', 'Hosni', 'Mubarak', 'speech', 'Moslem', 'Addis', 'Ababa', 'sponsored', 'Security', 'Council', 'flights', 'Khartoum', 'incident', 'effect', 'Sudan', 'fails', 'extradite', 'cannot', 'Ethiopia', 'eager', 'Turabi', 'whatever', 'academics', 'al-Turabi', 'Front', 'bitter', 'terrorists', 'sheltering', 'passorts', 'far', 'relations', 'ostensibly', 'shares', 'shed', 'profit-taking', 'ISTANBUL', 'shedding', 'amid', 'Gains', 'totalled', 'volume', 'trillion', 'lira', 'Profit-taking', 'actually', 'reaction', 'rise', 'tomorrow', 'Burcin', 'Mavituna', 'Interbank', 'Brokers', 'profit', 'approached', 'cheap', 'attracted', 'pierced', 'session', 'Isbank', 'gained', 'Shares', 'utility', 'Cukurova', 'Of', 'gainers', 'outdid', 'losers', 'stable', 'SA', 'Miss', 'Universe', 'hides', 'veil', 'silence', 'Kieran', 'LAS', 'CRUCES', 'N.M.', 'Alicia', 'Machado', 'Mexico', 'questions', 'claims', 'crash', 'Los', 'Angeles', 'slipping', 'desert', 'Las', 'Cruces', 'attended', 'Teen', 'USA', 'pageant', 'contestant', 'scrutiny', 'ultimatum', 'Angeles-based', 'Inc.', 'drop', 'losing', 'swollen', 'wisdom', 'teeth', 'extracted', 'Marta', 'Fajardo', 'weighed', 'Vegas', 'habits', 'Everybody', 'addiction', 'eats', 'cakes', 'crazy', 'Organisers', 'flatly', 'wraps', 'blocked', 'access', 'Dressed', 'strapless', 'gown', 'heavier', 'contestants', 'rave', 'reviews', 'appearance', 'stage', 'Are', 'kidding', 'She', 'fantastic', 'Nikki', 'Very', 'sexy', 'publicists', 'stay', 'promotional', 'sponsors', 'returning', 'Sept', 'Beauty', 'queens', 'high-profile', 'personalities', 'alleged', 'page', 'eased', 'indulged', 'passion', 'pasta', 'cake', 'fat', 'putting', 'fine', 'wished', 'happened', 'spiritually', 'mentally', 'terrific', 'lifestyle', 'associated', 'routine', 'exercise', 'ability', 'type', 'regimented', 'workout', 'exist', 'dont', 'talked', 'Kevorkian', 'attends', 'suicide', 'PONTIAC', 'Mich', 'bringing', 'Missouri', 'suffering', 'multiple', 'sclerosis', 'emergency', 'room', 'Aranosian', 'Pontiac', 'Osteopathic', 'Patricia', 'Smith', 'Lees', 'Summit', 'midday', 'paralysed', 'assisted-suicide', 'attending', 'starting', 'crusade', 'doctor', 'assisted', 'lawyer', 'Geoffrey', 'Fieger', 'husband', 'father', 'James', 'patients', 'location', 'rapidly', 'multple', 'Louise', 'Siebens', 'amyotrophic', 'lateral', 'Lou', 'Gehrig', 'Judith', 'Curren', 'Massachusetts', 'suffered', 'chronic', 'fatigue', 'syndrome', 'non-terminal', 'life', 'Fairview', 'Announcement', 'As', 'Issuer', 'TX', 'Sale', 'Amount', 'Expected', 'Municipal', 'Desk', 'Defiant', 'neo-Nazi', 'jailed', 'Gray', 'HAMBURG', 'sentenced', 'Lauck', 'pumping', 'extremist', 'base', 'Lincoln', 'Nebraska', 'yelled', 'tirade', 'abuse', 'conviction', 'inciting', 'racial', 'hatred', 'struggle', 'shouted', 'escorted', 'arguing', 'client', 'offence', 'hailed', 'neo-Nazism', 'network', 'anti-Semitic', 'material', 'flowing', 'possessed', 'well-oiled', 'machine', 'honed', 'presiding', 'judge', 'Guenter', 'Bertram', 'cannon', 'extracts', 'praising', 'Hitler', 'greatest', 'describing', 'Nazi', 'slaughter', 'millions', 'Jews', 'myth', 'Eager', 'bars', 'complex', 'prosecutor', 'Mauruschat', 'offences', 'demanded', 'five-year', 'satisfied', 'sentence', 'Publishing', 'distributing', 'illegal', 'argued', 'laws', 'meant', 'produce', 'swastika-covered', 'magazines', 'videos', 'flags', 'Interior', 'Manfred', 'Kanther', 'welcomed', 'prosecution', 'ringleaders', 'biggest', 'distributers', 'vicious', 'racist', 'publications', 'Social', 'Democrats', 'dressed', 'sober', 'blue', 'suit', 'sporting', 'trademark', 'Hitleresque', 'moustache', 'emotion', 'spent', 'explaining', 'blurted', 'virtually', 'incomprehensible', 'quick-fire', 'diatribe', 'Neither', 'Socialists', 'Nazis', 'nor', 'communists', 'dared', 'kidnap', 'oblique', 'reference', 'extradition', 'truth', 'attorney', 'Hans-Otto', 'Sieg', 'courtroom', 'judges', 'actions', 'carried', 'obsessed', 'Nazism', 'devoted', 'Socialist', 'Workers', 'NSDAP-AO', 'derives', 'name', 'During', 'three-month', 'dealt', 'NS', 'Kampfruf', 'Battle', 'Cry', 'magazine', 'references', 'Aryan', 'supremacy', 'defamatory', 'statements', 'rejected', 'argument', 'request', 'convicted', 'disseminating', 'symbols', 'anti-constitutional', 'organisations', 'arrest', 'subtracted', 'UN', 'occur', 'NATIONS', 'arrangements', 'implement', 'oil-for-food', 'quite', 'speculate', 'preparations', 'secretary-general', 'anxious', 'Undersecretary-General', 'Yasushi', 'Akashi', 'sooner', 'monitors', 'carry', 'Department', 'Humanitarian', 'deputy', 'speculated', 'Suspected', 'killers', 'bishop', 'Algeria', 'TV', 'Algerian', 'suspected', 'killing', 'state-run', 'sought', 'slain', 'assassination', 'Roman', 'Catholic', 'Bishop', 'Pierre', 'Claverie', 'bomb', 'Oran', 'Herve', 'Charette', 'Algiers', 'Algerians', 'foreigners', 'pitting', 'radical', 'Islamists', 'commanding', 'flown', 'January-July', 'table', 'shows', 'volumes', 'handled', 'airports', 'exclude', 'trucked', 'airfreight', 'association', 'ADV', 'Berlin', 'Tegel', 'Tempelhof', 'Schoenefeld', 'Bremen', 'Dresden', 'Duessseldorf', 'Frankfurt', 'Hannover', 'Koeln', 'Cologne', 'Leipzig', 'Halle', 'Munich', 'Muenster', 'Osnabrueck', 'Nuremberg', 'Saarbruecken', 'TOTAL', 'Air', 'Cargo', 'Paribas', 'repeats', 'Aegon', 'research', 'Company-------------Price---Broker----------------', 'COMMENT', 'Not', 'forecast', 'performance', 'Reiterates', 'Estimates', 'Dfl', 'EPS', 'E', 'Dividend', 'Fax', 'Clinton', 'Ballybunion', 'fans', 'DUBLIN', 'resort', 'whirlwind', 'Irish', 'So', 'America', 'Dick', 'Spring', 'convention', 'bring', 'placards', 'waved', 'addressed', 'packed', 'Dublin', 'backs', 'requested', 'us', 'guests', 'Kennedys', 'Frank', 'Quilter', 'triumphant', 'process', 'observe', 'assurances', 'Erdmann', 'Wolfgang', 'Ischinger', 'assured', 'valid', 'Primakov', 'pledge', 'seek', 'solution', 'aegis', 'Cooperation', 'OSCE', 'quoting', 'Klaus', 'Kinkel', 'personal', 'urge', 'breakaway', 'threat', 'unauthorised', 'initiative', 'intention', 'positive', 'Goldiman', 'responsible', 'DELHI', 'global', 'nuclear', 'treaty', 'Delhi', 'intended', 'I.K.', 'Gujral', 'block', 'adoption', 'Geneva', 'entering', 'signing', 'kind', 'weapons', 'Experts', 'assemble', 'veto', 'Comprehensive', 'Test', 'Ban', 'Treaty', 'CTBT', 'bilateral', 'visualise', 'straining', 'text', 'position', 'clause', 'providing', 'modified', 'Asked', 'forwarded', 'Assembly', 'bridge', 'cross', 'reiterated', 'objections', 'negotiation', 'Disarmament', 'fact', 'weapon', 'hegemony', 'concerns', 'impossible', 'oblige', 'option', 'exercised', 'restraint', 'carrying', 'tests', 'lone', 'accept', 'constraints', 'rely', 'arsenals', 'sour', 'DHAKA', 'disquiet', 'Bangladeshi', 'Dhaka', 'Bangladesh', 'goverment', 'attached', 'importance', 'tragic', 'Siraj', 'Mia', 'Under-Secretary', 'Commonwealth', 'Affairs', 'Liam', 'Fox', 'interogation', 'arriving', 'bore', 'injuries', 'relatives', 'complained', 'murdered', 'post-mortem', 'tortured', 'drunk', 'wrist', 'act', 'seriously', 'reasons', 'important', 'relationship', 'leave', 'Nepal', 'governments', 'House', 'Commons', 'matter', 'thorough', 'investigation', 'outcome', 'harassment', 'nationals', 'Criminal', 'Investigation', 'immigration', 'connection', 'business', 'suburb', 'disrupt', 'Kashmir', 'polls', 'SRINAGAR', 'planning', 'troubled', 'Jammu', 'seems', 'Inderjit', 'Gupta', 'Srinagar', 'clamped', 'direct', 'abetting', 'militancy', 'valley', 'Islamabad', 'infiltrating', 'create', 'disturbance', 'noticed', 'among', 'growing', 'mercenaries', 'independence', 'H.D.', 'Deve', 'Gowda', 'centre-left', 'hopes', 'restore', 'normality', 'insurgency-related', 'Over', 'militant', 'engineering', 'banks', 'edged', 'sharply', 'institutional', 'investors', 'Stock', 'Exchange', 'DSE', 'all-share', 'turnover', 'taka', 'remained', 'unchanged', 'Eastern', 'Cables', 'Apex', 'Tannery', 'recovered', 'edge', 'short-covering', 'ratio', 'Reserve', 'bank', 'governor', 'Rangarajan', 'CRR', 'maintained', 'reduced', 'yes', 'addressing', 'industrialists', 'having', 'theoretical', 'supply', 'instrument', 'regulate', 'reducing', 'increasing', 'context', 'stood', 'commitment', 'response', 'viable', 'BOMBAY', 'Governor', 'Chakravarty', 'gross', 'product', 'GDP', 'sustainable', 'currrent', 'real', 'non-debt', 'reduction', 'debt-service', 'Bombay', 'Mother', 'Teresa', 'CALCUTTA', 'Saint', 'Gutters', 'Nobel', 'Prize', 'hope', 'dignity', 'unwanted', 'simple', 'love', 'heaps', 'honours', 'regards', 'saint', 'nun', 'Albanian', 'descent', 'maintains', 'joy', 'fulfilment', 'neglected', 'need', 'sympathy', 'pity', 'compassion', 'diminutive', 'missionary', 'respiratory', 'intensive', 'Indian', 'heart', 'turns', 'conscious', 'condition', 'task', 'alone', 'slums', 'densely-populated', 'Calcutta', 'grew', 'hearts', 'characteristically', 'unworthy', 'showering', 'Bharat', 'Ratna', 'Jewel', 'highest', 'award', 'Her', 'deteriorate', 'fitted', 'pacemaker', 'Vatican', 'Superior', 'Missionaries', 'Charity', 'More', 'delegates', 'elect', 'successor', 'agree', 'bacterial', 'pneumonia', 'Rome', 'ribs', 'receive', 'malaria', 'complicated', 'lung', 'fractured', 'collar', 'bone', 'frailty', 'arthritis', 'failing', 'eyesight', 'stopped', 'travels', 'mingle', 'desperate', 'Agnes', 'Goinxha', 'Bejaxhiu', 'Serbia', 'deeply', 'religious', 'Loretto', 'hoping', 'Order', 'Abbey', 'begin', 'novitiate', 'teach', 'geography', 'convent', 'divine', 'interviewer', 'belonged', 'superior', 'approved', 'training', 'missionaries', 'slum', 'Therese', 'Child', 'Jesus', 'simply', 'dying', 'Hindu', 'rest', 'penniless', 'Named', 'Nirmal', 'Hriday', 'Tender', 'chain', 'homes', 'destitute', 'admitting', 'founded', 'documentary', 'mixture', 'hyperbole', 'credulity', 'Catholics', 'FOCUS-News', 'forecasts', 'alien-led', 'boost', 'Bernard', 'Hickey', 'Media', 'baron', 'Rupert', 'Murdoch', 'News', 'Ltd', 'profits', 'film', 'Independence', 'Day', 'From', 'perspective', 'begun', 'promise', 'motion', 'picture', 'announcing', 'moderating', 'solid', 'orders', 'advertising', 'Broadcasting', 'budgeted', 'attainable', 'soothed', 'shareholders', 'pre-abnormals', 'A$', 'US$', 'cents', 'Analysts', 'disappointing', 'outlook', 'First', 'Lachlan', 'Drummond', 'offset', 'publishing', 'divisions', 'hefty', 'Asian', 'operations', 'Higher', 'newsprint', 'hard', 'Throughout', 'operating', 'cover', 'Times', 'Advertising', 'revenues', 'surprises', 'inserts', 'Guide', 'dramatically', 'arm', 'Harper-Collins', 'healthy', 'operation', 'demise', 'Book', 'Agreement', 'hurt', 'San', 'minimum', 'setting', 'expired', 'publishers', 'pulled', 'spotlight', 'understatement', \"'re\", 'internal', 'declined', 'p.m.', 'soft', 'savings', 'RBA', 'CANBERRA', 'slash', 'budget', 'useful', 'contribution', 'realised', 'raising', 'consolidation', 'unduly', 'restrict', 'ambiguous', 'Coalition', 'underlying', 'pledged', 'Determined', 'credible', 'rein', 'unsustainable', 'favourable', 'effects', 'activity', 'generally', 'long-term', 'saving', 'tending', 'promote', 'investment', 'lowering', 'BNZ', 'NZ', 'fixed', 'lending', 'WELLINGTON', 'cutting', 'responding', 'wholesale', 'Fixed', 'Wellington', 'Power', 'ODV', 'NZ$', 'Optimised', 'Deprival', 'valuation', 'reflected', 'extensions', 'lifespan', 'consistent', 'approach', 'followed', 'preventative', 'equipment', 'upgrading', 'revaluation', 'undertaken', 'disclosure', 'requirements', 'Commerce', 'Thais', 'hunt', 'breaker', 'Thailand', 'launched', 'manhunt', 'Bangkok', 'awaiting', 'drug', 'possession', 'Westlake', 'Victoria', 'sucessful', 'escape', 'Klongprem', 'outskirts', 'massive', 'confident', 'Vivit', 'Chatuparisut', 'Correction', 'trafficking', 'sawed', 'grill', 'cell', 'window', 'climbed', 'five-metre', 'wall', 'rope', 'bed', 'sheets', 'corrections', 'department', 'probing', 'inmates', 'chained', 'prevent', 'breakouts', 'Westerners', 'Australians', 'Tokyo', 'Soir', 'parent', 'TOKYO', 'Year', 'billions', 'yen', 'specified', 'LATEST', 'ACTUAL', 'Parent', 'FORECAST', 'YEAR-AGO', 'Sales', 'Ord', 'NOTE', 'specialised', 'manufacturer', 's', 'wear', 'Ka', 'Wah', 'HK$', 'mln', 'FRCD', 'HONG', 'KONG', 'floating', 'certificate', 'privately', 'placed', 'sole', 'arranger', 'HSBC', 'Markets', 'facility', 'tenor', 'pays', 'coupon', 'basis', 'Offered', 'Rate', 'Clearing', 'Moneymarkets', 'Unit', 'bans', 'nitrofuran', 'usage', 'chicken', 'antibiotic', 'applications', 'believes', 'cancer', 'breeders', 'feedmillers', 'abide', 'respect', 'safety', 'Chua', 'Jui', 'Meng', 'Bernama', 'two-year', 'maximum', 'ringgit', 'INDONESIAN', 'STOCKS', 'watch', 'JAKARTA', 'Indonesian', '**', 'Jakarta', 'involving', 'Megawati', 'Sukarnoputri', 'Around', 'stationed', 'demonstrators', 'Dow', 'three-session', 'streak', 'tobacco', 'beating', 'MARKETS', 'composite', 'bargain-hunting', 'big-capitalised', 'secondliners', 'rupiah', 'trading', 'WATCH', 'Packaging', 'Super', 'Indah', 'Makmur', 'offer', 'PT', 'VDH', 'Teguh', 'Sakti', 'wholly-owned', 'subsidiary', 'Singapore-listed', 'Der', 'Privately-owned', 'Duta', 'obtaining', 'fresh', 'syndicated', 'loans', 'management', 'reshuffle', 'equity', 'Ciputra', 'build', 'property', 'projects', 'worth', 'Surabaya', 'stock', 'movements', 'indices*', 'exchanges', 'change', 'highs', 'lows', 'dates', 'Also', 'Japanese', 'pound', 'gold', 'bullion', 'closes', 'brackets', 'CHANGE', 'HIGH', 'LOW', 'CLOSE', 'POINTS', 'Jun', 'Mar', 'Apr', 'Feb', 'FOREIGN', 'EXCHANGE', 'GOLD', 'BULLION', 'Dollar', '....', 'Pound', 'Gold', 'ounce', '*INDICES', 'USED', 'AND', 'THEIR', 'ALL-TIME', 'CLOSING', 'HIGHS', 'Nikkei', 'Dec', 'All-Ordinaries', 'Hang', 'Seng', 'hails', 'marks', 'Rostislav', 'Khotin', 'KIEV', 'celebrates', 'hailing', 'inter-ethnic', 'post-Soviet', 'achievement', 'declaration', 'nine-to-one', 'effectively', 'blow', 'Soviet', 'empire', 'centuries', 'largest', 'republics', 'Tajikistan', 'achievements', 'preservation', 'harmony', 'Leonid', 'Kuchma', 'televised', 'Unlike', 'situations', 'peaceful', 'civilised', 'initially', 'accompanied', 'hyper-inflation', 'collapse', 'signs', 'turnaround', 'Inflation', 'hyper-inflationary', 'respectable', 'economy', 'grow', 'solemn', 'Ukraina', 'Palace', 'turning', 'reforms', 'doubt', 'Adelbert', 'Knobl', 'Monetary', 'Fund', 'proud', 'much-postponed', 'hryvna', 'replace', 'karbovanets', 'rouble', 'trades', 'introduce', 'postpone', 'Proud', 'promptly', 'NATO', 'Partnership', 'policy', 'wrangle', 'offending', 'unofficial', 'top-level', 'delegation', 'protest', 'Kiev', 'Hennady', 'Udovenko', 'overreacting', 'seeing', 'itself', 'Westernising', 'eastern', 'strategic', 'aim', 'integration', 'economically', 'oriented', 'though', 'circles', 'push', 'membership', 'associate', 'grouping', 'closer', 'congratulated', 'anniversary', 'promising', 'stabilising', 'factor', 'united', 'Oldest', 'disappears', 'earliest', 'complete', 'example', 'disappeared', 'archives', 'Gazeta', 'Shqiptare', 'Mass', 'Gjon', 'Buzuku', 'dating', 'discovered', 'seminary', 'published', 'language', 'Albanians', 'sons', 'lamented', 'Musa', 'Hamiti', 'library', 'grateful', 'civilisation', 'inventing', 'photocopies', 'clamp', 'barter', 'keen', 'adopt', 'concerned', 'viewing', 'disguised', 'Volkova', 'Committee', 'exported', 'unimported', 'Barter', 'understated', 'actual', 'issued', 'decree', 'regulation', 'substantially', 'situation', 'traders', 'obliged', 'fines', 'Understating', 'loophole', 'tackling', 'technicalities', 'feature', 'decrees', 'liberalising', 'impetus', 'popped', 'preferred', 'reliable', 'transfer', 'systems', 'various', 'sorts', 'tranfers', 'incompetent', 'experienced', 'ones', 'Dmitry', 'Solovyov', 'Viacom', 'Mission', 'sequel', 'Paramount', 'Pictures', 'Cruise', 'blockbuster', 'Impossible', 'release', 'Variety', 'big-screen', 'version', 'spy', 'grossed', 'domestically', 'Inc-owned', 'Forrest', 'Gump', 'plot', 'reprise', 'roles', 'co-producer', 'Academy', 'Award-winning', 'screenwriter', 'Goldman', 'write', 'script', 'Brian', 'De', 'Palma', 'crack', 'Oscars', 'Butch', 'Cassidy', 'Sundance', 'Kid', 'criticised', 'blockbusters', 'singled', 'entertaining', 'movie', 'CRAWLEY', 'FORCED', 'SIT', 'batsman', 'endure', 'frustrating', 'delay', 'resuming', 'quest', 'maiden', 'century', 'Heavy', 'rain', 'drizzle', 'improvement', 'weather', 'umpires', 'announce', 'event', 'unbeaten', 'spotted', 'strumming', 'dressing-room', 'damp', 'patches', 'square', 'outfield', 'raining', 'brighter', 'bowled', 'MOTOR', 'BELGIAN', 'GRAND', 'PRIX', 'PRACTICE', 'TIMES', 'SPA-FRANCORCHAMPS', 'practice', 'Gerhard', 'Berger', 'Benetton', 'seconds', 'Coulthard', 'McLaren', 'Jacques', 'Villeneuve', 'Mika', 'Hakkinen', 'Heinz-Harald', 'Frentzen', 'Jean', 'Alesi', 'Damon', 'Hill', 'Schumacher', 'Brundle', 'Rubens', 'Barrichello', 'Herbert', 'Sauber', 'Olivier', 'Panis', 'Ligier', 'CORRECTED', 'Quarter-finals', 'Gabriela', 'Sabatini', 'Asa', 'Carlsson', 'Katarina', 'Studenikova', 'Karina', 'Habsudova', 'Corrects', 'Portsmouth', 'Queens', 'Tranmere', 'Grimsby', 'Stirling', 'Albion', 'Harden', 'Gooch', 'Robinson', 'Hooper', 'Penberthy', 'K.', 'Curran', 'T.', 'Munton', 'Illingworth', 'Lampitt', 'Blakey', 'Fairbrother', 'POLLOCK', 'HOPES', 'RETURN', 'WARWICKSHIRE', 'Shaun', 'Pollock', 'ankle', 'county', 'returns', 'swap', 'counties', 'Explaining', 'premature', 'departure', 'unavoidable', 'wicket', 'ALL', 'Score', 'SPONSORS', 'CASH', 'RAVANELLI', 'SHIRT', 'DANCE', 'Middlesbrough', 'Italian', 'Fabrizio', 'Ravanelli', 'sponsor', 'shirt', 'seen', 'Every', 'grey-haired', 'forward', 'pulls', 'shirtfront', 'salute', 'spectacle', 'Having', 'celebrate', 'fun', 'besides', 'chest', 'aggravated', 'foot', 'Chelsea', 'Forest', 'Bryan', 'Robson', 'ADVANCE', 'Aussies', 'reached', 'straight-set', 'victories', 'Unseeded', 'noteworthy', 'sixth-seeded', 'advanced', 'Third-seeded', 'three-hour', 'eliminating', 'Americans', 'overcame', 'getting', 'handle', 'pretty', 'easily', 'Put', 'things', 'missed', 'Before', 'felt', 'midnight', 'wake', 'routines', 'happier', 'person', 'aggressive', 'wind', 'affected', 'ATP', 'Tour', 'Haven', 'hitting', 'ball', 'mental', 'letdowns', 'competing', 'lot', 'shots', 'Still', 'marvelling', 'exciting', 'joked', 'Today', 'mostly', 'RUGBY', 'UNION', 'MULDER', 'SECOND', 'Japie', 'Mulder', 'Pretoria', 'Durban', 'spasms', 'fitness', 'check', 'Springbok', 'Teichmann', 'bruised', 'thigh', 'Markgraaff', 'means', 'Transvaal', 'Snyman', 'cap', 'alongside', 'colleague', 'Danie', 'Schalkwyk', 'Wing', 'Pieter', 'Hendriks', 'speculation', 'wing', 'line-up', 'shortly', 'denote', 'seedings', 'Ong', 'Ewe', 'Hock', 'Ijaya', 'Gang', 'INJURED', 'CHANDA', 'RUBIN', 'Promising', 'Chanda', 'Rubin', 'Championships', 'tendinitis', 'sidelined', 'misfortune', 'lucky', 'assignments', 'highest-ranked', 'non-seeded', 'player', 'moved', 'slot', 'notable', 'withdrawal', 'Mary', 'Pierce', 'Meredith', 'McGrath', 'Becker', 'FRIDAY', 'doubleheader', 'SORRENTO', 'HITS', 'SLAM', 'ROUTS', 'Oriole', 'Moyer', 'tiring', 'Sorrento', 'slam', 'routed', 'tagged', 'pair', 'Devereaux', 'Brady', 'Anderson', 'walked', 'none', 'struck', 'Norm', 'Charlton', 'batters', 'seal', 'Ken', 'Griffey', 'Jr', 'Edgar', 'stroked', 'back-to-back', 'Rocky', 'Coppinger', 'Jay', 'Buhner', 'advantage', 'Right', 'fielder', 'touched', 'scoreboard', 'Things', 'slams', 'wild-card', 'heading', 'pitches', 'dwell', 'Troy', \"O'Leary\", 'foul', 'pole', 'Roger', 'Clemens', 'shutout', 'pinch-hitter', 'Matt', 'Stairs', 'tripled', 'Tinsley', 'Steinbach', 'dunked', 'broken-bat', 'longest', 'majors', 'pitched', 'Reliever', 'Acre', 'Garret', 'DiSarcina', 'apiece', 'Edmonds', 'highlighted', 'six-run', 'coasted', 'battered', 'Rogers', 'outscored', 'Finley', 'four-game', 'Travis', 'Fryman', 'doubled', 'go-ahead', 'Melvin', 'Nieves', 'Damion', 'Easley', 'claimed', 'handing', 'halted', 'seven-game', 'Thompson', 'Belcher', 'en', 'route', 'red-hot', 'contests', 'yielded', 'covering', 'Erik', 'Hanson', 'outdueled', 'Fernandez', 'Jacob', 'Brumfield', 'Otis', 'blanked', 'shortened', 'SPORTING', 'START', 'SEASON', 'LISBON', 'Sporting', 'Luis', 'Predrosa', 'Lisbon', 'cruised', 'SC', 'Espinho', 'drilled', 'right-foot', 'Although', 'Nail', 'Besirovic', 'restored', 'Vidigal', 'Mustapha', 'Hadji', 'reigning', 'Porto', 'Benfica', 'PORTUGUESE', 'Portuguese', 'PAULI', 'TAKE', 'POINT', 'LATE', 'FIGHTBACK', 'Pauli', 'tipped', 'candidates', 'relegation', 'produced', 'second-half', 'fightback', 'Bundesliga', 'Schalke', 'raced', 'Trulsen', 'two-goal', 'cushion', 'afterwards', 'Springer', 'thanks', 'Sabotzik', 'Hansa', 'Rostock', 'Karsten', 'Baeron', 'dazzling', 'build-up', 'in-form', 'Harald', 'Spoerl', 'SALAH', 'HISSOU', 'BREAKS', 'METRES', 'Salah', 'Hissou', 'clocked', 'Haile', 'Gebreselassie', 'Hengelo', 'SUMMARIES', 'Summaries', 'min', 'Driller', 'Sobotzik', 'Thon', 'Wilmots', 'FRENCH', 'Nancy', 'Germain', 'MASTERKOVA', 'DAYS', 'Warner', 'Svetlana', 'Masterkova', 'smashed', 'bettered', 'mile', 'Zurich', 'ate', 'swift', 'lap', 'shave', 'Mozambique', 'Mutola', 'stadium', 'pushed', 'finishing', 'bonus', 'historic', 'capacity', 'dominated', 'middle-distance', 'races', 'Atlanta', 'three-year', 'maternity', 'richest', 'slashed', 'plus', 'kilo', 'fortnight', 'laid', 'comparable', 'surface', 'softer', 'enjoyed', 'gear', 'strides', 'pointing', 'clock', 'delight', 'crossed', 'WOMEN', 'EVOLUTION', 'Evolution', 'tabulated', 'Wachtel', 'adjusted', 'Diego', 'Borrego', 'Willison', 'Ames', 'Trinidad', 'Tobago', 'Coles', 'Chapman', 'Cea', 'Mason', 'Barry', 'Lane', 'Webster', 'MITCHELL', 'UPSTAGES', 'TRIO', 'OLYMPIC', 'SPRINT', 'CHAMPIONS', 'Dennis', 'Mitchell', 'upstaged', 'trio', 'present', 'storming', 'customary', 'bright', 'outfit', 'scalp', 'Donovan', 'Bailey', 'Linford', 'Christie', 'lucrative', 'sport', 'blocks', 'burst', 'celebration', 'bronze', 'medallist', 'Ato', 'Boldon', 'limp', 'hurdles', 'Allen', 'defied', 'brilliant', 'Colin', 'Jackson', 'fastest', 'hurdler', 'Kingdom', 'seemed', 'relish', 'dominating', 'finish', 'faster', 'speed', 'pelting', 'hurdlers', 'stepped', 'Ludmila', 'Engquist', 'crashed', 'hurdle', 'footing', 'silver', 'Brigita', 'Bukovec', 'Jamaican', 'Michelle', 'Freeman', 'Cuban', 'Aliuska', 'Lopez', 'jackpot', 'one-kg', 'clinch', 'Golden', 'Seven', 'penultimate', 'prize', 'Adkins', 'alive', 'Gail', 'Devers', 'Merlene', 'Ottey', 'medal', 'photo', 'settle', 'Gwen', 'Torrence', 'costly', 'athletics', 'discus', 'Ilke', 'Wyludda', 'Ellina', 'Franka', 'Dietzsch', 'Natalya', 'Sadova', 'Mette', 'Bergmann', 'Nicoleta', 'Grasu', 'Olga', 'Chernyavskaya', 'Irina', 'Yatchenko', 'Jamaica', 'Cuba', 'Dionne', 'Yulia', 'Graudin', 'Julie', 'Baumann', 'Girard-Leno', 'Dawn', 'Bowles', 'Emilio', 'Valle', 'Pieters', 'Asselman', 'Hubert', 'Grossard', \"N'Senga\", 'Johan', 'Lisabeth', 'Roberta', 'Brunet', 'Fernanda', 'Ribeiro', 'Sally', 'Barsosio', 'Kenya', 'Paula', 'Radcliffe', 'Julia', 'Vaquero', 'Catherine', 'McKiernan', 'Annette', 'Peters', 'Pauline', 'Konga', 'Davidson', 'Ezinwa', 'Nigeria', 'Jon', 'Bruny', 'Surin', 'Samuel', 'Matete', 'Zambia', 'Rohan', 'Torrance', 'Zellner', 'Jean-Paul', 'Bruwier', 'Dusan', 'Kovacs', 'Calvin', 'Laurent', 'Ottoz', 'Dollendorf', 'Onyali', 'Chryste', 'Gaines', 'Zhanna', 'Pintusevich', 'Privalova', 'Natalia', 'Voronova', 'Juliet', 'Cuthbert', 'Regina', 'Djate', 'Carla', 'Sacramento', 'Yekaterina', 'Podkopayeva', 'Margret', 'Crowley', 'Leah', 'Pells', 'Sarah', 'Thorsett', 'Sinead', 'Delahunty', 'steeplechase', 'Joseph', 'Keter', 'Sang', 'Moses', 'Kiptanui', 'Gideon', 'Chirchir', 'Kosgei', 'Larbi', 'Khattabi', 'Eliud', 'Barngetuny', 'Barmasai', 'Mills', 'Anthuan', 'Maybank', 'Kamoga', 'Uganda', 'Baulch', 'Bada', 'Samson', 'Kitur', 'Richardson', 'Rouser', 'Frankie', 'Fredericks', 'Namibia', 'Stevens', 'Garcia', 'Eric', 'Wymeersch', 'Lamont', 'Malgorzata', 'Rydz', 'Anja', 'Smolders', 'Veerle', 'Jaeghere', 'Eleonora', 'Berlanda', 'Anneke', 'Matthijs', 'Jacqueline', 'Inger', 'Trandenkova', 'Chandra', 'Sturrup', 'Zundra', 'Feagin', 'Galina', 'Malchugina', 'Cathy', 'Marie-Jose', 'Perec', 'Falilat', 'Ogunkoya', 'Fatima', 'Yussuf', 'Maicel', 'Malone', 'Hana', 'Benesova', 'Ann', 'Mercken', 'Komen', 'Khalid', 'Boulami', 'Bob', 'Hassane', 'Lahssini', 'Nyariki', 'Noureddine', 'Morceli', 'Fita', 'Bayesa', 'Keino', 'Lars', 'Riedel', 'Dubrovshchik', 'Virgilius', 'Alekna', 'Juergen', 'Schult', 'Vassiliy', 'Kaptyukh', 'Vaclavas', 'Kidikas', 'Mollenbeck', 'triple', 'jump', 'Edwards', 'Yoelvis', 'Quesada', 'Wellman', 'Bermuda', 'Harrison', 'Markov', 'Francis', 'Agyepong', 'Rogel', 'Nachum', 'Sigurd', 'Njerve', 'Guerrouj', 'Isaac', 'Viciosa', 'Tanui', 'Elijah', \"O'Sullivan\", 'Mayock', 'Laban', 'Rotich', 'Impens', 'Stefka', 'Kostadinova', 'Inga', 'Babakova', 'Alina', 'Astafei', 'Motkova', 'Zalevskaya', 'Kazakhstan', 'Yelena', 'Gulyayeva', 'Hanna', 'Haugland', 'Boshova', 'Nele', 'Zilinskiene', 'Tergat', 'Koech', 'Kiptum', 'Aloys', 'Nizigama', 'Burundi', 'Mathias', 'Ntawulikura', 'Rwanda', 'Abel', 'Anton', 'Kamiel', 'Maase', 'Worku', 'Bekila', 'Stefko', 'JORGE', 'CALLS', 'UP', 'SIX', 'PORTO', 'PLAYERS', 'QUALIFIER', 'Midfielder', 'Paulo', 'Sousa', 'Juventus', 'member', 'Oliveira', 'coaches', 'Vitor', 'Baia', 'Rui', 'Correia', 'Paulinho', 'Santos', 'Helder', 'Cristovao', 'Secretario', 'Dimas', 'Teixeira', 'Couto', 'Barroso', 'Figo', 'Barros', 'Oceano', 'Cruz', 'Ricardo', 'Sa', 'Pinto', 'Forwards', 'Domingos', 'Joao', 'Vieira', 'Cadete', 'Folha', 'VOGTS', 'KEEPS', 'FAITH', 'Trainer', 'Berti', 'Vogts', 'faith', 'entire', 'friendly', 'Zabrze', 'Instead', 'nominated', 'veterans', 'Jens', 'Todt', 'dispensation', 'however', 'libero', 'Matthias', 'Sammer', 'Steffen', 'Freund', 'defender', 'Rene', 'Schneider', 'formally', \"'ll\", 'themselves', 'Oliver', 'Kahn', 'Koepke', 'Reck', 'Markus', 'Babbel', 'Helmer', 'Kohler', 'Reuter', 'Mario', 'Basler', 'Bode', 'Dieter', 'Eilts', 'Haessler', 'Moeller', 'Mehmet', 'Scholl', 'Strunz', 'Ziege', 'Bierhoff', 'Fredi', 'Bobic', 'Klinsmann', 'Kuntz', 'DRAWS', 'OLYMPIAKOS', 'PAO', 'draws', 'cup', 'x-AEK', 'x-Olympiakos', 'x-PAO', 'Legia', 'Warsaw', 'x', 'indicates', 'CLUB', 'COMPETITION', 'Draws', 'competitions', 'Lyngby', 'x-Club', 'Brugge', 'Casino', 'Graz', 'Ekeren', 'Besiktas', 'Molenbeek', 'Alania', 'Vladikavkaz', 'x-Anderlecht', 'x-Cercle', 'SRI', 'LANKA', 'AUSTRALIA', 'SAY', 'RELATIONS', 'HAVE', 'HEALED', 'healed', 'Lankans', 'acrimonious', 'guilty', 'tampering', 'off-spinner', 'Muttiah', 'Muralitharan', 'throwing', 'controversial', 'three-test', 'proper', 'Arjuna', 'Ranatunga', 'eve', 'warmup', 'XI', 'Cam', 'Battersby', 'excellent', 'Batterby', 'Colombo', 'Lankan', 'heavy', 'wicketkeeper', 'Healy', 'ANGOLA', 'LUANDA', 'Angolan', 'JORNAL', 'proposing', 'Angola', 'definite', 'Unita', 'generals', 'joint', 'formation', 'Unity', 'Reconciliation', 'circulation', 'peoples', 'guaranteed', 'administration', 'installed', 'deputies', 'occupy', 'delays', 'occupation', 'demilitarised', 'substituted', 'so-called', 'Dos', 'proposes', 'definitive', 'timetable', 'tasks', 'obligations', 'Lusaka', 'sending', 'supervise', 'execution', 'S.AFRICAN', 'COMPANY', 'CONSENSUS', 'estimates', 'DAY--COMPANY----PERIOD--CONSENSUS----RANGE-------PVS', 'MON', 'Gencor', 'YR', 'DIV', 'Primedia', 'N', 'Distillers', 'TUE', 'Iscor', 'McCarthy', 'WED', 'Imphold', 'THU', 'M&R', 'JD', 'Group', 'ooOOoo', 'Ulster', 'Petroleums', 'falls', 'CALGARY', 'Shr', 'shr', 'Revs', 'Bureau', 'jeopardize', 'trip-Canada', 'OTTAWA', 'restrictions', 'Axworthy', 'circumstances', 'discuss', 'Mid-tier', 'golds', 'fever', 'handful', 'Toronto-based', 'TVX', 'Kinross', 'Scorpion', 'Minerals', 'junior', 'exploration', 'properties', 'changing', 'hands', 'eyebrows', 'aware', 'developments', 'formed', 'Exploration', 'Unitog', 'upgraded', 'Barrington', 'Research', 'Associates', 'near-term', 'Analyst', 'newsdesk', 'Buffett', 'Property', 'stake', 'WASHINGTON', 'Omaha', 'billionaire', 'Warren', 'Trust', 'filing', 'Securities', 'Exchnage', 'Boston-based', 'estate', 'trust', 'ranging', 'holding', 'purchased', 'well-known', 'investor', 'Berkshire', 'Hathaway', 'holds', 'investments', 'large', 'reach', 'MIAMI', 'allow', 'AMR', 'Airlines', 'operate', 'round-trip', 'Bogota', 'Transportation', 'Miami', 'shift', 'weekly', 'gateway', 'designate', 'all-cargo', 'permitted', 'add', 'Category', 'Conditional', 'status', 'Aviation', 'Safety', 'services', 'routes', 'airlines', 'resolved', 'arose', 'Colombians', 'propose', 'Avianca', 'ACES', 'Clean', 'tanker', 'fixtures', 'enquiries', 'FIXTURES', 'MIDEAST', 'GULF', 'RED', 'SEA', 'Konpolis', 'Mideast', 'KPC', 'TBN', 'W.C.', 'E.C.India', 'IOC', 'ASIA', 'PACIFIC', 'Petrobulk', 'Rainbow', 'Okinawa', 'Inchon', 'Honam', 'MED', 'BLACK', 'Constanza', 'Inia', 'CONT', 'Pembroke', 'Stentex', 'HEMISPHERE', 'Kpaitan', 'Stankov', 'Croix', 'USAC', 'Hess', 'AP', 'Moller', 'Caribs', 'Tiber', 'options', 'Stinnes', '------------------------------------------------------------', 'MIDDAY', 'Tenacity', 'Samsung', 'SKS', 'Tana', 'CNR', 'Northsea', 'Chaser', 'Jomo', 'Sibonina', 'Sea', 'Marubeni', 'Neptune', 'Crux', 'Singapore', 'Sietco', 'rnr', 'Fulmar', 'Yosu', 'LG', 'Caltex', 'Hemina', 'Eleusis', 'UKCM', 'sacks', 'golfer', 'sacked', 'Harmon', 'Akron', 'ways', 'long-time', 'mentor', 'drawing', 'blank', 'tournaments', 'blonde', 'adrift', 'Tanaki', 'worst', 'circuit', 'My', 'application', 'strange', 'Maybe', 'keyed', 'Sometimes', 'your', 'perform', 'Ori', 'TAIBE', 'field', 'Taibe', 'fields', 'Pole', 'Arabs', 'loyal', 'unfriendly', 'crowds', 'taunt', 'thing', 'promoted', 'Betar', 'Jerusalem', 'supporter', 'Karem', 'Haj', 'Yihye', 'coached', 'Wojtek', 'Lazarek', 'closely', 'Chants', 'Death', 'bottle-throwing', 'marred', 'goalless', 'treatment', 'stone', 'driving', 'hearing', 'taunts', 'Sameh', 'resident', 'Hebrew', 'words', 'nobody', 'vehemently', 'dusty', 'lacks', 'amenities', 'communities', 'discrimination', 'parks', 'empty', 'load', 'Tel', 'Aviv', 'ramshackle', 'accessible', 'dirt', 'tracks', 'situated', 'elsewhere', 'Rahman', 'mayor', 'hopefully', 'refurbished', 'meantime', 'policed', 'coastal', 'Netanya', 'Israelis', 'waiter', 'represents', 'Phelan', 'withdrawn', 'Liechenstein', 'Football', 'F.A.I.', 'Liverpool', 'replacements', 'Damien', 'Lynch', 'pitted', 'hopefuls', 'C', 'runners-up', 'Rapid', 'Fenerbahce', 'Turin', 'Old', 'Trafford', 'consistently', 'crashing', 'Barcelona', 'Trophy', 'triumph', 'Wembley', 'conquering', 'ill-fated', 'Heysel', 'robbery', 'suspects', 'LAGOS', 'Sokoto', 'NAN', 'Umar', 'Shelling', 'stealing', 'naira', 'merchant', 'Rwandan', 'expulsion', 'imminent', 'NAIROBI', 'Repatriation', 'Hutu', 'refugees', 'Zaire', 'lobby', 'Innocent', 'Butare', 'Rally', 'Return', 'Democracy', 'RDR', 'Hutus', 'appealed', 'deter', 'termed', 'inhuman', 'Orthodox', 'blown', 'ZAGREB', 'Saboteurs', 'Serb', 'orthodox', 'damaged', 'Hina', 'HINA', 'Karin', 'Gornji', 'Zadar', 'destroyed', 'casualties', 'find', 'perpetrators', 'hinterland', 'Serbs', 'Yugoslav', 'self-styled', 'Krajina', 'proclaimed', 'minority', 'recaptured', 'vacant', 'depopulated', 'FIGURES', 'MILLION', 'reserves', 'assets', 'tighten', 'crime', 'WARSAW', 'intelligence', 'organised', 'PAP', 'Zbigniew', 'Siemiatkowski', 'Schmidbauer', 'co-ordinator', 'Helmut', 'Kohl', 'chancellery', 'sealed', 'links', 'Ryszard', 'Hincza', 'mafia-style', 'smuggling', 'radioactive', 'materials', 'Chechens', 'observing', 'GROZNY', 'Rebel', 'fighters', 'soldiers', 'effective', 'gunfire', 'echoed', 'withdraw', 'rebel-dominated', 'mountains', 'relatively', 'Shabazov', 'bearded', 'wearing', 't-shirt', 'camoflage', 'trousers', 'Soon', 'rocked', 'courtyard', 'tank', 'roared', 'swept', 'checkpoints', 'roads', 'soldier', 'Goncharova', 'dark', 'hair', 'poking', 'peaked', 'camouflage', 'overhead', 'flares', 'patrols', 'sceptical', 'try', 'WEATHER', 'Conditions', 'CIS', 'closures', 'Independent', 'Weather', 'Granic', 'Croatia-Yugoslavia', 'BELGRADE', 'poised', 'landmark', 'normalisation', 'paving', 'stabilisation', 'Balkans', 'Mate', 'aboard', 'jet', 'counterparts', 'endorsed', 'normalising', 'Tanjug', 'assessed', 'crucial', 'resolving', 'ensuring', 'restoration', 'Last-minute', 'print', 'internationally', 'recognised', 'borders', 'diplomats', 'ends', 'secession', 'powers', 'regard', 'twin', 'pillars', 'multinational', 'lasting', 'QUITO', 'Abdala', 'Bucaram', 'lunches', 'presidential', 'palace', 'different', 'blacks', 'mixed-bloods', 'exclusively', 'potentates', 'ambassadors', 'protocol', 'mixed-race', 'peasant', 'sectors', 'elected', 'populist', 'platform', 'cultures', 'Andean', 'nation', 'indigenous', 'hovercrafts', 'Amazon', 'BRASILIA', 'Hovercrafts', 'plying', 'waters', 'bid', 'difficulties', 'transportation', 'vast', 'waterway', 'Russian-built', 'capable', 'tons', 'ferrying', 'huge', 'river', 'Belem', 'riverways', 'high-speed', 'hovercraft', 'distances', 'HK', 'Tsang', 'Donald', 'Suharto', \"Mar'ie\", 'Muhammad', 'Ali', 'Alatas', 'Tungky', 'Ariwibowo', 'Bolger', 'Deputy', 'Don', 'McKinnon', 'Birch', 'expels', 'bread', 'riots', 'Rana', 'Sabbagh', 'AMMAN', 'passed', 'peacefully', 'demonstrations', 'Adel', 'Ibrahim', 'attache', 'duties', 'incompatible', 'norms', 'implying', 'spying', 'notified', 'explusion', 'comment', 'assistant', 'Khalaf', 'expelled', 'tension', 'King', 'defections', 'retaliated', 'expelling', 'Jordanian', 'secure', 'pro-Baghdad', 'Karak', 'flared', 'hundred', 'lingered', 'Omari', 'mosque', 'shouting', 'Disperse', 'abstain', 'forming', 'enforced', 'loose', 'curfew', 'loudspeakers', 'Allahu', 'Akbar', 'Greatest', 'Islamist', 'Kafawin', 'pulpit', 'detainees', 'houses', 'cancelling', 'Armoured', 'streets', 'traditional', 'bastion', 'communist', 'ideology', 'Baath', 'socialism', 'guarded', 'entrances', 'hill-top', 'famed', 'Crusader', 'castle', 'crowded', 'smaller', 'clashes', 'quietly', 'riot', 'involvement', 'policies', 'hardship', 'rioting', 'derision', 'blame', 'protests', 'hardships', 'Kurd', 'ANKARA', 'Anatolian', 'state-paid', 'PKK', 'Sirnak', 'Hakkari', 'autonomy', 'southeastern', 'planted', 'exploded', 'fights', 'Diyarbakir', 'Leaders', 'U.S.-mediated', 'Spokesman', 'Glyn', 'Davies', 'contacts', 'Barzani', 'Jalal', 'Talabani', 'implementation', 'Assistant', 'Near', 'Pelletreau', 'solidify', 'cease-fire', 'pursue', 'reconciliation', 'repelled', 'wounding', 'capturing', 'opposing', 'unite', 'mountainous', 'teen', 'slumber', 'CHESAPEAKE', 'knife-wielding', 'neighbour', 'apparently', 'intent', 'sexual', 'invaded', 'teenage', 'a.m.', 'EDT', 'teenaged', 'girls', 'Camelot', 'subdivision', 'Virginia', 'entered', 'wielding', 'knife', 'sexually', 'Detective', 'Chesapeake', 'Curtis', 'II', 'adults', 'detective', 'sketchy', 'teenagers', 'reportedly', 'downstairs', 'watching', 'allegedly', 'teenager', 'sleeping', 'upstairs', 'commotion', 'confronted', 'stabbed', 'once', 'assailant', 'fatally', 'molested', 'life-threatening', 'identified', 'Harper', 'Glickman', 'USDA', 'monitoring', 'aflatoxin', 'Dan', 'corn', 'USDA-sponsored', 'perennial', 'problematic', 'vomitoxin', 'purchase', 'wheat', 'Republican', 'Gov', 'Weld', 'Senate', 'seat', 'Franny', 'incumbent', 'Sen', 'Kerry', 'vote', 'WBUR-FM', 'facing', 'Cambridge', 'friend', 'Tracy', 'Roosevelt', 'politics', 'great-granddaughter', 'Franklin', 'Roosevelts', 'friends', 'Susan', 'descendant', 'Theodore', 'Lufthansa', 'in-house', 'Lufthanseat', 'Available', 'freight-tonne', 'kilometres', 'Freight', 'transport', 'Dm', 'Staff', 'Fuel', 'Flight-related', 'fees', 'WSC-India', 'Rice', 'SUMMARY-', 'Showers', 'inch', 'mm', 'locally', 'coverage', 'Isolated', 'showers', 'Highs', 'CROP', 'IMPACT-', 'FORECAST-', 'TODAY', 'isolated', 'TONIGHT', 'Variable', 'clouds', 'Partly', 'cloudy', 'Lows', 'TOMORROW', 'Little', 'OUTLOOK', 'thunderstorms', 'Temperatures', 'Source', 'Corporation', 'curb', 'Tamil', 'stamp', 'soil', 'directed', 'sympathised', 'predicament', 'prevailing', 'framework', 'perpetrate', 'coordinator', 'counter', 'terrorism', 'Wilcox', 'finance', 'extorted', 'expatriate', 'Liberation', 'Eelam', 'king', 'leaves', 'week-long', 'KATHMANDU', 'Birendra', 'ascending', 'throne', 'constitutional', 'monarch', 'Jiang', 'Zemin', 'Premier', 'Peng', 'Prakash', 'Lohani', 'Himalayan', 'sandwiched', 'traditionally', 'giant', 'neighbours', 'distance', 'Queen', 'Aishwarya', 'Tibetan', 'Lhasa', 'Chongqing', 'servant', 'Nepali', 'bound', 'employer', 'Madhusudan', 'Munakarmi', 'informed', 'plight', 'Dhiraj', 'K.C.', 'locks', 'concealed', 'Kathmandu', 'Dheeraj', 'employed', 'limping', 'steal', 'belongings', 'Post', 'OPTIONS', 'vols', 'regrouping', 'Implied', 'volatility', 'stabilise', 'falling', 'German-led', 'Volatility', 'Euromark', 'trader', 'welter', 'sell-off', 'overdone', 'floors', 'low', 'size', 'Bundesbank', 'repo', 'longer-dated', 'short-dated', 'perhaps', 'vol', 'Long', 'historically', 'vol.', 'You', 'reassess', 'OTC', 'specialist', 'Coughlan', 'over-the-counter', 'Bunds', 'makers', 'high-yielding', 'downside', 'upside', 'potential', 'recommend', 'strangles', 'particular', 'vulnerable', 'fronts', 'enhance', 'yield', 'Nisbet', 'Bonds', 'Sachs', 'warrants', 'Continental', 'Wertpapier', 'American-style', 'warrant', 'controls', 'STRIKE', 'DEM', 'PREMIUM', 'ISSUE', 'GEARING', 'X', 'EXERCISE', 'PERIOD', 'PAYDATE', 'DDF', 'FFT', 'STG', 'MIN', 'EXER', 'LOT', 'SPOT', 'REFERENCE', 'Legal', 'challenge', 'Diana', 'photographer', 'branded', 'stalker', 'Princess', 'approaching', 'criminal', 'Stenning', 'contest', 'injunction', 'obtained', 'affidavit', 'affadavit', 'Benedict', 'Birnberg', 'everything', 'ice', 'brick', 'driver', 'motorcycle', 'dispatch', 'rider', 'convictions', 'Magistrates', 'compensation', 'freelance', 'divorce', 'heir-to-the-throne', 'Prince', 'Charles', 'persistently', 'trailing', 'princess', 'chasing', 'remove', 'camera', 'scapegoat', 'photographers', 'Mr.', 'shook', 'DOHUK', 'tentative', '...For', 'sake', 'asking', 'Riza', 'Altun', 'Dohuk', 'accompany', 'spring', 'frequent', 'cross-border', 'drives', 'writer', 'Nacar', 'wider', 'effort', 'Necmettin', 'Erbakan', 'encouraged', 'uses', 'SOLIDERE', 'privately-operated', 'Secondary', 'Market', 'BSM', 'distributed', 'district', 'rebuilding', 'B', 'subscription', 'Turnover', 'Ciments', 'Libanais', 'listed', 'Blancs', 'Eternit', 'Uniceramic', 'BLOM', 'Index', 'covers', 'LISPI', 'editorial', 'Zenith', 'lands', 'plant', 'Nadeau', 'consortium', 'Walt', 'Disney', 'digital', 'televison', 'set-top', 'boxes', 'entertainment', 'struggled', 'Luehrs', 'Glenview', 'Ill.-based', 'Networks', 'Anytime', 'somebody', 'gets', 'era', 'soared', 'Americast', 'develop', 'generation', 'addition', 'partners', 'phone', 'Ameritech', 'Corp.', 'BellSouth', 'GTE', 'SBC', 'Communications', 'Telecommunications', 'join', 'cable', 'Woodridge', 'Ill', 'tubes', 'screen', 'buys', 'competitors', 'financing', 'jobs', 'roll', 'build-to-order', 'convert', 'Chihuahua', 'analogue', 'manufacture', 'profitable', 'subscribers', 'technology', 'retail', 'electronics', 'devices', 'dividends', 'plagued', 'colour', 'reporting', 'full-year', 'Korea-based', 'Electronics', 'Gutenstein', 'Kalf', 'Voorhis', 'unique', 'Digital', 'happy', 'Natural', 'Law', 'meditate', 'hundreds', 'yogic', 'fliers', 'defy', 'nature', 'levitating', 'comes', 'minor', 'candidate', 'Transcendental', 'Meditation', 'TM', 'physicist', 'Hagelin', 'Nov.', 'running', 'claiming', 'ward', 'techniques', 'mass', 'meditation', 'stress', 'automatically', 'decrease', 'Many', 'practitioners', 'involves', 'meditating', 'repeated', 'word', 'phrase', 'mantra', 'followers', 'contend', 'mediate', 'demonstration', 'bouncing', 'sitting', 'Huge', 'Windows', 'fail', 'Wolk', 'massively', 'publicized', 'introduction', 'Microsoft', 'computer', 'fallen', 'software', 'Even', 'fastest-selling', 'unprecedented', 'hype', 'Aug.', 'launch', 'greet', 'lines', 'customers', 'Redmond', 'Wash.-based', 'tens', 'dollars', 'promoting', 'stunts', 'lighting', 'Empire', 'building', 'color', 'scheme', 'Rob', 'Enderle', 'Giga', 'hardware', 'spike', 'materialized', 'expecting', 'coat-tails', 'somewhat', 'Winkler', 'Gartner', 'impact', 'earth-shattering', 'Symantec', 'posting', 'projections', 'Touchstone', 'lawsuit', 'tied', 'developers', 'suffer', 'shelves', 'jammed', 'blue-and-white', 'resulting', 'shortage', 'space', 'seasonal', 'products', 'Stephens', 'PC', 'accompanying', 'Office', 'upgrade', 'cemented', 'dominant', 'executives', 'thrilled', 'sometime', 'surpass', 'older', 'computers', 'handling', 'technical', 'frustrated', 'install', 'corporate', 'adopted', 'go-slow', 'high-end', 'NT', 'downplayed', 'proportion', 'users', 'mistake', 'thinking', 'sweeping', 'slow', 'migration', 'pacts', 'repatriate', 'intercepted', 'migrants', 'illegally', 'jeopardising', 'Cubans', 'reiterates', 'Guantanamo', 'Naval', 'Base', 'enforcement', 'alien', 'hijackings', 'remind', 'everyone', 'abiding', 'avoiding', 'straits', 'Havana', 'centred', 'boatload', 'emigrants', 'capsized', 'Sixteen', 'Bay', 'emigrated', 'hijacking', 'hijackers', 'hijacked', 'commercial', 'aylum', 'Wis', 'apply', 'welfare', 'pioneering', 'image', 'Wisconsin', 'submit', 'administrative', 'Tommy', 'submitted', 'Human', 'grant', 'reform', 'curve', 'dubbed', 'waivers', 'acquire', 'residency', 'requirement', 'participation', 'collections', 'directly', 'custodial', 'limits', 'eligibility', 'Karen', 'Pierog', 'Snoozing', 'Vietnamese', 'train', 'Alaska', 'ANCHORAGE', 'snooze', 'boxcar', 'locked', 'Whittier', 'Tuan', 'Quac', 'Phan', 'dehydrated', 'famished', 'terrified', 'barge', 'Sgt', 'Jewell', 'cooperative', 'Seeing', 'uniform', 'Jail', 'accidental', 'searching', 'fishing', 'sleep', 'coupled', 'transporting', 'lumber', 'Sound', 'fed', 'soup', 'breakfast', 'agents', 'Arkansas', 'fires', 'Barnes', 'LITTLE', 'ROCK', 'Ark', 'sifted', 'rubble', 'predominantly', 'churches', 'burned', 'Mississippi', 'delta', 'kms', 'Rock', 'located', 'investigating', 'idea', 'arson', 'conclusively', 'established', 'Agents', 'F.B.I.', 'Alcohol', 'Tobacco', 'Firearms', 'scene', 'Zion', 'Missionary', 'Baptist', 'Church', 'St.', 'Matthews', 'frame', 'structures', 'Turner', 'surrounded', 'cotton', 'soybean', 'rural', 'surprised', 'Fannie', 'Matthew', 'Others', 'connected', 'shared', 'suspicion', 'motive', 'spite', 'Rev.', 'Jerome', 'pastor', 'spared', 'wave', 'worship', 'Camden', 'Oak', 'initiated', 'EVEREN', 'Mines', 'Based', 'simulated', 'income', 'models', 'discount', 'averages', 'short-term', 'objective', 'SunGard', 'CheckFree', 'MATEO', 'Calif.', 'Shareholder', 'Systems', 'Business', 'finalized', 'Terms', 'o', 'Alpha', 'Techs', 'Lockhart', 'Technologies', 'Industries', 'post-closing', 'adjustments', 'designer', 'sophisticated', 'thermal', 'PTT', 'telecoms', 'Koninklijke', 'Nederland', 'NV', 'marginally', 'scant', 'adjust', 'breadth', 'largely', 'view', 'Coming', 'overwhelmingly', 'surprising', 'ING', 'Steven', 'Vrolijk', 'continuing', 'sound', 'performer', 'sticking', 'guilder', 'weaker', 'bourse', 'Keiron', 'Henderson', 'Boskalis', 'upgrades', 'PAPENDRECHT', 'Dredging', 'Westminster', 'corrects', 'utilisation', 'dredger', 'uncertain', 'prospects', 'first-half', 'dissolves', 'Costis', 'Stephnopoulos', 'ordering', 'dissolution', 'Stephanopoulos', 'poll', 'citing', 'convergence', 'Elections', 'originally', 'Libyan', 'Amer', 'Hishem', 'Mohammed', 'pool', 'Sliema', 'stab', 'wounds', 'Grech', 'fervant', 'investigations', 'Bahn', 'pre-tax', 'Full', 'state-owned', 'earmarked', 'eventual', 'privatisatio', 'long-distance', 'traffic', 'commuter', 'freight', 'workforce', 'oct', 'compare', 'compares', 'lion', 'paparazzi', 'tabs', 'whales', 'marine', 'biologists', 'lions', 'tag', 'photograph', 'elusive', 'cruise', 'depths', 'Scientist', 'Harvey', 'Jennifer', 'Hurley', 'Moss', 'Landing', 'Marine', 'Laboratories', 'natural', 'companions', 'species', 'whale', 'Any', 'diver', 'knows', 'ca', 'Beaver', 'nine-year-old', 'Sake', 'undergone', 'amusement', 'park', 'accurately', 'transmitter', 'swim', 'mammals', 'filming', 'video', 'assignment', 'documenting', 'humpback', 'Monterey', 'article', 'spell', 'exactly', 'taught', 'stick', 'plastic', 'model', 'using', 'suction', 'cups', 'jeopardises', 'Howard', 'jeopardised', 'upper', 'scrutinise', 'hacks', 'hack', 'environment', 'function', 'Senior', 'warned', 'fiscally-tight', 'hampered', 'contained', 'sharp', 'spending', 'partially', 'Telstra', 'Greens', 'Labor', 'Official', 'Toyota', 'workers', 'MELBOURNE', 'striking', 'voted', 'Melbourne', 'assembly', 'two-week', 'stoppage', 'Niugini', 'surge', 'miner', 'Mining', 'surged', 'confirmation', 'Mountain', 'considering', 'acquiring', 'minorities', 'broker', 'copper', 'Papua', 'Lihir', 'project', 'students', 'throw', 'irreplaceable', 'rocks', 'Students', 'Yonsei', 'samples', 'geology', 'collect', 'Geology', 'prefessors', 'collection', 'gathered', 'panes', 'desks', 'forever', 'professor', 'staged', 'violent', 'nine-day', 'university', 'unification', 'campus', 'unwinding', 'unwound', 'belief', 'strengthen', 'overbought', 'insistent', 'intervention', 'convinced', 'supporting', 'Orii', 'prft', 'nil', 'automation', 'Diluted', 'Lynne', \"O'Donnell\", 'Shanghai', 'bonded', 'warehouses', 'confounding', 'fate', 'belongs', 'Yingkou', 'stockpile', 'stored', 'Just', 'guessing', 'metal', 'channelled', 'Nonferrous', 'Metals', 'Import', 'Export', 'CNIEC', 'indication', 'administered', 'Planning', 'Traders', 'tax', 'value-added', 'prohibitively', 'otherwise', 'spend', 'moving', 'Once', 'Mystery', 'unsure', 'exact', 'Trading', 'cost-effective', 'depleted', 'purpose', 'backwardation', 'Metal', 'LME', 'occurs', 'lent', 'behalf', 'Asia', 'tonne', 'somewhere', 'storage', 'Word', 'secret', 'unnerved', 'jittery', 'Bloomsbury', 'Economics', 'BME', 'motivation', 'owners', 'fundamental', 'rumours', 'Sumitomo', 'helping', 'unload', 'decade', 'arrangement', 'unaware', 'arrivals', 'irrelevant', 'commodities', 'desire', 'Companion', 'Marble', 'posts', 'H.K.', 'Exceptional', 'Company', 'Holdings', 'Books', 'payable', 'granite', 'distributor', 'spinoff', 'construction', 'Building', 'Material', 'Room', 'Softbank', 'procure', 'forex', 'exchange', 'acquisition', 'Kingston', 'Technology', 'transactions', 'maker', 'memory', 'boards', 'acquisitions', 'Telecomm', 'SHANGHAI', 'Half-year', 'yuan', 'asset', 'comparative', 'Posts', 'Equipment', 'unaudited', 'Promodes', 'decide', 'Spar', 'Les', 'Echos', 'Rothschild', 'Cie', 'intermediary', 'unlisted', 'retailers', 'Metro', 'Rewe', 'Lidl', 'discussions', 'Promo', 'hypermarket', 'Continent', 'superstores', 'generated', 'outline', 'Specia', 'Dia', 'Aldi', 'highlights', 'IRISH', 'INDEPENDENT', 'mortgage', 'lender', 'Permanent', 'stalemate', 'claim', 'owed', 'fund', 'Taylor', 'trawler', 'Corps', 'cat', 'mouse', 'Enterprise', 'Employment', 'widened', 'Asset', 'Managers', 'Ivernia', 'Minorco', 'council', 'zinc', 'Lisheen', 'Tipperary', 'CRH', 'refused', 'stering', 'Tilcon', 'Mortgage', 'societies', 'variable', 'Members', 'Antrim', 'Protestant', 'driven', 'loyalist', 'paramilitaries', 'yesterday', 'defiance', 'hanging', 'Dunnes', 'Stores', 'Top', 'bankers', 'Merrill', 'transferring', 'plastics', 'incineration', 'suitable', 'recycling', 'JV', 'truck', 'Motor', 'post-tax', 'Jiangling', 'vehicle', 'engine', 'shareholder', 'Jiangxi', 'Semifinals', 'RALLYING', 'KANKKUNEN', 'COMMAND', 'MCRAE', 'ROLLS', 'JYVASKYLA', 'Juha', 'Kankkunen', 'impressive', 'stages', 'Lakes', 'overshadowed', 'Kankunnen', 'prospect', 'Gronholm', 'Tommi', 'Makinen', 'Mitsubishi', 'McRae', 'fined', 'sports', 'governing', 'rolled', 'Subaru', 'co-driver', 'Ringer', 'unhurt', 'boss', 'Richards', 'furious', 'astonishing', 'pace', 'Spaniard', 'Sainz', 'turbo', 'Bruno', 'Thiry', 'transmission', 'shaft', 'GRID', 'POSITIONS', 'Grid', 'kph', 'Ferrari', 'Eddie', 'Irvine', 'grid', 'Salo', 'Tyrrell', 'Diniz', 'Jos', 'Verstappen', 'Arrows', 'Ukyo', 'Katayama', 'Lamy', 'Minardi', 'Did', 'qualify', 'Giovanni', 'Lavaggi', 'SPECTATOR', 'FINNISH', 'RALLY', 'unnamed', 'Danish', 'Richardt', 'ploughed', 'two-kilometre', 'host', 'Jyvaskyla', 'skidded', 'cordoned-off', 'suspended', 'resumed', 'practising', 'Quarterfinals', 'THUNDERSTORMS', 'SUSPENSION', 'Thunderstorms', 'suspension', 'interrupted', 'schedeled', 'Sigeki', 'SUPER', 'rugby', 'Bradford', 'Wigan', 'Workington', 'Helens', 'Warrington', 'Sheffield', 'Halifax', 'Castleford', 'Oldham', 'Leeds', 'ESSEX', 'POISED', 'STEP', 'TITLE', 'CHALLENGE', 'new-ball', 'Neil', 'Ilott', 'deliveries', 'left-armer', 'slumped', 'Derbyshire', 'favour', 'thrust', 'dispatching', 'removed', 'Dominic', 'Hewson', 'Hancock', 'visitors', 'optimistically', 'Graham', 'declaring', 'Captain', 'Prichard', 'plundered', 'Second-placed', 'prevented', 'third-placed', 'uphill', 'Notts', 'Alistair', 'half-century', 'rain-curtailed', 'Fourth-placed', 'ropes', 'intervened', 'Pace', 'Gordon', 'Parsons', 'rekindled', 'successive', 'defeats', 'arch-rivals', 'Facing', 'follow', 'paceman', 'Darren', 'Gough', 'polishing', 'Final', 'Match', 'abandoned', 'Irani', 'Alleyne', 'Renshaw', 'Bovill', 'Ambrose', 'Ripley', 'Noon', 'B.', 'Spiring', 'Watkinson', 'Speak', 'Hibernian', 'Dunfermline', 'Kilmarnock', 'Raith', 'Motherwell', 'Dundee', 'Aberdeen', 'Airdrieonians', 'Fife', 'Clydebank', 'Greenock', 'Morton', 'Falkirk', 'Partick', 'Mirren', 'Johnstone', 'Berwick', 'Stenhousemuir', 'Brechin', 'Ayr', 'Hamilton', 'Clyde', 'Dumbarton', 'Stranraer', 'Livingston', 'Alloa', 'Arbroath', 'Cowdenbeath', 'Monstrose', 'Forfar', 'Inverness', 'Ross', 'Played', 'OUT-OF-SORTS', 'NEWCASTLE', 'Newcastle', 'teething', 'pacesetters', 'Alan', 'Shearer', 'Keegan', 'talent-laden', 'Dejan', 'Stefanovic', 'Faustino', 'Asprilla', 'equalised', 'Pembridge', 'glancing', 'header', 'Whittingham', 'misery', 'Ferdinand', 'stretchered', 'Elsewhere', 'newly-promoted', 'Sunderland', 'Tottenham', 'Hotspur', 'goaless', 'LeBoeuf', 'Gianluca', 'Vialli', 'Coventry', 'managerless', 'Arsenal', 'scoreline', 'Aston', 'Villa', 'Derby', 'Ham', 'Southampton', 'Bolton', 'Norwich', 'Bromwich', 'Crystal', 'Ipswich', 'Reading', 'Southend', 'Birmingham', 'Stoke', 'Swindon', 'Vale', 'Wolverhampton', 'Barnsley', 'Huddersfield', 'Brentford', 'Luton', 'Bristol', 'Blackpool', 'kickoff', 'Burnley', 'Walsall', 'Chesterfield', 'Bury', 'Peterborough', 'Crewe', 'Preston', 'Rovers', 'Rotherham', 'Shrewsbury', 'Stockport', 'Watford', 'Millwall', 'Wrexham', 'Wycombe', 'Gillingham', 'Bournemouth', 'Barnet', 'Brighton', 'Carlisle', 'Hull', 'Chester', 'Darlington', 'Swansea', 'Exeter', 'Scarborough', 'Hartlepool', 'Fulham', 'Hereford', 'Doncaster', 'Leyton', 'Orient', 'Mansfield', 'Rochdale', 'Scunthorpe', 'Torquay', 'ZEALAND', 'SOUTH', 'AFRICA', 'PRETORIA', 'Blacks', 'unbeatable', 'Each', 'tries', 'Springboks', 'enemies', 'Wilson', 'flanker', 'Ruben', 'Kruger', 'scrum-half', 'Joost', 'Westhuizen', 'narrowed', 'gap', 'fly-half', 'Joel', 'Stransky', 'conversion', 'upright', 'scrambled', 'replacement', 'Zinzan', 'Brooke', 'DEFEAT', 'Tries', 'Hannes', 'Strydom', 'Penalties', 'Stranksy', 'Conversion', 'Simon', 'Culhane', 'Conversions', 'Drop', 'YUGOSLAV', 'Cukaricki', 'Hajduk', 'Becej', 'Borac', 'Mladost', 'Zemun', 'Rad', 'Buducnost', 'Partizan', 'Vojvodina', 'Proleter', 'Sutjeska', 'Sloboda', 'Loznica', 'Obilic', 'OFK', 'Kikinda', 'Radnicki', 'Spartak', 'Beograd', 'BJ', 'Zeleznik', 'Rudar', 'POLISH', 'Amica', 'Wronki', 'Hutnik', 'Krakow', 'Sokol', 'Tychy', 'Lech', 'Poznan', 'Rakow', 'Czestochowa', 'Stomil', 'Olsztyn', 'Wisla', 'Gornik', 'Slask', 'Wroclaw', 'Odra', 'Wodzislaw', 'GKS', 'Katowice', 'Polonia', 'Zaglebie', 'Lubin', 'LKS', 'Lodz', 'Belchatow', 'BASKETBALL', 'PHILIPPINE', 'PRO-LEAGUE', 'MANILA', 'semi-final', 'Philippine', 'Basketball', 'Milk', 'Purefoods', 'Hotdogs', 'half-time', 'Ginebra', 'Shell', 'KOREAN', 'PRO-BASEBALL', 'pro-baseball', 'Hyundai', 'Haitai', 'Hanwha', 'OB', 'Lotte', 'Ssangbangwool', 'SATURDAY', 'GM', 'Belenenses', 'Boavista', 'DISAPPOINTING', 'AJAX', 'SLUMP', 'HEERENVEEN', 'faltered', 'Heerenveen', 'dismal', 'pre-season', 'deadlock', 'interval', 'Romeo', 'Wouden', 'Veldman', 'curled', 'goalkeeper', 'Edwin', 'Sar', 'defenders', 'Marcio', 'Winston', 'Bogarde', 'strikers', 'Jari', 'Litmanen', 'Overmars', 'equalise', 'gaps', 'Dahl', 'Tomasson', 'rushed', 'lobbed', 'contenders', 'curtain-raiser', 'Groningen', 'Standard', 'Liege', 'Anderlecht', 'Lokeren', 'Cercle', 'Mouscron', 'Antwerp', 'Lommel', 'Ghent', 'Aalst', 'Lierse', 'Charleroi', 'Sint', 'Truiden', 'LEADING', 'SCORERS', 'goalscorers', 'Anto', 'Drobnjak', 'Bastia', 'Xavier', 'Gravelaine', 'Marseille', 'Miladin', 'Becanovic', 'Lille', 'Enzo', 'Scifo', 'Monaco', 'Smicer', 'Lens', 'Christopher', 'Wreh', 'Guingamp', 'Nantes', 'Nice', 'Debbah', 'Boutoille', 'pen', 'Rennes', \"Guivarc'h\", 'Bordeaux', 'Auxerre', 'Metz', 'Traore', 'Bombarda', 'Strasbourg', 'Zitelli', 'Havre', 'Caen', 'Bancarel', 'Lyon', 'Caveglia', 'Montpellier', 'Cannes', 'Charvet', 'Saint-Germain', 'Graafschap', 'Doetinchem', 'RKC', 'Waalwijk', 'Willem', 'Tilburg', 'Fortuna', 'Sittard', 'Rotterdam', 'Twente', 'Enschede', 'Vitesse', 'Arnhem', 'Utrecht', 'Feyenoord', 'Roda', 'JC', 'Kerkrade', 'Volendam', 'AZ', 'Alkmaar', 'MATCHES', 'Bochum', 'Arminia', 'Bielefeld', 'Molata', 'Moenchengladbach', 'Karlsruhe', 'Keller', 'Balakow', 'Werder', 'Votava', 'Schwabl', 'Zorc', 'Heinrich', 'Bayer', 'Leverkusen', 'Duesseldorf', 'Seeliger', 'Freiburg', 'Zeyer', 'Gaissmayer', 'Polster', 'VfB', 'VfL', 'Bayern', 'MSV', 'Duisburg', 'AUSTRIA', 'VIENNA', 'FC', 'Linz', 'GAK', 'Admira', 'Wacker', 'Sturm', 'Linzer', 'ASK', 'Tirol', 'Innsbruck', 'SV', 'Salzburg', 'Wien', 'Ried', 'RAIN', 'BRINGS', 'PREMATURE', 'one-day', 'Waugh', 'Tendulkar', 'describes', 'ordeal', 'worker', 'cocked', 'Penrose', 'Action', 'Against', 'Hunger', 'physical', 'manhandling', 'Kalashnikovs', 'throat', 'Gunmen', 'Swerford', 'Frederic', 'Malardeau', 'assailants', 'ransom', 'charity', 'regularly', 'bombardment', 'conventional', 'tanks', 'grenade', 'launchers', 'provides', 'civilians', 'depending', 'ill', 'whom', 'Prize-winning', 'spokeswoman', 'Albanian-born', 'fulfilled', 'dearest', 'wish', 'carved', 'role', 'herself', 'helper', 'sick', 'needy', 'marriage', 'crumbled', 'heir', 'praying', 'Doctors', 'caring', 'respirator', 'Nijmeh', 'Nasr', 'TRIPOLI', 'Arabia', 'Issa', 'Alloush', 'Adventurers', 'wilderness', 'PEMBERTON', 'About', 'adventurers', 'climb', 'raft', 'bike', 'endurance', 'Eco-Challenge', 'adventure', 'racing', 'perilous', 'physically', 'diverse', 'terrain', 'Stroud', 'participant', 'Utah', 'Maine', 'modelled', 'trek', 'glaciers', 'whitewater', 'horseback', 'ride', 'canoe', 'mountain', 'grueling', 'Pemberton', 'Vancouver', 'treacherous', 'peaks', 'frigid', 'two-thirds', 'participants', 'disqualified', 'hardy', 'first-place', 'finishers', 'Team', 'racers', 'bones', 'sunstroke', 'dehydration', 'exhaustion', 'Cholera', 'Ubimini', 'oil-rich', 'Damian', 'Ejiohuo', 'quell', 'safer', 'drinking', 'outbreaks', 'Epidemics', 'piped', 'usually', 'Malawi', 'ex-president', 'Banda', 'BLANTYRE', 'frail', 'Kamuzu', 'vegetarian', 'teetotaller', 'unaided', 'walking', 'clutched', 'whisk', 'symbolised', 'obsession', 'undisputed', 'ruler', 'decades', 'all-party', 'acquitted', 'servants', 'Emelia', 'Sithole', 'HARARE', 'Zimbabwean', 'defying', 'crippled', 'essential', 'Public', 'PSC', 'mortuary', 'attendants', 'firefighters', 'workplaces', 'summarily', 'dismissed', 'PSA', 'unavailable', 'Labour', 'Welfare', 'Florence', 'Chitauro', 'recruiting', 'sub-contracting', 'firms', 'ignored', 'demands', 'wage', 'stretched', 'hospitals', 'Cross', 'tourists', 'Falls', 'Mugabe', 'Opposition', 'civic', 'private-sector', 'unions', 'denounced', 'Civil', 'earn', 'Z$', 'inflation', 'KIGALI', 'trouble-makers', 'camps', 'Firmin', 'Gatera', 'Tutsi-dominated', 'Kigali', 'Zairean', 'Goma', 'Tutsi', 'Kengo', 'wa', 'Dondo', 'expell', 'timeframe', 'genocide', 'Tutsis', 'refuse', 'fear', 'reprisal', 'Kivu', 'counterpart', 'Gisenyi', 'prefect', 'Out', 'Revered', 'skull', 'limelight-loving', 'disgrace', 'prized', 'sacred', 'tribal', 'ancestor', 'middle-aged', 'forensic', 'scientist', 'examined', 'supposed', 'Hintsa', 'Xhosa', 'tribe', 'cranium', 'Nicholas', 'Gcaleka', 'skins', 'regalia', 'journeyed', 'wintry', 'hugely', 'publicised', 'witchdoctor', 'ancestors', 'dream', 'colonial', 'trophy', 'beheaded', 'cottage', 'lonely', 'Highland', 'forest', 'spirit', 'hurricane', 'royal', 'branding', 'charlatan', 'shape', 'hole', 'bullet', 'reasonable', 'arrests', 'sewing', 'smugglers', 'KHARTOUM', 'smuggle', 'machines', 'clothing', 'Eritrea', 'government-owned', 'al-Ingaz', 'al-Watani', 'Banat', 'Kassala', 'alliance', 'subversive', 'Authorities', 'laying', 'landmines', 'accuses', 'Eritrean', 'accusing', 'Alliance', 'umbrella', 'Asmara', 'congress', 'jettisoning', 'Stalinist', 'dictatorship', 'Balkan', 'approve', 'concepts', 'turn', 'Social-Democratic', 'electoral', 'class', 'ideological', 'Zeri', 'i', 'Popullit', 'Jailed', 'Fatos', 'Nano', 'Sali', 'Berisha', 'reformed', 'heirs', 'sham', 'Acting', 'Servet', 'Pellumbi', 'scrap', 'ideas', 'Karl', 'Marx', 'pro-reform', 'stance', 'triggered', 'Gramoz', 'Ruci', 'commentators', 'consensus', 'rift', 'unlikely', 'Nicaraguan', 'MANAGUA', 'Nicaragua', 'Violeta', 'Chamorro', 'check-up', 'column', 'examination', 'suffers', 'osteoporosis', 'weakens', 'longtime', 'wo', 'split', 'tool', 'one-week', 'Nepalese', 'vigilance', 'intentions', 'restive', 'four-decade', 'widespread', 'activists', 'Birenda', 'Gyaicain', 'Norbu', 'tourism', 'communications', 'hangs', 'TEHRAN', 'hanged', 'traffickers', 'Shiraz', 'Resalat', 'kilograms', 'lbs', 'opium', 'pedestrain', 'executions', 'Revolutionary', 'pedestrian', 'site', 'executed', 'Possession', 'grammes', 'lb', 'punishable', 'drug-related', 'addicts', 'transit', 'smuggled', 'Main', 'Tunisian', 'HQ', 'Tunisia', 'rent', 'Khalfallah', 'Movement', 'MDS', 'bailiff', 'accompagnied', 'enable', 'represented', 'owing', 'sentences', 'Moada', 'Vice-president', 'Khemais', 'Chammari', 'disclosing', 'secrets', 'judicial', 'proceedings', 'Boulahya', 'founding', 'politically', 'Mestiri', 'withdrew', 'Succeeding', 'liberals', 'Ben', 'Jaafar', 'NICOSIA', 'IRNA', 'affiliated', 'shelled', 'Kanie', 'Karzhala', 'camp', 'west', 'Arbil', 'PUK-run', 'pounding', 'Kurdish-controlled', 'independent', 'Iranian-backed', 'brokered', 'persuaded', 'shattering', 'patrolling', 'skies', 'shield', 'violating', 'Majid', 'Takht', 'Ravanchi', 'allegations', 'Boutros', 'Boutros-Ghali', 'constructing', 'observation', 'installing', 'mortars', 'anti-aircraft', 'cannons', 'tents', 'penetrating', 'rifle', 'grenades', 'eight-year', 'U.N.-sponsored', 'JUMHOURIYA', 'chamber', 'commerce', 'urges', 'Ankara', 'Offers', 'ships', 'Iraq-bound', 'Aqaba', 'Editorial', 'flare-up', 'booms', 'shadow', 'supermarkets', 'completes', 'QADISSIYA', 'denounces', 'warplanes', 'lambasts', 'liaising', 'BABEL', 'Blaming', 'dirty', 'Laurence', 'McQuillan', 'intends', 'gathering', 'nominate', 'parade', 'designed', 'highlight', 'dim', 'glow', 'just-concluded', 'conclave', 'Dole', 'carefully', 'orchestrated', 'bills', 'Republican-controlled', 'Congress', 'proudly', 'Sixty', 'registry', 'sex', 'desk', 'criminals', 'wherever', 'Actually', 'creation', 'underway', 'finger', 'Attorney', 'Janet', 'Reno', 'pages', 'footnotes', 'offers', 'FBI', 'again', 'heads', 'stretch', 'drive', 'Such', 'happen', 'chess', 'minimium', 'bill', 'easier', 'pre-existing', 'overhauling', 'remarkable', 'offering', 'demanding', 'responsibility', 'stronger', 'sense', 'families', 'theme', 'departs', 'Kentucky', 'Michigan', 'Indiana', 'fellow', 'attention', 'focus', 'correspondents', 'programmes', 'Campaign', 'showcased', 'lead-in', 'concentrating', 'McCurry', 'delivers', 'acceptance', 'map', 'guides', 'Hurricane', 'veer', 'Edouard', 'swirled', 'forecasters', 'winds', 'mph', 'forecaster', 'Lixion', 'Avila', 'indicate', 'west-northwest', 'islands', 'Lesser', 'Antilles', 'latitude', 'longitude', 'ETA', 'Basque', 'Ignacio', 'Olascoaga', 'Mugica', 'Homeland', 'Freedom', 'Defence', 'Volker', 'Ruehe', 'NATO-led', 'IFOR', 'Bild', 'Sonntag', 'mandate', 'expires', 'completely', 'excerpts', 'publication', 'impression', 'deployment', 'perceived', 'massacres', 'comics', 'independence-joke', 'Bossi', 'ORVIETO', 'joke', 'Umberto', 'ancient', 'Etruscan', 'Orvieto', 'mock', 'Cimicchi', 'actor', 'Benigni', 'declare', 'Etruria', 'march', 'proceed', 'annexation', 'Sardinia', 'Corsica', 'ironically', 'proclamation', 'Padania', 'Umbria', 'pop', 'balloon', 'rhetoric', 'talking', 'intensified', 'nationally', 'federalism', 'wasteful', 'centralised', 'bureaucracy', 'northerners', 'farmer', 'mutilated', 'VERONA', 'homocide', 'mutilating', 'bodies', 'ANSA', 'Gianfranco', 'Stevanin', 'Verona', 'magistrate', 'unable', 'recall', 'remembering', 'lifeless', 'sadmasochistic', 'assaulting', 'prostitute', 'murdering', 'villa', 'corpses', 'headless', 'decomposed', 'sack', 'canal', 'Lawyer', 'Cesare', 'dal', 'Maso', 'beheading', 'dumping', 'Adige', 'Dal', 'interrogations', 'investigators', 'suffocated', 'digging', 'passer-by', 'asks', 'paedophile', 'eluded', 'Jeremy', 'Lovell', 'child-sex', 'scandal', 'kidnapping', 'pornography', 'shockwave', 'revulsion', 'throughout', 'Recriminations', 'rapist', 'Dutroux', 'managed', 'prey', 'unhindered', 'starvation', 'freed', 'dungeon-like', 'compartment', 'Ransart', 'Mont-sur-Marchienne', 'suburbs', 'abduction', 'imprisonment', 'molest', 'youngsters', 'proof', 'Michel', 'Bourlet', 'chase', 'porn', 'tapes', 'featured', 'dungeon', 'basement', 'euphoria', 'rescue', 'disgust', 'eight-year-old', 'Lejeune', 'Melissa', 'Russo', 'kidnapped', 'starved', 'Marchal', 'Eefje', 'Lambrecks', 'unknown', 'prostitution', 'Bratislava', 'Five', 'accomplice', 'Dutchman', 'disappearance', 'high-level', 'accomplices', 'leaked', 'cataloguing', 'degree', 'bungling', 'incompetence', 'indifference', 'Among', 'revelations', 'gendarmerie', 'surveillance', 'codenamed', 'Othello', 'gendarmes', 'cells', 'information', 'theft', 'accepted', 'cries', 'hear', 'Justice', 'Stefaan', 'Clerck', 'inquiry', 'stressing', 'indications', 'cover-up', 'disbelief', 'unemployed', 'visible', 'toll', 'seven-newspaper', 'home-made', 'Bou', 'Haroun', 'explosive', 'device', 'prematurely', 'El-Watan', 'boys', 'five-year-old', 'explosion', 'four-year-old', 'strife', 'government-appointed', 'watchdog', 'Rights', 'Observatory', 'seize', 'cannabis', 'chilli', 'sauce', 'commissioner', 'container', 'Freeport', 'haul', 'flames', 'motorway', 'injuring', 'Steinberg', 'Spaniards', 'rebels--poll', 'MADRID', 'renounced', 'permanently', 'Mundo', 'supported', 'state-controlled', 'Sociological', 'Studies', 'achieving', 'Ortega', 'Lara', 'neither', 'worsened', 'Popular', 'PP', 'margin', 'error', 'minus', 'Thirty', 'floods', 'plunge', 'Lahore', 'chaos', 'ISLAMABAD', 'flood-hit', 'Pakistani', 'inches', 'drenched', 'Punjab', 'rivers', 'knocking', 'disrupting', 'rail', 'Newspapers', 'witnesses', 'Jamaat-i-Islami', 'drowned', 'homeless', 'breach', 'inundating', 'residential', 'Army', 'evacuate', 'low-lying', 'Ravi', 'Chenab', 'flood', 'alert', 'Internet', 'Startup', 'Java', 'MOUNTAIN', 'VIEW', 'engineers', 'Microsystems', 'JavaSoft', 'fledgling', 'ground-floor', 'venture', 'Bessemer', 'Venture', 'Partners', 'Menlo', 'Calif', 'founder', 'acting', 'startup', 'Bidzos', 'RSA', 'Dynamics', 'VeriSign', 'doors', 'initial', 'combines', 'experience', 'Apple', 'Computer', 'Oracle', 'portends', 'dramatic', 'Bui', 'engineer', 'programming', 'manner', 'Silicon', 'Valley', 'Kleiner', 'Perkins', 'Caufield', 'Byers', 'startups', 'developing', 'technologies', 'licensed', 'Machines', 'Prasad', 'Wagle', 'aims', 'networked', 'ubiquitious', 'applets', 'downloaded', 'server', 'networks', 'individual', 'Zuleeg', 'marketing', 'Web', 'www.internetstartup.com', 'pioneers', 'PSI', 'Individual', 'MICKELSON', 'WINS', 'FOURTH', 'YEAR', 'birdied', 'even-par', 'Along', 'Mayfiar', 'accomplish', 'three-stroke', 'exemption', 'PGA', 'brings', 'style', 'easy', 'three-putted', 'feet', 'tee', 'bogeys', 'parred', 'birdie', 'wedge', 'bogeyed', 'putt', 'runner', 'sudden', 'defending', 'contention', 'Finals', 'Luke', 'Jensen', 'Murphy', 'Handrik', 'Dreekmann', 'LAKES', 'JYVASKLYA', 'Lancer', 'Celica', 'Jarmo', 'Kytolehto', 'Escort', 'Eriksson', 'Impreza', 'MOTOCROSS', 'LANDSKRONA', 'motocross', 'Smets', 'Husaberg', 'Husqvarna', 'Gert', 'Doorn', 'Honda', 'Jacky', 'Martens', 'Dirkx', 'KTM', 'Danny', 'Theybers', 'Shayne', 'Boonen', 'Dietmar', 'Lalcher', 'Claus', 'Manne', 'Nielsen', 'Overall', 'Lacher', 'Darryll', 'HOLZGERLINGEN', 'Tortelli', 'Kawasaki', 'Moore', 'Yamaha', 'Luigi', 'Seguy', 'Andi', 'Kanstinger', 'Charlier', 'Camerlengo', 'Belometti', 'Vialle', 'Collin', 'Dugmore', 'Malin', 'Michele', 'Fanton', 'PLACINGS', 'POKKA', 'KM', 'RACE', 'SUZUKA', 'placings', 'Pokka', 'Endurance', 'GT', 'Ray', 'Belim', 'J.J.Lehto', 'FI', 'GTR', 'laps', 'Olofsson', 'Luciano', 'della', 'Noce', 'Ennea', 'Ballace', 'Grouillard', 'Harrods', 'Bscher', 'Kox', 'Fabien', 'Giroix', 'Jean-Denis', 'Deletraz', 'Muller', 'Owen-Jones', 'Pierre-Henri', 'Raphanel', 'Brabham', 'Jean-Marc', 'Gounon', 'Belmondo', 'Eichmann', 'Gerd', 'Ralf', 'Kelleners', 'Roock', 'Ortelli', 'Wollek', 'Konrad', 'Cor', 'Euser', 'H.', 'Wada', 'Furuya', 'Fastest', 'SHEFFIELD', 'INTERNATIONAL', 'MEETING', 'Sarka', 'Kasparkova', 'Ashia', 'Hansen', 'Rodica', 'Matescu', 'Deon', 'Hemmings', 'Marken', 'javelin', 'Isel', 'McPaul', 'Silke', 'Renk', 'Gillian', 'Charmaine', 'Crooks', 'Inez', 'Margaret', 'vault', 'Trond', 'Bathel', 'Pat', 'Manson', 'Lobinger', 'Pukstys', 'Backley', 'Nieland', 'Marcel', 'Phylis', 'Regis', 'Austin', 'Forsyth', 'Patrik', 'Sjoberg', 'Verbjorn', 'Rodal', 'Benson', 'Vincent', 'Malakwen', 'Whiteman', 'Osmond', 'Mackie', 'Netherland', 'SCHUMACHER', 'SPA-FRANCOCHAMPS', 'drivers', 'Constructors', 'Footwork', 'Radstrom', 'MOTORCYCLING', 'SUPERBIKE', 'SUGO', 'superbike', 'Yuuchi', 'Takeda', 'Noriyuki', 'Haga', 'Wataru', 'Yoshikawa', 'Corser', 'Ducati', 'Kocinski', 'Aaron', 'Slight', 'Norihiko', 'Fujiwara', 'Fogarty', 'Akira', 'Ryo', 'Shiya', 'Takeishi', 'Takuma', 'Aoki', 'Pier', 'Francesco', 'Crafar', 'Gobert', 'Hodgson', 'disqualification', 'carburettor', 'Keiichi', 'Kitigawa', 'Suzuki', 'JAPANESE', 'BOTH', 'NINE', 'RACES', 'Teenager', 'Yuuichi', 'outclassed', 'names', 'poise', 'overtake', 'pursued', 'duo', 'chicane', 'spurt', 'flag', 'consolation', 'recording', 'limped', 'challenged', 'strongly', 'elder', 'brother', 'Haruchika', 'race-long', 'duel', 'chequered', 'regained', 'unlucky', 'riders', 'alter', 'CONCLUDES', 'CAREER', 'FLOURISH', 'concluded', 'flourish', 'interruption', 'spare', 'Byas', 'reaching', 'sword', 'collecting', 'HINCHCLIFFE', 'CALLED', 'INTO', 'Glenn', 'Hoddle', 'uncapped', 'Hinchcliffe', 'Left-back', 'Anderton', 'recurring', 'groin', 'DECLARED', 'PREMIER', 'Cruyff', 'Solskjaer', 'Warhurst', 'Bohinen', 'st', 'DECLARE', 'INNINGS', 'TEA', 'tea', 'RUN-OUT', 'GIVES', 'LEWIS', 'SLIM', 'SATISFACTION', 'forget', 'omission', 'reasserting', 'dominance', 'super', 'fielding', 'disciplinary', 'touring', 'batted', 'solitary', 'attempting', 'lurking', 'prove', 'swooped', 'mate', 'Alec', 'whipped', 'bails', 'waves', 'alarms', 'rattled', 'outscoring', 'Rain', 'forcing', 'ground-staff', 'NAME', 'ONE-DAY', 'INTERNATIONALS', 'Maynard', 'Ronnie', 'Adam', 'Hollioake', 'Headley', 'TOGO', 'CONGO', 'LOME', 'Togo', 'Congo', 'Salou', 'Bachirou', 'ETHIOPIA', 'UGANDA', 'PENALTIES', 'AFRICAN', 'ADDIS', 'ABABA', 'Crvena', 'zvezda', 'Zelesnik', 'GOALSCORERS', 'Bogdan', 'Prusek', 'Slawomir', 'Wojciechowski', 'Jacek', 'Dembinski', 'Widzew', 'Marcin', 'Mieciel', 'Wieczorek', 'Berensztain', 'Marek', 'Citko', 'Fedoruk', 'Dariusz', 'Jackiewicz', 'Bartlomiej', 'Jamroz', 'Tomasz', 'Moskal', 'Krzysztof', 'Piskula', 'Mariusz', 'Srutwa', 'Emmanuel', 'Tetteh', 'Warszawa', 'Zagorski', 'BUCHAREST', 'A.S.', 'Bacau', 'Ceahlaul', 'Piatra', 'Neamt', 'Otelul', 'Galati', 'Arges', 'Dacia', 'Pitesti', 'Farul', 'Constanta', 'Chindia', 'Tirgoviste', 'Sportul', 'Studentesc', 'Universitatea', 'Craiova', 'Petrolul', 'Ploiesti', 'Politehnica', 'Timisoara', 'Brasov', 'Bucharest', 'Jiul', 'Petrosani', 'Dinamo', 'Cluj', 'Steaua', 'RUSSIAN', 'Alaniya', 'Zhemchuzhina', 'Sochi', 'Baltika', 'Kaliningrad', 'Zenit', 'Petersburg', 'Chernomorets', 'Novorossiisk', 'Rostselmash', 'Rostov', 'Lokomotiv', 'Torpedo', 'Rotor', 'Volgograd', 'CSKA', 'Kamaz', 'Naberezhnye', 'Chelny', 'Lada', 'Togliatti', 'Tekstilshik', 'Kamyshin', 'Krylya', 'Sovetov', 'Samara', 'Nizhny', 'Novgorod', 'Uralmash', 'Yekaterinburg', 'precedence', 'Tekstilshchik', 'AUSTRALIAN', 'RULES-AFL', 'Rules', 'Adelaide', 'Collingwood', 'Richmond', 'Fitzroy', 'Carlton', 'Footscray', 'Essendon', 'Kilda', 'Hawthorn', 'Brisbane', 'Fremantle', 'Geelong', 'Bulldogs', 'Queensland', 'Illawarra', 'Penrith', 'Manly', 'Suburbs', 'Parramatta', 'Auckland', 'Premiership', 'Cronulla', 'Marlene', 'Thomsen', 'Lisbet', 'Stuer-Lauridsen', 'Qiang', 'Lu', 'Yap', 'Cheah', 'Kit', 'Wan', 'Chong', 'Tan', 'Fook', '*Note', 'SUNDAY', 'SNEAK', 'ANGELS', 'Rafael', 'Palmeiro', 'two-out', 'Alomar', 'berth', 'trailed', 'reliever', 'Kyle', 'Abbott', 'sacrificed', 'Mariner', 'Bragg', 'contact', 'Seitzer', 'Hulse', 'extra-inning', 'Wickman', 'acquired', 'Marty', 'Cordova', 'Lawton', 'Yeah', 'ballpark', 'Wally', 'Whitehurst', \"O'Neill\", 'sixth-inning', 'Triple-A', 'Columbus', 'defeating', 'Cardinals', 'Padres', 'Rosado', 'Tucker', 'six-game', 'cellar-dwellers', 'left-hander', 'BRAVES', 'CUBS', 'McGriff', 'Braves', 'Cubs', 'hang', 'middle', 'Clontz', 'Colorado', 'eight-hitter', 'Ellis', 'Burks', 'Rockies', 'Pirates', 'Vinny', 'Castilla', 'Dante', 'Bichette', 'Kurt', 'Marlins', 'tired', 'Candiotti', 'Piazza', 'Hollandsworth', 'Dodgers', 'season-high', 'Joey', 'Rickey', 'league-record', 'leadoff', 'Phillies', 'Segui', 'Expos', 'shut', 'Giants', 'lasted', 'eight-plus', 'Houston', 'Orlando', 'Stottlemyre', 'Astros', 'virtual', 'NL', 'Shane', 'Reynolds', 'five-hitter', 'KICK', 'kicked', 'Setubal', 'squeeze', 'equaliser', 'Jardel', 'string', 'opportunities', 'redeemed', 'netting', 'skilful', 'counter-attack', 'unmarked', 'Chiquinho', 'Conde', 'keeper', 'Andrejez', 'Wozniak', 'Braga', 'Rodrigo', 'Carneiro', 'bookable', 'lack', 'first-class', 'apparent', 'Valdo', 'knee', 'Paulao', 'Baltasar', 'tripped', 'referee', 'nose', 'Idalecio', 'whistle', 'Guimaraes', 'Gil', 'Vicente', 'FIORENTINA', 'BATISTUTA', 'MILAN', 'Batistuta', 'Fiorentina', 'perfect', 'birthday', 'Supercup', 'serie', 'marked', 'Schwarz', 'lob', 'Franco', 'Baresi', 'Montenegrin', 'Savicevic', 'weaving', 'checking', 'left-footed', 'Toldo', 'looming', 'Desailly', 'fouled', 'Boca', 'Juniors', 'Oscar', 'Tabarez', 'rammed', 'curling', 'dipping', 'Batigol', 'adoring', 'reward', 'Weah', 'rusty', 'Baggio', 'Davids', 'substitute', 'ITALIAN', 'SUPERCUP', 'Supercoppa', 'SuperCup', 'NORWAY', 'ELITE', 'Norwegian', 'Tromso', 'Kongsvinger', 'Valerenga', 'Skeid', 'Stabaek', 'Stromsgodset', 'Molde', 'Bodo', 'Glimt', 'Viking', 'Start', 'Rosenborg', 'Lillestrom', 'Duisberg', 'Zieger', 'Witechek', 'Swiss', 'Aarau', 'Boys', 'Grasshopper', 'Lucerne', 'Lugano', 'Basle', 'Neuchatel', 'Gallen', 'PRIZE', 'MONEY', 'TOUR', 'Montgomerie', 'McNulty', 'Nobilo', 'Payne', 'CYCLING', 'ZURICH', 'cycling', 'Ferrigato', 'Bartoli', 'Museeuw', 'Lance', 'Armstrong', 'Casagrande', 'Alessandro', 'Baronti', 'Vandenbroucke', 'Fabio', 'Baldato', 'Maurizio', 'Fondriest', 'Jalabert', 'Zanini', 'Gontchenkov', 'Gabriele', 'Tchmil', 'Sciandri', 'FERRIGATO', 'SPRINTS', 'sprinted', 'weekends', 'similarly', 'narrow', 'pack', 'Oerlikon', 'velodrome', 'faded', 'Briton', 'torrential', 'Heinz-Peter', 'Thul', 'Emerson', 'Baker', 'GRONINGEN', 'PULL', 'AWAY', 'FROM', 'Defending', 'Gorre', 'Ernest', 'Faber', 'Ronald', 'Waterreus', 'amends', 'corner', 'Romano', 'dimissal', 'Zeljko', 'Petrovic', 'dismissal', 'Atteveld', 'Erwin', 'Looi', 'Gaston', 'Taument', 'newly', 'Pablo', 'Genk', 'Club', 'Harelbeke', 'Mechelen', 'Wanrooy', 'Hoogma', 'Roelofsen', 'Godee', 'Arum', 'Hamming', 'Arnold', 'Haldtime', 'TABLE', 'CAPTAIN', 'BLIND', 'Blind', 'Endt', 'ANP', 'selection', 'devote', 'INDIA', 'BANS', 'SIDHU', 'opener', 'Navjot', 'Singh', 'Sidhu', 'quitting', 'right-handed', 'forfeit', 'Control', 'Cricket', 'Mohali', 'Chandigarh', 'Azharuddin', 'Sachin', 'four-nation', 'Singer', 'Sahara', 'premiership', 'relive', 'Sean', 'Fitzpatrick', 'revisited', 'magic', 'moments', 'momentous', 'NZPA', 'first-ever', 'Loftus', 'Versfeld', 'Magnificent', 'relived', 'moves', 'tackles', 'emotions', 'three-pointer', 'maul', 'halfback', 'Marshall', 'openside', 'emptied', 'punching', 'bucks', 'spontaneous', 'Bunce', 'exhausted', 'gutted', 'nowhere', 'choice', 'riding', 'amazing', 'Two-try', 'winger', 'buggered', 'Zealander', 'supporters', 'partying', 'Messages', 'goodwill', 'Hart', 'rang', 'congratulations', 'thanked', 'nice', 'understand', 'tremendous', 'AFL', 'Rugby', 'league-Australian', 'apartheid', 'enforcers', 'commission', 'subpoenas', 'dig', 'beneath', 'rationales', 'sinister', 'whites', 'Archbishop', 'Desmond', 'Tutu', 'Truth', 'paint', 'F.W.', 'Klerk', 'Thabo', 'Mbeki', 'apologies', 'Currin', 'hearings', 'confessional', 'personally', 'crimes', 'testify', 'separate', 'amnesty', 'souls', 'tell', 'confess', 'abuses', 'testimony', 'deeds', 'self-confessed', 'hit-squad', 'Dirk', 'Coetzee', 'Boraine', 'voluntarily', 'hardline', 'P.W.', 'Botha', 'advising', 'regarded', 'achieve', 'totality', 'cited', 'confessing', 'interviews', 'tricks', 'prosecutions', 'submissions', 'ANC', 'Constand', 'Viljoen', 'unsatisfied', 'apartheid-era', 'submission', 'caller', 'utterly', 'useless', 'Political', 'Jannie', 'Gagiano', 'doubted', 'implemented', 'dismantling', 'burden', 'guilt', 'exculpated', 'Therefore', 'doubts', 'reconciling', 'yourself', 'historical', 'adversary', 'Professor', 'Lodge', 'Witwatersrand', 'demurred', 'irritation', 'jokes', 'anger', 'express', 'moral', 'uneasiness', 'Responsibility', 'percolating', 'downwards', 'Serb-held', 'Samir', 'Arnaut', 'MATUZICI', 'farce', 'incomers', 'cementing', 'partition', 'post-war', 'Doboj', 'rallying', 'Matuzici', 'banners', 'Moslem-led', 'displaced', 'Moslems', 'angered', 'provision', 'Western-organised', 'Critics', 'billed', 'reintegrate', 'multi-ethnic', 'shaping', 'facto', 'jure', 'Dayton', 'truly', 'Edhem', 'Efendija', 'Camdzic', 'imam-in-exile', 'upon', 'Reuf', 'Mehemdagic', 'municipality-in-exile', 'Eleven', 'thousand', 'How', 'reintegration', 'refugee', 'thrown', 'warning', 'Ejup', 'Ganic', 'fortune', 'loud', 'applause', 'untie', 'knot', 'ensured', 'Croat', 'mobs', 'impassable', 'Serb-controlled', 'beefed', 'emotional', 'Inter-Entity', 'Boundary', 'Line', 'dispersed', 'scuffled', 'casino', 'blaze', 'deliberately', 'casinos', 'communism', 'wide-ranging', 'engaged', 'pullout', 'SHATOI', 'Anatoly', 'Shkirko', 'disarmed', 'armoured', 'cameraman', 'Liutauras', 'Stremaitis', 'carriers', 'lorries', 'Shatoi', 'suspending', 'Movladi', 'Udugov', 'maverick', 'element', 'Leftist', 'Mexican', 'MEXICO', 'leftist', 'EPR', 'operated', 'assertions', 'Commanders', 'gunmen', 'Jornada', 'overthrowing', 'Guerrero', 'irrational', 'radicals', 'Commander', 'ERP', 'fatigues', 'brandishing', 'southwestern', 'manual', 'detailing', 'tactics', 'strategies', 'Basic', 'Course', 'basic', 'apparatus', 'bourgeoisie', 'commanders', 'granted', 'volatile', 'protesters', 'violently', 'unrelated', 'Zapatista', 'Chiapas', 'combat', 'skirmishes', 'Ten', 'gunned', 'northwest', 'Unidentified', 'dragged', 'ot', 'Antioquia', 'killings', 'municipality', 'Anza', 'Medellin', 'linking', 'Forces', 'FARC', 'impunity', 'unconfirmed', 'bloodshed', 'paramilitary', 'Tauranaga', 'climbs', 'Burma', 'MAE', 'SOT', 'Burmese', 'splinter', 'ambushed', 'patrol', 'Buddhist', 'DKBA', 'Mae', 'Sot', 'Col', 'Suvit', 'Maenmuan', 'allied', 'Rangoon', 'infiltration', 'intrusions', 'reinforcements', 'porous', 'frontier', 'anti-Rangoon', 'KNU', 'intermittent', 'inhabitants', 'villages', 'contol', 'reject', 'explanation', 'supplies', 'directs', 'catches', 'tyre', 'Gurion', 'wheel', 'Yehiel', 'Amitai', 'pilots', 'Airport', 'brigade', 'jars', 'reveal', 'mummies', 'Archaeologists', 'pots', 'Egyptians', 'burial', 'rites', 'mummification', 'Saleh', 'Museum', 'contain', 'intestines', 'tomb', 'Dahshour', 'pyramid', 'pharaoh', 'Seneferu', 'Metropolitan', 'Canopic', 'unguent', 'unidentifed', 'Dynasty', 'BC', 'finding', 'contains', 'substances', 'conservation', 'cavity', 'analysis', 'liquids', 'executes', 'gang', 'robbers', 'Shabir', 'Ahmad', 'Jalil', 'Mecca', 'beheads', 'rapists', 'murderers', 'JORDAN', 'democracy', 'tamper', 'stability', 'tolerated', 'Marwan', 'Muasher', 'disturbances', 'Bahrain', 'AL', 'RAI', 'Abdul-Karim', 'al-Kabariti', 'commited', 'ceiling', 'Sultan', 'telephones', 'releases', 'expresses', 'traditions', 'AD', 'DUSTOUR', 'Kabariti', 'speaker', 'reactivate', 'legislative', 'ASWAQ', 'Weizman', 'consult', 'Ezer', 'weighing', 'consulted', 'speak', 'Earlier', 'Yedioth', 'Ahronoth', 'Aryeh', 'Shumer', 'fitting', 'proces', 'cool', 'bombers', 'HAARETZ', 'donated', 'YEDIOTH', 'AHRONOTH', 'opposes', 'MAARIV', 'education', 'columns', 'POST', 'Erekat', 'Avraham', 'Tamir', 'establish', 'Cabinet', 'puts', 'Internal', 'Kahalani', 'warns', 'Voting', 'Lebanese', 'parliamentary', 'voters', 'eligible', 'choose', 'thin', 'trickle', 'casting', 'ballots', 'polling', 'stations', 'gmt', 'invites', 'Caesarea', 'ceremonial', 'architect', 'spoken', 'frequently', 'urging', 'Corporate', 'employee', 'skilled', 'nicely', 'contribute', 'consulting', 'Towers', 'Perrin', 'performs', 'Presently', 'accountant', 'salary', 'Sandra', \"O'Neal\", 'principal', 'evaluated', 'solely', 'skill', 'abilities', 'skills', 'creative', 'sensitive', 'customer', 'needs', 'productivity', 'organisation', 'mid-to-large', 'corporations', 'surveyed', 'restructuring', 'Next', 'agenda', 'structure', 'skills-based', 'non-management', 'fad', 'inexorable', 'hierarchical', 'concept', 'defined', 'Multi-layers', 'competitive', 'emphasis', 'raise', 'Is', 'ask', 'Do', 'eliminate', 'increases', 'bonuses', 'incentives', 'Companies', 'culture', 'rated', 'high-performing', 'managers', 'decisions', 'high-performance', 'engaging', 'Geert', 'Clercq', 'NEUFCHATEAU', 'Investigators', 'inquiries', 'Prosecutor', 'Georges', 'Zicot', 'insurance', 'fraud', 'forgery', 'searches', 'sites', 'thefts', 'Gerard', 'Pignon', 'warehouse', 'stolen', 'insurer', 'Thierry', 'Dehaan', 'ring', 'Weinstein', 'shockwaves', 'eight-year-olds', 'Detroux', 'abducted', 'disagreement', 'Another', 'Thily', 'BREGANCON', 'funding', 'pubished', 'texts', 'practically', 'Chirac', 'Riviera', 'fortress', 'widely', 'MUZAFFARABAD', 'Pakistan-ruled', 'Azad', 'Indian-ruled', 'waged', 'instantly', 'Kunar', 'Muzaffarabad', 'Garhi', 'Habibullah', 'reopening', 'Salang', 'embattled', 'Kabul-Salang', 'Supreme', 'Coordination', 'Jumbish-i-Milli', 'powerful', 'warlord', 'Rashid', 'Dostum', 'postponement', 'precautions', 'Hezb-i-Islami', 'Gulbuddin', 'Hekmatyar', 'rejoined', 'persuade', 'Jumbish', 'burn', 'Hasina', 'effigy', 'Anis', 'battled', 'Sheikh', 'Bogra', 'barricaded', 'ruling', 'Awami', 'battles', 'alight', 'Janakantha', 'alleging', 'pro-government', 'batons', 'teargas', 'disperse', 'stones', 'bombs', 'Nationalist', 'BNP', 'denounce', 'coincided', 'Local', 'policeman', 'gunshots', 'pro-opposition', 'section', 'grants', 'urged', 'legislators', 'denouncing', 'barbarity', 'Rafiqul', 'Islam', 'Hundreds', 'raided', 'arresting', 'outsiders', 'student', 'dormitories', 'seizing', 'stormed', 'halls', 'flushed', 'gunpoint', 'baggage', 'revolvers', 'sawn-off', 'shotguns', 'knives', 'swoop', 'Vice-Chancellor', 'Emajuddin', 'deteriorating', 'Wednedsay', 'gunbattles', 'Begum', 'Khaleda', 'Zia', 'blanket', 'possessors', 'firearms', 'irrespective', 'identities', 'Nearly', 'crashes', 'ravine', 'FEATURE', 'Fertile', 'drought', 'Irene', 'Marushko', 'BATKIVSHCHYNA', 'COLLECTIVE', 'FARM', 'shiny', 'green-and-yellow', 'Deere', 'parked', 'grain-growing', 'regions', 'fill', 'agronomist', 'enthusiasm', 'diesel', 'Odnosum', 'breakdown', 'machinery', 'loaned', 'Ukrainian', 'grain', 'harvest', 'harsh', 'scoured', 'steppes', 'stunting', 'sector', 'transition', 'fertile', 'rich', 'boots', 'reputation', 'breadbasket', 'brutal', 'collectivisation', 'dictator', 'Josef', 'Stalin', 'quality', 'Hryhory', 'Borsuk', 'Mironivka', 'Wheat', 'Institute', 'Agrarian', 'temperature', 'Celsius', 'Fahrenheit', 'unlit', 'electricity', 'unpaid', 'dry', 'rainfall', 'harvesting', 'strains', 'resistant', 'extreme', 'continental', 'climate', 'agricultural', 'Collective', 'farms', 'nascent', 'fertiliser', 'herbicides', 'pesticides', 'repair', 'worse', 'priced', 'cheaply', 'pigs', 'solutions', 'horizon', 'readying', 'sowing', 'hectare', 'acres', 'borrowing', 'two-lane', 'passes', 'occasional', 'horse-drawn', 'buggy', 'Shevchenko', 'collective', 'neat', 'tidy', 'decay', 'Accountant', 'Sypron', 'strapped', 'bartering', 'rickety', 'tractors', 'badly', 'Soprun', 'dedication', 'sit', 'cry', 'harvested', 'Planted', 'autumn', 'item', 'grows', 'Further', 'resources', 'Borkus', 'subsidies', 'pre-Soviet', 'hectares', 'willing', 'hurry', 'Collectivisation', 'Privatising', 'negative', 'swells', 'setbacks', 'Melanie', 'Cheary', 'swelled', 'attributable', 'streamlined', 'variety', 'divisional', 'Announcing', 'Gilbertson', 'Happily', 'illusion', 'arising', 'weakness', 'rand', 'relative', 'Impala', 'Platinum', 'substantial', 'obvious', 'corporation', 'furnace', 'Implats', 'shutdown', 'Nor', 'Ingwe', 'Coal', 'rains', 'forfeited', 'flooding', 'Mpumulanga', 'gloom', 'blocking', 'merger', 'Lonrho', 'Plc', 'platinum', 'disappointment', 'Looking', 'challenges', 'soundly', 'structured', 'prudently', 'financed', 'blessed', 'portfolio', 'world-class', 'businesses', 'Citing', 'disposal', 'holdings', 'Malbak', 'disposals', 'pruned', 'concentrate', 'core', 'clean', 'disposing', 'non-core', 'pruning', 'commodity', 'invested', 'Referring', 'coal', 'cheaper', 'snapping', 'liked', 'downturn', 'Finally', 'offshore', 'Advanced', 'Medical', 'IVAC', 'Eli', 'Lilly', 'intravenous', 'infusion', 'therapy', 'wholly', 'IMED', 'merge', 'pumps', 'fluid', 'patient', 'proprietary', 'disposable', 'combined', 'Diego-based', 'provider', 'health-care', 'plants', 'Creedmoor', 'N.C.', 'Tijuana', 'distributes', 'prodcuts', 'Dec.', 'DLJ', 'Merchant', 'Banking', 'River', 'expects', 'unspecified', 'one-time', 'technology-based', 'delivery', 'IV', 'pump', 'regulated', 'volumetric', 'fully', 'diluted', 'Excluding', 'Mercer', 'CEO', 'Mallinckrodt', 'Kuhn', 'regulatory', 'approval', 'Morris', 'boosted', 'mirroring', 'bonds', 'NASDAQ', 'fractionally', 'lagged', 'declines', 'Treasury', 'HELENS', 'CLINCH', 'Challenge', 'thrashed', 'inaugural', 'secured', 'Knowsley', 'Road', 'rain-soaked', 'Hunte', 'grabbed', 'hat-trick', 'Martyn', 'Sullivan', 'Newlove', 'goalkicker', 'Bobbie', 'Goulding', 'seven-year', 'reign', 'toast', 'Broncos', 'scrape', 'end-of-season', 'play-offs', 'sights', 'treble', 'Sebastian', 'Lindholm', 'Lasse', 'Lampi', 'Madeira', 'Angelo', 'Medeghini', 'MAKINEN', 'STEPS', 'BID', 'Finn', 'doubling', 'decisive', 'gearbox', 'Maakinen', 'strengthened', 'retirement', 'nearest', 'SHARPE', 'WINNER', 'EASE', 'PRESSURE', 'LEEDS', 'Winger', 'Sharpe', 'superb', 'hapless', 'anchored', 'repaid', 'slice', 'fee', 'top-draw', 'Rush', 'feeding', 'galloped', 'unfavoured', 'arc', 'right-hand', 'under-fire', 'Wilkinson', 'booed', 'jeers', 'cheers', 'WASIM', 'AKRAM', 'JOINS', 'three-wicket', 'becomes', 'bowlers', 'Imran', 'feat', 'cricketers', 'Kapil', 'Dev', 'Tests', 'Hadlee', 'Botham', 'Malcolm', 'Indies', 'Lillee', 'Willis', 'Gibbs', 'Trueman', 'Courtney', 'Walsh', 'bowling', 'Middlesex', 'Llong', 'Cottey', 'Weston', 'BY', 'WICKETS', 'Lord', 'Drawn', 'NEED', 'RUNS', 'requiring', 'FINALS', 'Falkir', 'Montrose', 'COSTA', 'RICA', 'CHILE', 'FRIENDLY', 'LIBERIA', 'Rica', 'Ronaldo', 'Gonzalez', 'Salas', 'SEYCHELLES', 'FAIL', 'HISTORIC', 'VICTORY', 'Gleeson', 'Seychelles', 'bowed', 'Trailing', 'islanders', 'Mauritius', 'qualifiers', 'FIFA', 'breakthrough', 'Mauritian', 'Caboche', 'crude', 'tackle', 'responded', 'setback', 'Ashley', 'Mocude', 'Seychellois', 'favourites', 'Botswana', 'Windhoek', 'Cameroon', 'Gabon', 'German-based', 'Lome', 'Tanzania', 'shoot-out', 'overcome', 'legs', 'decider', 'elimination', 'humiliating', 'preliminaries', 'Mauritania', 'Benin', 'Nouakchott', 'postponed', 'COLLATED', 'Collated', 'aggregaete', 'UKRAINIAN', 'Kremin', 'Kremenchuk', 'Vorskla', 'Poltava', 'Ternopil', 'Zaporizhya', 'Shakhtar', 'Donetsk', 'Kryvbas', 'Kryvy', 'Rig', 'Karpaty', 'Lviv', 'Prykarpattya', 'Ivano-Frankivsk', 'Zirka-Nibas', 'Kirovohrad', 'Chornomorets', 'Odessa', 'Metalurg', 'Dnipro', 'Dnipropetrovsk', 'Tavria', 'SWIMMING', 'POPOV', '`SERIOUS', 'CONDITION', 'STABBING', 'swimming', 'Popov', 'freestyle', 'titles', 'Rimma', 'Maslova', 'expert', 'medicine', 'Olympics', 'abdomen', 'roadside', 'watermelon', 'sellers', 'south-west', 'wound', 'kidney', 'NTV', 'worry', 'cheerfully', 'attackers', 'Vitaly', 'Smirnov', 'swimmer', 'chosen', 'SLOVAK', 'BRATISLAVA', 'Slovak', 'Slovan', 'Tatran', 'Presov', 'Artmedia', 'Petrzalka', 'JAS', 'Bardejov', 'DAC', 'Dunajska', 'Streda', 'Trnava', 'Dukla', 'Banska', 'Bystrica', 'Nitra', 'MSK', 'Zilina', 'Kosice', 'Petrimex', 'Prievidza', 'Rimavska', 'Sobota', 'Lokomotiva', 'Kerametal', 'Dubnica', 'HUNGARY', 'Hungarian', 'Haladas', 'MTK', 'Bekescsaba', 'BVSC', 'Csepel', 'Videoton(*', 'ZTE', 'Debrecen', 'Siofok', 'Ujpest', 'Vac', 'Vasas', 'Pecs', 'TE', 'FTC', 'Videoton', 'Gyor', 'III.ker.TVE', '*Name', 'Parmalat', 'Fehervar', 'CZECH', 'Petra', 'Drnovice', 'Liberec', 'SK', 'Slavia', 'Praha', 'Ceske', 'Budejovice', 'FK', 'Jablonec', 'Viktoria', 'Zizkov', 'Banik', 'Ostrava', 'Teplice', 'Boby', 'Brno', 'Sigma', 'Olomouc', 'Bohemians', 'Karvina', 'Hradec', 'Kralove', 'Kaucuk', 'Opava', 'Plzen', 'AC', 'MEXICAN', 'Atlante', 'Atlas', 'Azul', 'Leon', 'Guadalajara', 'Monterrey', 'Veracruz', 'Pachuca', 'Toluca', 'Puebla', 'UNAM', 'Morelia', 'UAG', 'Neza', 'Necaxa', 'Celaya', 'LEAVE', 'EARLY', 'CATCH', 'PLANE', 'Homewood', 'catch', 'Sao', 'Narciso', 'Rio', 'Janeiro', 'chartered', 'CBF', 'Paulo-Santos', 'usual', 'package', 'Internacional', 'hectic', 'arrive', 'Curitiba', 'Botafogo', 'Tulio', 'Zagalo', 'features', 'top-scorer', 'struggling', 'ARGENTINE', 'Apertura', 'Estudiantes', 'Ferro', 'Carril', 'Oeste', 'Independiente', 'Gimnasia-Jujuy', 'Platense', 'Huracan', 'Lanus', 'Huracan-Corrientes', 'Newell', 'Velez', 'Sarsfield', 'Racing', 'Rosario', 'Plate', 'Gimnasia-La', 'Plata', 'Lorenzo', 'Banfield', 'Deportivo', 'Espanol', 'Colon', 'HONDURAS', 'CUBA', 'TEGUCIGALPA', 'Honduras', 'Castro', 'Enrique', 'Centeno', 'Pavon', 'Cricuma', 'Fluminense', 'Criciuma', 'Formula', 'PRO-SOCCER', 'MOROCCAN', 'RABAT', 'Moroccan', 'Widad', 'Fes', 'Oujda', 'Raja', 'Casablanca', 'Tetouan', 'Jeunesse', 'Massira', 'Meknes', 'Settat', 'Marrakesh', 'Khouribga', 'Mohammedia', 'Sidi', 'Kacem', 'Jadida', 'Hassania', 'Agadir', 'QUENCH', 'YOUR', 'THIRST', 'IF', 'YOU', 'CAN', 'AFFORD', 'reads', 'Due', 'hot', 'please', 'shade', 'drink', 'plenty', 'fluids', 'advisory', 'concluding', '...and', 'garishly-coloured', 'sun-drenched', 'litre', 'life-sustaining', 'incredulous', 'noting', 'notorious', 'gouging', 'insult', 'offended', 'baked', 'lasagna', 'Yorker', 'Rebecca', 'sandwich', 'hungry', 'forked', 'pronounced', 'Carol', 'Perry', 'chimed', 'ridiculous', 'wine', 'Indeed', 'chardonnay', 'zinfandel', 'alcoholics', 'Fans', 'hamburger', 'french', 'fries', 'snack', 'thirsty', 'Make', 'ham', 'swiss', 'cheese', 'whopping', 'tuscan', 'rolls', 'Tuscany', 'HUBER', 'MALEEVA', 'FALL', 'UP-AND-COMERS', 'Larry', 'Fine', 'youthful', 'finalist', 'Magdalena', 'Maleeva', 'sunny', 'honoured', 'Stadium', 'straight-sets', 'Montolio', 'cheery', 'worries', 'overmatched', 'Hoping', 'engagement', 'cement', 'Flushing', 'Meadows', 'bowing', 'floater', 'semifinals', 'momentum', 'rhythm', 'tough', 'errors', 'Manhattan', 'Beach', 'mourn', 'non-', 'rookie', 'Aleksandra', 'Olsza', 'celebrated', 'removing', 'curtain-raising', 'ringing', 'endorsement', 'newest', 'juniors', 'proven', 'mettle', 'quarters', 'conditioning', 'kilos', 'advance', 'fast-moving', 'scared', 'undaunted', 'pros', 'big-serving', 'Brenda', 'Schultz-McCarthy', 'Nana', 'Miyaga', 'Helena', 'Sukova', 'prevailed', 'Barbara', 'Paulus', 'Yi', 'Jing-Qian', 'STICH', 'GLAD', 'HE', 'STAYED', 'fiasco', 'glad', 'sweating', 'four-set', 'Haas', 'embarrassing', 'cried', 'remaking', 'kids', 'enjoy', 'tradition', 'strict', 'accordance', 'favourtism', 'Yvegeny', 'spots', 'ranking', 'approximately', 'outrage', 'tarnished', 'mind', 'damaging', 'ought', 'USTA', 'focused', 'energies', 'sun-baked', 'Grandstand', 'Malivai', 'lingers', 'homegrown', 'controversy', 'engulfed', 'original', 'flamboyant', 'bumped', 'unfairness', 'exits', 'benefitted', 'fiddling', 'Ranked', 'deserves', 'everybody', 'MONDAY', 'Anne-Gaelle', 'Sidot', 'Janette', 'Husarova', 'Miyagi', 'Vitoux', 'Delgado', 'Paraguay', 'Henrietta', 'Nagyova', 'Gala', 'Pizzichini', 'Schett', 'Sabine', 'Appelmans', 'Cristina', 'Torrens-Valero', 'Hack', 'Spirlea', 'Begerow', 'Gaidano', 'Schnell', 'heat', 'Dier', 'Tramacchi', 'Anna', 'Kournikova', 'Richterova', 'Debbie', 'Stephanie', 'Deville', 'Rittner', 'Kristina', 'Brandi', 'Glass', 'Ines', 'Gorrochategui', 'Grzybowska', 'Jaime', 'Oncins', 'Corina', 'Morariu', 'Linda', 'Wild', 'Sung-Hee', 'Pitkowski', 'Meghann', 'Shaughnessy', 'Dally', 'Randriantefy', 'Madagascar', 'Elena', 'Makarova', 'Courtois', 'Flora', 'Perfetti', 'Leander', 'Paes', 'Neville', 'Godwin', 'Alexandra', 'Fusai', 'Jill', 'Craybas', 'Jecmenica', 'Dechy', 'Christina', 'Jane', 'Chi', 'Callens', 'Nicole', 'Bradtke', 'Baudone', 'Jolene', 'Watanabe', 'Kandarr', 'EDGE', 'RUN', 'TOP', 'NINTH', 'Tyler', 'sweep', 'Foster', 'fastball', 'rotate', 'changeup', 'outslugged', 'Wilkins', 'Ericks', 'Renteria', 'fielded', 'cleanly', 'Boles', 'Osvaldo', 'Fenandez', 'seven-hitter', 'Trenidad', 'Hubbard', 'Gagne', 'run-scoring', 'Chad', 'pinch-hits', 'pennants', 'Jody', 'Reed', 'Caminiti', 'Bagwell', 'Donne', 'shoulder', 'BONDS', 'CONSECUTIVE', 'GAME', 'STREAK', 'All-Star', 'appearing', 'battling', 'hamstring', 'second-longest', 'pinch-hitting', 'MRI', 'mild', 'strain', 'lineup', 'exiting', 'last-place', 'outfielder', 'Sammy', 'Sosa', 'third-longest', 'baseman', 'JONK', 'RETURNS', 'BRAZIL', 'ROTTERDAM', 'Guus', 'Hiddink', 'Wim', 'Jonk', 'Gastel', 'Boer', 'Bergkamp', 'Goey', 'Jaap', 'Stam', 'Reiziger', 'Kock', 'Witschge', 'Aron', 'Winter', 'Internazionale', 'Seedorf', 'Real', 'Madrid', 'BARCELONA', 'ATLETICO', 'Pizzi', 'la', 'Pena', 'Esnaider', 'Pantic', 'ZIMBABWE', 'SCOREBOARD-AUSTRALIA', 'Slater', 'Strang', 'Whittall', 'Streak', 'Bevan', 'Brandes', 'Hogg', 'Reiffel', 'Flemming', 'Flower', 'Decker', 'Shah', 'Wishart', 'Evans', 'Dekker', 'OVERS', 'day-night', 'TOSS', 'OPT', 'BAT', 'AGAINST', 'toss', 'Teams', 'Stuart', 'Damein', 'Fleming', 'Eddo', 'Heath', 'MOZAMBIQUE', 'MAPUTO', 'story', 'Mozambican', 'NOTICIAS', 'Nhamavila', 'Maputo', 'Noticias', 'Lamonts', 'Apparel', 'files', 'reorganization', 'KIRKLAND', 'Wash', 'apparel', 'filed', 'Unsecured', 'bondholders', 'creditors', 'Between', 'unsecured', 'non-trade', 'existing', 'Bondholders', 'capitalization', 'reaches', 'entitling', 'Management', 'dilution', 'Passengers', 'blazing', 'ferry', 'safely', 'Guernsey', 'Trident', 'Emeraud', 'boats', 'Jersey', 'cluster', 'British-ruled', 'north-west', 'voting', 'Schork', 'municipal', 'nationwide', 'balloting', 'irregularities', 'assemblies', 'Tomorrow', 'Provisional', 'Election', 'consider', 'Agota', 'Kuperman', 'select', 'cancell', 'specify', 'organise', 'rule-making', 'electorate', 'PEC', 'Balloting', 'citizens', 'slated', 'cantonal', 'Moslem-Croat', 'parliaments', 'Representatives', 'three-man', 'Presidency', 'Dnevi', 'Avaz', 'SDA', 'municipal-level', 'Frowick', 'Ambassador', 'allege', 'systematically', 'discouraged', 'registering', 'cast', 'ballot', 'majorities', 'underpopulated', 'cleansing', 'Diplomats', 'pivotal', 'consolidating', 'voter', 'herald', 'multi-ethnicity', 'Bosia-Hercegovina', 'Soren', 'Jessen-Petersen', 'Special', 'Envoy', 'High', 'run-up', 'nationalistic', 'sectarian', 'card', 'drumming', 'constituencies', 'memories', 'tougher', 'Alastair', 'Macdonald', 'abandon', 'sobering', 'appointed', 'heady', 'wrap', 'compromise', 'settlement', 'insistence', 'chain-smoking', 'paratroop', 'deadpan', 'putdowns', 'knack', 'arrange', 'ambitious', 'pledging', 'conclude', 'Saying', 'pro-war', 'schemers', 'empty-handed', 'Viktor', 'Chernomyrdin', 'undisclosed', 'meanwhile', 'departments', 'Speculation', 'limb', 'hardly', 'reelection', 'criticising', 'pains', 'insist', 'suddenly', 'profited', 'inadequacy', 'risked', 'face-saving', 'acceptable', 'letting', 'quit', 'Federation', 'encourage', 'tendencies', 'Caucasus', 'Yastrzhembsky', 'Yastrezhembsky', 'offical', 'recover', 'receives', 'packet', 'Yugo', 'Zastava', 'factory', 'wages', 'revive', 'stubborn', 'strength', 'persist', 'Dragutin', 'Stanojlovic', 'revival', 'consumed', 'pre-war', 'Montenegro', 'Kragujevac', 'bitterness', 'stirring', 'Late', 'branch', 'exaggerated', 'passers', 'Gordana', 'Kukic', 'lenders', 'trim', 'Insurers', 'Zagreb', 'Money', 'settlements', 'shrank', 'meagre', 'Supply', 'Overnight', 'calculated', 'midrates', 'Kolumbina', 'Bencevic', 'SVCD', 'controllers', 'Bulatka', 'Raichev', 'technicians', 'paralyse', 'Far', 'Valkov', 'charter', 'carries', 'resorts', 'minimal', 'servicing', 'lock-out', 'separation', 'Liliana', 'Semerdjieva', 'Naina', 'satisfactory', 'Tass', 'Clinical', 'treats', 'Mrs', 'Mironov', 'permanent', 'daughters', 'run-off', 'eye', 'Mostostal', 'Z', 'Holding', 'million-zloty', 'convertible', 'Piotr', 'Grabowski', 'premium', 'Grabowksi', 'paying', 'benchmark', 'PBR', 'exchanged', 'book-building', 'proceeds', 'modernise', 'Unknown', 'kidnaps', 'JOSE', 'Kidnappers', 'Humberto', 'Hueite', 'Zyrecha', 'Jetty', 'Kors', 'Misael', 'Valerio', 'kidnappers', 'fleeing', 'Preliminary', 'Altamira', 'Wisinga', 'Aguas', 'Zarcas', 'Rica-Nicaragua', 'Unconfirmed', 'Santa', 'Pocosol', 'supposedly', 'tourist', 'guide', 'Regula', 'Susana', 'Siegfried', 'Nicola', 'Fleuchaus', 'bizarre', 'twist', 'Julio', 'Cesar', 'Rojas', 'sentimental', 'attachment', 'photographs', 'Rican', 'Interacciones', 'ups', 'lowers', 'peso', 'brokerage', 'projection', 'Economist', 'Alonso', 'Cervera', 'revisions', 'chiefly', 'fueled', 'year-end', 'Fiscal', 'loosened', 'boosting', 'commitments', 'schemes', 'debtors', 'Tricks', 'Bancomext', 'appreciation', 'drop-off', 'Moreno', 'Turrent', 'promotion', 'importers', 'dlrs', 'dollar-buying', 'wire', 'transfers', 'accumulated', 'Contributing', 'greenbacks', 'shy', 'typical', 'month-end', 'position-squaring', 'helps', 'limit', 'Dealers', 'intra-day', 'Guillermo', 'Londono', 'Hashimoto', 'Ryutaro', 'Brasilia', 'Latin', 'underwent', 'correct', 'compression', 'Johns', 'Hopkins', 'inflamation', 'drown', 'Venezuelan', 'boating', 'MARACAIBO', 'sank', 'Lake', 'Maracaibo', 'Zarraga', 'nighttime', 'spin', 'sinking', 'stern', 'lifejackets', 'Banco', 'inject', 'pesos', 'secondary', 'credit', 'auctions', 'AMOUNT', 'TERM', 'unidentified', 'collides', 'Fifteen', 'suburban', 'street-level', 'ambulance', 'Transport', 'pylons', 'a.m', 'derailed', 'rear', 'overturned', 'spilling', 'careered', 'Bell', 'Station', 'Remarkably', 'nasty', 'gunman', 'AUCKLAND', 'hunted', 'Shore', 'Sergeant', 'Pearson', 'Fagan', 'telephoned', 'distraught', 'cooperating', 'Northcote', 'sheds', 'onlookers', 'disarm', 'fugitive', 'gun', 'unsuccessful', 'disturbed', 'SIMEX', 'Brent', 'IPE', 'SINGAPORE', 'U.K.', 'keeps', 'Petroleum', 'Contracts', 'mutually', 'contracts', 'slides', 'S$', 'topped', 'soaring', 'takeover', 'operators', 'Spot', 'ample', 'liquidity', 'respectively', 'deposed', 'PDI', 'sued', 'ousting', 'adjourned', 'out-of-court', 'lawyers', 'discussing', 'diminish', 'tom', 'Arlen', 'Specter', 'resign', 'Riyadh', 'Oman', 'Dhahran', 'airmen', 'Crown', 'Abdullah', 'Jeddah', 'shake-up', 'Pentagon', 'Pennsylvania', 'Director', 'Freeh', 'entirely', 'Hijacked', 'LARNACA', 'Airways', 'refuelling', 'Airbus', 'refuelled', 'surrender', 'asylum', 'dozens', 'U.S.-brokered', 'cooperate', 'offensive', 'dividing', 'warring', 'Salahuddin', 'Rawandouz', 'indiscriminately', 'Dayana', 'priest', 'protected', 'Amr', 'Moussa', 'consequences', 'ransacks', 'Bedouin', 'AL-MUNTAR', 'ransacked', 'encampment', 'expel', 'expansion', 'necklace', 'daughter-in-law', 'rummaging', 'luggage', 'destroying', 'shacks', 'barns', 'jeeps', 'shack', 'Amina', 'miracle', 'Bedouins', 'encamped', 'zone', 'Lerner', 'pursuing', 'desolate', 'Dead', 'metals', 'premiums', 'COMEX', 'Premium', 'works', 'Aluminum', 'grade', 'nominal', 'Zinc', 'SHG', 'Lead', 'Tin', 'Grade', 'ppm', 'Nickel', 'melting', 'Copper', 'cathode', 'alloy', 'Midwest', 'Cast', 'Turnings', 'Mixed', 'low-copper', 'clips', 'Refined', 'Bare', 'Bright', 'Burnt', 'batteries', 'Producer', 'transaction', 'Alcan', 'aluminum', 'ingot', 'extrusion', 'billet', 'Noranda', 'date:August', 'RSR', 'pure', 'Doe', 'Run', 'ASARCO', 'FORT', 'LAUDERDALE', 'Fla.', 'backyard', 'nervous', 'teasing', 'Parkway', 'younger', 'brothers', 'bedtime', 'tree', 'paramedics', 'Broward', 'Sheriff', 'stool', 'flashlight', 'CBOT', 'bounce', 'oversold', 'remains', 'cwt', 'Talbott', 'Strobe', 'Ottawa', 'second-ranking', 'Georgy', 'Mamedov', 'pattern', 'consultations', 'calendar', 'fairly', 'Haiti', 'hog', 'sparked', 'packers', 'Iowa', 'Illinois', 'matching', 'hogs', 'Attempts', 'marketings', 'Producers', 'ship', 'Demand', 'prepares', 'Janis', 'Gore', 'presents', 'Posner', 'mild-mannered', 'meek', 'Al', 'front-line', 'Newt', 'Gingrich', 'Convention', 'renominate', 'Crowds', 'anxiously', 'thrusting', 'grip', 'scream', 'wishful', 're-election', 'marshal', 'pro-Israel', 'stiff', 'transformed', 'energetic', 'gesturing', 'pol', 'ripped', 'favorite', 'foil', 'roaring', 'labor', 'personifaction', 'evil', 'mentioning', 'Housing', 'Kemp', 'ignorance', 'audacity', 'two-headed', 'monster', 'whoops', 'downtown', 'taste', 'coalition', 'Noting', 'justice', 'nominations', 'painted', 'horrors', 'Republicans', 'liberties', 'withering', 'vine', 'Education', 'polluters', 'productive', 'vision', 'lifts', 'builds', 're-elect', 'deja-voodoo', 'economics', 'warmed-over', 'ditch', 'ridiculed', 'defense', 'praised', 'courage', 'regulations', 'dairy', 'comparison', 'tolerate', 'milk', 'aloft', 'inflated', 'vetoing', 'repeal', 'Act', 'criticized', 'slashing', 'starker', 'stakes', 'Actor', 'Reeve', 'mix', 'adversity', 'latter', 'advocate', 'politicians', 'Rep', 'Gephardt', 'Daschle', 'Here', 'thumbnail', 'profiles', 'speakers', 'Reagan', 'passage', 'Handgun', 'campaigned', 'nonstop', 'requires', 'mandatory', 'five-day', 'handguns', 'mandates', 'background', 'checks', 'would-be', 'purchasers', 'Hinckley', 'brain', 'congressmen', 'comic', 'hero', 'Superman', 'movies', 'heroics', 'accomplished', 'horses', 'shattered', 'neck', 'vertebrae', 'horse', 'equestrian', 'Culpepper', 'paralyzed', 'extensive', 'fuse', 'spine', 'semi-upright', 'classically', 'prototypical', 'handsome', 'performed', 'soap', 'operas', 'plucked', 'sequels', 'Mr', 'ambitions', 'milkman', 'consummate', 'congressional', 'insider', 'sufficiently', 'legislature', 'often-unruly', 'Republican-led', 'Republican-written', 'advocated', 'deficits', 'abortion', 'red-haired', 'square-jawed', 'fiery', 'orator', 'nomination', 'recreated', 'firebreathing', 'reformer', 'Dakota', 'surprisingly', 'presented', 'moderate', 'Concern', 'steamrollered', 'vastly', 'dispelled', 'outmaneuvering', 'scrapping', 'gas', 'prairie', 'legislation', 'protecting', 'compensating', 'sickened', 'Agent', 'Orange', 'defoliant', 'spraying', 'Vietnam', 'healthcare', 'water-carrier', 'Republican-initiated', 'adult', 'Force', 'adoptive', 'DALLAS', 'Dallas', 'McCullough', 'gunshot', 'Oklahoma', 'shotgun', 'handgun', 'arguments', 'recomposed', 'KARACHI', 'Karachi', 'KSE', 'capitalisation', 'NWE', 'dulls', 'becalmed', 'Repsol', 'Puertollano', 'refinery', 'functioning', 'Manuel', 'Prieto', 'Gasoline', 'notionally', 'sagging', 'NYMEX', 'arbitrage', 'Eurograde', 'barges', 'fob', 'ARA', 'Amsterdam-Rotterdam', 'sentiment', 'Outright', 'heating', 'Oil', 'bearish', 'listless', 'bids', 'scarce', 'Shaxson', 'Prairies', 'frost', 'WINNIPEG', 'anywhere', 'grainbelt', 'Environment', 'Apparently', 'Alberta', 'meteorologist', 'Gerald', 'Machnee', 'Sprague', 'Manitoba', 'windspeed', 'sky', 'moisture', 'Freezing', 'Battleford', 'Sask', 'Grande', 'Prairie', 'Alta', 'proponents', 'moon', 'Gras', 'Brush', 'beryllium', 'lawsuits', 'producer', 'pro-active', 'workplace', 'ailment', 'affects', 'immune', 'susceptible', 'remaining', 'suits', 'liability', 'typically', 'covered', 'Timothy', 'Reid', 'filings', 'Beryllium', 'vigorously', 'Salomon', 'refiner', 'Ting', 'refiners', 'refining', 'margins', 'third-quarter', 'Diamond', 'Shamrock', 'versus', 'Tosco', 'Valero', 'Energy', 'PRESALE', 'Marion', 'NYC', 'Time', 'CUSIP', 'ISSUER', 'WV', 'STAT:Exempt-ULT', 'M', 'SP', 'NA', 'BOOK', 'ENTRY', 'Y', 'ENHANCEMENTS', 'None', 'BANK', 'QUAL', 'DTD', 'SURE', 'DUE', 'SR', 'MGR', 'CPN', 'CALL', 'Non-Callable', 'NIC', 'DELIVERY', 'approx', 'ORDERS', 'PAYING', 'AGENT', 'WesBanco', 'Fairmont', 'L.O.', 'Steptoe', 'Clarksburg', 'Ferris', 'Watts', 'Charleston', 'MBIA', 'Avg', 'Coupon', 'Yield', 'Conc', 'COMPETITIVE', 'PRE-SALE', 'CONTRIBUTED', 'J.J.', 'KENNY', 'K-SHEETS', 'BALANCE', 'refunding', 'STATE', 'OHIO', 'RE', 'BUILDING', 'AUTHORITY', 'FACILITIES', 'REFUNDING', 'REPRICING', 'ACCOUNT', 'OCASEK', 'GOVERNMENT', 'OFFICE', 'AA-', 'FITCH', 'CONFIRMED', 'Delivery', 'Maturity', 'List', 'VERN', 'RIFFE', 'CENTER', 'A.G.', 'Sons', 'Banc', 'S.B.K-', 'Investment', 'Seasongood', 'Mayer', 'CHILLICOTHE', 'shielded', 'whistlestop', 'rode', 'rails', 'ropelines', 'shaking', 'excited', 'Hillary', 'Rodham', 'Huntington', 'rigorous', 'Sidwell', 'Friends', 'renominated', 'lady', 'interested', 'drifted', 'depressed', 'AEX', 'Stocks', 'topping', 'IHC', 'Caland', 'ex-dividend', 'Nutricia', 'shrugged', 'ex-div', 'soar', 'Engineering', 'Stork', 'follow-through', 'Fokker', 'short-lived', 'Tapie', 'Claude', 'Lelouche', 'stars', 'Philippe', 'Seguin', 'resigning', 'eject', 'bankrupt', 'thus', 'ineligible', 'blizzard', 'now-destroyed', 'starring', 'Homme', 'femmes', 'mode', \"d'emploi\", 'instructions', 'power-hungry', 'cruel', 'comedy', 'dearly', 'mixing', 'careers', 'artist', 'Toubon', 'ejecting', 'stripping', 'procedure', 'reconvene', 'suspend', 'judgement', 'immunity', 'courts', 'rigging', 'appealing', 'drains', 'Ffr', 'drained', 'francs', 'securities', 'repurchase', 'allocate', 'bidders', 'collateral', 'satisfying', 'allotted', 'RABOBANK', 'RABN.CN', 'SEES', 'NET', 'GROWTH', 'UNDER', 'co-operative', 'Rabobank', 'BA', 'Herman', 'Wijffels', 'depend', 'easing', 'underwriting', 'single-digits', 'quantify', 'Garry', 'FRANCE', 'LE', 'MONDE', 'Ipsos', 'sympathises', 'permits', 'cold-hearted', 'SNCF', 'renegotiation', 'bailout', 'upturn', 'ATRIA', 'foodstuffs', 'Atria', 'Oy', 'year-half', 'January-June', 'appropriations', 'BRIGHT-BELGIANS', 'SPEED', 'Spa-Francorchamps', 'speeding', 'epidemic', 'Belga', 'checked', 'amd', 'booked', 'm.p.h.', 'no-confidence', 'debate', 'Banharn', 'Silpa-archa', 'lacking', 'ethical', 'alleges', 'corrupt', 'accusations', 'convenient', 'accusation', 'six-party', 'seats', 'infighting', 'Chart', 'fix', 'Fontaine', 'PREVIOUS', 'fashion', 'wigs', 'Manila', 'coconut', 'Coconut', 'Associations', 'Philippines', 'cif', 'Sellers', 'Prev', 'JulAug', 'unq', 'AugSep', 'SepOct', 'OctNov', 'NovDec', 'Aronkasei', 'Nomura', 'downgraded', 'three-grade', 'institute', 'assigns', 'direction', 'LA', 'PRESSE', 'langage', 'primary', 'TEMPS', 'Beja', 'Ekeus', 'UNSCOM', 'oficials', 'Tareq', 'Aziz', 'inspectors', 'shuttled', 'detection', 'Disarming', 'destruction', 'prerequisite', 'crippling', 'invading', 'ticket', 'altogether', 'weaken', 'Harb', 'Omar', 'Karame', 'backwards', 'Fears', 'redistribution', 'locations', 'occupied', 'Prices', 'alimentary', 'splitting', 'Syrian-Lebanese', 'Maltese', 'Visitors', 'cheating', 'Tourists', 'interviewed', 'complain', 'over-charging', 'IN-NAZZJON', 'discipline', 'congested', 'L-ORIZZONT', 'Alfred', 'Sant', 'VAT', 'Tamils', 'demonstrate', 'demonstrated', 'Nadarajah', 'Muralidaran', 'Swiss-based', 'Tiger', 'extortion', 'LTTE', 'FOCUS', 'Eurobourses', 'recovers', 'Santorelli', 'bourses', 'clawing', 'unsteady', 'uncertainty', 'monetary', 'Tankan', 'three-day', 'bargain-hunters', 'FTSE', 'patchy', 'culminating', 'fuelled', 'unsettled', 'stronger-than-expected', 'pulling', 'Treasuries', 'Shortly', 'relinquished', 'doldrum', 'Ackerman', 'strategist', 'Fahnestock', 'Consequently', 'rapid', 'swings', 'Floor', 'computerised', 'IBIS', 'chemical', 'fundamentals', 'fantasy', 'unease', 'franc', 'Bond', 'squeezed', 'jitters', 'Besides', 'malaise', 'regain', 'evaporate', 'pressured', 'currencies', 'EMU', 'CURRENCIES', 'STOCK', 'Times-Stock', 'DAX', 'PRECIOUS', 'METALS', 'Silver', 'STANSTED', 'Iraqis', 'diverted', 'Stansted', 'British-based', 'Sadiki', 'trace', 'contacted', 'north-east', 'explosives', 'batches', 'Jordanians', 'Saudis', 'Later', 'Eco', 'builders', 'Edna', 'Fernandes', 'Ecological', 'warfare', 'corporates', 'hurts', 'Described', 'eco-terrorism', 'Famous', 'Tarmac', 'Costain', 'ARC', 'conglomerate', 'targeted', 'Activist', 'harmless', 'ragbag', 'hippies', 'Harding', 'aggregates', 'mobile', 'phones', 'communicate', 'gather', 'demos', 'protestor', 'codename', 'Steady', 'full-scale', 'emphasise', 'terror', 'Newbury', 'bypass', 'intimidation', 'picketing', 'Tactics', 'underground', 'cryptic', 'Elves', 'leaflets', 'larger', 'activist', 'Earth', 'Land', 'Ours', 'Alarm', 'Alert', 'Twyford', 'Down', 'campaigning', 'broader', 'stopping', 'out-of-town', 'pollution', 'road-building', 'contributed', 'primarily', 'ecological', 'Construction', 'tendering', 'realise', 'environmental', 'forms', 'Tangible', 'intangible', 'publicity', 'protesting', 'tales', 'tenders', 'contractors', 'suppliers', 'quarries', 'supplier', 'protestors', 'invade', 'Plus', 'knock-on', 'investement', 'UBS', 'phenomenon', 'evaluates', 'methods', 'involve', 'wide', 'razor-thin', 'overcapacity', 'stagnant', 'tale', 'woe', 'Carnival', 'spirits', 'Notting', 'revellers', 'singing', 'dancing', 'stabbings', 'ugly', 'scenes', 'scar', 'festival', 'festivities', 'good-natured', 'carnival', 'darker', 'slowly', 'recovering', 'Shopkeepers', 'windows', 'ANNEX', 'STATEMENT', 'COUNCIL', 'REASONS', 'fake', 'Sudradjat', 'Djiwandono', 'DIVIDED', 'CART', 'REQUEST', 'OLAZABAL', 'NORTHAMPTON', 'Seve', 'Ballesteros', 'divided', 'Olazabal', 'motorised', 'cart', 'rheumatoid', 'pairs', 'decides', 'Ryder', 'commitee', 'unhelpful', 'precedent', 'Olly', 'dispensations', 'feasible', 'carts', 'prohibited', 'POLAND', 'TIES', 'CYPRUS', 'BELCHATOW', 'Warzycha', 'Kostas', 'Malekos', 'THOMSON', 'RESIGNS', 'RAITH', 'ROVERS', 'KIRKCALDY', 'managerial', 'casualty', 'resigned', 'directors', 'relinquish', 'Regrettably', 'accordingly', 'pride', 'intact', 'agreeing', 'GRIQUALAND', 'WEST', 'KIMBERLEY', 'Griqualand', 'maltch', 'Cloete', 'Wath', 'Boeta', 'Wessels', 'McLeod', 'Glen', 'Osborne', 'BALL', 'Ball', 'Halford', 'endeavours', 'whilst', 'Divisionn', 'Postponed', 'AVERAGES', 'three-match', 'Batting', 'outs', 'Nasser', 'Ealham', 'Caddick', 'Graeme', 'Hick', 'maidens', 'Latif', 'Shadab', 'Kabir', 'Ata-ur-Rehman', 'GOOCH', 'ANOTHER', 'Opener', 'underlined', 'consistency', 'Keith', 'Fletcher', 'selector', 'No-one', 'argue', 'appreciate', 'ROMANIA', 'BOSS', 'BANNED', 'HEADBUTT', 'Miron', 'Cozma', 'headbutting', 'bosses', 'miners', 'lei', 'Danut', 'Lupu', 'Miners', 'rioted', 'reformist', 'Petre', 'Petrosan', 'tunnel', 'skirmish', 'tall', 'tallest', 'towering', 'cms', 'SQUASH', 'squash', 'Jansher', 'Pakistnn', 'Brett', 'Cairns', 'Del', 'Harris', 'Chaloner', 'Frenz', 'Kneipp', 'Faizy', 'Mir', 'Zaman', 'Gul', 'Meads', 'Thoren', 'EDBERG', 'EXTENDS', 'TOPPLES', 'WIMBLEDON', 'CHAMP', 'vintage', 'Slams', 'toppling', 'illustrious', 'serve-and-volley', 'Opens', 'retire', 'gray', 'volleyed', 'grace', 'top-seeded', 'Jimy', 'Szymanski', 'sprained', 'romp', 'Pavel', 'fellow-American', 'Wiesner', 'Iva', 'Majoli', 'fifth-', 'sidelines', 'TUESDAY', 'Rita', 'Alexia', 'Dechaume-Balleret', 'Ellwood', 'Mariaan', 'Swardt', 'Dominique', 'Roost', 'Florencia', 'Labat', 'Rinaldi', 'Stunkel', 'Angelica', 'Gavaldon', 'Paola', 'Suarez', 'Marianne', 'Werdel', 'Witmeyer', 'Grossman', 'Silvia', 'Farina', 'Caldwell', 'Adriana', 'Serra-Zanetti', 'Wagner', 'Gigi', 'Kristie', 'Boogert', 'Joannette', 'Laxmi', 'Poruri', 'Filippo', 'Veglio', 'Ruud', 'Jabali', 'Campana', 'Radka', 'Bobkova', 'Kschwendt', 'Kleinova', 'Annabel', 'Capriati', 'Arendt', 'Cacic', 'Likhovtseva', 'Kyoko', 'Nagatsuka', 'Pam', 'Shriver', 'Kimberly', 'Po', 'Ruano-Pascual', 'Tina', 'Kirzan', 'Rika', 'Hiraki', 'Langrova', 'Tami', 'Whitlinger', 'Cecchini', 'Francesca', 'Lubiani', 'Tamer', 'Sawy', 'Retired', 'Amy', 'Frazier', 'Larisa', 'Neiland', 'Lisa', 'Lori', 'McNeil', 'Dopfer', 'Zina', 'Garrison', 'Sawamatsu', 'Rennae', 'Stubbs', 'Miriam', 'Oremans', 'Zrubakova', 'Pozzi', 'Skoch', 'GIANTS', 'PHILLIES', 'VanLandingham', 'Glenallen', 'first-inning', 'concentrated', 'Andres', 'Galarraga', 'extra-base', 'Swift', 'rain-shortened', 'seven-inning', 'arthroscopic', 'Benes', 'Royce', 'Clayton', 'one-half', 'YANKEES', 'LOSE', 'wild', 'Art', 'Howe', 'intentionally', 'lined', 'elbow', 'Eldred', 'Miranda', 'batter', 'Thome', 'Nagy', 'three-hitter', 'Felipe', 'Lira', 'left-field', 'Joe', 'CHANG', 'TWO', 'SEEDS', 'enjoying', 'tiebreaker', 'hottest', 'hardcourts', 'Everyone', 'Hopefully', 'nerves', 'Joining', 'talented', 'hurried', 'stomach', 'Towards', 'week-old', 'sushi', 'combination', 'undone', 'revenge', 'breezy', 'erratic', 'untidy', 'unforced', 'walloped', 'woeful', 'faults', 'deflating', 'fault', 'confusion', 'awarded', 'umpire', 'barely', 'frittered', 'risen', 'stray', 'spate', 'withdrawals', 'MARSEILLE', 'HOLD', 'AUXERRE', 'GOALLESS', 'lacklustre', 'Unbeaten', 'trail', 'bay', 'recruits', 'fluidity', 'proved', 'parries', 'lie', 'Riedle', 'Tretschok', 'Decheiver', 'Balakov', 'Hagner', 'Schulz', 'Donkow', 'summary', 'Jeffrey', 'Roest', 'Korneev', 'Hansma', 'ICE', 'HOCKEY', 'FINLAND', 'REPUBLIC', 'hockey', 'Ville', 'Peltonen', 'Ylonen', 'Teemu', 'Selanne', 'Jyrki', 'Lumme', 'Janne', 'Ojanen', 'Ruuttu', 'Radek', 'Bonk', 'Reichel', 'Dopita', 'NEUCHATEL', 'APPEAL', 'CYPRIEN', 'NINE-MONTH', 'BAN', 'Xamax', 'nine-month', 'Jean-Pierre', 'Cyprien', 'post-match', 'punches', 'Claudio', 'Moura', 'intervene', 'succeeded', 'kneeing', 'Hegi', 'elbowed', 'Facchinetti', 'astonished', 'Gress', 'shocking', 'verbally', 'provoked', 'punished', 'scuffle', 'punch', 'react', 'BUGNO', 'CLEARED', 'DOPING', 'Veteran', 'Gianni', 'Bugno', 'doping', 'testing', 'testosterone', 'hormone', 'subsequent', 'higher-than-average', 'naturally', 'Giro', \"d'Italia\", 'stimulant', 'caffeine', 'COLONNA', 'STAGE', 'NETHERLANDS', 'HAARLEM', 'kilometre', 'Gouda', 'Haarlem', 'Federico', 'Colonna', 'Mapei', 'mins', 'secs', 'Robbie', 'McEwen', 'Jans', 'Koerts', 'Palmans', 'Teutenberg', 'Postal', 'Steels', 'Endrio', 'Leoni', 'Aki', 'Capiot', 'Collstrop', 'den', 'Braber', 'Neths', 'Blijlevens', 'TVM', 'Wolf', 'Foreldorado', 'Corini', 'Omloop', 'Motorola', 'Tristan', 'Hoffman', 'Hincapie', 'Talen', 'COFINEC', 'SLIPS', 'BOURSE', 'BUT', 'STRONG', 'Emese', 'Bartha', 'Expectations', 'Cofinec', 'S.A.', 'listing', 'rebound', 'Gabor', 'Sitanyi', 'London-based', 'Barings', 'French-registered', 'packaging', 'floated', 'hovered', 'forints', 'Global', 'Depositary', 'Receipts', 'oversubscribed', 'deadline', 'one-third', 'two-fifths', 'Tamas', 'Erdei', 'Budapest-based', 'ABN-AMRO', 'Hoare', 'Govett', 'macroeconomic', 'generates', 'Domestic', 'Product', 'plunged', 'understands', 'capita', 'consumption', 'folding', 'Krpaco', 'a.s.', 'ownership', 'consolidated', 'DIRECT', 'EQUITY', 'TRADES', 'PSE', 'Min', 'Volume', 'CZK', 'AGROTONZ', 'TLUMACOV', 'AVIA', 'BARUM', 'HOLDING', 'CESKA', 'SPORITELNA', 'CKD', 'PRAHA', 'EMKAM', 'KABLO', 'KLADNO', 'KOMERCNI', 'BANKA', 'LECIVA', 'METROSTAV', 'MORAV.CHEMIC.', 'ZAV', 'OKD', 'PF', 'IKS', 'KB', 'PLUS', 'RIF', 'SELIKO', 'SOKOLOVSKA', 'UHELNA', 'SPIF', 'CESKY', 'SPT', 'TELECOM', 'SKODA', 'PLZEN', 'TABAK', 'TRINECKE', 'ZELEZARNY', 'VODNI', 'STAVBY', 'BELL', 'slows', 'after-hours', 'WorldCom', 'MFS', 'Session', 'CBOE', 'Options', 'valued', 'suggest', 'unusual', 'certainly', 'steadily', 'mid-August', 'Derivatives', 'E-mail', 'derivatives@reuters.com', 'Faulding', 'patent', 'ELIZABETH', 'N.J.', 'Purdue', 'Frederick', 'infringement', 'Purepac', 'Pharamceutical', 'Kadian', 'sustained', 'morphine', 'merit', 'Zeneca', 'F.H.', 'Mick', 'first-team', 'omitted', 'Kernaghan', 'Daish', 'Kelly', 'Elland', 'experimental', 'Shay', 'Given', 'Denis', 'Irwin', 'Babb', 'Kenna', 'Breen', 'Harte', 'Cunningham', 'Staunton', 'Townsend', 'Houghton', 'Gareth', 'Farrelly', 'McLoughlin', 'McAteer', 'Cascarino', 'Niall', 'Quinn', 'killer', 'murders', 'Eugene', 'colonel', 'commanded', 'wiped', 'Smerdon', 'nuns', 'Garang', 'Nairobi', 'SPLA', 'urgently', 'Nuour', 'Marial', 'Mapourdit', 'hindering', 'recruitment', 'interpretation', 'compound', 'Sisters', 'Moira', 'Batchelor', 'Father', 'Barton', 'Riel', 'Sister', 'Maureen', 'Carey', 'Brother', 'Raniero', 'Iacomella', 'captives', 'Kenyan', 'attributed', 'detentions', 'learned', 'Monsignor', 'Caesar', 'Mazzolari', 'apostolic', 'diocese', 'Rumbek', 'isolation', 'looted', 'animist', 'Arabised', 'postpones', 'pressed', 'register', 'well-organised', 'coerce', 'inform', 'districts', 'conquered', 'ethnically', 'cleansed', 'hinted', 'flagrant', 'fo', 'administer', 'waits', 'Kuznets', 'finalising', 'arranged', 'Vyacheslav', 'Tikhomirov', 'Novye', 'Atagi', 'materialise', 'rebuffed', 'suggestion', 'band', 'Guldimann', 'Tikhomirov-Maskhadov', 'falter', 'RIA', 'indicated', 'agencies', 'representatives', 'hinting', 'protege', 'lesson', 'profile', 'reelected', 'prompting', 'rumoured', 'weakening', 'Aides', 'insisting', 'apart', 'spelled', 'LJUBLJANA', 'intensify', 'reinforced', 'determination', 'Aleksander', 'Kwasniewski', 'Kucan', 'strengthening', 'bloc', 'Area', 'comprises', 'Janez', 'Drnovsek', 'Chamber', 'Economy', 'Nationalists', 'Iliescu', 'Junior', 'impeachment', 'Ion', 'PUNR', 'electioneering', 'PDSR', 'Nastase', 'unexpectedly', 'admission', 'vexed', 'ministries', 'agriculture', 'Gheorghe', 'Funar', 'impeached', 'treason', 'compromising', 'oust', 'succeed', 'nationalists', 'oppose', 'Presidential', 'Estonian', 'MPS', 'electing', 'Belinda', 'Goldsmith', 'TALLINN', 'Lennart', 'Meri', 'pushing', 'oversaw', 'statehood', 'arch-rival', 'Ruutel', 'votes', 'garnered', 'reconvened', 'ceded', 'college', 'favoured', 'Reform', 'Heiki', 'Kranich', 'constitution', 'smoothe', 'periods', 'parliamentarians', 'leftist-led', 'inched', 'Support', 'constant', 'convene', 'MPs', 'emerges', 'garner', 'Enn', 'Markvart', 'invalid', 'abstentions', 'convened', 'abusing', 'shameful', 'acts', 'Adnan', 'Xhelili', 'Wiltshire', 'Adriatic', 'Durres', 'divorced', 'befriended', 'reminded', 'heterosexual', 'homosexual', 'begging', 'impoverished', 'Incumbent', 'popularity', 'Laca', 'sensational', 'difficulty', 'filmed', 'Rudolf', 'Gajdos', 'Interpol', 'Eva', 'Boudova', 'interrogated', 'pornographic', 'films', 'suspicions', 'rape', 'detectives', 'disappearances', 'serial', 'Urals', 'Perm', 'raped', 'identify', 'waited', 'touches', 'reminds', 'Commandments', 'posters', 'offices', 'Quarracino', 'sermon', 'cleric', 'Biblical', 'commandment', 'Thou', 'shalt', 'free-market', 'Eletropaulo', 'SAO', 'PAULO', 'Eduardo', 'Bernini', 'Sobral', 'secretariat', 'Romina', 'Nicaretta', 'victims', 'Judicial', 'Alvarado', 'Hurte', 'Sierd', 'Zylstra', 'Jetsi', 'Hendrika', 'Coers', 'teak', 'plantation', 'Schutte', 'aspect', 'note', 'hand-written', 'Ebe', 'Huizinga', 'Depending', 'Eve', 'abductors', 'harden', 'CVG', 'privatization', 'CARACAS', 'swell', 'Corporacion', 'Venezolana', 'Guayana', 'proceeding', 'Machuca', 'Sidor', 'union-based', 'Radical', 'Cause', 'steel-producing', 'Venalum', 'Alucasa', 'Arguing', 'layoffs', 'unionized', 'Lugo', 'Caracas', 'drunks', 'lovebite', 'bandit', 'drinkers', 'lovebites', 'drunken', 'stupor', 'dreaded', 'chupabolos', 'drunksucker', 'preys', 'Matagalpa', 'Managua', 'placing', 'hickey-like', 'Nuevo', 'Diario', 'Enraged', 'machismo', 'so-far', 'culprit', 'surrounding', 'vagrants', 'slept', 'gripping', 'desserts', 'bolos', 'drunkards', 'beautiful', 'Banespa', 'prior', 'O', 'Globo', 'liquidated', 'temporary', 'restructure', 'privatized', 'refinance', 'Covas', 'reais', 'delicate', 'solved', 'Bamerindus', 'Interest', 'TBC', 'loan', 'fourth-largest', 'troubles', 'Havel', 'Vaclav', 'Henrique', 'Cardoso', 'cities', 'Manaus', 'Chancellor', 'benevolent', 'Alejandro', 'Lanusse', 'dies', 'Domingo', 'Peron', 'unlike', 'predecessors', 'Ongania', 'Levingston', 'steered', 'Peronists', 'Hector', 'Campora', 'Solano', 'adversories', 'imprisoned', 'coup', 'Menendez', 'gradual', 'left-wing', 'activism', 'culminated', 'autobiography', 'married', 'Ileana', 'Military', 'collision', 'liner', 'Liaoning', 'Tiantan', 'Dalian', 'Tianjin', 'Matahari', 'revises', 'Putra', 'Prima', 'Hanifah', 'Komala', 'China-bound', 'Seoul', 'Ki-choo', 'Jiaxuan', 'Atheist', 'blind', 'nominally', 'teachers', 'remote', 'attract', 'nabs', 'immigrant', 'sneaked', 'Territories', 'Jiangsu', 'passerby', 'apartment', 'immigrants', 'overstayed', 'mainland', 'reverts', 'Hasan', 'Muratovic', 'Bosnians', 'Suleyman', 'Demirel', 'Tansu', 'Ciller', 'Barkho', 'organising', 'humanitarian', 'Secretary-', 'Gualtiero', 'Fulcheri', 'Zejjari', 'ascertain', 'equitable', 'procured', 'U.N', 'employ', 'Iraq-U.N.', 'memorandum', 'understanding', 'partial', 'Observation', 'separating', 'Somalia', 'DODGE', 'steers', 'heifers', 'Inquiry', 'contracted', 'formulated', 'Confirmed', 'Anti-abortion', 'praises', 'Democrat', 'tolerance', 'Elsner', 'anti-abortion', 'pro-abortion', 'views', 'Hall', 'conscience', 'recognizes', 'welcomes', 'divergent', 'indeed', 'inclusiveness', 'organizers', 'Casey', 'vehement', 'intolerance', 'pro-woman', 'pro-child', 'pro-life', 'deliver', 'podium', 'deaf', 'ears', 'abortions', 'dilemma', 'insert', 'recognizing', 'validity', 'passionate', 'Kate', 'Michelman', 'Abortion', 'disdain', 'punishment', 'Cynthia', 'McKinney', 'Bids', 'Dark', 'flooded', 'Montana', 'bushel', 'Harvest', 'crop', 'noteworty', 'Durum', 'jumping', 'protein', 'durum', 'wheats', 'Chg', 'unc', 'Duluth', '---', 'NORTH', 'DAKOTA', 'Hunter', 'dn', 'HRW', 'Billings', 'MT', 'Rudyard', 'Point', 'Portland', 'OR', 'Pendleton', 'Coolee', 'WA', 'Waterville', 'Wenatchee', 'nc=acomparison', 'na=not', 'Rec', 'Bd', 'ref', 'YMCA', 'Proj', 'ser', 'VMIG', 'lauds', 'troop', 'welcome', 'dialogue', 'Mashadov', 'single-A', 'OH', 'Stallone', 'fiancee', 'Sylvester', 'Flavin', 'publicist', 'Sophia', 'Bloch', 'wonderful', 'Rambo', 'Copland', 'Poll', 'jumps', 'ABC', 'challenger', 'stretching', 'whistle-stop', 'Perot', 'opting', 'fulfil', 'bulk', 'millfeeds', 'Immediate', 'Millfeed', 'millfeed', 'High-priced', 'Flour', 'mills', 'mixer', 'ton', 'barley', 'mixers', 'closely-watched', 'Puerto', 'Rico', 'hairy', 'surgical', 'dark-brown', 'patch', 'skin', 'Abyss', 'DeJesus', 'nevus', 'journals', 'Children', 'ostracism', 'corrected', 'gradually', 'expanding', 'transplanting', 'afflicted', 'Norris', 'balloons', 'forehead', 'shoulders', 'filling', 'saline', 'inserted', 'treatments', 'Eau', 'Claire', 'Wisc', 'revs', 'Baird', 'waterworks', 'Realtors', 'single-family', 'Condominium', 'condos', 'nudged', 'Amtrak', 'derails', 'MONTPELIER', 'Vt', 'Vermonter', 'Albans', 'Vermont', 'D.C.', 'Roxbury', 'Montpelier', 'Garrity', 'Pudvah', 'trauma', 'understood', 'conductor', 'passangers', 'reservations', 'Uninjured', 'Springfield', 'Northfield', 'Mountains', 'Paralympics', 'gloomy', 'France-Juppe', 'handicapped', 'Paralympic', 'gloom-stricken', 'scepticism', 'opposite', 'July-August', 'medals', 'Opinion', 'pessimistic', 'stagnates', 'unemployement', 'near-record', 'blue-chip', 'foray', 'actively', 'CFDT', 'Syndicale', 'Unitaire', 'FSU', 'austerity', 'unveiled', 'Anxieties', 'niggled', 'centime', 'heavyweights', 'Elf', 'Rhone', 'Poulenc', 'Eurotunnel', 'morose', 'post-holiday', 'UIC', 'GAN', 'slid', 'recapitalisation', 'Supermarkets', 'Carrefour', 'Cheuvreux', 'Virieu', 'Reinsurance', 'Scor', 'Prudential', 'Mercantile', 'reinsurance', 'Re', 'Conglomerate', 'Bollore', 'Scac', 'Delmas', 'Vileujeux', 'SDV', 'Alcatel', 'Alsthom', 'Opthalmic', 'Essilor', 'Oakley', 'non-prescription', 'lens', 'Gentext', 'Optics', 'VEERAKESARI', 'Bomb', 'TELO', 'Trincomalee', 'Chavakachcheri', 'Jaffna', 'sentries', 'THINAKARAN', 'TULF', 'Sivasiththamparam', 'meaningless', 'UNP', 'DAILY', 'NEWS', 'Bread', 'flour', 'underpriviledged', 'sections', 'society', 'ISLAND', 'Excise', 'W.N.F.', 'Chandraratne', 'guidelines', 'liquor', 'licences', 'licence', 'LANKADEEPA', 'female', 'simultaneous', 'Chandrika', 'Kumaratunga', 'motorcade', 'DIVAINA', 'Cultural', 'sum', 'worn', 'DINAMINA', 'Ruhunu', 'indefinitely', 'hospitalised', 'tel', 'Rupam', 'Banerjee', 'tributes', 'legendary', 'poured', 'wean', 'laureate', 'aided', 'breathing', 'Woodlands', 'Nursing', 'revered', 'vomiting', 'diagnosed', 'abated', 'irregularly', 'Unless', 'breathes', 'advise', 'fingers', 'familiar', 'six-member', 'treating', 'greetings', 'bouquets', 'Pope', 'get-well', 'Ask', 'Happy', 'Birthday', 'Dearest', 'placard', 'Shishu', 'Bhavan', 'sister', 'speedy', 'recovery', 'Prayers', 'poorest', 'prostitutes', 'goddess', 'Raju', 'Statesman', 'Mangala', 'Das', 'waist', 'Prem', 'Gift', 'incessantly', 'Tarak', 'footpath', 'passers-by', 'Immaculate', 'bless', 'scribble', 'prayed', 'Ministers', 'Bengal', 'religions', 'pray', 'solidarity', 'downtrodden', 'Nanda', 'Gopal', 'Bhattacharya', 'Rifkind', 'conferences', 'obey', 'normally', 'interfere', 'protested', 'Salvation', 'FIS', 'Hamas', 'guest', 'denying', 'fundamentally', 'Mongolia', 'Congressman', 'Sayed', 'KABUL', 'Masood', 'briefed', 'Dana', 'Rohrabacher', 'wartorn', 'appoint', 'transitional', 'Bagram', 'airbase', 'Amrollah', 'neutralise', 'Afghans', 'Hamid', 'Ibrahimi', 'feels', 'Tehran', 'neutral', 'Jalalabad', 'rupees', 'auctioned', 'three-', 'five-', 'insurgents', 'Sharma', 'centre-right', 'insurgency', 'Maoists', 'multi-party', 'negotiates', 'Khum', 'Bahadur', 'Khadga', 'insurgent', 'Bhattarai', 'guarantee', 'centrist', 'jointly', 'Communist', 'Marxist-Leninist', 'UML', 'three-party', 'soy', 'INDORE', 'Soyoil', 'solvent', 'soyoil', 'refined', 'undertone', 'Soymeal', 'soymeal', 'Rapeseed', 'extraction', 'availability', 'Bedibunder', 'Bhavnagar', '---------------------', 'Arrivals', 'Auction', 'Plant', 'Dewas', 'Yellow', 'Mandsaur', 'Neemuch', 'n.a', 'Mhow', 'Ratlam', 'Ashta', 'Indore', 'Dhar', 'Ujjain', 'Jaora', 'Barnagar', 'Khandwa', 'Ashoknagar', 'Nalkhera', '----------------------------------', '--------------------------------', 'rail-FOR', 'Bedi', 'Bunder', 'Humayun', 'Rasheed', 'Choudhury', 'callers', 'chaired', 'Bengali', 'Banglabazar', 'Patrika', 'assemby', 'partisan', 'ineffective', 'contributing', 'resorting', 'instability', 'desireable', 'designs', 'sternly', 'y', 'BANGLADESH', 'SUPPLY', 'HELIBOR', 'INTEREST', 'RATES', 'LARGELY', 'UNCHANGED', 'Helibor', 'fixing', 'Barrick', 'Arequipa', 'Resources', 'tendered', 'ahave', 'realize', 'Munk', 'attractive', 'Pierina', 'allocation', 'swallow', 'Vancouver-based', 'prospector', 'sweetened', 'batch', 'drill', 'ounces', 'drilling', 'pro-rated', 'Penn', 'terminates', 'ALLENTOWN', 'Pa', 'terminated', 'non-binding', 'Merrion', 'Insurance', 'licensing', 'license', 'domiciled', 'VNU', 'Publisher', 'Op', 'Consumer', 'Commercial', 'info', 'Miscellaneous', 'pro', 'rata', 'HMG', 'VTM', 'AOL', 'online', 'HANOVER', 'Online', 'Bertelsmann', 'AdOn', 'Schiphorst', 'CeBIT', 'Hanover', 'Buettner', 'managing', 'thirds', 'Scandanavia', 'Benelux', 'hijack', 'Eyewitnesses', 'Rona', 'DTB-Bund-Future', 'tranches', 'WARRANTS', 'DBRS', 'confirms', 'ratings', 'debentures', 'cumulative', 'non-cumulative', 'AA', 'intercity', 'roadblock', 'provinces', 'Erzincan', 'Sivas', 'ablaze', 'confiscates', 'Cyprus-based', 'Arabic', 'al-Tadamun', 'suggesting', 'editor-in-chief', 'Liwaya', 'censors', 'expense', 'front-page', 'entitled', 'Chronic', 'Mental', 'Illness', 'compliant', 'undergo', 'compulsory', 'psychiatrists', 'capacities', 'Because', 'behave', 'Zionists', 'censorship', 'IPO', 'FILING', 'Transkaryotic', 'Therapies', 'Name', 'Nasdaq', 'symbol', 'TKTX', 'Estimated', 'Shrs', 'ipo', 'Underwriter', 'Morgan', 'Underwriters', 'over-allotment', 'shrs', 'Hoechst', 'Roussel', 'platforms', 'gene', 'activation', 'Use', 'Proceeds', 'preclinical', 'clinical', 'AMTRAK', 'derailment', 'Wife', 'praise', 'wheelchair', 'Mrs.', 'controlling', 'firearm', 'Bradys', 'cane', 'rousing', 'reception', 'sat', 'VIP', 'felons', 'tonight', 'saluting', 'hunter', 'sportsman', 'Remington', 'Uzi', 'deserve', 'thumbs', 'deranged', 'impress', 'Jodie', 'actress', 'Rifle', 'Latest', 'tracking', 'CDU', 'CSU', 'SPD', 'FDP', 'PDS', 'Emnid', 'Elect', 'Res', 'Allensbach', 'Forsa', 'APRIL', 'OCTOBER', 'GENERAL', 'ELECTION', 'Electoral', 'Forschungsgruppe', 'Wahlen', 'Grimwade', 'requests', 'negotiators', 'suggestions', 'Mentmore', 'resource', 'archive', 'housewares', 'formerly', 'Platignum', 'articles', 'pence', 'valuing', 'stg', 'eyewitnesses', 'Flight', 'TNT', 'Glafcos', 'Xenos', 'Heathrow', 'Gatwick', 'handles', 'Ruth', 'third-busiest', 'prefer', 'implementing', 'well-rehearsed', 'contingency', 'intend', 'refuel', 'identity', 'Painted', 'parrot', 'scam', 'PERTH', 'conman', 'parrots', 'dye', 'birds', 'Denham', 'Peiris', 'cinnamon', 'Ringneck', 'Parrots', 'Perth', 'impostor', 'fooled', 'pet', 'Drew', 'unknowingly', \"'d\", 'photos', 'authentication', 'dyed', 'feather', 'bird', 'enthusiast', 'bogus', 'informant', 'colours', 'moult', 'motorist', 'Tonga', 'unexpected', 'Tauranga', 'pothole', 'spun', 'wheels', 'tyres', 'smoke', 'pouring', 'bonnet', 'drink-driving', 'iscovered', 'Immigration', 'overstayer', \"Nuku'alofa\", 'SBPUs', 'seven-day', 'Cut-off-rate', 'embassies', 'missions', 'Macedonian', 'Korean-related', 'facilities', 'outlawed', 'reunification', 'crushed', 'urgent', 'Nuclear', 'disarmament-China', 'reaffirmed', 'totally', 'satisfy', 'balanced', 'commentary', 'committing', 'thwarting', 'muted', 'forwarding', 'compromised', 'discussed', 'completion', 'inspections', 'drafts', 'stubbornly', 'uphold', 'deterrence', 'self-imposed', 'moratorium', 'declares', 'poisoning', 'receding', 'mysterious', 'germ', 'Sakai', 'hardest', 'colon', 'bacillus', 'settling', 'Naoto', 'Kan', 'regional', 'Osaka', 'deadly', 'bacteria', 'schoolchildren', 'complications', 'indicating', 'peak', 'relieved', 'infected', 'pinpoint', 'infection', 'sanitary', 'standards', 'slaughterhouses', 'meatpacking', 'overhaul', 'compile', 'hygiene', 'aluminium', 'shipments', 'mill', 'Aluminium', 'beverage', 'housing', 'Figures', 'reflecting', 'above-average', 'temperatures', 'half-year', 'cooler', 'inventories', 'downward', 'upward', 'pegged', 'Shipments', 'auto', 'dipped', 'Commodities', 'publicly', 'gratitude', 'Bongo', 'thanking', 'technological', 'quashed', 'expressing', 'freedoms', 'drafted', 'censure', 'forum', 'code', 'dissent', 'doomed', 'Cooperative', 'TAIPEI', 'three-month-to-three-year', 'Sheu', 'Yuan-dong', 'jumpstart', 'sluggish', 'half-percentage', 'reductions', 'demolition', 'two-hour', 'demolished', 'metre', 'crane', 'bulldozer', 'walls', 'amidst', 'alleys', 'Bystanders', 'bulldozed', 'PLO-Israel', 'lawmaker', 'Hashem', 'Zighayer', 'closure', 'Palestine', 'annexed', 'cede', 'SEC', 'adopts', 'rules', 'specialists', 'quotes', 'electronic', 'readily', 'Specialists', 'individuals', 'orderly', 'empower', 'compete', 'Levitt', 'Lindsey', 'improvements', 'commonplace', 'practices', 'existed', 'two-tiered', 'quote', 'robbing', 'malpractices', 'oversight', 'shifts', 'continuous', 'quotations', 'display', 'Berkeley', 'CABINET', 'APPROVES', 'TELEVISION', 'DECREE', 'ROME', 'reprieve', 'mogul', 'Silvio', 'Berlusconi', 'Mediaset', 'extending', 'plugs', 'void', 'magistrates', 'proprietor', 'channels', 'LINZ', 'locomotive', 'stationary', 'Steyr', 'shunt', 'wagons', 'sidings', 'trapped', 'wreckage', 'treat', 'Greater', 'averted', 'brakes', 'railways', 'APA', 'Saskatchewan', 'Pool', 'eyes', 'forge', 'scope', 'pork', 'positioned', 'Loewen', 'SWP', 'analyzing', 'partnerships', 'subsidy', 'grains', 'shipped', 'integrated', 'units', 'contracting', 'programs', 'Pork', 'Marketing', 'monopoly', 'ROVERETO', 'Ninova', 'Heike', 'Drechsler', 'Fiona', 'Giaconi', 'Gabi', 'Rokmeier', 'Sergey', 'Makarov', 'Blank', 'Tilli', 'Vaccari', 'Ochieng', 'Mariacarla', 'Bresciani', 'Nastja', 'Rysich', 'germany', 'Ana', 'Fidelia', 'Quirot', 'Letitia', 'Vriesde', 'Kreissig', 'Kostantin', 'Matusevitch', 'Buiatti', 'Kibet', 'Kibitok', 'Oksana', 'Ovchinnikova', 'Shikolenko', 'Virna', 'Angeli', 'Torshina', 'Knoroz', 'Lauren', 'Bronson', 'Ridgeon', 'Kipkosgei', 'Lambruschini', 'BRITISH', 'MASTERS', 'rain-affected', 'Masters', 'Collingtree', 'Gavin', 'Levenson', 'Coceres', 'Gilford', 'Cage', 'Emanuele', 'Canonica', 'Howell', 'Hedblom', 'Bottomley', 'Sellberg', 'Joakim', 'Haeggman', 'Klas', 'Fulke', 'Gates', 'Haglund', 'Niclas', 'Fasth', 'Chistian', 'McFarlane', 'Harwood', 'Brenden', 'Pappas', 'Teravainen', 'Velde', 'Oyvind', 'Rojahn', 'McAllister', 'Neal', 'Briggs', 'KELLY', 'TIME', 'TRIAL', 'retained', 'one-kilometre', 'averaged', 'Lausgberg', 'eighteen', 'hundredths', 'Eijden', 'VAN', 'HEESWIJK', 'ALMERE', 'Almere', 'Heeswijk', 'Zabel', 'Telekom', 'Zanoli', 'MX', 'Onda', '.Giuseppe', 'Citterio', '.Robbie', 'Kaspars', 'Ozers', 'Giuseppe', 'CHAMPIONSHIPS', 'Selected', 'Boardman', 'Gritson', 'Moreau', 'Heiko', 'Szonn', 'Collinelli', 'Sandstod', 'Alexei', 'Mariano', 'Friedick', 'time-trial', 'Lausberg', 'Eiden', 'Thuet', 'Grzegorz', 'Krejner', 'Ainars', 'Kiksis', 'Dimitrios', 'Georgalis', 'Keiji', 'Kojima', 'Sharman', 'Escuredo', 'MacLean', 'Meidlinger', 'McKenzie-Potter', 'Masanaga', 'Shiohara', 'Zyl', 'Keirin', 'Nothstein', 'Neiwand', 'Magne', 'Buran', 'Hubner', 'Gane', 'Madison', 'Martinelli', 'McGrory', 'Pate', 'Kappes', 'Carsten', 'Betschart', 'Risi', 'Curuchet', 'immi', 'Madsen', 'Veggerby', 'Galvez-Lopez', 'Llaneras', 'Kotzmann', 'Stocher', 'Capelle', 'Jean-Michel', 'Monin', 'BOARDMAN', 'FULFILS', 'PREDICTION', 'Ayres', 'prediction', 'amazed', 'Who', 'proximity', 'indoor', 'superman', 'perfected', 'Obree', 'viral', 'Qualifiers', 'Gritsoun', 'L.', 'Chester-le-Street', 'FOWLER', 'MCMANAMAN', 'McManaman', 'Fowler', 'Kishinev', 'scans', 'X-rays', 'chat', 'foolish', 'Howey', 'naming', 'Gascoigne', 'Batty', 'JOCKEY', 'WEAVER', 'RECEIVES', 'Jockey', 'irresponsible', 'Pontefract', 'Leger', 'stayer', 'Double', 'Trigger', 'prominence', 'Guineas', 'Mister', 'Baileys', 'classic', 'ROWING', 'REDGRAVE', 'SEEK', 'FIFTH', 'Redgrave', 'Pinsent', 'coxless', 'thoughts', 'athlete', 'Rowing', 'BOTHAM', 'DISMISSES', 'GATTING', 'CLASS', 'DEBUT', 'golden', 'Gatting', 'half-volley', 'square-leg', 'learn', 'Stephenson', 'dashed', 'thrid', 'dismissing', 'Chappell', 'hop', 'CARLING', 'LEFT', 'TRAINING', 'Will', 'Carling', 'Guscott', 'Rory', 'Underwood', 'quartet', 'possess', 'qualities', 'selectors', 'DODGERS', 'Hideo', 'Nomo', 'half-game', 'Benito', 'Santiago', 'Amaro', 'Denny', 'Neagle', 'Smoltz', 'Devon', 'Hutton', 'Petkovsek', 'Valentine', 'Blair', 'Gwynn', 'Joyner', 'First-place', 'Eusebio', 'sacrifice', 'comeback', 'benched', 'Arias', 'Smiley', 'one-run', 'Armando', 'Reynoso', 'bulge', 'Larkin', 'one-out', 'RECALL', 'MEHRTENS', 'Mehrtens', 'series-clinching', 'TriNations', 'tearing', 'cartilage', 'Lock', 'Larsen', 'standby', 'Jonah', 'Lomu', 'Cullen', 'Walter', 'Josh', 'Kronfeld', 'Robin', 'Olo', 'Dowd', 'BONNET', 'TAKES', 'COACH', 'Bonnet', 'Hockey', 'Kwazulu-Natal', 'Englishman', 'Featherstone', 'GIBBS', 'GETS', 'Province', 'Herschelle', 'quadrangular', 'Woolmer', 'matured', 'MCC', 'supreme', 'Kallis', 'Spin-bowling', 'all-rounders', 'Nicky', 'Boje', 'Crookes', 'Hansie', 'Cronje', 'vice-captain', 'McMillan', 'Kirsten', 'Hudson', 'Symcox', 'Jonty', 'Rhodes', 'Allan', 'Fanie', 'Villiers', 'Daryll', 'Cullinan', 'Gibs', 'STAR', 'Olympiakos', 'basketball', 'Alba', 'RUSSIA', 'Yuri', 'Nikiforov', 'Vladislav', 'Rodimov', 'Donizetti', 'Attendence', 'Rodney', 'Eyles', 'Zarak', 'Jahan', 'Nicol', 'Wellings', 'Ryan', 'Parke', 'Julien', 'Bonetat', 'Jonathon', 'Barada', 'Shabana', 'Hands', 'Zubair', 'Faheem', 'R', 'FORMULA', 'SHELL', 'PHILIPPINES', 'best-of-seven', 'ISRAELI', 'Kfar', 'Sava', 'Zafririm', 'Holon', 'Maccabi', 'Haifa', 'Petah', 'Tikva', 'Lezion', 'Beit', \"She'an\", 'Beersheva', 'Herzliya', 'SELES', 'HAS', 'WALKOVER', 'co-world', 'Wednesay', 'four-and-a-half', 'SERIOUS', 'MEDVEDEV', 'HAVING', 'FUN', 'AGAIN', 'Outspoken', 'clown', 'prince', 'no-nonsense', 'attitude', 'routing', 'abnout', 'distracting', 'confining', 'tirades', 'peripheral', 'lounge', 'rant', 'entertain', 'businesslike', 'zero', 'Winning', 'slotted', 'odds', 'preparation', 'destined', 'Nainkin', 'End', 'Thigh', 'GRAF', 'WORKS', 'HARD', 'FIRST-ROUND', 'rewritten', 'superstar', 'Graf-like', 'efficiency', 'fourth-seeded', 'second-day', 'crushing', 'medalist', 'Fifth-seed', 'Maggie', 'loser', 'grab', 'semblance', 'ponytail', 'unleashed', 'tie-break', 'feisty', 'tie-breaker', 'Usually', 'point-by-point', 'SOSA', 'SURGERY', 'WEEKS', 'Valuable', 'Player', 'playoff', 'MARCELO', 'HAT-TRICK', 'novelty', 'roof', 'dull', 'Eijkelkamp', 'Jongsma', 'shock', 'Henke', 'fifth-placed', 'ROBSON', 'TROPHY', 'weathered', 'non-stop', 'whisker', 'away-goal', 'squandered', 'midway', 'fullback', 'Albert', 'Ferrer', 'Julen', 'Lopetegui', 'Milinko', 'Hristo', 'Stoichkov', 'Barjuan', 'set-piece', 'free-kick', 'athletic', 'Calderon', 'Bernabeu', 'distinct', 'SPANISH', 'SIGN', 'STRIKER', 'GABRICH', 'Iwan', 'Gabrich', 'Kluivert', 'Tijjani', 'Babangida', 'Dani', 'PARMA', 'ROMA', 'UDINESE', 'Parma', 'Roma', 'humble', 'Empoli', 'Wealthy', 'Ancelotti', 'Enrico', 'Chiesa', 'Pescara', 'Ottavio', 'Palladini', 'Giampaolo', 'Melli', 'Palermo', 'Bianchi', 'Arrigo', 'Sacchi', 'Cesena', 'Udinese', 'Cremonese', 'Uruguayan', 'nightmare', 'replay', 'Cosenza', 'Fidelis', 'Andria', 'Piacenza', 'Atalanta', 'Lecce', 'Genoa', 'Sampdoria', 'Nocerina', 'newcomers', 'Perugia', 'BAYERN', 'HIT', 'FOUR', 'BUNDESLIGA', 'Goals', 'powered', 'second-placed', 'Sergio', 'Zickler', 'acrobatic', 'Ruggiero', 'Rizzitelli', 'Feldhoff', 'Rhineside', 'Spal', 'Reggiana', 'Lucchese', 'Vicenza', 'Bologna', 'Torino', 'Avellino', 'Lazio', 'Bari', 'Monza', 'Napoli', 'Chievo', 'Ravenna', 'Akpoborie', 'Von', 'Heesen', 'Hirsch', 'scorers', 'Pires', 'Marc-Vivien', 'Foe', 'Patrice', 'Loko', 'PSG', 'Guivarch', 'SMICER', 'LAST-GASP', 'GOAL', 'LENS', 'In-form', 'Aime', 'Jacquet', 'Parc', 'des', 'Princes', 'raid', 'hard-won', 'Spurred', 'leveller', 'crossbar', 'bounced', 'Kader', 'Ferhaoui', 'blunder', 'Jean-Claude', 'Nadon', 'Vairelles', 'Lefevre', 'convincing', 'Ironically', 'Benoit', 'Cauet', 'one-two', 'Parisians', 'concede', 'Leonardo', 'Panama', 'Dely', 'Valdes', 'shocked', 'Canaries', 'Reigning', 'Hintum', 'Waalijk', 'Schreuder', 'Vierklau', 'Nooijer', 'Vurens', 'Schultz', 'Etienne', 'Mendy', 'Giuly', 'Chaouch', 'Rouxel', 'Baret', 'Colleter', 'SG', 'CHRISTIE', 'ASKED', 'JOIN', 'OWENS', 'TRIBUTE', 'Dream', 'relay', 'tribute', 'Jesse', 'Owens', 'promoter', 'Rudi', 'Thiel', 'hopeful', 'holder', 'Namibian', 'widow', 'squads', 'TENDULKAR', 'UPSTAGED', 'JAYASURIYA', 'dashing', 'Sanath', 'Jayasuriya', 'nine-wicket', 'comfortably', 'modest', 'devastating', 'Romesh', 'Kaluwitharana', 'man-of-the-match', 'Aravinda', 'Silva', 'ex-captain', 'chipped', 'stumped', 'Jadeja', 'Ganguly', 'Dharmasena', 'Kambli', 'Dravid', 'Srinath', 'Kumble', 'Mongia', 'Kapoor', 'Vass', 'Pushpakumara', 'A.de', 'Asanka', 'Gurusinha', 'Hashan', 'Tillekeratne', 'Roshan', 'Mahanama', 'Kumara', 'Chaminda', 'Vaas', 'Muthiah', 'Ravindra', 'Man-of-the-Match', 'Anil', 'Ajay', 'Sourav', 'Vinod', 'Rahul', 'Nayan', 'Javagal', 'Venkatesh', 'Ashish', 'Princeton', 'Lyman', 'Organisations', 'Bailundo', 'Savimbi', 'participated', 'joint-commission', 'quartering', 'reality', 'TRUTH', 'BODY', 'SUMMON', 'APARTHEID', 'subpoena', 'persons', 'Subpoenas', 'heal', 'confronting', 'Basie', 'Smit', 'Merwe', 'co-operation', 'compiling', 'harrowing', 'frankness', 'Hopes', 'subpoenaed', 'human-rights', 'TURKISH', 'AIRPLANE', 'LANDS', 'BOMB', 'THREAT', 'airliner', 'fire-engines', 'Nothing', 'Cypriot', 'hijacker', 'Arch', 'bbl', 'WORTH', 'exploratory', 'Morinville', 'excess', 'Trax', 'et', 'al', 'logged', 'Leduc', 'Reef', 'Cometra', 'choke', 'encountered', 'Nordegg', 'Apache', 'Saunders', 'depth', 'acreage', 'earning', 'Butte', 'Garrington', 'Testing', 'Including', 'barrel', 'Brumm', 'Biogen', 'Berlex', 'Leslie', 'Gevirtz', 'counsels', 'Schering', 'tempest', 'tube', 'Food', 'Drug', 'violated', 'Orphan', 'Avonex', 'MS', 'Betaseron', 'types', 'interferon', 'BioVest', 'Hedaya', 'marketplace', 'Chiron', 'inventory', 'FDA', 'Ophran', 'exclusivity', 'diseases', 'differs', 'Judge', 'counsel', 'Astrue', 'Chabora', 'Newark', 'depositions', 'Bissell', 'preside', 'balances', 'Fed', 'BILLIONS', 'DLRS', 'acct', 'Tax', 'shrugged-off', 'Codelco', 'Salvador', 'lots', 'Huw', 'center', 'CBSA', 'Average', 'centers', 'Brass', 'Servicenter', 'coil', 'strip', 'Alloy', 'size-per-order', 'Harleysville', 'qrtly', 'dividenD', 'HARLEYSVILLE', 'Quarterly', 'Prior', 'Pay', 'Record', 'ENAP', 'Oriente', 'Escravos', 'Oct', 'Empresa', 'Nacional', 'del', 'Petroleo', 'Ecuadorian', 'vague', 'supplied', 'seller', 'referring', 'Petroecuador', 'Dated', 'III', 'Ghibellines', 'retook', 'Florentine', 'Guelfs', 'Monte', 'Aperto', 'Francois-Rene', 'Vicomte', 'Chateaubriand', 'romantic', 'seminal', 'Memoires', \"d'Outre\", 'Tombe', 'settlers', 'Pueblo', 'Nuestra', 'Senora', 'Reina', 'Lady', 'Bruckner', 'composer', 'organist', 'symphonies', 'scale', 'masses', 'Napoleon', 'Franco-Prussian', 'Skeleton', 'Canyon', 'Arizona', 'Geronimo', 'rebellion', 'surrendered', 'Prolific', 'modernist', 'Darius', 'Milhaud', 'jazz', 'ballet', 'Creation', 'du', 'Madame', 'Bovary', 'German-born', 'biologist', 'Delbruck', 'physiology', 'genetic', 'infect', 'Edvard', 'Grieg', 'Peer', 'Gynt', 'Suite', 'Piano', 'Concerto', 'Dmytryk', 'Crossfire', 'Hollywood', 'Farewell', 'lovely', 'Boy', 'Scout', 'liberated', 'Wilhelmina', 'Wars', 'abdicated', 'Juliana', 'Schuman', 'statesman', 'Forth', 'measuring', 'ft', 'Majesty', 'Schweitzer', 'theologian', 'philosopher', 'Acclaimed', 'interpretations', 'J.S.', 'Bach', 'Brotherhood', 'Spitz', 'Olympiad', 'E.F.', 'Fritz', 'guru', 'author', 'Small', 'Beautiful', 'Simenon', 'character', 'Inspector', 'Maigret', 'Todor', 'Zhivkov', 'embezzling', 'Declaring', 'ours', 'Fourth', 'Great', 'equality', 'noise', 'bigger', 'detecting', 'fining', 'violators', 'complying', 'trimmed', 'decibels', 'loudness', 'Nevertheless', 'worthwile', 'Goschen', 'quieter', 'consultation', 'applied', 'busiest', 'repositioned', 'detect', 'beats', 'team-mates', 'redraw', 'union-England', 'exclusive', 'Sky', 'Kiernan', 'one-dayers', 'Christchurch', 'Dunedin', 'heels', 'CAF', 'inability', 'Bangui', 'internationally-sponsored', 'Sierra', 'Leone', 'examining', 'dossier', 'Burundi-Central', 'disqualify', 'fast-tracks', 'asylum-seekers', 'VANCOUVER', 'fast-tracking', 'dissidents', 'fast-tracked', 'processing', 'referred', 'Garrett', 'Lambert', 'disposition', 'suppose', 'guess', 'preferential', 'Patten', 'Ivorian', 'journalist', 'ABIDJAN', 'Lapke', 'Populaire', 'questioning', 'Colleagues', 'confidential', 'Voie', 'insulting', 'Henri', 'Konan', 'Bedie', 'ASEC', 'Abidjan', 'excessive', 'pardoned', 'incitement', 'disturb', 'Village', 'FREETOWN', 'Leonean', 'Foindu', 'Region', 'Brigade', 'Fallah', 'Sewa', 'overran', 'Mano', 'Junction', 'diamond', 'Tongo', 'Freetown', 'Rebels', 'Continuing', 'ascribed', 'uncontrolled', 'bands', 'Ivory', 'RUF', 'Aid', 'Chiluba', 'shuffles', 'vacancy', 'LUSAKA', 'Zambian', 'shuffled', 'sacking', 'Remmy', 'Mushota', 'tribunal', 'coffers', 'Lands', 'Luminzu', 'Shimaponda', 'Machungwa', 'fictitious', 'rid', 'payroll', 'Sidia', 'Ousmane', 'Kaba', 'root', 'Guinean', 'bribes', 'expenditure', 'whereas', 'minerals', 'hydroelectric', 'uniting', 'squabbling', 'Liberian', 'Monrovia', 'inauguration', 'vice-chairmen', 'Alhadji', 'Kromah', 'orgy', 'looting', 'compliance', 'Freed', 'slaves', 'Constitutional', 'Project', 'CRP', 'Istafanus', 'Elisha', 'Shamay', 'O.K.', 'Likkason', 'Egurugbe', 'ongoing', 'ASUU', 'Academic', 'Universities', 'Tafawa', 'Balewa', 'academic', 'four-month', 'Dozens', 'detention', 'colonies', 'pleas', 'clemency', 'versions', 'gypsy', 'Topolcany', 'elaborating', 'visits', 'sketch', 'murderer', 'identical', 'portrait', 'father-of-three', 'Belgians', 'Knifeman', 'beauty', 'queen', 'knifed', 'Agnieszka', 'Kotlarska', 'U.S.-based', 'modelling', 'Versace', 'Vogue', 'Wyborcza', 'TWA', 'booking', 'attacker', 'Jerzy', 'intending', 'slip', 'System', 'Mokhoff', 'Alliance-Menatep', 'inactivity', 'Babayan', 'CentrInvest', 'UES', 'Unified', 'chips', 'anybody', 'ADRs', 'Gazprom', 'converted', 'investing', 'tightened', 'restricting', 'shareholers', 'Mosenergo', 'Rostelekom', 'LUKoil', 'Tolkacheva', 'deportations', 'deporting', 'Tritan', 'Shehu', 'Koha', 'Jone', 'deported', 'legalise', 'long-standing', 'stumbling', 'Bulgarians', 'pre-communist', 'restitution', 'Southeastern', 'abolished', 'Soviet-style', 'chancellor', 'vacation', 'staying', 'lodge', 'loudest', 'Exiled', 'confusing', 'Shiels', 'NAGYATAD', 'Nagyatad', 'Lajos', 'semi-literate', 'Bosnian-Croat', 'Republika', 'Srbska', 'override', 'reassert', 'Adem', 'Hodzic', 'seals', 'Bosnia-Hercegovina', 'councils', 'invalidated', 'cancellation', 'Husein', 'Micijevic', 'translators', 'booth', 'Probably', 'Seventy', 'Mandolina', 'Zelic', 'translator', 'ringed', 'Szabo', 'studying', 'envelopes', 'slips', 'inconclusive', 'Baltic', 'rebuff', 'Toomas', 'Savi', 'Rosati', 'best-selling', 'marginalised', 'tactical', 'manoeuvre', 'circle', 'unity', 'unwilling', 'matters', 'chosed', 'harm', 'eastward', 'inevitable', 'resembled', 'Soviet-era', 'soars', 'January-May', 'Six-month', 'expenditures', 'end-May', 'revise', 'pension', 'indexations', 'energy', 'indexation', 'quickened', 'envisaged', 'leu', 'Nicaraguans', 'delinquency', 'Bernardo', 'Arce', 'advised', \"Gov't\", 'dodging', 'Ernesto', 'Samper', 'seem', 'Prosecutor-General', 'Adolfo', 'Salamanca', 'senators', 'Myles', 'Frechette', 'applauded', 'outcast', 'counternarcotics', 'year-old', 'stemming', 'enthusiastic', 'Extradition', 'endorsing', 'lords', 'U.S.-bound', 'penalities', 'prisons', 'contributions', 'Quake', 'shakes', 'earthquake', 'Richter', 'quake', 'Quepos', 'Volcanic', 'Seismologicial', 'welcoming', 'Santamaria', 'Barrier', 'CVRD', 'shelve', 'Doce', 'Dutra', 'annulled', 'dedicate', 'Schomberg', 'Yates', 'dividend', 'ltd', 'franked', 'Nov', 'Reg', 'Depreciation', 'bartender', 'bag', 'hometown', 'commuted', 'RAMALLAH', 'Legislative', 'halting', 'mechanism', 'uncompromising', 'resolutions', 'necessarily', 'binding', 'blasted', 'amounted', 'concerning', 'Korei', 'comprehensive', 'confront', 'confiscation', 'agrees', 'PUK-KDP', 'endorse', 'massing', 'centres', 'penetrated', 'reflects', 'Hostilities', 'aggression', 'safeguarded', 'Operation', 'Provide', 'Comfort', 'noble', 'contemplate', 'INA', 'morals', 'Abdulsamad', 'Hameed', 'contrary', 'blasts', 'ignoring', 'Crosson', 'VENTURA', 'mention', 'outdoor', 'commented', 'Welcome', 'laughed', 'anti-drug', 'Meanwhile', 'aggressively', 'flashpoint', 'Keep', 'likened', 'stream', 'missiles', 'needle', 'cigarette', 'poison', 'cocaine', 'marijuana', 'remarks', 'cigarettes', 'well-wishers', 'specifically', 'Oh', 'Come', 'aides', 'Proposition', 'cultivation', 'medicinal', 'headache', 'ingrown', 'toenail', 'non-political', 'year-olds', 'flanked', 'Bush', 'BALANCE-Water', 'Dist', 'Cty', 'WATER', 'DISTRICT', 'CO', 'KS', 'REVENUE', 'SER', 'RFDG', 'Aa', 'FIRM', '-------------------------------------------------------------', 'Profit', 'weigh', 'underpinned', 'persisted', 'declining', 'firming', 'cash-related', 'wood', 'Random', 'Lengths', 'spruce', 'tbf', 'Reduced', 'Lumber', 'Jerry', 'Bieszk', 'WHEAT--Rains', 'planting', 'Frost', 'Above-normal', 'Plains', 'near-ideal', 'extension', 'economist', 'irony', 'old-timers', 'Dust', 'Bowl', 'turnabout', 'Hodges', 'Climatological', 'Survey', 'climatologist', 'Mosier', 'Panhandle', 'beneficial', 'ideal', 'mositure', 'Dolly', 'topsoil', 'adequate', 'Agricultural', 'Statistics', 'settles', 'JACKSONVILLE', 'portfolios', 'thrifts', 'discontinued', 'installment', 'Amoco', 'Yemen', 'sharing', 'Shabwa', 'Dietsch', 'MEES', 'production-sharing', 'Block', 'exploring', 'deferring', 'Yemeni', 'Amoco-Yemen', 'contractor', 'potentially', 'oilfields', 'Encyclopedia', 'Ludwig', 'defends', 'hostile', 'Evelyn', 'Leopold', 'lashed', 'windfall', 'army-run', 'lengthy', 'Nsanze', 'Terence', 'Tanzanian', 'Julius', 'Nyrere', 'unsympathetic', 'Buyoya', 'Tutsi-run', 'bind', 'Quite', 'gratuitous', 'immolation', 'Mothusi', 'Nkgowe', 'coups', 'dump', 'heap', 'justification', 'legitimate', 'discussion', 'impose', 'suggests', 'impede', 'Chilean', 'cautious', 'defend', 'exposed', 'terroritsts', 'Somavia', 'unarmed', 'Inaction', 'indiscriminate', 'Inderfurth', 'unconditional', 'BERNE', 'cantons', 'EOE', 'PUTS', 'VOLUME', 'FEATURES', 'INDEX', 'AHOLD', 'BOLSWESSANEN', 'ABN', 'AMRO', 'sucks', 'seven-year-old', 'cheques', 'ventilation', 'pipe', 'Canard', 'Enchaine', 'sucked', 'confederate', 'Eksportfinans', 'Suedwest', 'LB', 'economists', 'Suisse', 'flat', 'Closing', 'conf', 'comi', 'medium-term', 'Anti-Bhutto', 'marched', 'removal', 'Benazir', 'Bhutto', 'Zardari', 'Nawaz', 'Sharif', 'Muslim', 'nepotism', 'Witnesses', 'colourful', 'chanting', 'anti-government', 'Balochistan', 'Quetta', 'extra-judicial', 'innocent', 'youths', 'Mohajir', 'MQM', 'turn-out', 'mobilised', 'turbulent', 'calmer', 'speaks', 'Urdu-speaking', 'migrated', 'Partition', 'descendants', 'disaster', 'dislodge', 'holy', 'ACC', 'Apr-Jul', 'Associated', 'Cement', 'April-July', 'Nani', 'Palkhivala', 'April-March', 'grinding', 'Talking', 'inadequate', 'infrastructural', 'shortages', 'achieved', 'retaining', 'WSRL', 'Kredietbank', 'Welspun', 'Stahl', 'Rohren', 'part-finance', 'submerged', 'welded', 'pipes', 'maturing', 'Indusind', 'UTI', 'Gujarat', 'annum', 'longitudinal', 'spiral', 'yarn', 'terry', 'towels', 'polyester', 'fishermen', 'P.V.', 'Krishnamoorthy', 'RAMESWARAM', 'mid-sea', 'accosts', 'Arulanandam', 'Rameswaram', 'Nadu', 'Tamil-speaking', 'Karunanidhi', 'influx', 'officals', 'impounded', 'trawlers', 'licenses', 'Fishermen', 'Bose', 'naval', 'assurance', 'revoke', 'coerced', 'Palk', 'Pesalai', 'fish', 'Chinnathambi', 'unfair', 'penalise', 'nevertheless', 'Fisheries', 'boundary', 'enforce', 'pomfret-rich', 'offerings', 'bales', 'VW', 'DRESDEN', 'carmaker', 'Adelt', 'Passat', 'sedan', 'Gilardi', 'MILTIADIS', 'EVERT', 'HEADS', 'ALEXANDROUPOLIS', 'THIS', 'WEEKEND', 'Conservative', 'ND', 'Miltiadis', 'Evert', 'Alexandroupolis', 'businessmen', 'depart', 'unleashing', 'seven-point', 'merchants', 'professionals', 'pensions', 'drachmas', 'absorption', 'evasion', 'accelerate', 'Faster', 'component', 'pushes', 'Griffiths', 'floor', 'chip', 'rebounded', 'jeopardise', 'tie-up', 'link-up', 'Better-than-expected', 'non-EU', 'Forecasts', 'nonetheless', 'buoyed', 'Viannet', 'Communist-led', 'CGT', 'firmer', 'tankan', 'gauge', 'rock-bottom', 'BOJ', 'predictions', 'improving', 'backbone', 'spectacular', 'breakout', 'Baader', 'slippage', 'faltering', 'AEI', 'ISO', 'Express', 'twenty-second', 'accreditation', 'Veritas', 'accredited', 'Iberfreight', 'Alicante', 'Bilbao', 'Seville', 'Valencia', 'Wafa', 'Accusing', 'stupidity', 'strongest', 'expand', 'Kiryat', 'Sefer', 'demolishing', 'idiots', 'stupid', 'withdrawing', 'hurting', 'Bethlehem', 'cater', 'labourers', 'Al-Aqsa', 'Christians', 'bombings', 'halves', 'abandoning', 'diplomacy', 'bells', 'Mahmoud', 'Abbas', 'Mazen', 'Dore', 'promises', 'pressing', 'long-delayed', 'Hebron', 'redeployment', 'Yitzhak', 'Mordechai', 'Omer', 'Akbel', 'Bilateral', 'Prodi', 'DIYARBAKIR', 'Tunceli', 'Soldiers', 'FSA', 'qualifies', 'muni', 'Assurance', 'Ansgar', 'obligation', 'Avalon', 'Borough', 'GOs', 'Seaford', 'N.Y.', 'Colo', 'taxable', 'Fac', 'Auth', 'Benevolent', 'Assoc', 'Taxable', 'Lamm', 'ticket-CNN', 'CNN', 'competed', 'three-term', 'vied', 'disillusioned', 'Career', 'Horizons', 'Donaldson', 'Lufkin', 'Jenrette', 'payout', 'MINNEAPOLIS', 'mull', 'Vowinkel', 'appeals', 'Names', 'reorganisation', 'Chiate', 'reinsure', 'liabilities', 'Equitas', 'Rowland', 'litigation', 'Head', 'Chairmen', 'Appeals', 'Circuit', 'Gale', 'Norton', 'immunizes', 'Ninth', 'seeks', 'rescision', 'alternate', 'remedy', 'individually', 'Rejection', 'forfeiting', 'risking', 'rejecting', 'gestures', 'NUREMBERG', 'Bavarian', 'detail', 'Nuremberg-based', 'duty', 'prosecutors', 'Adolf', 'infamous', 'prosecute', 'Gun-wielding', 'BERLIN', 'pistol', 'overtook', 'lane', 'photographed', 'Prosecutors', 'Potsdam', 'nerve', 'coercion', 'file', 'pictures', 'degrading', 'lets', 'commit', 'clerk', 'U', 'indecency', 'performing', 'sadistic', 'torture', 'oral', 'fanfare', 'alerted', 'packages', 'Sep', 'Archaeological', 'Society', 'Reppas', 'Theodoros', 'Pangalos', 'coincide', 'celebrations', 'Industrial', 'components', 'refer', 'cavorting', 'Ducruet', 'bodyguard', 'naked', 'poolside', 'Tremila', 'Gente', 'undressing', 'embracing', 'sunbed', 'explicit', 'Fili', 'Houteman', 'singer', 'dancer', 'cabaret', 'principality', 'Rainier', 'disapproved', 'Caroline', 'Grace', 'Cap', 'Villefranche', 'cameras', 'sound-track', 'Highlights', 'Almeida', 'Saxony', 'IP', 'Pao', 'Acucar', 'Auchan', 'CAMAT', 'AGF-IART', 'clears', 'Billa', 'Rewe-Handelsgruppe', 'SPEECH', 'Speech', 'Anita', 'Gradin', 'Sexual', 'Exploitation', 'Stockholm', 'Eurostat', 'March-May', 'tomato', 'warriors', 'BUNOL', 'Revellers', 'Bunol', 'pelted', 'armfuls', 'ripe', 'tomatoes', 'coated', 'blood-red', 'wash', 'firework', 'fruit-throwing', 'frenzy', 'hurl', 'occasion', 'historians', 'disgruntled', 'locals', 'spontaneously', 'bombard', 'fiesta', 'Boo-nee-OL', 'fame', 'grown', 'GREECE', 'IMERISIA', 'Pre-election', 'heats', 'includind', 'Pasok', 'scrambles', 'slaps', 'coupons', 'upcoming', 'FINANCIAL', 'KATHIMERINI', 'Inflows', 'post-election', 'subway', 'snags', 'overshoot', 'lighten', 'KERDOS', 'vows', 'mesures', 'kicks', 'Yannos', 'Papandoniou', 'drachma', 'EXPRESS', 'Message', 'Constantine', 'Mitsotakis', 'shake', 'NAFTEMBORIKI', 'annually', 'Georgiopoulos', 'HOEK', 'LOOS', 'PROFIT', 'GUILDERS', 'gases', 'Hoek', 'Loos', 'Stagecoach', 'Swebus', 'principle', 'stg-plus', 'vendors', 'conditional', 'see-saw', 'Ninety-day', 'samurai', 'Volumes', 'eurokiwi', 'issuance', 'certainty', 'Guinness', 'Peat', 'GPG', 'profitability', 'inevitably', 'Weiss', 'pleasing', 'stemmed', 'consolidate', 'Tyndall', 'Mid-East', 'Newcrest', 'abnormals', 'Telfer', 'Boddington', 'grades', 'evades', 'bush', 'BRISBANE', 'dense', 'bushland', 'occured', 'Glenwood', 'Maryborough', 'emergent', 'quarantine', 'sightings', 'self-loading', 'probability', 'bushman', 'fixed-wing', 'cordon', 'sq', 'littered', 'caves', 'hideout', 'enabled', 'evade', 'heated', 'Tasmania', 'rampage', 'penal', 'Ek', 'Chor', 'motorcyle', 'Shanghai-Ek', 'Motorcycle', 'Sino-Thai', 'gasoline', 'engines', 'Pudong', 'Capacity', 'Automobile', 'Xingfu', 'motorcycles', 'Khmer', 'Rouge', 'Ieng', 'Sary', 'Pol', 'Pot', 'ARANYAPRATHET', 'Dissident', 'hardliners', 'DNUM', 'Cambodian', 'Ta', 'Mok', 'Son', 'dictatorial', 'copy', 'absentia', 'Cambodia', 'overwork', 'French-educated', 'brother-in-law', 'PHNOM', 'PENH', 'Russian-made', 'Phnom', 'Penh', 'Mouly', 'resupply', 'Stung', 'Treng', 'MOF', 'Kubo', 'geared', 'worsening', 'supplementary', 'contraction', 'smoothly', 'mid-September', 'April-June', 'acknowledge', 'wartime', 'tide', 'resurgent', 'militarism', 'atrocities', 'unrepentant', 'militarists', 'undecided', 'indignant', 'shrine', 'dedicated', 'whitewash', 'genuinely', 'apologised', 'remorse', 'Sakigake', 'Masayoshi', 'Takemura', 'smallest', 'LDP', 'destabilise', 'splits', 'reform-oriented', 'Yukio', 'Hatoyama', 'snubbed', 'pointedly', 'Marathon', 'allies', 'resolve', 'backers', 'tainted', 'LDP-dominated', 'unpopular', 'taxpayer', 'ruined', 'stalled', 'defectors', 'bolts', 'lawmakers', 'eight-month-old', 'dissolve', 'reconvenes', 'Hing', 'engages', 'warehousing', 'Fire', 'hurled', 'Consulate-General', 'Stromme', 'Somebody', 'molotov', 'cocktail', 'parking', 'novelist', 'Writers', 'Dai', 'Houying', 'Revolution', 'intellectuals', 'Born', 'Anhui', 'prolific', 'teacher', 'Hawaii', 'Ren', 'translated', 'Hwa', 'Kay', 'plunges', 'all-time', 'unloaded', 'year-ago', 'editorials', 'straights', 'Beijing-funded', 'WEN', 'WEI', 'PO', 'stem', 'strait', 'MING', 'newly-established', 'Frontier', 'anxieties', 'lead-up', 'CHINA', 'MORNING', 'judiciary', 'subjected', 'paramount', 'survival', 'ECONOMIC', 'indecisive', 'hesitancy', 'frees', 'GAZA', 'Dahman', 'Gaza-based', 'Addameer', 'Prisoners', 'Attorney-General', 'Khaled', 'al-Qidra', 'Qidra', 'false', 'Nahed', 'Dahlan', 'Headlines', 'EL', 'PAIS', 'Work', 'juvenile', 'Country', 'MUNDO', 'Aleix', 'Vidal-Quadras', 'Catalan', 'defenestration', 'DIARIO', 'Worldwide', 'CINCO', 'DIAS', 'Santander', 'conquest', 'EXPANSION', 'GACETA', 'NEGOCIOS', 'Caja', 'Banisadr', 'Abolhassan', 'commandeered', 'round-the-clock', 'fearing', 'gangland-style', 'machinegun', 'heed', 'revolution', 'sworn', 'enemy', 'chiefs', 'Iberia', 'installations', 'consists', 'Joulwan', 'Allied', 'Sheehan', 'COPENHAGEN', 'cleaning', 'Aaxis', 'Limited', 'logo', 'falsified', 'accounts', 'provisions', 'necessitate', 'Copenhagen', 'balks', 'balked', 'blaming', 'stringent', 'surpasses', 'sewers', 'interfering', 'augment', 'threaten', 'DHA', 'coordinate', 'monies', 'reparations', 'deducted', 'overseeing', 'anticipated', 'supervision', 'York-based', 'overseers', 'undersecretary-general', 'percentile', 'Aircraft', 'emissions', 'CAEP', 'Consultancy', 'Call', 'Provision', 'overland', 'delegations', 'Countries', 'NIS', 'Contract', 'TRA', 'Microfiche', 'Invitation', 'DI', 'Micromation', 'Gaseous', 'Tacis', 'coordination', 'Notice', 'REGULATION', 'EEC', 'STATEMENTS', 'COAL', 'STEEL', 'COMMUNITY', 'DECEMBER', 'wines', 'Ecu', 'cull', 'Obviously', 'examine', 'Kiely', 'dynamics', 'bovine', 'spongiform', 'encephalopathy', 'methodology', 'slaughtered', 'eradication', 'disappoint', 'Nature', 'predicted', 'infections', 'Naish', 'reluctantly', 'placate', 're-examined', 'considerably', 'culled', 'reopen', 'slapped', 'Creutzfeldt-Jakob', 'Disease', 'CJD', 'BSE-infected', 'blockades', 'roadblocks', 'importing', 'radios', 'blockaded', 'motorways', 'discovery', 'Chopra', \"O'Malley\", 'Walton', 'Iain', 'Romero', 'Jimenez', 'Antoine', 'Lebouc', 'Curry', 'Affleck', 'SORENSEN', 'DOETINCHEM', 'Sorensen', 'Ekimov', 'Giunluca', 'Gorini', 'Breukink', 'Wilfried', 'Peeters', 'Bart', 'Voskamp', 'Randolph', 'Lietti', 'MG-Technogym', 'Maarten', 'Bakker', 'Olaf', 'fifth-stage', 'Zevenaar', 'Venray', 'ONE-DAYER', 'overs-a-side', 'Darryn', 'Fiedler', 'Florian', 'Rousseau', 'Georgios', 'Chimonetos', 'Lampros', 'Vasilopoulos', 'Magali', 'Faure', 'Kathrin', 'Freitag', 'Felicia', 'Ballanger', 'Grichina', 'Tanya', 'Dubnicoff', 'Annett', 'Neumann', 'Enioukhina', 'CROFT', 'RESTRICTS', 'Tight', 'Englishmen', 'skying', 'long-on', 'off-side', 'well-flighted', 'pavilion', 'inswinging', 'yorker', 'Bat', 'Saqlain', 'Edgbaston', 'LOMBARDI', 'Lombardi', 'Polti', 'Hans', 'Clerq', 'Jemison', 'Servais', 'Knaven', 'fourth-stage', 'Doetinchem-Doetinchem', 'TEAMS', 'Tunbridge', 'Hove', 'Athey', 'Saggers', 'Watkin', 'Solanki', 'Barnett', 'Pooley', 'Ramprakash', 'Fay', 'TELFER', 'LIONS', 'COACHING', 'ROLE', 'Lions', 'McGeechan', 'GROBBELAAR', 'NAMED', 'TEMPORARY', 'England-based', 'Bruce', 'Grobbelaar', 'ZIFA', 'vice-chairman', 'Pamire', 'Harare', 'five-nation', 'Castle', 'Duvillard', 'Argyle', 'Segers', 'Fashanu', 'Heng', 'Suan', 'Lim', 'pleaded', 'accepting', 'DINAMO', 'Jenson', 'Krizan', 'Lila', 'Osterloh', 'Nanne', 'Dahlman', 'BRAWL', 'CONTINUE', 'SLIDE', 'Yankee', 'Mulholland', 'bench-clearing', 'Divisional', 'Playoff', 'Kingdome', 'ejected', 'Marzano', 'brushed', 'Wengert', 'nine-hitter', 'Herrera', 'minors', 'Baldwin', 'Ozzie', 'Guillen', 'Nilsson', 'Offerman', 'Rick', 'Huisman', 'Hentgen', 'tossing', 'Orel', 'Hershiser', 'Belle', 'MARTINEZ', 'AGGRESSIVE', 'Yorkers', 'new-found', 'aggressiveness', 'adjusting', 'louder', 'messed', 'adrenalin', 'lanes', 'NEAGLE', 'pitching', 'baseball', 'winningest', 'Ron', 'Wright', 'Double-A', 'Greenville', 'Pointer', 'Class-A', 'mid-season', 'minor-league', 'phenom', 'Andruw', 'post-season', 'Abdellaoui', 'Graef', 'BAILEY', 'RELAY', 'honour', 'assembled', 'quartets', 'anchor', 'autograph', 'ornate', 'Dillard', 'Lindy', 'Remigino', 'Hines', 'Hasely', 'Crawford', 'inspired', 'grand-daughter', 'Gina', 'Tillman', 'GENOA', 'AWARDED', 'Bachini', 'NICE', 'SACK', 'EMON', 'Struggling', 'parting', 'Emon', 'Bois', 'Bronckhorst', 'Ferdy', 'BRITAIN', 'WELCOMES', 'ROMANIA-HUNGARY', 'TREATY', 'ACCORD', 'much-delayed', 'positively', 'neighbourly', 'EMBASSY', 'CLOSED', 'LABOUR', 'SEP', 'consulates', 'Thessaloniki', 'observance', 'PARTY', 'PICKS', 'BOLD', 'OGILVY', 'MATHER', 'CAMPAIGN', 'Bold', 'Ogilvy', 'Mather', 'pre-election', 'communication', 'linked', 'divorces', 'romantically', 'petition', 'presenter', 'mocked', 'gymnasium', 'LIFFE', 'APT', 'Futures', 'automated', 'pit', 'tabular', 'MONTH', 'SETTLEMENT', 'SETTLE', 'LONG', 'GILT', 'STERLING', 'EUROMARK', 'EUROLIRA', 'EUROSWISS', 'installs', 'KINSHASA', 'CNE', 'Kinshasa', 'deployed', 'deadlines', 'Yoka', 'Lye', 'Mudaba', 'Delegates', 'progressively', 'Maniema', 'Shaba', 'Bandundu', 'installation', 'Mobutu', 'Sese', 'Seko', 'object', 'insists', 'Ikimi', 'fact-finding', 'wanting', 'ministerial', 'continuation', 'Saro-Wiwa', 'restricted', 'Beatrix', 'cultural', 'guns', 'forbidden', 'categories', \"N'DJAMENA\", 'Idriss', 'Deby', 'Nomads', 'FRATERNITE', 'MATIN', 'establishes', 'decentralisation', 'VOIE', 'Bauza', 'Donwahi', 'Douati', 'Alphonse', 'illicit', 'swine', 'JOUR', 'Lakpe', 'publisher', 'appoints', 'Colonel', 'Severin', 'Kouame', 'Tanny', 'confrontation', 'Mahala', 'Zvornik', 'Lieutenant', 'Marriner', 'retaliation', 'angry', 'mob', 'long-barreled', 'Storm', 'SKOPJE', 'lightning', 'Berovo', 'cathedral', 'thunderstorm', 'Kornblum', 'Milosevic', 'Greste', 'Slobodan', 'defuse', 'manipulation', 'Srpska', 'bolster', 'patron', 'rectify', 'expulsions', 'blessing', 'Banja', 'Luka', 'Biljana', 'Plavsic', 'oversee', 'mini-state', 'Voters', 'choosing', 'three-member', 'comprised', 'rbls', 'RAO', 'roubles', 'FFK', 'Starting', 'illiquid', 'harder', 'Artyom', 'Danielyan', 'Kosovo', 'boycotted', 'institutions', 'Bajgora', 'Donje', 'Ljupce', 'Podujevo', 'Celopek', 'revoked', 'cracked', 'moderates', 'cradle', 'Viral', 'meningitis', 'Emanuil', 'Ceausu', 'Babes', 'infectious', 'virus', 'lasts', 'gastro-intestinal', 'tract', 'Vukasin', 'Filipovic', 'supplying', 'staging', 'mismanagement', 'FinMin', 'Raul', 'Matos', 'Azocar', 'IMF-hosted', 'seminar', 'Agenda', 'metric', 'sail', 'Cartagena', 'shipping', 'coffee', 'non-oil', 'non-traditional', 'OCEI', 'IMF-sponsored', 'Chemical', 'foods', 'JPR', 'cops', 'racket', 'Thirteen', 'Lago', 'Nacion', 'credibility', 'undermined', 'scandals', 'indictment', 'Piotti', 'dishonest', 'purged', 'brave', \"gov't\", 'Kandir', 'constitutionally', 'same-day', 'Cetes', 'nervousness', 'Co-ordinated', 'acceptances', 'pagares', 'longer-term', 'masked', 'Oaxaca', 'assaults', 'Maturing', 'credits', 'oversupply', 'shortfall', 'inflow', 'Lezama', 'newroom', 'CHILPANCINGO', 'Pre-electoral', 'bickering', 'Acatepec', 'Mayor', 'fanned', 'intimidate', 'stirred', 'Agir', 'Ensemble', 'pour', 'les', 'Droits', \"l'Homme\", 'exerted', 'psychological', 'grabs', 'Aguirre', 'Tribunal', 'Pessina', 'restaurants', 'travelled', 'condemn', 'day-to-day', 'punish', 'landless', 'peasants', 'countryside', 'Letter', 'Churches', 'Coordinate', 'Ecumenical', 'endemic', 'Thirty-six', 'massacred', 'Para', 'Lucas', 'Moreira', 'Neves', 'Bishops', 'flees', 'passport', 'consular', 'anti-corruption', 'soliciting', 'Corruption', 'ICAC', 'anti-graft', 'Consulate', 'bribe', 'scams', 'Honduran', 'passports', 'thinks', 'solve', 'woes', 'Rajapat', 'warnings', 'pullouts', 'Chatichai', 'Choonhavan', 'Chavalit', 'Yongchaiyudh', 'Aspiration', 'insincere', 'slowdown', 'switched', 'monarchy', 'Yassin', 'Ramle', 'fundamentalist', 'wrecking', 'confined', 'freeing', 'SKHIRAT', 'Skhirat', 'Rabat', 'purely', 'Accompanied', 'Scandal', 'vital', 'Conlon', 'triumphal', 'abruptly', 'eavesdrop', 'conversations', 'campaigns', 'invaluable', 'captivated', 'worried', 'Senator', 'Dianne', 'Feinstein', 'bump', 'dogged', 'wrongdoing', 'misconduct', 'questionable', 'judgment', 'selecting', 'advisers', 'chart', 'revert', 're-elected', 'hall', 'revelled', 'heartland', 'hoarse', 'voice', 'resolute', 'wit', 'stilted', 'glib', 'Piper', 'Jaffray', 'tax-exempt', 'compiled', 'Previous', 'Week', 'Change', '-------------------------', 'A-rated', \"Gen'l\", 'Obligation', '-----', 'Rev', 'Researchers', 'muscular', 'dystrophy', 'gene-therapy', 'technique', 'Gene', 'Therapy', 'telethon', 'method', 'Muscular', 'muscle', 'degenerates', 'adulthood', 'Individuals', 'non-working', 'producing', 'dystrophin', 'altered', 'common-cold', 'minimise', 'susceptibility', 'injected', 'mice', 'bred', 'genes', 'experiment', 'fibers', 'diminishing', 'Similar', 'test-tube', 'immune-system', 'Grain', 'oilseeds', 'oilseed', 'WHEAT', 'SALES', 'Assn', 'Cargill', 'Mitsui', 'Dreyfus', 'Northwest', 'DNS', 'WW', 'Commodity', 'FOB', 'donation', 'Shipment', 'BARLEY', 'SOYBEAN', 'Taichung', 'Breakfast', 'Soybean', 'Procurement', 'soybeans', 'Bunge', 'PNW', 'buyer', 'TENDER', 'MARKET', 'TALK', 'upland', 'sorghum', 'pima', 'Oilseed', 'poultry', 'fruits', 'gaining', 'quota', 'ONIC', 'panel', 'cutout', 'offal', 'DES', 'MOINES', 'steer', 'Help-wanted', 'ad', 'help-wanted', 'uneven', 'Goldstein', 'Recent', 'want-ad', 'hiring', 'unemployment', 'matched', 'jewel', 'heist', 'ATLANTIC', 'jewelry', 'Showboat', 'Hotel', 'Capt', 'Andrews', 'videotape', 'suitcase', 'resembling', 'wholesaler', 'Schein', 'suitcases', 'closet', 'Jewellers', 'mid-twenties', 'distract', 'McGilley', 'description', 'O.J.', 'Simpson', 'hints', 'financially', 'jury', 'gag', 'prohibits', 'acquittal', 'crying', 'blues', 'Whatever', 'erroneous', 'jam-packed', 'Contrary', 'distanced', 'Buffalo', 'Bills', 'Fame', 'wildly', 'supportive', 'gifts', 'Violence', 'year-long', 'limelight', 'supermarket', 'reprinted', 'editions', 'vitriol', 'journalism', 'dignify', 'surgeon', 'discarding', 'CHARLESTON', 'S.C.', 'amputated', 'improperly', 'disposed', 'deformed', 'infant', 'prosthesis', 'orthopedic', 'educational', 'freezer', 'spoiled', 'crab', 'trap', 'flesh', 'cop', 'shrub', 'guys', 'bagged', 'rob', 'Checker', 'Fort', 'Lauderdale', 'Pines', 'drive-through', 'toting', 'Earl', 'Feugill', 'camouflaged', 'shaggy', 'freeze', 'Herald', 'Marines', 'attaching', 'strips', 'burlap', 'Green', 'disguise', 'staking', 'robberies', 'fast-food', 'stakeout', 'DLA', 'tin', 'Defense', 'Logistics', 'resigns', 'NBC', 'consultant', 'reshaped', 'MS-NBC', 'ire', 'repositioning', 'gluten', 'meal', 'steady-higher', 'pickup', 'AREA', 'MILLS', 'Gluten', 'pellets', 'DECATUR', 'IL', 'CLINTON', 'CEDAR', 'RAPIDS', 'IA', 'T', 'cereals', 'Ecus', 'provisionally', 'optional-origin', 'enjoys', 'subtracting', 'shipyard', 'RENNES', 'Cherbourg', 'yeard', 'cutback', 'slim', 'Indre', 'DAWN', 'managements', 'curtail', 'estates', 'Hub', 'Gadoon', 'unearthed', 'police-run', 'cages', 'Tando', 'Allahyar', 'Hyderabad', 'RECORDER', 'Gas', 'Sui', 'technologists', 'sugarcane', 'pillaged', 'Gujar', 'megawatt', 'on-line', 'NATION', 'Mohib', 'Textile', 'defaulted', 'leasing', 'modarabas', 'multiply.q', 'Shahid', 'privatisation', 'Electricity', 'Boards', 'Vital', 'Sindh', 'ad-interim', 'restraining', 'Privatisation', 'Javedan', 'Dadabhoy', 'pvt', 'MUSLIM', 'SALANG', 'TUNNEL', 'directions', 'occupying', 'rebelled', 'wrecked', 'heavily-mined', 'Halo', 'roadsides', 'Qotbuddin', 'Hilal', 'officiated', 'burnt', 'sprinkling', 'petrol', 'Andhra', 'Pradesh', 'rarest', 'beings', 'roasted', 'appellants', 'plotted', 'K.T.', 'Elephant', 'tramples', 'rampaging', 'elephant', 'trampled', 'Hari', 'Maya', 'Poudels', 'Madhumalla', 'asleep', 'beast', 'kingdoms', 'elephants', 'Elephants', 'overrun', 'Kudapokuna', 'Welikanda', 'dawn', 'army-controlled', 'Vavuniya', 'undercover', 'Vicorp', 'Restaurants', 'Sabourin', 'CFO', 'DENVER', 'Bestop', 'Boulder', 'Held', 'SoCal', 'Edison', 'kilovolt', 'KV', 'wildfire', 'raging', 'Conroy', 'crews', 'fire-related', 'residues', 'megawatts', 'MW', 'cables', 'Containment', 'arid', 'windy', 'Leong', 'Strategic', 'Munis', 'Monthly', 'Municipals', 'Semiconductor', 'expectation', 'emerge', 'modem', 'modem-chip', 'fast-growing', 'networking', 'Certainly', 'Elias', 'Moosa', 'Roberston', 'PMC-Sierra', 'chipsets', 'severance', 'Randall', 'Soundview', 'focusing', 'fastest-growing', 'much-larger', 'develops', 'shrink', 'Hambrecht', 'Quist', 'low-margin', 'PMC', 'slowing', 'Housecall', 'sink', 'underperform', 'Atlanta-based', 'non-Medicare', 'hospice', 'limitation', 'IRVINE', 'Subsidiaries', 'Unaudited', 'Weighted', 'Pro', 'Forma', 'Historical', 'forma', 'Oasis', 'Gallagher', 'rock', 'obscene', 'swore', 'hate', 'f...', 'ing', 'supermodel', 'Noel', 'laryngitis', 'house-hunting', 'Patsy', 'Kensit', 'tickets', 'Slough', 'Estates', 'upbeat', 'pretax', 'Hammerson', 'Warburg', 'stances', 'maintaining', 'rental', 'incomes', 'shaved', 'Nigel', 'Mobbs', 'Birt', 'shrinks', 'seasonally', 'Canadians', 'Burea', 'Palestinian-ruled', 'shaken', 'backdrop', 'four-hour', 'espionage', 'rings', 'Jomhuri', 'Eslami', 'photographing', 'pan-Turkism', 'exiles', 'Ties', 'Fallahiyan', 'distillates', 'kerosene', 'sort', 'noticeable', 'differential', 'Dubai', 'ports', 'exceed', 'Jet', 'cargoes', 'lowest', 'suspicious', 'overhang', 'sulphur', 'manuscript', 'thieves', 'Testament', 'al-Akhbar', 'undated', 'pretended', 'Wyche', 'senator', 'invoked', 'recess', 'confirming', 'predecessor', 'Mabus', 'shops', 'shutters', 'exporters', 'purchasing', 'Nil', 'A-', 'B-', 'Destinations', 'Life', 'Southland', 'enterprise', 'mainframe', 'delivering', 'real-time', 'constitutes', 'contends', 'misappropriating', 'NBA', 'continually', 'Baxter', 'Immuno', 'miilion', 'secures', 'Cos', 'chipset', 'Lion', 'Hotels', 'Doubletree', 'Baby', 'Bells', 'telecommunications', 'Economists', 'five-point', 'toxic', 'stock-trade', 'H&R', 'CompuServe', 'impasse', 'authorised', 'trashed', 'nudge', 'GOP', 'reporter', 're-nomination', 'state-by-state', 'Beachcomber', 'HIGHLANDS', 'foot-long', 'debris', 'bearing', 'markings', 'shore', 'conducting', 'fireball', 'wallets', 'shoes', 'mechanical', 'Rich', 'Leila', 'Corcoran', 'writes', 'still-enslaved', 'pleads', 'Abraham', 'maimed', 'poses', 'Archives', 'Conservation', 'volunteers', 'preserved', 'microfilm', 'stowed', 'rarely', 'enlistment', 'muster', 'discharge', 'certificates', 'corps', 'unveiling', 'memorial', 'shall', 'oportunity', 'enjoyment', 'sic', 'slavery', 'oppreses', 'liberty', 'outpouring', 'coloured', 'curse', 'separated', 'well-to-do', 'matron', 'plead', 'dishonourable', 'prisoner', 'thoughtless', 'folly', 'notation', 'regiment', 'pardon', 'anguish', 'amputee', 'terrible', 'Pvt', 'haunted', 'posed', 'bare-chested', 'insight', 'rhythms', 'Carbondale', 'editor', 'Gen', 'Ulysses', 'writings', 'poetic', 'linguistic', 'treasure', 'trove', 'sociology', 'seared', 'consciousness', 'Daughters', 'Confederacy', 'retirees', 'Budge', 'Weidman', 'shepherded', 'predicts', 'databases', 'battlefields', 'discharged', 'incapacity', 'inebetude', 'Patient', 'arise', 'masturbation', 're-nominate', 'vow', 'Sylvie', 'AJACCIO', 'Separatist', 'Mediterranean', 'Ajaccio', 'defused', 'get-tough', 'Jean-Louis', 'Debre', 'Corse', 'Judges', 'lax', 'widely-reported', 'powerless', 'France-Soir', 'Place', 'Beauvau', 'nightly', 'Figaro', 'shaky', 'seven-month', 'racked', 'low-level', 'separatist-inspired', 'principally', 'continent', 'stoke', 'backlash', 'OM', 'STOCKHOLM', 'derivatives', 'Gruppen', 'Together', 'subsidiaries', 'OMLX', 'PULPEX', 'pulp', 'timber', 'recycled', 'Through', 'complements', 'softs', 'cocoa', 'unpredictable', 'risky', 'Without', 'hedge', 'clearing', 'Investments', 'Amsterdam-Rotterdam-Antwerp', 'tankage', 'week-ago', 'Naphtha', 'kero', 'inflows', 'throughput', 'straight-run', 'bunkering', 'Blenkinsop', 'anti-nuclear', 'pantomime', 're-enacting', 'Activists', 'brandished', 'theatre-prop', 'Gorleben', 'depot', 'Mafia', 'CATANIA', 'Sicily', 'slaying', 'nephew', 'Puglisi', 'Salvatore', 'Botta', 'cemetery', 'Sicilian', 'hardened', 'anti-Mafia', 'tip-off', 'consciences', 'Nitto', 'Santapaola', 'knelt', 'ambush', 'cemetary', 'Thieves', 'canteen', 'LIMERICK', 'Limerick', 'warders', 'takings', 'Italians', 'HIV-pensioner', 'harassing', 'hookers', 'AIDS', 'pensioner', 'Pietro', 'HIV', 'cruising', 'red-light', 'hurling', 'blanks', 'Bodies', 'sighted', 'Arctic', 'Spitzbergen', 'Rune', 'NTB', 'Vnukovo', 'Tupolev', 'Longyearbyen', 'airstrip', 'rescuers', 'three-engine', 'Opera', 'mountainside', 'coal-mining', 'Barentsburg', 'Galeforce', 'Torrential', 'galeforce', 'meteorological', 'Cellars', 'trees', 'uprooted', 'roofs', 'trains', 'cm', 'communes', 'Meteorological', 'RMT', 'Turnhout', 'scouts', 'camping', 'meadow', 'hindered', 'excavations', 'Jumet', 'sex-and-murder', 'lightly', 'tides', 'pesetas', 'chemicals', 'madness', 'overreacted', 'correction', 'Nahar', 'Liberte', 'Leveilly', 'Matin', 'Finns', 'sex-abuse', 'captive', 'Tampere', 'luxury', 'inspector', 'Ilkka', 'Laasonen', 'Iltalehti', 'Audi', 'INGOLSTADT', 'Demel', 'hedged', 'KEKKILA', 'FULL-YR', 'VS', 'LOSS', 'Fertilisers', 'saplings', 'Kekkila', 'trend', 'fluctuations', 'end-year', 'INTERVIEW-T&N', 'untroubled', 'T&N', 'Hope', 'bumble', 'predict', 'echoing', 'automotive', 'Compared', 'equally', 'predicting', 'rationalised', 'destocked', 'destocking', 'relaxed', 'cycle', 'fraction', 'Commenting', 'piston', 'Kolbenschmidt', 'obstacles', 'Huddart', 'Earthquake', 'jolts', 'Zealands', 'Waiau', 'spa', 'Hanmer', 'prone', 'earthquakes', 'smooth', 'Trevelyan', 'half-yearly', 'absolutely', 'predicated', 'precepts', 'trough', 'draconian', 'earth', 'rentals', 'reclamation', 'narrowly', 'downtrend', 'Banks', 'hover', 'T$', 'Simex', 'Sentiment', 'touching', 'intraday', 'technically', 'Doreen', 'Siow', 'Siam', 'metropolitan', 'Waterworks', 'banker', 'maturity', \"M'bishi\", 'FISCAL', 'Tokyo-Mitsubishi', 'INT', 'SUB', 'JCR', 'JBRI', 'Daewoo', 'Dacom', 'telecom', 'Commem', 'Made', 'manufactures', 'ski', 'Antara', 'evident', 'happening', 'motivated', 'Major-General', 'Utomo', 'Indonesias', 'guard', 'extinguished', 'injures', 'Nobody', 'exaggerate', 'Facilities', 'rents', 'Haneda', 'Itami', 'Beijing-backed', 'post-handover', 'contesting', 'Selection', 'stymies', 'provisional', 'dismantle', 'fully-elected', 'considerable', 'directorate-grade', 'bureaucrats', 'tier', 'mandarin', 'secretaries', 'Refining', 'SRC', 'barrel-per-day', 'distillation', 'stuck', 'X-ray', 'varied', 'exchanger', 'co-owned', 'Petrolem', 'joint-venture', 'Chevron', 'Texaco', 'Loxley', 'Reviewed', 'Publications', 'MTH', 'PVS', 'YR-AGO', 'Yr', 'Core', 'JOBLESS', 'INEM', 'PAYMENTS', 'Cur', 'Acc', 'RESERVES', 'PRODUCER', 'PRICES', 'INDUSTRIAL', 'PROD', 'adj', 'trln', 'TRADE', 'Deficit', 'GOVT.BUDGET', 'Govt.Fcast', 'Def', 'QUARTER', 'QTR', 'EPA', 'Yr-yr', 'Absolute', 'Pvs', 'Jobless', 'customs-cleared', 'annualised', 'employment', 'INE', 'variation', 'TOTAL-', 'jobless', 'corresponds', 'relate', 'finances', '**General', 'obstructing', 'Lasa-Zabala', 'GAL', 'prescriptions', 'Gomez', 'Liano', 'Aznar', 'BCH', 'hive', 'Coopers', 'Lybrand', 'emigrates', 'Lenzing', 'viscose', 'fibre', 'preview', 'schillings', 'fibres', 'economies', 'fundamentalists', 'rejection', 'masterminds', 'ideologists', 'financers', 'clarifications', 'clarification', 'amending', 'Code', 'ponders', 'Donna', 'Sells', 'topic', 'pundits', 'debated', 'forgo', 'unflagging', 'sidestepped', 'Should', 'strong-dollar', 'Bentsen', 'viewed', 'distinctively', 'Widness', 'Chase', 'timely', 'instances', 'post-Second', 'Currently', 'stands', 'expertise', 'co-chairman', 'Faust', 'Bailard', 'Biehl', 'Kaiser', 'Anyone', 'awfully', 'Fear', 'Bentsen-era', 'Greenspan', 'reappointment', 'depreciation', 'lesser', 'guy', 'Perelstein', 'MainStay', 'Funds', 'Otherwise', 'SCOTLAND', 'AMSTETTEN', 'Ewald', 'Brenner', 'Stieglmair', 'Brunmayr', 'WALES', 'MARINO', 'BARRY', 'Marino', 'Hartson', 'BALLANGER', 'STYLE', 'best-of-three', 'ex-world', 'Samokhalova', 'spirited', 'Quigley', 'numerical', 'superiority', 'Goulnara', 'Fatkoullina', 'snatching', 'lapped', 'Ingrid', 'Haringa', 'Lancien', 'TRACK', 'Ride', 'Tatiana', 'Stiajkina', 'Arndt', 'Tea', 'Vikstedt-Nyman', 'Boyden', 'Godras', 'DEFENDER', 'KOMBOUARE', 'ABERDEEN', 'ABDERDEEN', 'Kombouare', 'Aitken', 'affection', 'Ginola', 'influential', 'influenced', 'IMOLA', 'Practice', 'motorcycling', 'Doohan', 'Bayle', 'Norifumi', 'Abe', 'Luca', 'Cadalora', 'Criville', 'Tadayuki', 'Okada', 'Checa', 'Shinichi', 'Itoh', 'Swe', 'Bradley', 'Hughes', 'UNKNOWN'])\n",
            "19739\n"
          ]
        }
      ]
    },
    {
      "cell_type": "code",
      "source": [
        "label_counter = Counter()\n",
        "for sublist in labels:\n",
        "  for label in sublist:\n",
        "    label_counter[label] +=1\n",
        "len_classes = len(label_counter.items())\n",
        "print('Number of classes {0}'.format(len_classes))"
      ],
      "metadata": {
        "colab": {
          "base_uri": "https://localhost:8080/"
        },
        "id": "YO-VW7uSqwod",
        "outputId": "3a02ee51-4d51-4d05-bfcf-af063552e278"
      },
      "execution_count": null,
      "outputs": [
        {
          "output_type": "stream",
          "name": "stdout",
          "text": [
            "Number of classes 17\n"
          ]
        }
      ]
    },
    {
      "cell_type": "code",
      "source": [
        "label_dict = {label: i+1 for i,label in enumerate(label_counter.keys())}"
      ],
      "metadata": {
        "id": "yKypeHtOr-zM"
      },
      "execution_count": null,
      "outputs": []
    },
    {
      "cell_type": "code",
      "source": [
        "label_dict"
      ],
      "metadata": {
        "colab": {
          "base_uri": "https://localhost:8080/"
        },
        "id": "xC0zF3yZiwk8",
        "outputId": "06e24bf7-a90f-47b6-d10e-dca42ea7ceb4"
      },
      "execution_count": null,
      "outputs": [
        {
          "output_type": "execute_result",
          "data": {
            "text/plain": [
              "{'S-ORG': 1,\n",
              " 'O': 2,\n",
              " 'S-MISC': 3,\n",
              " 'B-PER': 4,\n",
              " 'E-PER': 5,\n",
              " 'S-LOC': 6,\n",
              " 'B-ORG': 7,\n",
              " 'E-ORG': 8,\n",
              " 'I-PER': 9,\n",
              " 'S-PER': 10,\n",
              " 'B-MISC': 11,\n",
              " 'I-MISC': 12,\n",
              " 'E-MISC': 13,\n",
              " 'I-ORG': 14,\n",
              " 'B-LOC': 15,\n",
              " 'E-LOC': 16,\n",
              " 'I-LOC': 17}"
            ]
          },
          "metadata": {},
          "execution_count": 323
        }
      ]
    },
    {
      "cell_type": "code",
      "source": [
        "# Tokenize sentences\n",
        "tokenized_sents = [[vocab_dict.get(word, vocab_dict['UNKNOWN']) for word in sentence] for sentence in transform_sents]"
      ],
      "metadata": {
        "id": "HnumtvUNixsR"
      },
      "execution_count": null,
      "outputs": []
    },
    {
      "cell_type": "code",
      "source": [
        "# tokenize labels\n",
        "labels = [[label_dict.get(label) for label in sublist] for sublist in labels]"
      ],
      "metadata": {
        "id": "p_xEMCgLmYBr"
      },
      "execution_count": null,
      "outputs": []
    },
    {
      "cell_type": "code",
      "source": [
        "# find the longest sentence. It will determine the padding len\n",
        "len_counter = Counter()\n",
        "for sentence in sentences:\n",
        "  len_counter[len(sentence)]+=1\n"
      ],
      "metadata": {
        "id": "XplzKjhSmiQd"
      },
      "execution_count": null,
      "outputs": []
    },
    {
      "cell_type": "code",
      "source": [
        "max_len = max(len_counter.keys())\n",
        "max_len"
      ],
      "metadata": {
        "colab": {
          "base_uri": "https://localhost:8080/"
        },
        "id": "9Ol0wZB4m1N1",
        "outputId": "7d868f45-0ee2-4a1e-dfb5-3b925624e57e"
      },
      "execution_count": null,
      "outputs": [
        {
          "output_type": "execute_result",
          "data": {
            "text/plain": [
              "113"
            ]
          },
          "metadata": {},
          "execution_count": 327
        }
      ]
    },
    {
      "cell_type": "code",
      "source": [
        "import numpy as np"
      ],
      "metadata": {
        "id": "eGfxIR0tpCXK"
      },
      "execution_count": null,
      "outputs": []
    },
    {
      "cell_type": "code",
      "source": [
        "# padding\n",
        "def padding(tokenized_list, max_len):\n",
        "  features = np.zeros((len(tokenized_list), max_len), dtype = int)\n",
        "  for i,row in enumerate(tokenized_list):\n",
        "    features[i, -len(row):] = np.array(row)[:max_len]\n",
        "  return features"
      ],
      "metadata": {
        "id": "_QjZEDLEn1l7"
      },
      "execution_count": null,
      "outputs": []
    },
    {
      "cell_type": "code",
      "source": [
        "features = padding(tokenized_sents, max_len)"
      ],
      "metadata": {
        "id": "e056mv8frotU"
      },
      "execution_count": null,
      "outputs": []
    },
    {
      "cell_type": "code",
      "source": [
        "features"
      ],
      "metadata": {
        "colab": {
          "base_uri": "https://localhost:8080/"
        },
        "id": "bjJoFSLLryhk",
        "outputId": "5d8d9f7f-3e10-4b56-a6e5-9caa1acbb6a5"
      },
      "execution_count": null,
      "outputs": [
        {
          "output_type": "execute_result",
          "data": {
            "text/plain": [
              "array([[   0,    0,    0, ...,    7,    8,    9],\n",
              "       [   0,    0,    0, ...,    0,   10,   11],\n",
              "       [   0,    0,    0, ...,    0,   12,   13],\n",
              "       ...,\n",
              "       [   0,    0,    0, ...,   13, 8959,   13],\n",
              "       [   0,    0,    0, ...,    0, 2724,  970],\n",
              "       [   0,    0,    0, ...,   13, 4754,   13]])"
            ]
          },
          "metadata": {},
          "execution_count": 331
        }
      ]
    },
    {
      "cell_type": "code",
      "source": [
        "labels = padding(labels, max_len)"
      ],
      "metadata": {
        "id": "Y8gFYvlRrzSf"
      },
      "execution_count": null,
      "outputs": []
    },
    {
      "cell_type": "code",
      "source": [
        "# 17 in labels"
      ],
      "metadata": {
        "id": "6rCsFLrcOVv_"
      },
      "execution_count": null,
      "outputs": []
    },
    {
      "cell_type": "code",
      "source": [
        "labels"
      ],
      "metadata": {
        "colab": {
          "base_uri": "https://localhost:8080/"
        },
        "id": "Z6pQV7WKswWw",
        "outputId": "52d930f1-24d2-43f5-b567-5a593cb2fdcc"
      },
      "execution_count": null,
      "outputs": [
        {
          "output_type": "execute_result",
          "data": {
            "text/plain": [
              "array([[0, 0, 0, ..., 3, 2, 2],\n",
              "       [0, 0, 0, ..., 0, 4, 5],\n",
              "       [0, 0, 0, ..., 0, 6, 2],\n",
              "       ...,\n",
              "       [0, 0, 0, ..., 2, 1, 2],\n",
              "       [0, 0, 0, ..., 0, 2, 2],\n",
              "       [0, 0, 0, ..., 2, 1, 2]])"
            ]
          },
          "metadata": {},
          "execution_count": 334
        }
      ]
    },
    {
      "cell_type": "code",
      "source": [
        "split_frac = 0.8\n",
        "split_idx = int(len(features) * split_frac)\n",
        "train_x, test_x = features[:split_idx], features[split_idx:]\n",
        "train_y, test_y = labels[:split_idx], labels[split_idx:]\n",
        "\n",
        "print(train_x.shape, test_x.shape)\n",
        "print(train_y.shape, test_y.shape)"
      ],
      "metadata": {
        "colab": {
          "base_uri": "https://localhost:8080/"
        },
        "id": "I5kdIPDisxq9",
        "outputId": "b631a67e-6431-4659-ff54-a1bd505eadab"
      },
      "execution_count": null,
      "outputs": [
        {
          "output_type": "stream",
          "name": "stdout",
          "text": [
            "(11988, 113) (2998, 113)\n",
            "(11988, 113) (2998, 113)\n"
          ]
        }
      ]
    },
    {
      "cell_type": "code",
      "source": [
        "from torch.utils.data import TensorDataset, DataLoader"
      ],
      "metadata": {
        "id": "lTqN2duNti9C"
      },
      "execution_count": null,
      "outputs": []
    },
    {
      "cell_type": "code",
      "source": [
        "train_dataset = TensorDataset(torch.from_numpy(train_x), torch.from_numpy(train_y))\n",
        "test_dataset = TensorDataset(torch.from_numpy(test_x), torch.from_numpy(test_y))"
      ],
      "metadata": {
        "id": "tN4F9m4SuGBc"
      },
      "execution_count": null,
      "outputs": []
    },
    {
      "cell_type": "code",
      "source": [
        "import os\n",
        "num_workers = os.cpu_count()\n",
        "num_workers\n",
        "# should not use in colab if dataset is very large"
      ],
      "metadata": {
        "colab": {
          "base_uri": "https://localhost:8080/"
        },
        "id": "EVOatYDHxKIR",
        "outputId": "06ace106-2cc8-4233-ad0b-47e12814204e"
      },
      "execution_count": null,
      "outputs": [
        {
          "output_type": "execute_result",
          "data": {
            "text/plain": [
              "2"
            ]
          },
          "metadata": {},
          "execution_count": 338
        }
      ]
    },
    {
      "cell_type": "code",
      "source": [
        "train_dataloader = DataLoader(train_dataset, batch_size = 32, shuffle = True, num_workers = 0)\n",
        "test_dataloader = DataLoader(test_dataset, batch_size = 32, shuffle = False, num_workers = 0)"
      ],
      "metadata": {
        "id": "JIRvl5Hsua9L"
      },
      "execution_count": null,
      "outputs": []
    },
    {
      "cell_type": "code",
      "source": [
        "X, y = next(iter(train_dataloader))\n",
        "print(X.shape, y.shape)"
      ],
      "metadata": {
        "colab": {
          "base_uri": "https://localhost:8080/"
        },
        "id": "OGZUNc5vxYqu",
        "outputId": "0945b91a-1c8e-480f-9f4a-b3a9a6eced60"
      },
      "execution_count": null,
      "outputs": [
        {
          "output_type": "stream",
          "name": "stdout",
          "text": [
            "torch.Size([32, 113]) torch.Size([32, 113])\n"
          ]
        }
      ]
    },
    {
      "cell_type": "code",
      "source": [
        "from torch.nn import functional as F"
      ],
      "metadata": {
        "id": "SFTnZiy8xa9q"
      },
      "execution_count": null,
      "outputs": []
    },
    {
      "cell_type": "code",
      "source": [
        "vocab_size = len(vocab_dict.keys())\n",
        "print(f'vocab size: {vocab_size}')"
      ],
      "metadata": {
        "colab": {
          "base_uri": "https://localhost:8080/"
        },
        "id": "59yNWtdQyhPu",
        "outputId": "c3d48ebe-8f2c-4423-ea80-07753f15e27c"
      },
      "execution_count": null,
      "outputs": [
        {
          "output_type": "stream",
          "name": "stdout",
          "text": [
            "vocab size: 19739\n"
          ]
        }
      ]
    },
    {
      "cell_type": "code",
      "source": [
        "class LSTM(nn.Module):\n",
        "  def __init__(self, vocab_size, embedding_dim, hidden_size, output_size, num_layers):\n",
        "    super().__init__()\n",
        "    self.embedding = nn.Embedding(num_embeddings= vocab_size, embedding_dim = embedding_dim)\n",
        "    self.lstm = nn.LSTM(input_size = embedding_dim,\n",
        "                        hidden_size = hidden_size,\n",
        "                        num_layers = num_layers,\n",
        "                        batch_first= True)\n",
        "    self.fc = nn.Linear(in_features = hidden_size, out_features= output_size)\n",
        "\n",
        "  def forward(self, x):\n",
        "    embedded = self.embedding(x) # (batch_size, seq_len, embedding_dim)\n",
        "    lstm_out, (hn, cn) = self.lstm(embedded) # lstm_out có shape (batch_size, seq_len, hidden_size)\n",
        "    output = self.fc(lstm_out) # (batch_size, seq_len, output_size)\n",
        "    return output"
      ],
      "metadata": {
        "id": "nKcYwuX4xrHA"
      },
      "execution_count": null,
      "outputs": []
    },
    {
      "cell_type": "code",
      "source": [
        "class Bidirectional_LSTM(nn.Module):\n",
        "  def __init__(self, vocab_size, embedding_dim, hidden_size, output_size, num_layers):\n",
        "    super().__init__()\n",
        "    self.embedding = nn.Embedding(num_embeddings= vocab_size, embedding_dim = embedding_dim)\n",
        "\n",
        "    # LSTM bidirectional\n",
        "    self.lstm = nn.LSTM(input_size = embedding_dim,\n",
        "                        hidden_size = hidden_size,\n",
        "                        num_layers = num_layers,\n",
        "                        batch_first= True,\n",
        "                        bidirectional=True)  # Thêm tham số bidirectional\n",
        "\n",
        "    self.fc = nn.Linear(in_features = 2 * hidden_size, out_features= output_size)  # Vì là bidirectional nên output sẽ có kích thước gấp đôi\n",
        "\n",
        "  def forward(self, x):\n",
        "    embedded = self.embedding(x)  # (batch_size, seq_len, embedding_dim)\n",
        "    lstm_out, (hn, cn) = self.lstm(embedded)  # lstm_out có shape (batch_size, seq_len, 2*hidden_size)\n",
        "    output = self.fc(lstm_out)  # (batch_size, seq_len, output_size)\n",
        "    return output\n"
      ],
      "metadata": {
        "id": "4VHRT624zg1E"
      },
      "execution_count": null,
      "outputs": []
    },
    {
      "cell_type": "code",
      "source": [
        "lstm_model = LSTM(vocab_size = vocab_size,\n",
        "                  embedding_dim = 300,\n",
        "                  hidden_size = 128,\n",
        "                  output_size = len_classes + 1,\n",
        "                  num_layers = 10).to(device)\n",
        "\n",
        "# y_logits = lstm_model(X.to(device))\n",
        "# y_pred = torch.argmax(y_logits, dim = -1)\n",
        "# correct_preds = torch.eq(y_pred, y).sum().item()\n",
        "# acc = (correct_preds / (y.shape[0]*y.shape[1]))\n",
        "# print(acc)"
      ],
      "metadata": {
        "id": "Vt5w6tDN2zY1"
      },
      "execution_count": null,
      "outputs": []
    },
    {
      "cell_type": "code",
      "source": [
        "lr=0.001\n",
        "\n",
        "criterion = nn.CrossEntropyLoss()\n",
        "optimizer = torch.optim.Adam(lstm_model.parameters(), lr=lr)"
      ],
      "metadata": {
        "id": "mBGz3w1QBOeI"
      },
      "execution_count": null,
      "outputs": []
    },
    {
      "cell_type": "code",
      "source": [
        "from tqdm.auto import tqdm"
      ],
      "metadata": {
        "id": "Clmo-gfv-cLh"
      },
      "execution_count": null,
      "outputs": []
    },
    {
      "cell_type": "code",
      "source": [
        "def train(model: torch.nn.Module,\n",
        "          train_loader: torch.utils.data.DataLoader,\n",
        "          test_loader: torch.utils.data.DataLoader,\n",
        "          epochs,\n",
        "          device = device):\n",
        "  model.train()\n",
        "  for epoch in tqdm(range(epochs)):\n",
        "    train_loss, train_acc = 0, 0\n",
        "    for i, (X, y) in tqdm(enumerate(train_loader)):\n",
        "      X, y = X.to(device), y.to(device)\n",
        "      y_logits = model(X)\n",
        "      loss = criterion(y_logits.view(-1, len_classes+1), y.view(-1))\n",
        "      train_loss += loss.item()\n",
        "      optimizer.zero_grad()\n",
        "      loss.backward()\n",
        "      optimizer.step()\n",
        "      y_pred = torch.argmax(y_logits, dim = -1)\n",
        "      corrects_per_batch_train = torch.eq(y_pred, y).sum().item()\n",
        "      train_acc += (corrects_per_batch_train / y.numel())\n",
        "\n",
        "    test_loss, test_acc = 0, 0\n",
        "    model.eval()\n",
        "    with torch.inference_mode():\n",
        "      for i, (X, y) in enumerate(test_loader):\n",
        "        X, y = X.to(device), y.to(device)\n",
        "        y_logits = model(X)\n",
        "        loss = criterion(y_logits.view(-1, len_classes+1), y.view(-1))\n",
        "        test_loss += loss.item()\n",
        "        y_pred = torch.argmax(y_logits, dim = -1)\n",
        "        corrects_per_batch_valid = torch.eq(y_pred, y).sum().item()\n",
        "        test_acc += (corrects_per_batch_valid / y.numel())\n",
        "\n",
        "    print(f'Epoch {epoch+1}')\n",
        "    print(f'Train_loss: {train_loss / len(train_loader):.4f}')\n",
        "    print(f'Train_acc: {train_acc / len(train_loader):.4f}')\n",
        "    print(f'Valid_loss: {test_loss / len(test_loader):.4f}')\n",
        "    print(f'Valid_acc: {test_acc / len(test_loader):.4f}')\n",
        "\n"
      ],
      "metadata": {
        "id": "k47ga0Dg4g7C"
      },
      "execution_count": null,
      "outputs": []
    },
    {
      "cell_type": "code",
      "source": [
        "train(lstm_model, train_dataloader, test_dataloader, 3)"
      ],
      "metadata": {
        "colab": {
          "base_uri": "https://localhost:8080/",
          "height": 417,
          "referenced_widgets": [
            "302a319b64cb4fe9b8f922077f0ae4e1",
            "dc761703b7554f1bbbc71412399c0436",
            "db691eb5ad4e4ee48248b5a7ed31c99d",
            "ba418ecdf1e94aeea5c3b381197f8b00",
            "29efe0c4a3094dae99a90bffbea9cda7",
            "ba740abb248a4075b3918ea5e879a431",
            "031cdb752dff48f69b07c169d612084c",
            "14ef6528aa604d95bd1221d92a27c4b3",
            "bf9c6523cfef49c28417b2ef9c461ec6",
            "5100e273dd4e44d0a9f8c9761e923f64",
            "8b72b8a49f4a4f4f86fe85ecb680f8eb",
            "a113e9b2ceef417b98b90449aca13550",
            "7bc0f80244d94b2ba74191e5ad658767",
            "294b402de9454483993cc1baab6fd7f6",
            "a01aef1733f246bba74249d383080b57",
            "10d7e00312d3453b83f24d690da51ca8",
            "cbeeb0b087764f0dbc870afa0ab24863",
            "2d365c6b2b054c668dd0bb2b0ea9c66f",
            "abbd3f00755b428fa55c5093c3c887e1",
            "e82efccd7f424771b9d867343f683afb",
            "735d8fa691ce4e5dad9b9501cbd3044b",
            "b0a4eb723e70405e831f543f0c27ba2c",
            "61c6152461d647a28ad0bb86c3778de8",
            "626982a499bd441db8fd2fac28bb0a38",
            "cf14056e1a8b4f709fad88bab36a47eb",
            "66544c827ac246d080b1548784cc8e08",
            "00b40a397dbd45869f11589850fee299",
            "3115de4451d04c0992e8374b400d76d9",
            "5992c6905ba34fcd818f488f81c830c6",
            "f3598d5a1329467096b3788e781c8a3c",
            "d8dd0cd01e5e4182b9be21abad45cbdf",
            "721d066b0f6b4f1aa5d34a23d5a835ac",
            "972c5d2d8218499c86204bd9443e53ab",
            "edd714885c484f6ab9c096e2e78b341b",
            "ed953f5547504b8fb21c0fc951acf411",
            "ebb6f2fe79c648868d858aed5ff22375",
            "245b31ab65f849d298fd6e3a48a46f1e",
            "e336ae2a15c84bf8ac9c39b164c3b19a",
            "a3dc24e331064d30a1b34b6d21b67224",
            "7fb2159784ae4aa8886a070cc54df9a6",
            "e87c9c197dbc45478db80c53f8a3f734",
            "460b6ad6f3ed447584168d88a51e2e0d",
            "74dd314fa8cc41da9f1b8e7cb5435075",
            "6fab0aada7694d9db4c2d27cb77cc7da"
          ]
        },
        "id": "OdDysnSnLCS5",
        "outputId": "bf9ac655-a093-44dd-b2f8-112f51c33a95"
      },
      "execution_count": null,
      "outputs": [
        {
          "output_type": "display_data",
          "data": {
            "text/plain": [
              "  0%|          | 0/3 [00:00<?, ?it/s]"
            ],
            "application/vnd.jupyter.widget-view+json": {
              "version_major": 2,
              "version_minor": 0,
              "model_id": "302a319b64cb4fe9b8f922077f0ae4e1"
            }
          },
          "metadata": {}
        },
        {
          "output_type": "display_data",
          "data": {
            "text/plain": [
              "0it [00:00, ?it/s]"
            ],
            "application/vnd.jupyter.widget-view+json": {
              "version_major": 2,
              "version_minor": 0,
              "model_id": "a113e9b2ceef417b98b90449aca13550"
            }
          },
          "metadata": {}
        },
        {
          "output_type": "stream",
          "name": "stdout",
          "text": [
            "Epoch 1\n",
            "Train_loss: 0.4669\n",
            "Train_acc: 0.8756\n",
            "Valid_loss: 0.3562\n",
            "Valid_acc: 0.8623\n"
          ]
        },
        {
          "output_type": "display_data",
          "data": {
            "text/plain": [
              "0it [00:00, ?it/s]"
            ],
            "application/vnd.jupyter.widget-view+json": {
              "version_major": 2,
              "version_minor": 0,
              "model_id": "61c6152461d647a28ad0bb86c3778de8"
            }
          },
          "metadata": {}
        },
        {
          "output_type": "stream",
          "name": "stdout",
          "text": [
            "Epoch 2\n",
            "Train_loss: 0.2938\n",
            "Train_acc: 0.9011\n",
            "Valid_loss: 0.3087\n",
            "Valid_acc: 0.8947\n"
          ]
        },
        {
          "output_type": "display_data",
          "data": {
            "text/plain": [
              "0it [00:00, ?it/s]"
            ],
            "application/vnd.jupyter.widget-view+json": {
              "version_major": 2,
              "version_minor": 0,
              "model_id": "edd714885c484f6ab9c096e2e78b341b"
            }
          },
          "metadata": {}
        },
        {
          "output_type": "stream",
          "name": "stdout",
          "text": [
            "Epoch 3\n",
            "Train_loss: 0.2878\n",
            "Train_acc: 0.9042\n",
            "Valid_loss: 0.3202\n",
            "Valid_acc: 0.8855\n"
          ]
        }
      ]
    },
    {
      "cell_type": "code",
      "source": [
        "torch.save(lstm_model.state_dict(), 'lstm.pth')"
      ],
      "metadata": {
        "id": "M41evP2aSOjx"
      },
      "execution_count": null,
      "outputs": []
    },
    {
      "cell_type": "code",
      "source": [
        "bi_lstm_model = Bidirectional_LSTM(vocab_size = vocab_size,\n",
        "                  embedding_dim = 300,\n",
        "                  hidden_size = 128,\n",
        "                  output_size = len_classes + 1,\n",
        "                  num_layers = 10).to(device)"
      ],
      "metadata": {
        "id": "tmqFZwiVaCCb"
      },
      "execution_count": null,
      "outputs": []
    },
    {
      "cell_type": "code",
      "source": [
        "lr=0.001\n",
        "\n",
        "bi_criterion = nn.CrossEntropyLoss()\n",
        "bi_optimizer = torch.optim.Adam(bi_lstm_model.parameters(), lr=lr)"
      ],
      "metadata": {
        "id": "y9qJpw3UaCYq"
      },
      "execution_count": null,
      "outputs": []
    },
    {
      "cell_type": "code",
      "source": [
        "train(bi_lstm_model, train_dataloader, test_dataloader, 2)"
      ],
      "metadata": {
        "colab": {
          "base_uri": "https://localhost:8080/",
          "height": 295,
          "referenced_widgets": [
            "55cecea675674831a7fa7131aa9f8f13",
            "268b1cd745034267974872b97ca1cfe8",
            "22f24cfa8d0641a08400914af53798ab",
            "63d9c3498d844e64b33b6bf1ae0c4c7e",
            "65765bf29f2c400797ffcf69224d1fd5",
            "3367b1d8bab84e309ef75e57fd8097ab",
            "88c49a6e82ee4a5bbba7d1cb13eae2b1",
            "28261fc89c094b4793d833636fb6b289",
            "5b07c27e17fc4d8385cc9118376d3f34",
            "d928371695e441c0a1f1fb8351860686",
            "1b4fdfbf772e4a5c8bc77a737ab62b71",
            "9b3ff106bfe9472194cabafefcad69dd",
            "53c9f9b6ddfe4e83bcfc048b08f82547",
            "7109ffd6c9cf485fac15e5b627be88dc",
            "4cfaacc5ed3c4a238035c1f41a6e16e7",
            "9a8a2522e1a74ae3ae950898e3c48bfd",
            "da98ba41f8c44c079d46bf4e767fd7e3",
            "9101c87f480a4bd4b56ea41285fc6ebf",
            "3daf235e376645dc82ddc3fb658b95e7",
            "60fad41ea9184d61accc8917b7177a66",
            "8639fdf9042849a395ef43830317f545",
            "4a5c57c422374efb975fcbd9457d9eed",
            "21cd16933d8e40dbb90250db45af08de",
            "9548d5065f794cecaf4c9c8772ff34a3",
            "d6855480c1334e39998d027a6eda246f",
            "c8ee358a0f0f461a9c862e2c0be650bf",
            "18c259543b944966bff0ebf8a5ea16bf",
            "656e32a256b24817b3d514fecf7c40d2",
            "2ff8cfe7c8fd4a4787c55efa0d1e3942",
            "42a683aba0cb4e998254893fa55fe1ce",
            "91a8e2adb1b1423f9b24cb7409480e7b",
            "95feddd5fa2b4a8580bf8cbdbd8dd13f",
            "2d75ef0ead8d460ba8fbe1ab34b4b523"
          ]
        },
        "id": "QZaaigKZajPD",
        "outputId": "96c225a6-51ac-4818-b5b1-3cf854be0294"
      },
      "execution_count": null,
      "outputs": [
        {
          "output_type": "display_data",
          "data": {
            "text/plain": [
              "  0%|          | 0/2 [00:00<?, ?it/s]"
            ],
            "application/vnd.jupyter.widget-view+json": {
              "version_major": 2,
              "version_minor": 0,
              "model_id": "55cecea675674831a7fa7131aa9f8f13"
            }
          },
          "metadata": {}
        },
        {
          "output_type": "display_data",
          "data": {
            "text/plain": [
              "0it [00:00, ?it/s]"
            ],
            "application/vnd.jupyter.widget-view+json": {
              "version_major": 2,
              "version_minor": 0,
              "model_id": "9b3ff106bfe9472194cabafefcad69dd"
            }
          },
          "metadata": {}
        },
        {
          "output_type": "stream",
          "name": "stdout",
          "text": [
            "Epoch 1\n",
            "Train_loss: 2.8467\n",
            "Train_acc: 0.8835\n",
            "Valid_loss: 2.8492\n",
            "Valid_acc: 0.8623\n"
          ]
        },
        {
          "output_type": "display_data",
          "data": {
            "text/plain": [
              "0it [00:00, ?it/s]"
            ],
            "application/vnd.jupyter.widget-view+json": {
              "version_major": 2,
              "version_minor": 0,
              "model_id": "21cd16933d8e40dbb90250db45af08de"
            }
          },
          "metadata": {}
        },
        {
          "output_type": "stream",
          "name": "stdout",
          "text": [
            "Epoch 2\n",
            "Train_loss: 2.8467\n",
            "Train_acc: 0.8835\n",
            "Valid_loss: 2.8492\n",
            "Valid_acc: 0.8623\n"
          ]
        }
      ]
    },
    {
      "cell_type": "code",
      "source": [
        "torch.save(bi_lstm_model.state_dict(), 'bi_lstm.pth')"
      ],
      "metadata": {
        "id": "ss3xCTIganqT"
      },
      "execution_count": null,
      "outputs": []
    },
    {
      "cell_type": "code",
      "source": [],
      "metadata": {
        "id": "CGPXw8vOfX8o"
      },
      "execution_count": null,
      "outputs": []
    }
  ]
}